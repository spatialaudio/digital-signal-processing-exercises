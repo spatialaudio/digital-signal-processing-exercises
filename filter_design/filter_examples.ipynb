{
 "cells": [
  {
   "cell_type": "markdown",
   "metadata": {},
   "source": [
    "Sascha Spors,\n",
    "Professorship Signal Theory and Digital Signal Processing,\n",
    "Institute of Communications Engineering (INT),\n",
    "Faculty of Computer Science and Electrical Engineering (IEF),\n",
    "University of Rostock,\n",
    "Germany\n",
    "\n",
    "# Tutorial Digital Signal Processing\n",
    "\n",
    "**IIR / FIR Filter Examples**,\n",
    "Winter Semester 2023/24 (Master Course #24505)\n",
    "\n",
    "- lecture: https://github.com/spatialaudio/digital-signal-processing-lecture\n",
    "- tutorial: https://github.com/spatialaudio/digital-signal-processing-exercises\n",
    "\n",
    "Feel free to contact lecturer jacob.thoenes@uni-rostock.de"
   ]
  },
  {
   "cell_type": "code",
   "execution_count": null,
   "metadata": {},
   "outputs": [],
   "source": [
    "import matplotlib\n",
    "import matplotlib.pyplot as plt\n",
    "import numpy as np\n",
    "from scipy import signal\n",
    "matplotlib.rcParams['font.size'] = 8\n",
    "fsz = (16*0.8, 9*0.8)  # fig size\n",
    "\n",
    "fs = 48000  # sampling frequency in Hz\n",
    "Nt = 2**12\n",
    "\n",
    "\n",
    "def impz(b=1, a=1, Nt=2**12, fs=48000):\n",
    "    t = np.arange(0, Nt) / fs\n",
    "    dirac = np.zeros(Nt)\n",
    "    dirac[0] = 1\n",
    "    return t, signal.lfilter(b, a, dirac)\n",
    "\n",
    "\n",
    "def plot_system(ttl):\n",
    "    t, h = impz(b, a, Nt, fs)\n",
    "    W, H = signal.freqz(b, a, Nt)\n",
    "    W, gdly = signal.group_delay((b, a), W)\n",
    "\n",
    "    plt.figure(figsize=fsz)\n",
    "    plt.subplot(2, 2, 1)\n",
    "    plt.semilogx(W/np.pi*fs/2, 20*np.log10(np.abs(H)))\n",
    "    plt.xlim(10, 20000)\n",
    "    plt.grid()\n",
    "    plt.xlabel(r'$f$ / Hz')\n",
    "    plt.ylabel(r'$20\\mathrm{log}_{10}|H|$ / dB')\n",
    "    plt.title('Level Response: ' + ttl)\n",
    "    plt.ylim(-40, 10)\n",
    "\n",
    "    plt.subplot(2, 2, 2)\n",
    "    plt.semilogx(W/np.pi*fs/2, (np.angle(H))*180/np.pi)\n",
    "    plt.xlim(10, 20000)\n",
    "    plt.grid()\n",
    "    plt.xlabel(r'$f$ / Hz')\n",
    "    plt.ylabel(r'$\\phi$ / deg')\n",
    "    plt.title('Phase Response')\n",
    "\n",
    "    plt.subplot(2, 2, 3)\n",
    "    plt.plot(t*1000, h)\n",
    "    plt.xlim(-1, 10)\n",
    "    plt.grid()\n",
    "    plt.xlabel(r'$t$ / ms')\n",
    "    plt.ylabel(r'h(t)')\n",
    "    plt.title('Impulse Response')\n",
    "\n",
    "    plt.subplot(2, 2, 4)\n",
    "    plt.semilogx(W/np.pi*fs/2, gdly/fs*1000)\n",
    "    plt.xlim(10, 20000)\n",
    "    plt.ylim(-2, 6)\n",
    "    plt.grid()\n",
    "    plt.xlabel(r'$f$ / Hz')\n",
    "    plt.ylabel(r'$t$ / ms')\n",
    "    plt.title(\"Group Delay\")\n",
    "\n",
    "# 2021-01-07:\n",
    "# functions below taken from\n",
    "# https://github.com/spatialaudio/digital-signal-processing-lecture/blob/master/filter_design/audiofilter.py\n",
    "# SHA: 98d6fcfdccab2182ba500625a12408dc4e189913\n",
    "\n",
    "\n",
    "def biquad_lp2nd(fc, fs, bi=1., ai=np.sqrt(2)):\n",
    "    \"\"\"Calc coeff for lowpass 2nd order.\n",
    "\n",
    "    input:\n",
    "    fc...cut frequency in Hz\n",
    "    fs...sampling frequency in Hz\n",
    "    bi, ai...filter characteristics coefficients, e.g.\n",
    "    bi = 0.6180, ai = 1.3617 for Bessel 2nd order\n",
    "    bi = 1, ai = 1.4142 for Butterworth 2nd order (default)\n",
    "    output:\n",
    "    B...numerator coefficients Laplace transfer function\n",
    "    A...denominator coefficients Laplace transfer function\n",
    "    b...numerator coefficients z-transfer function\n",
    "    a...denominator coefficients z-transfer function\n",
    "    \"\"\"\n",
    "    wc = 2*np.pi*fc\n",
    "    B = np.array([0., 0, 1])\n",
    "    A = np.array([bi / wc**2, ai / wc, 1])\n",
    "\n",
    "    wcpre = f_prewarping(fc, fs)\n",
    "    Bp = 0., 0., 1.\n",
    "    Ap = bi / wcpre**2, ai / wcpre, 1.\n",
    "    b, a = bilinear_biquad(Bp, Ap, fs)\n",
    "\n",
    "    return B, A, b, a\n",
    "\n",
    "\n",
    "def f_prewarping(f, fs):\n",
    "    \"\"\"Do the frequency prewarping.\n",
    "\n",
    "    input:\n",
    "    f...analog frequency in Hz to be prewarped\n",
    "    fs...sampling frequency in Hz\n",
    "    output:\n",
    "    prewarped angular frequency in rad/s\n",
    "    \"\"\"\n",
    "    return 2*fs*np.tan(np.pi*f/fs)\n",
    "\n",
    "\n",
    "def bilinear_biquad(B, A, fs):\n",
    "    \"\"\"Get the bilinear transform of a 2nd-order Laplace transform.\n",
    "\n",
    "    bilinear transform H(s)->H(z) with s=2*fs*(z-1)/(z+1)\n",
    "\n",
    "    input:\n",
    "    B[0] = B0   B[1] = B1   B[2] = B2\n",
    "    A[0] = A0   A[1] = A1   A[2] = A2\n",
    "    fs...sampling frequency in Hz\n",
    "           Y(s)   B0*s^2+B1*s+B2   B[0]*s^2+B[1]*s+B[2]\n",
    "    H(s) = ---- = -------------- = --------------------\n",
    "           X(s)   A0*s^2+A1*s+A2   A[0]*s^2+A[1]*s+A[2]\n",
    "    output:\n",
    "    b[0] = b0   b[1] = b1   b[2] = b2\n",
    "    a[0] = 1    a[1] = a1   a[2] = a2\n",
    "           Y(z)   b2*z^-2+b1*z^-1+b0   b[2]*z^-2+b[1]*z^-1+b[0]\n",
    "    H(z) = ---- = ------------------ = ------------------------\n",
    "           X(z)   a2*z^-2+a1*z^-1+ 1   a[2]*z^-2+a[1]*z^-1+a[0]\n",
    "    \"\"\"\n",
    "    A0, A1, A2 = A\n",
    "    B0, B1, B2 = B\n",
    "    fs2 = fs**2\n",
    "\n",
    "    a0 = A2 + 2*A1*fs + 4*A0*fs2\n",
    "    b0 = B2 + 2*B1*fs + 4*B0*fs2\n",
    "\n",
    "    b1 = 2*B2 - 8*B0*fs2\n",
    "    a1 = 2*A2 - 8*A0*fs2\n",
    "\n",
    "    b2 = B2 - 2*B1*fs + 4*B0*fs2\n",
    "    a2 = A2 - 2*A1*fs + 4*A0*fs2\n",
    "\n",
    "    b = np.array([b0, b1, b2]) / a0\n",
    "    a = np.array([a0, a1, a2]) / a0\n",
    "\n",
    "    return b, a"
   ]
  },
  {
   "cell_type": "markdown",
   "metadata": {},
   "source": [
    "# Basic Filter Characteristics\n",
    "\n",
    "## Gain as FIR Filter"
   ]
  },
  {
   "cell_type": "code",
   "execution_count": null,
   "metadata": {},
   "outputs": [],
   "source": [
    "b = np.zeros(Nt)\n",
    "b[0] = 10**(+5/20)\n",
    "a = 1\n",
    "plot_system(\"Gain\")\n",
    "print(b[0])"
   ]
  },
  {
   "cell_type": "markdown",
   "metadata": {},
   "source": [
    "## Attenuation as FIR Filter"
   ]
  },
  {
   "cell_type": "code",
   "execution_count": null,
   "metadata": {},
   "outputs": [],
   "source": [
    "b = np.zeros(Nt)\n",
    "b[0] = 10**(-10/20)\n",
    "a = 1\n",
    "plot_system(\"Attenuation\")\n",
    "print(b[0])"
   ]
  },
  {
   "cell_type": "markdown",
   "metadata": {},
   "source": [
    "## Delay as FIR Filter"
   ]
  },
  {
   "cell_type": "code",
   "execution_count": null,
   "metadata": {},
   "outputs": [],
   "source": [
    "b = np.zeros(Nt)\n",
    "b[0] = 0\n",
    "# 1 ms Delay, what is the Phase Response telling us\n",
    "b[int(np.ceil(1/1000*fs))] = 1\n",
    "a = 1\n",
    "plot_system(\"Delay\")  # here the Delay is modeled as an FIR filter"
   ]
  },
  {
   "cell_type": "markdown",
   "metadata": {},
   "source": [
    "## Combfilter as FIR Filter"
   ]
  },
  {
   "cell_type": "code",
   "execution_count": null,
   "metadata": {},
   "outputs": [],
   "source": [
    "# 1.5ms delay & -16dB -> these are the max values \n",
    "# to realize maximum stereo perception cues between left / right loudspeaker\n",
    "b = np.zeros(200)\n",
    "b[0] = 1\n",
    "b[int(np.ceil(1.5/1000*fs))] = 10**(-16/20)\n",
    "a = 1\n",
    "plot_system(\"Combfilter\")"
   ]
  },
  {
   "cell_type": "markdown",
   "metadata": {},
   "source": [
    "## Butterworth Lowpass"
   ]
  },
  {
   "cell_type": "code",
   "execution_count": null,
   "metadata": {},
   "outputs": [],
   "source": [
    "fc = 100  # Hz\n",
    "B, A, b, a = biquad_lp2nd(fc, fs)\n",
    "plot_system(\"Butterworth Lowpass Filter 2nd order\")"
   ]
  },
  {
   "cell_type": "markdown",
   "metadata": {},
   "source": [
    "## Linear Phase Finite Impulse Response (FIR) Filters\n",
    "\n",
    "In the examples for type I, III, II and IV the coefficients in b are made up by random values. Thus, also the Level and Impulse Response are of arbitrary shape, which we are not really interested in.\n",
    "\n",
    "Rather, it is important to realize that the **group delay is constant over frequency** and the **impulse response** has **certain symmetry** over time for these linear phase filter types."
   ]
  },
  {
   "cell_type": "markdown",
   "metadata": {},
   "source": [
    "### Type I"
   ]
  },
  {
   "cell_type": "code",
   "execution_count": null,
   "metadata": {},
   "outputs": [],
   "source": [
    "NFIR = 481  #481 => 5 ms group delay at fs=48 kHz\n",
    "b = np.random.randn(NFIR) / 40\n",
    "tmp = b[0:int((NFIR-1)/2)]\n",
    "b = np.concatenate((tmp[::], b[int((NFIR-1)/2)], +tmp[::-1]), axis=None)\n",
    "a = 1\n",
    "plot_system(\"Linear Phase FIR Type I, axial-symm, odd coeff\")"
   ]
  },
  {
   "cell_type": "markdown",
   "metadata": {},
   "source": [
    "### Type III"
   ]
  },
  {
   "cell_type": "code",
   "execution_count": null,
   "metadata": {},
   "outputs": [],
   "source": [
    "NFIR = 481  #5 ms group delay at fs=48 kHz\n",
    "b = np.random.randn(NFIR) / 40\n",
    "b = np.concatenate((tmp[::], 0, -tmp[::-1]), axis=None)\n",
    "a = 1\n",
    "plot_system(\"Linear Phase FIR Type III, point-symm, odd coeff\")"
   ]
  },
  {
   "cell_type": "markdown",
   "metadata": {},
   "source": [
    "### Type II"
   ]
  },
  {
   "cell_type": "code",
   "execution_count": null,
   "metadata": {},
   "outputs": [],
   "source": [
    "NFIR = 480  #5 ms group delay at fs=48 kHz\n",
    "b = np.random.randn(NFIR) / 40\n",
    "tmp = b[0:int(NFIR/2)]\n",
    "b = np.concatenate((tmp[::], +tmp[::-1]), axis=None)\n",
    "a = 1\n",
    "plot_system(\"Linear Phase FIR Type II, axial-symm, even coeff\")"
   ]
  },
  {
   "cell_type": "markdown",
   "metadata": {},
   "source": [
    "### Type IV"
   ]
  },
  {
   "cell_type": "code",
   "execution_count": null,
   "metadata": {},
   "outputs": [],
   "source": [
    "NFIR = 480  #5 ms group delay at fs=48 kHz\n",
    "b = np.random.randn(NFIR) / 40\n",
    "tmp = b[0:int(NFIR/2)]\n",
    "b = np.concatenate((tmp[::], -tmp[::-1]), axis=None)\n",
    "a = 1\n",
    "plot_system(\"Linear Phase FIR Type IV, point-symm, even coeff\")"
   ]
  },
  {
   "cell_type": "markdown",
   "metadata": {},
   "source": [
    "## Linearphase Lowpass FIR Type I "
   ]
  },
  {
   "cell_type": "code",
   "execution_count": null,
   "metadata": {},
   "outputs": [],
   "source": [
    "NFIR = 481  #5 ms group delay at fs=48 kHz\n",
    "n = np.arange(0,NFIR) \n",
    "b = np.sin(np.pi/4*n) / (np.pi*n)  # fcut = 6 kHz at fs=48 kHz\n",
    "b[0] = 1/4  # L'Hospital rule\n",
    "tmp = b[1:int((NFIR-1)/2)+1]\n",
    "b = np.concatenate((tmp[::-1], b[0], +tmp[::]), axis=None)\n",
    "a = 1\n",
    "plot_system(\"rect win lowpass , Linear Phase FIR Type I, axial-symm, odd coeff\")\n"
   ]
  },
  {
   "cell_type": "markdown",
   "metadata": {},
   "source": [
    "# **Copyright**\n",
    "\n",
    "The notebooks are provided as [Open Educational Resources](https://en.wikipedia.org/wiki/Open_educational_resources). Feel free to use the notebooks for your own purposes. The text is licensed under [Creative Commons Attribution 4.0](https://creativecommons.org/licenses/by/4.0/), the code of the IPython examples under the [MIT license](https://opensource.org/licenses/MIT). Please attribute the work as follows: *Frank Schultz, Digital Signal Processing - A Tutorial Featuring Computational Examples* with the URL https://github.com/spatialaudio/digital-signal-processing-exercises"
   ]
  }
 ],
 "metadata": {
  "kernelspec": {
   "display_name": "Python 3 (ipykernel)",
   "language": "python",
   "name": "python3"
  },
  "language_info": {
   "codemirror_mode": {
    "name": "ipython",
    "version": 3
   },
   "file_extension": ".py",
   "mimetype": "text/x-python",
   "name": "python",
   "nbconvert_exporter": "python",
   "pygments_lexer": "ipython3",
   "version": "3.10.12"
  }
 },
 "nbformat": 4,
 "nbformat_minor": 4
}
