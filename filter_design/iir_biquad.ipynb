{
 "cells": [
  {
   "cell_type": "markdown",
   "metadata": {},
   "source": [
    "Sascha Spors,\n",
    "Professorship Signal Theory and Digital Signal Processing,\n",
    "Institute of Communications Engineering (INT),\n",
    "Faculty of Computer Science and Electrical Engineering (IEF),\n",
    "University of Rostock,\n",
    "Germany\n",
    "\n",
    "# Tutorial Digital Signal Processing\n",
    "\n",
    "**Stable IIR Biquad Filter -> Coefficient's Value Range**,\n",
    "Winter Semester 2023/24 (Master Course #24505)\n",
    "\n",
    "- lecture: https://github.com/spatialaudio/digital-signal-processing-lecture\n",
    "- tutorial: https://github.com/spatialaudio/digital-signal-processing-exercises\n",
    "\n",
    "Feel free to contact lecturer jacob.thoenes@uni-rostock.de"
   ]
  },
  {
   "cell_type": "code",
   "execution_count": null,
   "metadata": {},
   "outputs": [],
   "source": [
    "import numpy as np\n",
    "import matplotlib.pyplot as plt\n",
    "from matplotlib.markers import MarkerStyle\n",
    "from matplotlib.patches import Circle\n",
    "from scipy import signal\n",
    "\n",
    "\n",
    "def zplane_plot(ax, z, p, k):\n",
    "    \"\"\"Plot pole/zero/gain plot of discrete-time, linear-time-invariant system.\n",
    "\n",
    "    Note that the for-loop handling might be not very efficient\n",
    "    for very long FIRs\n",
    "\n",
    "    z...array of zeros in z-plane\n",
    "    p...array of poles in z-zplane\n",
    "    k...gain factor\n",
    "\n",
    "    taken from own work\n",
    "    URL = ('https://github.com/spatialaudio/signals-and-systems-exercises/'\n",
    "           'blob/master/sig_sys_tools.py')\n",
    "\n",
    "    currently we don't use the ax input parameter, we rather just plot\n",
    "    in hope for getting an appropriate place for it from the calling function\n",
    "    \"\"\"\n",
    "    # draw unit circle\n",
    "    Nf = 2**7\n",
    "    Om = np.arange(Nf) * 2 * np.pi / Nf\n",
    "    plt.plot(np.cos(Om), np.sin(Om), \"C7\")\n",
    "\n",
    "    try:  # TBD: check if this pole is compensated by a zero\n",
    "        circle = Circle((0, 0), radius=np.max(np.abs(p)), color=\"C7\", alpha=0.15)\n",
    "        plt.gcf().gca().add_artist(circle)\n",
    "    except ValueError:\n",
    "        print(\"no pole at all, ROC is whole z-plane\")\n",
    "\n",
    "    zu, zc = np.unique(z, return_counts=True)  # find and count unique zeros\n",
    "    for zui, zci in zip(zu, zc):  # plot them individually\n",
    "        plt.plot(\n",
    "            np.real(zui), np.imag(zui), ms=8, color=\"C0\", marker=\"o\", fillstyle=\"none\"\n",
    "        )\n",
    "        if zci > 1:  # if multiple zeros exist then indicate the count\n",
    "            plt.text(np.real(zui), np.imag(zui), zci)\n",
    "\n",
    "    pu, pc = np.unique(p, return_counts=True)  # find and count unique poles\n",
    "    for pui, pci in zip(pu, pc):  # plot them individually\n",
    "        plt.plot(np.real(pui), np.imag(pui), ms=8, color=\"C0\", marker=\"x\")\n",
    "        if pci > 1:  # if multiple poles exist then indicate the count\n",
    "            plt.text(np.real(pui), np.imag(pui), pci)\n",
    "\n",
    "    plt.text(0, +1, \"k={0:f}\".format(k))\n",
    "    plt.text(0, -1, \"ROC for causal: white\")\n",
    "    plt.axis(\"square\")\n",
    "    plt.xlabel(r\"$\\Re\\{z\\}$\")\n",
    "    plt.ylabel(r\"$\\Im\\{z\\}$\")\n",
    "    plt.grid(True, which=\"both\", axis=\"both\", linestyle=\"-\", linewidth=0.5, color=\"C7\")"
   ]
  },
  {
   "cell_type": "markdown",
   "metadata": {},
   "source": [
    "## Biquad\n",
    "A biquadratic or - abbreviated - **biquad** filter is a **recursive filter of second\n",
    "order** that is commonly implemented in digital signal processing. The biquad\n",
    "filter is expressed in most textbooks with $a_0=1$ as\n",
    "\n",
    "\\begin{equation}\n",
    "H(z)=\\frac{b_0z^0+b_1z^{-1}+b_2z^{-2}}{1\\cdot z^0+a_1z^{-1}+a_2z^{-2}}\n",
    "=\\frac{b_0z^2+b_1z+b_2}{z^2+a_1z+a_2}.\n",
    "\\label{eq:biquad}\n",
    "\\end{equation}\n",
    "\n",
    "- The notation in form of the **first fraction** in above equation is suitable for identifying the structure of the filter (the necessary delay elements for the input (numerator) and the output (denominator) can directly be seen) and for creating block diagrams (direct form I/II, transposed direct forms, ...) from the difference equation.\n",
    "- The form of the **second fraction** is more convenient for calculating poles, zeros and gain of the filter."
   ]
  },
  {
   "cell_type": "markdown",
   "metadata": {},
   "source": [
    "## Poles of Biquad\n",
    "The value range of the coefficients $a_{1,2}$ is important as they determine the\n",
    "poles and therefore the stability of the filter. The poles of the biquad in general\n",
    "\n",
    "\\begin{equation}\n",
    "z_{\\infty,1,2}=\\frac{-a_1}{2}\\pm\\frac{\\sqrt{a_1^2-4a_2}}{2}.\n",
    "\\end{equation}\n",
    "\n",
    "We must aim at $a_1,a_2\\in\\mathbb{R}$ since **only real coefficients** ensure that the system $H(z)$ produces **real valued output signals** from real valued input signals.\n",
    "This can be achieved if the two poles are **either real or complex conjugates**.\n",
    "Furthermore, we aim at a **stable** system, which requires that both poles are **within the unit circle**."
   ]
  },
  {
   "cell_type": "markdown",
   "metadata": {},
   "source": [
    "## Real Poles\n",
    "\n",
    "For **real poles** (i.e. poles on the real-axis in the z-plane), the expression under the square root has to be positive\n",
    "\n",
    "\\begin{equation}\n",
    "z_{\\infty,1,2}=\\frac{-a_1}{2}\\pm\\frac{1}{2}\\sqrt{\\underbrace{a_1^2-4a_2}_{\\geq0}}\n",
    "\\end{equation}\n",
    "\n",
    "and the **two conditions**\n",
    "\n",
    "\\begin{align}\n",
    "a_1\\leq-2\\sqrt{a_2} \\vee a_1\\geq2\\sqrt{a_2}\\\\\n",
    "a_2>|a_1|-1\n",
    "\\end{align}\n",
    "\n",
    "must hold (try to figure out these conditions by yourself) to achieve stable IIR system with real valued coefficients $a_{1,2}$."
   ]
  },
  {
   "cell_type": "markdown",
   "metadata": {},
   "source": [
    "## Complex Conjugate Poles\n",
    "\n",
    "For the case of **complex conjugate poles**, one can write\n",
    "\n",
    "\\begin{equation}\n",
    "z_{\\infty,1,2}=\\frac{-a_1}{2}\\pm\\frac{\\mathrm{j}}{2}\\sqrt{\\underbrace{4a_2-a_1^2}_{>0}}.\n",
    "\\label{eq:complexconjugatepoles}\n",
    "\\end{equation}\n",
    "\n",
    "which holds if the two conditions \n",
    "\n",
    "\\begin{align}\n",
    "-2\\sqrt{a_2}<a_1<2\\sqrt{a_2}\\\\\n",
    "0\\leq a_2<1\n",
    "\\end{align}\n",
    "\n",
    "are met (try to figure out these conditions by yourself)."
   ]
  },
  {
   "cell_type": "markdown",
   "metadata": {},
   "source": [
    "The figure below visualizes the range of values of the coefficients $a_1,a_2$ as being inside the blue/orange contour for a pair of real poles (blue) and a pair of complex conjugate poles (orange)."
   ]
  },
  {
   "cell_type": "code",
   "execution_count": null,
   "metadata": {},
   "outputs": [],
   "source": [
    "# real pole\n",
    "a1r = np.arange(-2, 2.1, 0.1)\n",
    "a2r = np.abs(a1r) - 1\n",
    "# complex conjugate\n",
    "a1cc = np.arange(-2, 2.1, 0.1)\n",
    "a2cc = a1cc**2 / 4\n",
    "\n",
    "plt.figure(figsize=(5, 5))\n",
    "plt.plot(a1r, a2r, \"C0\", lw=3, label=\"for real poles\")\n",
    "plt.plot([-2, 2], [1, 1], \"C0\", lw=3)\n",
    "plt.plot(a1cc, a2cc, \"C1\", label=\"for complex conjugate pole\")\n",
    "plt.plot([-2, 2], [1, 1], \"C1\")\n",
    "plt.axis(\"equal\")\n",
    "plt.xlabel(r\"$a_1$\")\n",
    "plt.ylabel(r\"$a_2$\")\n",
    "plt.title(r\"Stable biquad if $a_1$/$a_2$ within the blue/orange contour\")\n",
    "plt.legend()\n",
    "plt.grid(True)"
   ]
  },
  {
   "cell_type": "code",
   "execution_count": null,
   "metadata": {},
   "outputs": [],
   "source": [
    "# check for two real poles\n",
    "b = (1, 0, 0)\n",
    "a = (1, -1, 0.25)\n",
    "z, p, k = signal.tf2zpk(b, a)\n",
    "ax = plt.figure(figsize=(5, 5))\n",
    "zplane_plot(ax, z, p, k)\n",
    "\n",
    "# conditions\n",
    "print(a[1] <= -2 * np.sqrt(a[2]) or a[1] >= +2 * np.sqrt(a[2]))\n",
    "print(a[2] > np.abs(a[1]) - 1)"
   ]
  },
  {
   "cell_type": "code",
   "execution_count": null,
   "metadata": {},
   "outputs": [],
   "source": [
    "# check for complex conjugate pole\n",
    "b = (1, 0, 0)\n",
    "a = (1, -1, 0.5)\n",
    "z, p, k = signal.tf2zpk(b, a)\n",
    "ax = plt.figure(figsize=(5, 5))\n",
    "zplane_plot(ax, z, p, k)\n",
    "\n",
    "print(-2 * np.sqrt(a[2]) < a[1] < +2 * np.sqrt(a[2]))\n",
    "print(0 <= a[2] < 1)"
   ]
  },
  {
   "cell_type": "markdown",
   "metadata": {},
   "source": [
    "# **Copyright**\n",
    "\n",
    "The notebooks are provided as [Open Educational Resources](https://en.wikipedia.org/wiki/Open_educational_resources). Feel free to use the notebooks for your own purposes. The text is licensed under [Creative Commons Attribution 4.0](https://creativecommons.org/licenses/by/4.0/), the code of the IPython examples under the [MIT license](https://opensource.org/licenses/MIT). Please attribute the work as follows: *Frank Schultz, Digital Signal Processing - A Tutorial Featuring Computational Examples* with the URL https://github.com/spatialaudio/digital-signal-processing-exercises"
   ]
  }
 ],
 "metadata": {
  "kernelspec": {
   "display_name": "Python 3 (ipykernel)",
   "language": "python",
   "name": "python3"
  },
  "language_info": {
   "codemirror_mode": {
    "name": "ipython",
    "version": 3
   },
   "file_extension": ".py",
   "mimetype": "text/x-python",
   "name": "python",
   "nbconvert_exporter": "python",
   "pygments_lexer": "ipython3",
   "version": "3.10.12"
  }
 },
 "nbformat": 4,
 "nbformat_minor": 4
}
