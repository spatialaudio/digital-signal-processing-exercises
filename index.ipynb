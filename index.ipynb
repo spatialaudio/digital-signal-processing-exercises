{
 "cells": [
  {
   "cell_type": "markdown",
   "metadata": {},
   "source": [
    "Sascha Spors,\n",
    "Professorship Signal Theory and Digital Signal Processing,\n",
    "Institute of Communications Engineering (INT),\n",
    "Faculty of Computer Science and Electrical Engineering (IEF),\n",
    "University of Rostock,\n",
    "Germany\n",
    "\n",
    "# Tutorial Digital Signal Processing\n",
    "\n",
    "Winter Semester 2022/23 (Master Course #24505)\n",
    "\n",
    "- lecture: https://github.com/spatialaudio/digital-signal-processing-lecture\n",
    "- tutorial: https://github.com/spatialaudio/digital-signal-processing-exercises\n",
    "\n",
    "Feel free to contact lecturer frank.schultz@uni-rostock.de"
   ]
  },
  {
   "cell_type": "markdown",
   "metadata": {},
   "source": [
    "## Table of Contents\n",
    "\n",
    "### 1. Introduction (WIP)\n",
    "\n",
    "- Motivation (WIP)\n",
    "- Applications (WIP)\n",
    "- Concepts (WIP)\n",
    "- Learning Goal (WIP)\n",
    "- [Gentle Linear Algebra Recap](fundamentals/linear_algebra.ipynb)"
   ]
  },
  {
   "cell_type": "markdown",
   "metadata": {},
   "source": [
    "### 2. Spectral Analysis of Deterministic Signals\n",
    "\n",
    "#### Material\n",
    "\n",
    "* [DFT Tutorial](dft/dft_windowing_tutorial/dft_windowing_tutorial.pdf)\n",
    "* [Exercises of DFT Tutorial](dft/dft_windowing_tutorial/dft_windowing_tutorial_exercises.ipynb)\n",
    "* [DFT Fundamentals](dft/dft_intro.ipynb)\n",
    "* [Sampling of DTFT towards DFT](dft/dtft_to_dft_sampling.ipynb)\n",
    "* [Interpolation of DFT towards DTFT](dft/dft_to_dtft_interpolation.ipynb)\n",
    "* [DFT / DTFT of Complex Exponential](dft/dft_complex_exponential.ipynb)\n",
    "* [Windowing of Complex Exponentials](dft/dft_windowing_complex_exponential.ipynb)\n",
    "* [Windowing](dft/dft_windowing.ipynb)\n",
    "* [Pole/Zero Plot and Frequency Response of Windows](dft/window_zplane_frequency_response.ipynb)\n",
    "* [Parametric Windows](dft/parametric_windows.ipynb)"
   ]
  },
  {
   "cell_type": "markdown",
   "metadata": {},
   "source": [
    "#### Objectives for Exercises 1 & 2\n",
    "\n",
    "What we should learn in the exercise 1 and 2 is\n",
    "- DFT / IDFT as transform\n",
    "- DFT / IDFT as matrix operation, Fourier matrix as beautiful vector base\n",
    "- Interpolation of DFT towards DTFT\n",
    "- Sampling of DTFT towards DFT\n",
    "- Leakage Effect\n",
    "- Windowing\n",
    "- Parametric vs. Non-Parametric Windows"
   ]
  },
  {
   "cell_type": "markdown",
   "metadata": {},
   "source": [
    "The detailed [DFT Tutorial](dft/dft_windowing_tutorial/dft_windowing_tutorial.pdf) is worth to comprehend. It contains useful information and very detailed calculus on the items above. Furthermore, five exercise tasks including their solutions are given in the tutorial, that might serve as first insight into DFT used for spectral analysis. These exercises are also covered in the dedicated [Exercises of DFT Tutorial](dft/dft_windowing_tutorial/dft_windowing_tutorial_exercises.ipynb) notebook."
   ]
  },
  {
   "cell_type": "markdown",
   "metadata": {},
   "source": [
    "DFT as matrix operation is again covered in [DFT Fundamentals](dft/dft_intro.ipynb), we should not miss this viewpoint! It is also programmed in the [DFT / DTFT of Complex Exponential](dft/dft_complex_exponential.ipynb) notebook.\n",
    "\n",
    "Then, there are more Jupyter notebooks that cover stuff from the [DFT Tutorial](dft/dft_windowing_tutorial/dft_windowing_tutorial.pdf) in a more playground matter with some reference Python code. So if we need a break from all the equations in the pdf file, we might play around with these:\n",
    "* [DFT Fundamentals](dft/dft_intro.ipynb)\n",
    "* [DFT Interpolation to DTFT](dft/dft_to_dtft_interpolation.ipynb)\n",
    "* [DFT / DTFT of Complex Exponential](dft/dft_complex_exponential.ipynb)\n",
    "* [Windowing](dft/dft_windowing.ipynb)\n",
    "* [Parametric Windows](dft/parametric_windows.ipynb)"
   ]
  },
  {
   "cell_type": "markdown",
   "metadata": {},
   "source": [
    "After studying we should be able to answer\n",
    "\n",
    "- DFT / IDFT equation and its meaning\n",
    "-the matrix versions of it with an idea what the Fourier matrix is and how it is set up\n",
    "- the viewpoint of i) DFT -> interpolation of spectral data -> DTFT and ii) DTFT -> sampling of spectrum -> DFT\n",
    "- the N-DFT of an system with finite impulse response (FIR) of length N contains all spectral data. The frequency response of it is obtained by DFT -> interpolation of spectral data -> DTFT. Note that the reverse process can be used to design an FIR system in the frequency domain, we will study this later in the course.\n",
    "- concept of DFT eigenfrequency or in other words: whole signal periods fit into a DFT window\n",
    "- what the DFT is actually doing when analyzing signal containing only i) DFT eigenfrequencies or ii) not only DFT eigenfrequencies\n",
    "- the latter brings us to the leakage effect that might be reduced by windowing\n",
    "- the compromise between main lobe width and side lobe level of an window and its implications for the leakage effect\n",
    "- windowing in time domain is spectral convolution. The best window would have a Dirac-shaped spectrum, since this behaves neutral in convolution, right?  Why is a perfect Dirac spectrum not possible in practice?\n",
    "- if we want to have a Dirac-like window spectrum, what windows would be suitable, then in practice. Are they good or bad for the leakage effect?\n",
    "- what are parametric windows, what do we want to parametrize, we should give examples based on the Dolph-Chebychev and the Kaiser Bessel window\n",
    "- Which window style (in terms of main lobe width and side lobe level) is to be taken if we are i) interested in the correct amplitude of a monofrequent signal and ii) interested in very high frequency resolution"
   ]
  },
  {
   "cell_type": "markdown",
   "metadata": {},
   "source": [
    "At this stage it is also worth to think about two fundamental applications heavily used in DSP\n",
    "\n",
    "- FIR filtering: convolution of signal $x$ with a finite impulse response (FIR) $h[k]$\n",
    "\n",
    "$$y[k] = x[k] \\ast h[k] \\circ - \\bullet Y(\\Omega) = X(\\Omega) \\cdot H(\\Omega)$$\n",
    "\n",
    "- Windowing: multiplication of signal $x$ with a finite length window $w[k]$\n",
    "\n",
    "$$y[k] = x[k] \\cdot h[k] \\circ - \\bullet Y(\\Omega) = \\frac{1}{2\\pi} X(\\Omega) \\circledast_{2\\pi} W(\\Omega)$$\n",
    "\n",
    "The discussion on the characteristics of the frequency response of either $H(\\Omega)$ or $W(\\Omega)$ and how these act on the DTFT spectrum of the input signal $x[k]$ is a vital part on DSP. So, when considering finite length signals for $h[k]$ and $w[k]$, we can use the same concepts and principles for designing such signals only using different design goals. A FIR filter application probably needs a different spectrum than an optimized window application.\n",
    "\n",
    "So, what role plays the DFT here? We should recall that for finite length signals all spectrum information is stored in the DFT coefficients. The DTFT can then be interpolated from the DFT coefficients, see [DFT Interpolation to DTFT](dft/dft_to_dtft_interpolation.ipynb). So, by knowing the DFT of an FIR filter, we basically know the whole frequency response of this FIR system and we can tell which frequencies in the input signal are gained/attenuated in the convolution process $y[k] = x[k] \\ast h[k]$. And, by knowing the DFT of a window, we know the frequency response of the window and are able to estimate the smoothing effect that happens in the convolution $Y(\\Omega) = \\frac{1}{2\\pi} X(\\Omega) \\circledast_{2\\pi} W(\\Omega)$. That's why we should learn about DFT in very detail. We could check \n",
    "[Pole/Zero Plot and Frequency Response of Windows](dft/window_zplane_frequency_response.ipynb)."
   ]
  },
  {
   "cell_type": "markdown",
   "metadata": {},
   "source": [
    "### 3. Random Signals\n",
    "\n",
    "#### Material\n",
    "\n",
    "* [Ensemble and Temporal Averages](random_signals/ensemble_averages.ipynb)\n",
    "* [Correlation](random_signals/correlation.ipynb)\n",
    "\n",
    "#### Objectives for Exercise 3\n",
    "\n",
    "We should get an idea on\n",
    "- the probability density function (PDF)\n",
    "- what is a sample function of a random process\n",
    "- first / second order ensemble averages (moments)\n",
    "- the concept of stationarity and ergodicity\n",
    "- the concept of temporal average vs. ensemble average\n",
    "- the auto correlation / cross correlation as as a higher order ensemble and temporal averages"
   ]
  },
  {
   "cell_type": "markdown",
   "metadata": {},
   "source": [
    "### 4. Random Signals and LTI Systems\n",
    "\n",
    "#### Material\n",
    "\n",
    "* [Time Domain](random_signals_LTI_systems/random_LTI_time_domain.ipynb)\n",
    "* Frequency Domain (WIP)\n",
    "* Wiener Filter (WIP)\n",
    "\n",
    "#### Objectives for Exercise 4\n",
    "\n",
    "We discuss how LTI systems act on random input signals.\n",
    "\n",
    "We should get familiar with the following aspects\n",
    "- the correlation function and its DTFT spectrum, which is the so called power spectral density (PSD) \n",
    "- the concept of cross- vs. auto-correlation function, we make sure that we correctly understood the convention for the shifting direction\n",
    "- the four fundamental **equations I-IV** how the correlation functions and their power spectral densities are connected for in-/output signal of an LTI system (we should not miss these as they are really **important fundamentals**)\n",
    "- correlation of sine/cosine signals to get the idea of maximum positive/negative correlation and no correlation at all\n",
    "- the auto-correlation function (ACF) of a simple short sequence in very detail\n",
    "- analytic calculus of simple lowpass filters FIR and IIR (practical examples are much more complicated, such that analytic treatment is no fun anymore...also we here can make sure that we got the time mirroring concept right)\n",
    "- simple method of estimating an LTI system's impulse response via cross correlation"
   ]
  },
  {
   "cell_type": "markdown",
   "metadata": {},
   "source": [
    "### 5. Spectral Estimation of Random Signals\n",
    "\n",
    "#### Material is part of homework assignment\n",
    "\n",
    "* STFT\n",
    "* Welch method"
   ]
  },
  {
   "cell_type": "markdown",
   "metadata": {},
   "source": [
    "### 6. Quantization\n",
    "\n",
    "#### Material\n",
    "\n",
    "* [Quantization Error](quantization/quantization.ipynb)\n",
    "\n",
    "#### Objectives for Exercise 5\n",
    "\n",
    "In this exercise we will have a detailed look to the concept of amplitude quantization.\n",
    "\n",
    "We should get familiar with\n",
    "- the quantization error model and its underlying assumptions\n",
    "- why some of the assumptions are violated; for example when quantizing a sine signal\n",
    "- the uniform (saturated) midtread quantization curve (characteristics, shape, quantization step size)\n",
    "- the link between number of quantization steps Q and number of encoding bits\n",
    "- the signal-to-'quantization noise'-ratio for different input signals and the resulting rule of thumb \"6dB better SNR per bit\"\n",
    "- the concept of dithering (why, how)\n",
    "- the difference of using dithering noise with either a uniform PDF or a triangular PDF and why is triangular better\n",
    "\n",
    "We should listen to the audio examples for the dithering exercise. Especially the case when the sine amplitude is below the quantization step is interesting, as one would assume that this sine signal cannot be perceived at all. **Please, DO NOT HARM YOUR EARS! Start with low playback level.**"
   ]
  },
  {
   "cell_type": "markdown",
   "metadata": {},
   "source": [
    "### 7. Realization of Non-Recursive Filters\n",
    "\n",
    "#### Material\n",
    "\n",
    "* [FIR Filter](filter_design/fir_filter.ipynb)\n",
    "\n",
    "#### Objectives for Exercise 6\n",
    "\n",
    "In this exercise we deal with FIR filters, more precisely with non-recursive LTI systems.\n",
    "\n",
    "We should get familiar with\n",
    "- filter fundamentals (recursive vs. non-recursive systems, signal flow diagram, transfer function)\n",
    "- special case of non-recursive system == finite impulse response (FIR), and therefore called FIR filter\n",
    "- fundamental idea of pole / zero alignment of FIR filters discussed on simple examples\n",
    "- concept of linear-phase FIR filter types I-IV\n",
    "- concept of windowed FIR filter design using the Kaiser-Bessel window"
   ]
  },
  {
   "cell_type": "markdown",
   "metadata": {},
   "source": [
    "### 8. Realization of Recursive Filters\n",
    "\n",
    "#### Material\n",
    "\n",
    "* [IIR Filter](filter_design/iir_filter.ipynb)\n",
    "* [IIR Biquad Coefficient's Value Range](filter_design/iir_biquad.ipynb)\n",
    "\n",
    "#### Objectives for Exercise 7\n",
    "\n",
    "In this exercise we deal with recursive systems, more precise with recursive systems that exhibit an infinite impulse response, which we call IIR filter (most textbooks do this as well).\n",
    "\n",
    "We should get familiar with\n",
    "- filter fundamentals, especially the fundamental difference between recursive and non-recursive systems in terms of their transfer function, poles, stability, signal flow graph\n",
    "- simple examples what a zero is doing, what a pole is doing (practical filters are just more complicated, but the key idea is the same) \n",
    "- bilinear transform as an exemplary straightforward, simple IIR filter design method when Laplace transfer function is given\n",
    "- concept of frequency pre-warping and bandwidth / Q-factor pre-warping when applying the bilinear transform"
   ]
  },
  {
   "cell_type": "markdown",
   "metadata": {},
   "source": [
    "### 9. Design of Digital Filters\n",
    "\n",
    "* [Examples of Simple Filters](filter_design/filter_examples.ipynb)\n",
    "* [Typical IIR-Filters for Audio](https://nbviewer.jupyter.org/github/spatialaudio/digital-signal-processing-lecture/blob/master/filter_design/audiofilter.ipynb) (links to the corresponding notebook in the lecture)"
   ]
  },
  {
   "cell_type": "markdown",
   "metadata": {},
   "source": [
    "### Appendix A: Jupyter Notebook\n",
    "\n",
    "* [Brief Introduction HowTo Jupyter Notebook](jupyter/jupyter_intro.ipynb)"
   ]
  },
  {
   "cell_type": "markdown",
   "metadata": {},
   "source": [
    "## Literature Recommendations\n",
    "\n",
    "### English Monographs\n",
    "\n",
    "The following list contains established and often cited textbooks on DSP:\n",
    "\n",
    "- A.V. Oppenheim, R.W. Schafer (2010): \"Discrete-Time Signal Processing.\", Pearson, 3rd ed. Also available in German.\n",
    "\n",
    "- L.R. Rabiner, B. Gold (1975): \"Theory And Application Of Digital Signal Processing.\", Pearson.\n",
    "\n",
    "- S.D. Stearns, D.R. Hush (1990): \"Digital Signal Analysis.\", Prentice Hall. Also available in German.\n",
    "\n",
    "- J.G. Proakis, D.G. Manolakis (1996): \"Digital Signal Processing.\", Prentice Hall, 3rd ed.\n",
    "\n",
    "- R.G. Lyons (2011): \"Understanding Digital Signal Processing.\", Prentice Hall, 3rd ed.\n",
    "\n",
    "- L.R. Rabiner, R.W. Schafer (1978): \"Digital Processing of Speech Signals.\", Prentice Hall.\n",
    "\n",
    "- E.C. Ifeachor, B. W. Jervis (2002): \"Digital Signal Processing.\", Prentice Hall, 2nd ed.\n",
    "\n",
    "- Y. Stein (2000): \"Digital Signal Processing.\", Wiley.\n",
    "\n",
    "- S. J. Orfanidis (2010): \"Introduction to Signal Processing.\", Pearson.\n",
    "\n",
    "- B. Girod, R. Rabenstein, A. Stenger (2001): \"Signals and Systems.\" Wiley. Also available as a 4th ed. in German.\n",
    "\n",
    "\n",
    "\n",
    "### German Authors\n",
    "\n",
    "Besides direct translations of English textbooks, there exist several established German textbooks by:\n",
    "\n",
    "- Norbert Fliege\n",
    "- Karl-Dirk Kammeyer et al.\n",
    "- Hans Wilhelm Schüßler \n",
    "- Franz-Heinrich Lange\n",
    "- Gerhard Wunsch\n",
    "- Bernd Girod et al.\n",
    "- Klaus Göldner\n",
    "- Udo Zölzer\n",
    "\n",
    "If one looks for more practical approaches, the books in German language by\n",
    "\n",
    "- Daniel Ch. von Grünigen\n",
    "- Martin Werner\n",
    "- Martin Meyer\n",
    "- Ottmar Beucher\n",
    "\n",
    "might be considered.\n",
    "\n",
    "### Open Educational Resources (OER) / Open Course Ware (OCW)\n",
    "\n",
    "The following video/html resources might be helpful as well:\n",
    "\n",
    "- Alan V. Oppenheim, MIT, https://ocw.mit.edu/resources/res-6-008-digital-signal-processing-spring-2011/\n",
    "- edX: https://www.edx.org/search?q=digital%20signal%20processing \n",
    "- Julius O. Smith III, Standford University, Online Books and Courses at https://ccrma.stanford.edu/~jos/\n",
    "- Gert Leus, TU Delft, https://ocw.tudelft.nl/courses/digital-signal-processing/\n",
    "\n",
    "Finally, although not traditionally related to DSP, it is recommended to have a look at\n",
    "\n",
    "- Gilbert Strang, MIT, Linear Algebra courses, https://ocw.mit.edu/search/ocwsearch.htm?q=gilbert%20strang\n",
    "\n",
    "since discrete signals can be interpreted as vectors, and multiple signals as vector spaces, that might form a vector base... So, a lot of concepts of linear algebra appear to be very useful in DSP.\n"
   ]
  },
  {
   "cell_type": "markdown",
   "metadata": {},
   "source": [
    "## Contributions\n",
    "\n",
    "- Frank Schultz (concept, initial main author)\n",
    "- Jacob Thönes (TBA)\n",
    "- Robert Hauser (code for graphics generation on DFT material)\n",
    "- Vera Erbes (author, proof read, translation)\n",
    "- Sascha Spors (concept, proof read)"
   ]
  },
  {
   "cell_type": "markdown",
   "metadata": {},
   "source": [
    "## **Copyright**\n",
    "\n",
    "The notebooks are provided as [Open Educational Resources](https://en.wikipedia.org/wiki/Open_educational_resources). Feel free to use the notebooks for your own purposes. The text is licensed under [Creative Commons Attribution 4.0](https://creativecommons.org/licenses/by/4.0/), the code of the IPython examples under the [MIT license](https://opensource.org/licenses/MIT). Please attribute the work as follows: *Frank Schultz, Digital Signal Processing - A Tutorial Featuring Computational Examples* with the URL https://github.com/spatialaudio/digital-signal-processing-exercises"
   ]
  }
 ],
 "metadata": {
  "kernelspec": {
   "display_name": "Python 3 (ipykernel)",
   "language": "python",
   "name": "python3"
  },
  "language_info": {
   "codemirror_mode": {
    "name": "ipython",
    "version": 3
   },
   "file_extension": ".py",
   "mimetype": "text/x-python",
   "name": "python",
   "nbconvert_exporter": "python",
   "pygments_lexer": "ipython3",
   "version": "3.10.12"
  }
 },
 "nbformat": 4,
 "nbformat_minor": 4
}
