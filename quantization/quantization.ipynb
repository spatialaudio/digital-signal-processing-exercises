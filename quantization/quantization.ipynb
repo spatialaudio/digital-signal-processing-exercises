{
 "cells": [
  {
   "cell_type": "markdown",
   "metadata": {},
   "source": [
    "Sascha Spors,\n",
    "Professorship Signal Theory and Digital Signal Processing,\n",
    "Institute of Communications Engineering (INT),\n",
    "Faculty of Computer Science and Electrical Engineering (IEF),\n",
    "University of Rostock,\n",
    "Germany\n",
    "\n",
    "# Tutorial Digital Signal Processing\n",
    "\n",
    "**Uniform Quantization, Dithering, Noiseshaping**,\n",
    "Winter Semester 2023/24 (Master Course #24505)\n",
    "\n",
    "- lecture: https://github.com/spatialaudio/digital-signal-processing-lecture\n",
    "- tutorial: https://github.com/spatialaudio/digital-signal-processing-exercises\n",
    "\n",
    "Feel free to contact lecturer jacob.thoenes@uni-rostock.de"
   ]
  },
  {
   "cell_type": "markdown",
   "metadata": {},
   "source": [
    "# Fundamentals of Quantization"
   ]
  },
  {
   "cell_type": "markdown",
   "metadata": {},
   "source": [
    "## Packages / Functions"
   ]
  },
  {
   "cell_type": "markdown",
   "metadata": {},
   "source": [
    "We import the required packages first and put some functions here that we will frequently use."
   ]
  },
  {
   "cell_type": "code",
   "execution_count": null,
   "metadata": {},
   "outputs": [],
   "source": [
    "# most common used packages for DSP, have a look into other scipy submodules\n",
    "import numpy as np\n",
    "import matplotlib as mpl\n",
    "import matplotlib.pyplot as plt\n",
    "from scipy import signal\n",
    "\n",
    "# audio write and play stuff\n",
    "import soundfile as sf  # requires 'pip install soundfile'\n",
    "# last tested with soundfile-0.10.3"
   ]
  },
  {
   "cell_type": "code",
   "execution_count": null,
   "metadata": {},
   "outputs": [],
   "source": [
    "def my_xcorr2(x, y, scaleopt='none'):\n",
    "    r\"\"\" Cross Correlation function phixy[kappa] -> x[k+kappa] y\n",
    "\n",
    "    input:\n",
    "    x   input signal shifted by +kappa\n",
    "    y   input signal\n",
    "    scaleopt   scaling of CCF estimator\n",
    "    output:\n",
    "    kappa   sample index\n",
    "    ccf   correlation result\n",
    "    \"\"\"\n",
    "    N = len(x)\n",
    "    M = len(y)\n",
    "    kappa = np.arange(0, N+M-1) - (M-1)\n",
    "    ccf = signal.correlate(x, y, mode='full', method='auto')\n",
    "    if N == M:\n",
    "        if scaleopt == 'none' or scaleopt == 'raw':\n",
    "            ccf /= 1\n",
    "        elif scaleopt == 'biased' or scaleopt == 'bias':\n",
    "            ccf /= N\n",
    "        elif scaleopt == 'unbiased' or scaleopt == 'unbias':\n",
    "            ccf /= (N - np.abs(kappa))\n",
    "        elif scaleopt == 'coeff' or scaleopt == 'normalized':\n",
    "            ccf /= np.sqrt(np.sum(x**2) * np.sum(y**2))\n",
    "        else:\n",
    "            print('scaleopt unknown: we leave output unnormalized')\n",
    "    return kappa, ccf"
   ]
  },
  {
   "cell_type": "code",
   "execution_count": null,
   "metadata": {},
   "outputs": [],
   "source": [
    "def uniform_midtread_quantizer(x, deltaQ):\n",
    "    r\"\"\"uniform_midtread_quantizer from the lecture:\n",
    "    https://github.com/spatialaudio/digital-signal-processing-lecture/blob/master/quantization/linear_uniform_quantization_error.ipynb\n",
    "    commit: b00e23e\n",
    "    note: we renamed the second input to deltaQ, since this is what the variable\n",
    "    actually represents, i.e. the quantization step size\n",
    "\n",
    "    input:\n",
    "    x   input signal to be quantized\n",
    "    deltaQ    quantization step size\n",
    "    output:\n",
    "    xq   quantized signal\n",
    "    \"\"\"\n",
    "    # [-1...1) amplitude limiter\n",
    "    x = np.copy(x)\n",
    "    idx = np.where(x <= -1)\n",
    "    x[idx] = -1\n",
    "    idx = np.where(x > 1 - deltaQ)\n",
    "    x[idx] = 1 - deltaQ\n",
    "    # linear uniform quantization\n",
    "    xq = deltaQ * np.floor(x/deltaQ + 1/2)\n",
    "    return xq"
   ]
  },
  {
   "cell_type": "code",
   "execution_count": null,
   "metadata": {},
   "outputs": [],
   "source": [
    "def my_quant(x, Q):\n",
    "    r\"\"\"Saturated uniform midtread quantizer\n",
    "\n",
    "    input:\n",
    "    x  input signal\n",
    "    Q  number of quantization steps\n",
    "    output:\n",
    "    xq quantized signal\n",
    "\n",
    "    Note: for even Q in order to retain midtread characteristics,\n",
    "    we must omit one quantization step, either that for lowest or the highest\n",
    "    amplitudes. Typically the highest signal amplitudes are saturated to\n",
    "    the 'last' quantization step. Then, in the special case of log2(N)\n",
    "    being an integer the quantization can be represented with bits.\n",
    "    \"\"\"\n",
    "    tmp = Q//2  # integer div\n",
    "    quant_steps = (np.arange(Q) - tmp) / tmp  # we don't use this\n",
    "\n",
    "    # forward quantization, round() and inverse quantization\n",
    "    xq = np.round(x*tmp) / tmp\n",
    "    # always saturate to -1\n",
    "    xq[xq < -1.] = -1.\n",
    "    # saturate to ((Q-1) - (Q\\2)) / (Q\\2), note that \\ is integer div\n",
    "    tmp2 = ((Q-1) - tmp) / tmp  # for odd N this always yields 1\n",
    "    xq[xq > tmp2] = tmp2\n",
    "    return xq"
   ]
  },
  {
   "cell_type": "markdown",
   "metadata": {},
   "source": [
    "## Quantization Process and Error\n",
    "\n",
    "Quantization generates signals that have discrete values $x_q[k]$, $x_q(t)$ from signals with continuous values $x[k]$, $x(t)$. \n",
    "\n",
    "For quantization, the signals can be both, discrete and continuous in time.\n",
    "However, a signal that is discrete in time **and** discrete in value is termed a **digital** signal.\n",
    "Only digital signals can be processed by computers.\n",
    "Here the quantization of discrete-time signals is treated due to practical importance.\n",
    "\n",
    "To describe quantization analytically, the model in the figure below is used.\n",
    "\n",
    "<img src=\"QuantizationModel.png\" alt=\"QuantizationModel.png\" width=\"400\"/>\n",
    "\n",
    "The input and output signal differ by the so called quantization error (quantization noise) $e[k]$, that is defined as\n",
    "\n",
    "\\begin{equation}\n",
    "e[k] = x_q[k] - x[k],\n",
    "\\end{equation}\n",
    "\n",
    "so that the error constitutes an additive superposition\n",
    "\n",
    "\\begin{equation}\n",
    "x[k] + e[k] = x_q[k]\n",
    "\\end{equation}\n"
   ]
  },
  {
   "cell_type": "markdown",
   "metadata": {},
   "source": [
    "To use this error model, some assumption have to be made.\n",
    "The quantization noise shall be uniformly distributed, which then can be modeled with the probability density function (PDF) $p_e(\\theta) = \\frac{1}{\\Delta Q} \\mathrm{rect}(\\frac{\\theta_e}{\\Delta Q})$, where $\\Delta Q$ denotes the quantization step size and $\\theta_e$ the amplitudes of the quantization error signal.\n",
    "This PDF is shown below."
   ]
  },
  {
   "cell_type": "code",
   "execution_count": null,
   "metadata": {},
   "outputs": [],
   "source": [
    "plt.figure(figsize=(4, 2))\n",
    "plt.plot((-1, -1/2, -1/2, +1/2, +1/2, +1), (0, 0, 1, 1, 0, 0), lw=3)\n",
    "plt.xlim(-1, 1)\n",
    "plt.ylim(-0.1, 1.1)\n",
    "plt.xticks((-0.5, +0.5), [r'-$\\frac{\\Delta Q}{2}$', r'+$\\frac{\\Delta Q}{2}$'])\n",
    "plt.yticks((0, 1), [r'0', r'+$\\frac{1}{\\Delta Q}$'])\n",
    "plt.xlabel(r'$\\theta_e$')\n",
    "plt.ylabel(r'$p_e(\\theta)$')\n",
    "plt.title(\n",
    "    r'$p_e(\\theta) = \\frac{1}{\\Delta Q} \\mathrm{rect}(\\frac{\\theta_e}{\\Delta Q})$')\n",
    "plt.grid(True)"
   ]
  },
  {
   "cell_type": "markdown",
   "metadata": {},
   "source": [
    "Furthermore, it is assumed that $e[k]$ is not correlated with $x[k]$.\n",
    "That this is not necessarily the case can be demonstrated with the help of some straightforward examples."
   ]
  },
  {
   "cell_type": "code",
   "execution_count": null,
   "metadata": {
    "run_control": {
     "marked": false
    }
   },
   "outputs": [],
   "source": [
    "Q = 9  # odd, number of quantization steps\n",
    "N = 100\n",
    "k = np.arange(2*N)\n",
    "x = np.sin(2*np.pi/N*k)\n",
    "xq = my_quant(x, Q)\n",
    "e = xq-x\n",
    "# actually stem plots would be correct, for convenience we plot as line style\n",
    "plt.plot(k, x, 'C2', lw=3, label=r'$x$')\n",
    "plt.plot(k, xq, 'C0o-', label=r'$x_q$')\n",
    "plt.plot(k, e, 'C3', label=r'$e=x_q-x$')\n",
    "plt.plot(k, k*0+1/(Q-1), 'k:', label=r'$\\frac{\\Delta Q}{2}$')\n",
    "plt.xlabel(r'$k$')\n",
    "plt.legend()\n",
    "plt.grid(True)"
   ]
  },
  {
   "cell_type": "markdown",
   "metadata": {},
   "source": [
    "A sine signal is quantized with $Q=9$ quantization steps.\n",
    "A periodicity of the quantization noise can be easily identified.\n",
    "For odd $Q$, the maximum amplitude of the quantization error can be estimated to\n",
    "\n",
    "$$\\frac{\\Delta Q}{2}=\\frac{\\frac{2}{Q-1}}{2}=\\frac{1}{Q-1}=\\frac{1}{8}=0.125.$$\n",
    "\n",
    "The auto-correlation function of the error signal $e[k]$ is presented next."
   ]
  },
  {
   "cell_type": "code",
   "execution_count": null,
   "metadata": {},
   "outputs": [],
   "source": [
    "kappa, acf = my_xcorr2(e, e, 'unbiased')\n",
    "plt.plot(kappa, acf)\n",
    "plt.xlim(-175, +175)\n",
    "plt.xlabel(r'$\\kappa$')\n",
    "plt.ylabel(r'$\\phi_{ee}[\\kappa]$')\n",
    "plt.title('ACF of quantization error')\n",
    "plt.grid(True)"
   ]
  },
  {
   "cell_type": "markdown",
   "metadata": {},
   "source": [
    "If $e[k]$ would be exactly following the probability density function $p_e(\\theta) = \\frac{1}{\\Delta Q} \\mathrm{rect}(\\frac{\\theta_e}{\\Delta Q})$, the auto-correlation function $\\phi_{ee}[\\kappa]=\\delta[\\kappa]$ results.\n",
    "\n",
    "However, this is not observable in this example!\n",
    "\n",
    "Instead, from the above plot, we can deduce that $e[k]$ is correlated to itself, i.e. it exhibits periodicity each 100 samples in phase, and each 50 sample out of phase.\n",
    "The sine period is precisely 100 samples, thus the input signal and the quantization error are somewhat linked and not independent.\n",
    "Thus, the error model assumption is violated. That is bad, since the sine signal allows for otherwise comparable simple analytical calculus.\n",
    "\n",
    "The links between the signals can be furthermore confirmed with the help of the cross-correlation functions.\n",
    "Their oscillating characteristics reveal that quantization error is highly correlated. "
   ]
  },
  {
   "cell_type": "code",
   "execution_count": null,
   "metadata": {},
   "outputs": [],
   "source": [
    "plt.figure(figsize=(9, 3))\n",
    "\n",
    "plt.subplot(1, 2, 1)\n",
    "kappa, acf = my_xcorr2(e, x, 'unbiased')\n",
    "plt.plot(kappa, acf)\n",
    "plt.xlim(-170, +170)\n",
    "plt.xlabel(r'$\\kappa$')\n",
    "plt.ylabel(r'$\\phi_{e,x}[\\kappa]$')\n",
    "plt.title('CCF quantization error and input signal')\n",
    "plt.grid(True)\n",
    "\n",
    "plt.subplot(1, 2, 2)\n",
    "kappa, acf = my_xcorr2(e, xq, 'unbiased')\n",
    "plt.plot(kappa, acf)\n",
    "plt.xlim(-170, +170)\n",
    "plt.xlabel(r'$\\kappa$')\n",
    "plt.ylabel(r'$\\phi_{e,xq}[\\kappa]$')\n",
    "plt.title('CCF quantization error and quantized signal')\n",
    "plt.grid(True)"
   ]
  },
  {
   "cell_type": "markdown",
   "metadata": {},
   "source": [
    "Therefore, the special case of sine signals is in fact not suited for the quantization model above.\n",
    "Because of the simplicity of the involved calculation it is common practice to conduct this analysis for sine signals nevertheless, and signal-to-noise ratios in the data sheets of A/D converters are mostly stated for excitation with sine signals.\n",
    "For random signals, the quantization model is only valid for high levels in the quantizer. For more information see\n",
    "[Udo Zölzer, Digital Audio Signal Processing, Wiley](https://onlinelibrary.wiley.com/doi/book/10.1002/9780470680018)\n",
    "(might be available as free access in your uni network)\n",
    "\n",
    "-  Task:\n",
    "Increase the (odd) number of quantization steps $Q$ and check what happens with the shape and amplitudes of the correlations functions. Hint: closer look to the amplitudes of the correlation signals."
   ]
  },
  {
   "cell_type": "markdown",
   "metadata": {},
   "source": [
    "## Quantization Modeling / Mapping\n",
    "\n",
    "The mapping of the infinitely large continuous set of values to a discrete number of amplitude steps is realized with a transfer characteristic.\n",
    "The height of the amplitude steps is $\\Delta Q$.\n",
    "\n",
    "\n",
    "\n",
    "From the lecture, we know that the following mapping is used in order to quantize the continuous amplitude signal $x[k]$\n",
    "\n",
    "towards\n",
    "\n",
    "\\begin{equation}\n",
    "x_Q[k] = g( \\; \\lfloor \\, f(x[k]) \\, \\rfloor \\; ),\n",
    "\\end{equation}\n",
    "\n",
    "where $g(\\cdot)$ and $f(\\cdot)$ denote real-valued mapping functions, and $\\lfloor \\cdot \\rfloor$ a rounding operation (**not necessarily the plain floor operation**)."
   ]
  },
  {
   "cell_type": "markdown",
   "metadata": {},
   "source": [
    "### Uniform Saturated Midtread Quantization Characteristic Curve\n",
    "\n",
    "With the introduced mapping, the uniform saturated midtread quantizer can be discussed.\n",
    "This is probably the most important curve for uniform quantization due to its practical relevance for coding quantized amplitude values as bits. In general, the uniform midtread quantizer can be given as the mapping\n",
    "\n",
    "\\begin{equation}\n",
    "x_Q[k] =  \\frac{1}{Q \\backslash 2} \\cdot \\lfloor (Q \\backslash 2) \\cdot x[k]\\rfloor,\n",
    "\\end{equation}\n",
    "\n",
    "where for $\\lfloor \\cdot \\rfloor$ a rounding operation might used and $\\backslash$ denotes integer division.\n",
    "So the mapping functions $g$ and $f$ are simple multiplications.\n",
    "At the beginning of this notebook, the function `my_quant` is implemented that realizes quantization based on this mapping.\n",
    "The approach uses `numpy`'s `round` operation.\n",
    "When asking for rounding, care has to be taken, which [approach](https://en.wikipedia.org/wiki/Rounding) shall be used.\n",
    "Numpy rounds to the nearest **even** integer in contrast to e.g. Matlab's rounding to nearest integer.\n",
    "\n",
    "Detailed analysis for `my_quant`:\n",
    "\n",
    "- the quantization should be properly performed only for $-1 \\leq x < 1$\n",
    "- thus, it always saturates $x<-1$ towards $x_q = -1$\n",
    "- in the case of an **odd** number of quantization steps $Q$, it saturates $x>+1$ towards $x_q = +1$. The quantization step size is $\\Delta Q = \\frac{2}{Q-1}$.\n",
    "- In the case of an **even** number of quantization steps $Q$, it saturates $x>\\frac{Q - 1 - \\frac{Q}{2}}{\\frac{Q}{2}} = 1-\\frac{2}{Q}$ towards $x_q = \\frac{Q - 1 - \\frac{Q}{2}}{\\frac{Q}{2}}=1-\\frac{2}{Q}$. The quantization step size is $\\Delta Q = \\frac{2}{Q}$."
   ]
  },
  {
   "cell_type": "markdown",
   "metadata": {},
   "source": [
    "### AD / DA Converter Convention\n",
    "\n",
    "The case of **even** $Q$ is practically used for virtually all analog/digital (AD) and digital/analog (DA) converters.\n",
    "\n",
    "When additionally to the above statements\n",
    "\n",
    "\\begin{equation}\n",
    "\\log_2(Q)\\in\\mathbb{N}\n",
    "\\end{equation}\n",
    "\n",
    "holds, it is meaningful to code the even and power of two $Q$ possible quantization steps with bits.\n",
    "\n",
    "With $B\\in\\mathbb{N}$ denoting the number of bits, the number range convention for AD and DA converters is \n",
    "\n",
    "\\begin{equation}\n",
    "\\begin{split}\n",
    "&-1\\leq x \\leq 1-2^{-(B-1)}\\\\\n",
    "&-1\\leq x \\leq 1-\\frac{2}{Q}\n",
    "\\end{split}\n",
    "\\end{equation}\n",
    "\n",
    "using \n",
    "\n",
    "\\begin{equation}\n",
    "Q=2^B\n",
    "\\end{equation}\n",
    "\n",
    "quantization steps.\n",
    "Values of $x$ outside this range will be saturated to the minimum $-1$ and maximum $1-\\frac{2}{Q}$ quantization values in the quantization process.\n",
    "\n",
    "For example, $B = 16$ bits are used to code [PCM data for CD](https://en.wikipedia.org/wiki/Compact_disc) audio quality.\n",
    "Then we get the following quantities."
   ]
  },
  {
   "cell_type": "code",
   "execution_count": null,
   "metadata": {},
   "outputs": [],
   "source": [
    "B = 16  # number of bits\n",
    "Q = 2**B  # number of quantization steps\n",
    "\n",
    "# for even Q only:\n",
    "deltaQ = 2/Q\n",
    "# maximum quantize value:\n",
    "xqmax = 1-2**(-(B-1))\n",
    "# or more general for even Q:\n",
    "xqmax = 1-deltaQ\n",
    "\n",
    "print(' B = %d bits\\n quantization steps Q = %d\\n quantization step size %e' %\n",
    "      (B, Q, deltaQ))\n",
    "print(' smallest quantization value xqmin = -1')\n",
    "print(' largest quantization value xqmax = %16.15f' % xqmax)\n",
    "# B = 16 bits\n",
    "# quantization steps Q = 65536\n",
    "# quantization step size 3.051758e-05\n",
    "# smallest quantization value xqmin = -1\n",
    "# largest quantization value xqmax = 0.999969482421875"
   ]
  },
  {
   "cell_type": "markdown",
   "metadata": {},
   "source": [
    "So called high definition audio uses 24 Bit. Video and photo typically uses 8-12 Bit quantization per color channel."
   ]
  },
  {
   "cell_type": "markdown",
   "metadata": {},
   "source": [
    "### Plotting the Midtread Curve\n",
    "\n",
    "We now can visualize the characteristic curve for a simple, made up input signal, i.e. a monotonic increasing signal between $x_{max} = -x_{min}$ using an equidistant increment $\\Delta x$ over sample index $k$.\n",
    "\n",
    "Here, we use $x_{max} = 1.25$ and $\\Delta x=0.001$ and assume that we start with $x_{min} = -1.25$ at $k=0$.\n",
    "If $\\Delta x$ is sufficiently small, the signal's amplitude can be interpreted as continuous straight line.\n",
    "This straight line is degraded in a quantization process.\n",
    "Plotting the quantization result over the input, results in the characteristic curve, in our example in the curve of the uniform saturated midtread quantizer.\n",
    "\n",
    "Let us plot this.\n",
    "\n",
    "**Please note:**\n",
    "The quantizer `uniform_midtread_quantizer` known from lecture and `my_quant` yield the same results besides a slight detail: `uniform_midtread_quantizer` always exhibits an **even** number of quantization steps $Q$.\n",
    "So, only for even $Q$ results are exactly identical.\n",
    "\n",
    "We might verify this in the next plots as well."
   ]
  },
  {
   "cell_type": "code",
   "execution_count": null,
   "metadata": {},
   "outputs": [],
   "source": [
    "x = np.arange(-1.25, +1.25, 1e-3)\n",
    "plt.figure(figsize=(4, 2))\n",
    "plt.plot(x)  # actually a stem plot is correct\n",
    "plt.ylim(-1.25, +1.25)\n",
    "plt.xlabel(r'$k$')\n",
    "plt.ylabel(r'$x[k]$')\n",
    "plt.grid(True)"
   ]
  },
  {
   "cell_type": "code",
   "execution_count": null,
   "metadata": {},
   "outputs": [],
   "source": [
    "Q = 9  # number of quantization steps, odd or even\n",
    "deltaQ = 1/(Q//2)  # quantization step size, even/odd Q\n",
    "\n",
    "xq = my_quant(x, Q)  # used in exercise\n",
    "xumq = uniform_midtread_quantizer(x, deltaQ)  # as used in lecture\n",
    "\n",
    "plt.figure(figsize=(6, 6))\n",
    "plt.plot(x, xumq, 'C0', lw=2, label='uniform_midtread_quantizer()')\n",
    "plt.plot(x, xq, 'C3', label='my_quant()')\n",
    "plt.xticks(np.arange(-1, 1.25, 0.25))\n",
    "plt.yticks(np.arange(-1, 1.25, 0.25))\n",
    "plt.xlabel(r'input amplitude of $x$')\n",
    "plt.ylabel(r'output ampliude of $x_q$')\n",
    "plt.title(\n",
    "    r'uniform saturated midtread quantization, Q={0:d}, $\\Delta Q$={1:3.2f}'.format(Q, deltaQ))\n",
    "plt.axis('equal')\n",
    "plt.legend()\n",
    "plt.grid(True)"
   ]
  },
  {
   "cell_type": "markdown",
   "metadata": {},
   "source": [
    "The following exercises used to be a homework assignment as exam's prerequisite.\n",
    "\n",
    "# Exercise 1: Uniform Saturated Midtread Characteristic Curve of Quantization\n",
    "\n",
    "## Task\n",
    "\n",
    "Check this quantizer curve for $Q=7$ and $Q=8$.\n",
    "Make sure that you get the idea of the midtread concept (the zero is always quantized to zero) and saturation (for even $Q$) largest quantization step is saturated)."
   ]
  },
  {
   "cell_type": "code",
   "execution_count": null,
   "metadata": {},
   "outputs": [],
   "source": [
    "def check_my_quant(Q):\n",
    "    N = 5e2\n",
    "    x = 2*np.arange(N)/N - 1\n",
    "    xq = my_quant(x, Q)\n",
    "    e = xq - x\n",
    "\n",
    "    plt.plot(x, x, color='C2', lw=3, label=r'$x[k]$')\n",
    "    plt.plot(x, xq, color='C3', label=r'$x_q[k]$')\n",
    "    plt.plot(x, e, color='C0', label=r'$e[k] = x_q[k] - x[k]$')\n",
    "    plt.xticks(np.arange(-1, 1.25, 0.25))\n",
    "    plt.yticks(np.arange(-1, 1.25, 0.25))\n",
    "    plt.xlabel('input amplitude')\n",
    "    plt.ylabel('output amplitude')\n",
    "    if np.mod(Q, 2) == 0:\n",
    "        s = ' saturated '\n",
    "    else:\n",
    "        s = ' '\n",
    "    plt.title(\n",
    "        'uniform'+s+'midtread quantization with Q=%d steps, $\\Delta Q$=%4.3e' % (Q, 1/(Q//2)))\n",
    "    plt.axis('equal')\n",
    "    plt.legend(loc='upper left')\n",
    "    plt.grid(True)"
   ]
  },
  {
   "cell_type": "code",
   "execution_count": null,
   "metadata": {},
   "outputs": [],
   "source": [
    "Q = 7  # number of quantization steps\n",
    "deltaQ = 1 / (Q//2)  # general rule\n",
    "deltaQ = 2 / (Q-1)  # for odd Q only\n",
    "plt.figure(figsize=(5, 5))\n",
    "check_my_quant(Q)"
   ]
  },
  {
   "cell_type": "code",
   "execution_count": null,
   "metadata": {},
   "outputs": [],
   "source": [
    "Q = 8  # number of quantization steps\n",
    "deltaQ = 1 / (Q//2)  # general rule\n",
    "deltaQ = 2 / Q  # for even Q only\n",
    "plt.figure(figsize=(5, 5))\n",
    "check_my_quant(Q)"
   ]
  },
  {
   "cell_type": "markdown",
   "metadata": {},
   "source": [
    "# Exercise 2: Quantization and Signal-to-Noise Ratio\n",
    "\n",
    "From theory the **6dB / Bit rule of thumb** is well known for uniform quantization. It states that the signal-to-noise ratio increases by 6 dB for every additional bit that is spent to quantize the input data.\n",
    "Hence,\n",
    "\n",
    "\\begin{equation}\n",
    "\\text{SNR in dB} = 6 \\cdot B + \\gamma,\n",
    "\\end{equation}\n",
    "\n",
    "where $\\gamma$ is a offset value in dB that depends on the PDF of the signal to be quantized.\n",
    "Note that this rule of thumb assumes that the quantization error exhibits uniform PDF and is not correlated with the quantized signal.\n",
    "We can see that this rule of thumb is inaccurate when quantizing a sine signal with small number of bits or an amplitude in the range of the quantization step. Then, the mentioned assumptions are not fulfilled. We will observe this in exercise 3.\n",
    "\n",
    "We plot the function SNR of bits below for uniform, normal and Laplace PDF noises and a sine signal.\n",
    "We should observe the slope of always 6 dB per Bit.\n",
    "We should note the different absolute values of the SNR depending on the varying $\\gamma$. \n",
    "\n",
    "The `dBoffset` values are discussed in the lecture and in the textbook [Udo Zölzer, Digital Audio Signal Processing, Wiley](https://onlinelibrary.wiley.com/doi/book/10.1002/9780470680018)."
   ]
  },
  {
   "cell_type": "code",
   "execution_count": null,
   "metadata": {},
   "outputs": [],
   "source": [
    "def check_quant_SNR(x, dBoffset, title):\n",
    "    print('std: {0:f}, var: {1:f}, mean: {2:f} of x'.format(np.std(x), np.var(x), np.mean(x)))\n",
    "    Bmax = 24\n",
    "    SNR = np.zeros(Bmax+1)\n",
    "    SNR_ideal = np.zeros(Bmax+1)\n",
    "\n",
    "    for B in range(1, Bmax+1):  # start at 1, since zero Q is not meaningful\n",
    "        xq = my_quant(x, 2**B)\n",
    "        SNR[B] = 10*np.log10(np.var(x) / np.var(xq-x))\n",
    "        SNR_ideal[B] = B*20*np.log10(2) + dBoffset  # 6dB/bit + offset rule\n",
    "\n",
    "    plt.figure(figsize=(5, 5))\n",
    "    plt.plot(SNR_ideal, 'o-', label='theoretical', lw=3)\n",
    "    plt.plot(SNR, 'x-', label='simulation')\n",
    "    plt.xticks(np.arange(0, 26, 2))\n",
    "    plt.yticks(np.arange(0, 156, 12))\n",
    "    plt.xlim(2, 24)\n",
    "    plt.ylim(6, 148)\n",
    "    plt.xlabel('number of bits')\n",
    "    plt.ylabel('SNR / dB')\n",
    "    plt.title(title)\n",
    "    plt.legend()\n",
    "    plt.grid(True)\n",
    "    print('maximum achievable SNR = {0:4.1f} dB at 24 Bit (i.e. HD audio)'.format(SNR[-1]))    "
   ]
  },
  {
   "cell_type": "code",
   "execution_count": null,
   "metadata": {
    "run_control": {
     "marked": false
    }
   },
   "outputs": [],
   "source": [
    "N = 10000\n",
    "k = np.arange(N)"
   ]
  },
  {
   "cell_type": "code",
   "execution_count": null,
   "metadata": {
    "run_control": {
     "marked": false
    }
   },
   "outputs": [],
   "source": [
    "np.random.seed(4)\n",
    "x = np.random.rand(N)\n",
    "x -= np.mean(x)\n",
    "x *= np.sqrt(1/3) / np.std(x)\n",
    "dBoffset = 0\n",
    "check_quant_SNR(x, dBoffset, 'Uniform PDF')"
   ]
  },
  {
   "cell_type": "code",
   "execution_count": null,
   "metadata": {
    "run_control": {
     "marked": false
    }
   },
   "outputs": [],
   "source": [
    "Omega = 2*np.pi * 997/44100  # use a rather odd ratio: e.g. in audio 997 Hz / 44100 Hz\n",
    "sigma2 = 1/2\n",
    "dBoffset = -10*np.log10(2 / 3)\n",
    "x = np.sqrt(2*sigma2) * np.sin(Omega*k)\n",
    "check_quant_SNR(x, dBoffset, 'Sine')"
   ]
  },
  {
   "cell_type": "code",
   "execution_count": null,
   "metadata": {
    "run_control": {
     "marked": false
    }
   },
   "outputs": [],
   "source": [
    "np.random.seed(4)\n",
    "x = np.random.randn(N)\n",
    "x -= np.mean(x)\n",
    "x *= np.sqrt(0.0471) / np.std(x)\n",
    "dBoffset = -8.5  # from clipping propability 1e-5\n",
    "check_quant_SNR(x, dBoffset, 'Normal PDF')"
   ]
  },
  {
   "cell_type": "code",
   "execution_count": null,
   "metadata": {
    "run_control": {
     "marked": false
    }
   },
   "outputs": [],
   "source": [
    "np.random.seed(4)\n",
    "x = np.random.laplace(size=N)\n",
    "pClip = 1e-5  # clipping propability\n",
    "sigma = -np.sqrt(2) / np.log(pClip)\n",
    "x -= np.mean(x)\n",
    "x *= sigma / np.std(x)\n",
    "dBoffset = -13.5  # empircially found for pClip = 1e-5\n",
    "check_quant_SNR(x, dBoffset, 'Laplace PDF')"
   ]
  },
  {
   "cell_type": "markdown",
   "metadata": {},
   "source": [
    "# Exercise 3: Dithering"
   ]
  },
  {
   "cell_type": "markdown",
   "metadata": {},
   "source": [
    "The discrete-time sine signal\n",
    "\n",
    "- $x[k]=A \\cdot\\sin(\\frac{2\\pi f_\\text{sin}}{f_s}k)$ for\n",
    "- $0\\leq k<96000$ with\n",
    "- sampling frequency $f_s=48\\,\\text{kHz}$ and\n",
    "- $f_\\text{sin}=997\\,\\text{Hz}$\n",
    "\n",
    "shall be quantized with the saturated uniform midtread quantizer for $-1\\leq x_q \\leq 1-\\Delta Q$ using $B$ bits, i.e. $Q=2^B$ number of quantization steps and quantization step size of $\\Delta Q = \\frac{1}{Q\\backslash 2}$.\n",
    "\n",
    "We should discuss different parametrizations for signal amplitude $A$ and number of bits $B$."
   ]
  },
  {
   "cell_type": "markdown",
   "metadata": {},
   "source": [
    "Before quantizing $x[k]$, a dither noise signal $d[k]$ shall be added to $x[k]$ according figure below. \n",
    "\n",
    "<img src=\"Quantization_with_Dithering.png\" alt=\"Quantization_with_Dithering\" width=\"400\"/>\n",
    "\n",
    "This dither signal with small amplitudes aims at de-correlating the quantization error $e[k]$ from the quantized signal $x_q[k]$, which is especially important for small amplitudes of $x[k]$.\n",
    "This technique is called **dithering**.\n",
    "For $d[k]=0$ no dithering is applied.\n",
    "\n",
    "Since the quantization error may be in the range $-\\frac{\\Delta Q}{2}\\leq e[k]\\leq \\frac{\\Delta Q}{2}$ (assuming uniform distribution), it appears reasonable to use a dither noise with a probability density function (PDF) of\n",
    "\n",
    "\\begin{equation}\n",
    "p_\\text{RECT}(d)=\\frac{1}{\\Delta Q}\\,\\text{rect}\\left(\\frac{d}{\\Delta Q}\\right),\n",
    "\\end{equation}\n",
    "\n",
    "i.e. a **zero-mean, uniformly distributed noise** with maximum amplitude $|d[k]|=\\frac{\\Delta Q}{2}$.\n",
    "It can be shown that this dither noise improves the quality of the quantized signal.\n",
    "However, there is still a noise modulation (i.e. a too high correlation between $x_q[k]$ and $e[k]$) that depends on the amplitude of the input signal.\n",
    "\n",
    "The noise modulation can be almost completely eliminated with a **zero-mean noise** signal exhibiting a **symmetric triangular PDF**\n",
    "\n",
    "\\begin{equation}\n",
    "p_\\text{TRI}(d)=\\frac{1}{\\Delta Q}\\,\\text{tri}\\left(\\frac{d}{\\Delta Q}\\right)\n",
    "\\end{equation}\n",
    "\n",
    "with maximum amplitude $|d[k]|=Q$.\n",
    "By doing so, an almost ideal decorrelation between $x_q[k]$ and $e[k]$ is realized.\n",
    "In audio, this technique is called TPDF-Dithering (Triangular Probability Density Function Dithering) and can be applied in the mastering process of audio material that is to be distributed e.g. on a CD or via streaming."
   ]
  },
  {
   "cell_type": "markdown",
   "metadata": {},
   "source": [
    "## Task \n",
    "\n",
    "To get an impression on how dithering may be implemented and what quantized signals sound like, the following exercises shall be performed.\n",
    "\n",
    "- Generate the sine signal $x[k]$ defined above.\n",
    "\n",
    "- Generate the dither noise $d_\\text{RECT}[k]$ according to the PDF $p_\\text{RECT}(d)$. Check the resulting amplitude and distribution carefully. The length of $d_\\text{RECT}[k]$ and $x[k]$ must be equal.\n",
    "\n",
    "- Generate the dither noise $d_\\text{TRI}[k]$ according to the PDF $p_\\text{TRI}(d)$. Check the resulting amplitude and distribution carefully. The length of $d_\\text{TRI}[k]$ and $x[k]$ must be equal.\n",
    "\n",
    "- Add each dither noise $d_\\text{RECT}[k]$ and $d_\\text{TRI}[k]$ individually to $x[k]$. Together with the case of no dithering we now have three signals to be quantized.\n",
    "\n",
    "- Quantize these signals individually using `my_quant(x,Q)` with $Q$ quantization steps.\n",
    "\n",
    "- Plot the midtread characteristic curve.\n",
    "\n",
    "- Plot the histogram of the dither noises as estimate of its PDF.\n",
    "\n",
    "- Plot the histogram of the error noises as estimate of its PDF.\n",
    "\n",
    "- Plot the sine signal, the dithered signal, the quantized signal and the quantization error signal in one diagram for all three cases.\n",
    "\n",
    "- Calculate and plot the CCF of the signals $x_q[k]$ and $e[k]$ for all three cases.\n",
    "\n",
    "- Interpret the obtained graphics.\n",
    "\n",
    "- For each case, render WAV files from $x[k]$, $x[k]+d[k]$, $x_q[k]$ und $e[k]$ and listen to them. **Be careful! Do not harm your ears!** Pay special attention to the sound of the quantization error, how it is correlated with the quantized signal and how loud it appears.\n",
    "\n",
    "- Consider the 5 cases\n",
    "\n",
    "    1. $B=16$ Bit, $A=1-\\Delta Q$ \n",
    "    2. $B=16$ Bit, $A=\\Delta Q$\n",
    "    3. $B=3$ Bit, $A=1-\\Delta Q$ \n",
    "    4. $B=3$ Bit, $A=\\Delta Q$\n",
    "    5. $B=3$ Bit, $A=\\frac{\\Delta Q}{2}$\n",
    "\n",
    "In the last case the signal has amplitude even below the quantization step size $\\Delta Q$. You might verify by listening that the sine is still perceivable if dithering is applied, but not if no dithering is applied.\n",
    "\n",
    "**Again: Be careful! Do not harm your ears!**\n",
    "The signal amplitude $A$ and chosen $B$ is directly related to the playback level!\n",
    "\n",
    "**Warning again: start with very very low playback level, find the loudest signal first and then increase volume to your convenience**"
   ]
  },
  {
   "cell_type": "markdown",
   "metadata": {},
   "source": [
    "## Solution\n",
    "\n",
    "The task asks for repeated steps.\n",
    "This is perfectly handled by a little function that solves the repeating subtasks."
   ]
  },
  {
   "cell_type": "code",
   "execution_count": null,
   "metadata": {},
   "outputs": [],
   "source": [
    "fs = 48000\n",
    "N = 2*fs\n",
    "k = np.arange(0, N)\n",
    "fsin = 997"
   ]
  },
  {
   "cell_type": "code",
   "execution_count": null,
   "metadata": {},
   "outputs": [],
   "source": [
    "def check_dithering(x, dither, Q, case):\n",
    "\n",
    "    deltaQ = 1 / (Q//2)  # general rule\n",
    "\n",
    "    # dither noise\n",
    "    pdf_dither, edges_dither = np.histogram(dither, bins='auto', density=True)\n",
    "    xd = x + dither\n",
    "\n",
    "    # quantization\n",
    "    xq = my_quant(xd, Q)\n",
    "    e = xq-x\n",
    "    pdf_error, edges_error = np.histogram(e, bins='auto', density=True)\n",
    "\n",
    "    # write wavs\n",
    "    sf.write(file='x_'+case+'.wav', data=x,\n",
    "             samplerate=48000, subtype='PCM_24')\n",
    "    sf.write(file='xd_'+case+'.wav', data=xd,\n",
    "             samplerate=48000, subtype='PCM_24')\n",
    "    sf.write(file='xq_'+case+'.wav', data=xq,\n",
    "             samplerate=48000, subtype='PCM_24')\n",
    "    sf.write(file='e_'+case+'.wav', data=e,\n",
    "             samplerate=48000, subtype='PCM_24')\n",
    "\n",
    "    # CCF\n",
    "    kappa, ccf = my_xcorr2(xq, e, scaleopt='biased')\n",
    "\n",
    "    plt.figure(figsize=(12, 3))\n",
    "    if case == 'nodither':\n",
    "        plt.subplot(1, 2, 1)\n",
    "        # nothing to plot for the zero signal\n",
    "        # the PDF would be a weighted Dirac at amplitude zero\n",
    "    else:\n",
    "        # plot dither noise PDF estimate as histogram\n",
    "        plt.subplot(1, 2, 1)\n",
    "        plt.plot(edges_dither[:-1], pdf_dither, 'o-', ms=5)\n",
    "        plt.ylim(-0.1, np.max(pdf_dither)*1.1)\n",
    "        plt.grid(True)\n",
    "        plt.xlabel(r'$\\theta$')\n",
    "        plt.ylabel(r'$\\hat{p}(\\theta)$')\n",
    "        plt.title('PDF estimate of dither noise')\n",
    "\n",
    "    # plot error noise PDF estimate as histogram\n",
    "    plt.subplot(1, 2, 2)\n",
    "    plt.plot(edges_error[:-1], pdf_error, 'o-', ms=5)\n",
    "    plt.ylim(-0.1, np.max(pdf_error)*1.1)\n",
    "    plt.grid(True)\n",
    "    plt.xlabel(r'$\\theta$')\n",
    "    plt.ylabel(r'$\\hat{p}(\\theta)$')\n",
    "    plt.title('PDF estimate of error noise')\n",
    "\n",
    "    # plot signals\n",
    "    plt.figure(figsize=(12, 3))\n",
    "    plt.subplot(1, 2, 1)\n",
    "    plt.plot(k, x, color='C2', label=r'$x[k]$')\n",
    "    plt.plot(k, xd,  color='C1', label=r'$x_d[k] = x[k] + dither[k]$')\n",
    "    plt.plot(k, xq,  color='C3', label=r'$x_q[k]$')\n",
    "    plt.plot(k, e,  color='C0', label=r'$e[k] = x_q[k] - x[k]$')\n",
    "    plt.plot(k, k*0+deltaQ, ':k', label=r'$\\Delta Q$')\n",
    "    plt.xlabel('k')\n",
    "    plt.title('signals')\n",
    "    plt.xticks(np.arange(0, 175, 25))\n",
    "    plt.xlim(0, 150)\n",
    "    plt.legend(loc='lower left')\n",
    "    plt.grid(True)\n",
    "\n",
    "    # plot CCF\n",
    "    plt.subplot(1, 2, 2)\n",
    "    plt.plot(kappa, ccf)\n",
    "    plt.xlabel(r'$\\kappa$')\n",
    "    plt.ylabel(r'$\\varphi_{xq,e}[\\kappa]$')\n",
    "    plt.title('CCF betwen xq and e=xq-x')\n",
    "    plt.xticks(np.arange(-100, 125, 25))\n",
    "    plt.xlim(-100, 100)\n",
    "    plt.grid(True)"
   ]
  },
  {
   "cell_type": "markdown",
   "metadata": {},
   "source": [
    "Chose one of the 5 cases and evaluate no dither, uniform PDF dither and triangular PDF dither noises below.  "
   ]
  },
  {
   "cell_type": "code",
   "execution_count": null,
   "metadata": {},
   "outputs": [],
   "source": [
    "# case 1\n",
    "B = 16  # Bit\n",
    "Q = 2**B  # number of quantization steps\n",
    "deltaQ = 1 / (Q//2)  # quantization step size\n",
    "x = (1-deltaQ) * np.sin(2*np.pi*fsin/fs*k)  # largest positive amplitude"
   ]
  },
  {
   "cell_type": "code",
   "execution_count": null,
   "metadata": {},
   "outputs": [],
   "source": [
    "# case 2\n",
    "B = 16\n",
    "Q = 2**B\n",
    "deltaQ = 1 / (Q//2)\n",
    "x = deltaQ * np.sin(2*np.pi*fsin/fs*k)  # smallest amplitude"
   ]
  },
  {
   "cell_type": "code",
   "execution_count": null,
   "metadata": {},
   "outputs": [],
   "source": [
    "# case 3\n",
    "B = 3\n",
    "Q = 2**B\n",
    "deltaQ = 1 / (Q//2)\n",
    "x = (1-deltaQ) * np.sin(2*np.pi*fsin/fs*k)"
   ]
  },
  {
   "cell_type": "code",
   "execution_count": null,
   "metadata": {},
   "outputs": [],
   "source": [
    "# case 4  this is the default case when running the whole notebook\n",
    "B = 3\n",
    "Q = 2**B\n",
    "deltaQ = 1 / (Q//2)\n",
    "x = deltaQ * np.sin(2*np.pi*fsin/fs*k)"
   ]
  },
  {
   "cell_type": "code",
   "execution_count": null,
   "metadata": {},
   "outputs": [],
   "source": [
    "# case 5\n",
    "if False:\n",
    "    B = 3\n",
    "    Q = 2**B\n",
    "    deltaQ = 1 / (Q//2)\n",
    "    # amplitude below quantization step!\n",
    "    x = deltaQ/2 * np.sin(2*np.pi*fsin/fs*k)"
   ]
  },
  {
   "cell_type": "code",
   "execution_count": null,
   "metadata": {},
   "outputs": [],
   "source": [
    "plt.figure(figsize=(4, 4))\n",
    "check_my_quant(Q)"
   ]
  },
  {
   "cell_type": "markdown",
   "metadata": {},
   "source": [
    "### No Dither Noise"
   ]
  },
  {
   "cell_type": "code",
   "execution_count": null,
   "metadata": {
    "run_control": {
     "marked": false
    }
   },
   "outputs": [],
   "source": [
    "# no dither\n",
    "check_dithering(x=x, dither=x*0, Q=Q, case='nodither')"
   ]
  },
  {
   "cell_type": "markdown",
   "metadata": {},
   "source": [
    "**Be very careful! Do not harm your ears!**\n",
    "\n",
    "| Signal            | Audio Player  |\n",
    "| ----------------- | :------------ |\n",
    "| $x[k]$            | <audio type=\"audio/wave\" src=\"x_nodither.wav\" controls></audio> |\n",
    "| $x_q[k]$          | <audio type=\"audio/wave\" src=\"xq_nodither.wav\" controls></audio> |\n",
    "| $e[k]$            | <audio type=\"audio/wave\" src=\"e_nodither.wav\" controls></audio> |"
   ]
  },
  {
   "cell_type": "markdown",
   "metadata": {},
   "source": [
    "### Uniform PDF Dither Noise"
   ]
  },
  {
   "cell_type": "code",
   "execution_count": null,
   "metadata": {
    "run_control": {
     "marked": false
    }
   },
   "outputs": [],
   "source": [
    "# uniform dither with max amplitude of deltaQ/2\n",
    "np.random.seed(1)\n",
    "dither_uni = (np.random.rand(N) - 0.5) * 2 * deltaQ/2\n",
    "\n",
    "check_dithering(x=x, dither=dither_uni, Q=Q, case='unidither')"
   ]
  },
  {
   "cell_type": "markdown",
   "metadata": {},
   "source": [
    "**Be very careful! Do not harm your ears!**\n",
    "\n",
    "| Signal            | Audio Player  |\n",
    "| ----------------- | :------------ |\n",
    "| $x[k]$            | <audio type=\"audio/wave\" src=\"x_unidither.wav\" controls></audio> |\n",
    "| $x_d[k]$          | <audio type=\"audio/wave\" src=\"xd_unidither.wav\" controls></audio> |\n",
    "| $x_q[k]$          | <audio type=\"audio/wave\" src=\"xq_unidither.wav\" controls></audio> |\n",
    "| $e[k]$            | <audio type=\"audio/wave\" src=\"e_unidither.wav\" controls></audio> |"
   ]
  },
  {
   "cell_type": "markdown",
   "metadata": {},
   "source": [
    "### Triangular PDF Dither Noise"
   ]
  },
  {
   "cell_type": "code",
   "execution_count": null,
   "metadata": {},
   "outputs": [],
   "source": [
    "np.random.seed(1)\n",
    "# uniform PDF for amplitudes -1...+1:\n",
    "dither_uni1 = (np.random.rand(N) - 0.5) * 2\n",
    "dither_uni2 = (np.random.rand(N) - 0.5) * 2\n",
    "# triangular PDF with max amplitude of deltaQ\n",
    "dither_tri = (dither_uni1 + dither_uni2) * deltaQ/2\n",
    "\n",
    "check_dithering(x=x, dither=dither_tri, Q=Q, case='tridither')"
   ]
  },
  {
   "cell_type": "markdown",
   "metadata": {},
   "source": [
    "**Be very careful! Do not harm your ears!**\n",
    "\n",
    "| Signal            | Audio Player  |\n",
    "| ----------------- | :------------ |\n",
    "| $x[k]$            | <audio type=\"audio/wave\" src=\"x_tridither.wav\" controls></audio> |\n",
    "| $x_d[k]$          | <audio type=\"audio/wave\" src=\"xd_tridither.wav\" controls></audio> |\n",
    "| $x_q[k]$          | <audio type=\"audio/wave\" src=\"xq_tridither.wav\" controls></audio> |\n",
    "| $e[k]$            | <audio type=\"audio/wave\" src=\"e_tridither.wav\" controls></audio> |"
   ]
  },
  {
   "cell_type": "markdown",
   "metadata": {},
   "source": [
    "# **Copyright**\n",
    "\n",
    "The notebooks are provided as [Open Educational Resources](https://en.wikipedia.org/wiki/Open_educational_resources). Feel free to use the notebooks for your own purposes. The text is licensed under [Creative Commons Attribution 4.0](https://creativecommons.org/licenses/by/4.0/), the code of the IPython examples under the [MIT license](https://opensource.org/licenses/MIT). Please attribute the work as follows: *Frank Schultz, Digital Signal Processing - A Tutorial Featuring Computational Examples* with the URL https://github.com/spatialaudio/digital-signal-processing-exercises"
   ]
  }
 ],
 "metadata": {
  "kernelspec": {
   "display_name": "Python 3 (ipykernel)",
   "language": "python",
   "name": "python3"
  },
  "language_info": {
   "codemirror_mode": {
    "name": "ipython",
    "version": 3
   },
   "file_extension": ".py",
   "mimetype": "text/x-python",
   "name": "python",
   "nbconvert_exporter": "python",
   "pygments_lexer": "ipython3",
   "version": "3.10.12"
  }
 },
 "nbformat": 4,
 "nbformat_minor": 4
}
