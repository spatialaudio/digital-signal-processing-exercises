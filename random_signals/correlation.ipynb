{
 "cells": [
  {
   "cell_type": "markdown",
   "metadata": {},
   "source": [
    "Sascha Spors,\n",
    "Professorship Signal Theory and Digital Signal Processing,\n",
    "Institute of Communications Engineering (INT),\n",
    "Faculty of Computer Science and Electrical Engineering (IEF),\n",
    "University of Rostock, Germany\n",
    "\n",
    "# Tutorial Digital Signal Processing\n",
    "\n",
    "**Correlation**,\n",
    "Winter Semester 2023/24 (Course #24505)\n",
    "\n",
    "- lecture: https://github.com/spatialaudio/digital-signal-processing-lecture\n",
    "- tutorial: https://github.com/spatialaudio/digital-signal-processing-exercises\n",
    "\n",
    "Feel free to contact lecturer jacob.thoenes@uni-rostock.de\n",
    "\n",
    "WIP..."
   ]
  },
  {
   "cell_type": "code",
   "execution_count": null,
   "metadata": {},
   "outputs": [],
   "source": [
    "# most common used packages for DSP, have a look into other scipy submodules\n",
    "import numpy as np\n",
    "import matplotlib as mpl\n",
    "import matplotlib.pyplot as plt\n",
    "from scipy import signal\n",
    "\n",
    "\n",
    "def my_xcorr2(x, y, scaleopt='none'):\n",
    "    N = len(x)\n",
    "    M = len(y)\n",
    "    kappa = np.arange(0, N+M-1) - (M-1)\n",
    "    ccf = signal.correlate(x, y, mode='full', method='auto')\n",
    "    if N == M:\n",
    "        if scaleopt == 'none' or scaleopt == 'raw':\n",
    "            ccf /= 1\n",
    "        elif scaleopt == 'biased' or scaleopt == 'bias':\n",
    "            ccf /= N\n",
    "        elif scaleopt == 'unbiased' or scaleopt == 'unbias':\n",
    "            ccf /= (N - np.abs(kappa))\n",
    "        elif scaleopt == 'coeff' or scaleopt == 'normalized':\n",
    "            ccf /= np.sqrt(np.sum(x**2) * np.sum(y**2))\n",
    "        else:\n",
    "            print('scaleopt unknown: we leave output unnormalized')\n",
    "    return kappa, ccf"
   ]
  },
  {
   "cell_type": "code",
   "execution_count": null,
   "metadata": {},
   "outputs": [],
   "source": [
    "if True:  # test my_xcorr with simple example\n",
    "    x = np.array([0, 1, 0, 0, 0])\n",
    "    y = np.array([1, 0, 0])\n",
    "    # plot my_xcorr2(x, y) vs. my_xcorr2(y, x)\n",
    "    plt.figure(figsize=(9, 2))\n",
    "    plt.subplot(1, 2, 1)\n",
    "    kappa_xy, ccf_xy = my_xcorr2(x, y)  \n",
    "    plt.stem(kappa_xy, ccf_xy, basefmt='C0:', use_line_collection=True)\n",
    "    plt.xlabel(r'$\\kappa$')\n",
    "    plt.ylabel(r'$\\varphi_{xy}[\\kappa]$')\n",
    "    plt.title('cross correlation between x and y')\n",
    "    plt.grid(True)\n",
    "    plt.subplot(1, 2, 2)\n",
    "    kappa_yx, ccf_yx = my_xcorr2(y, x)\n",
    "    plt.stem(kappa_yx, ccf_yx, basefmt='C0:', use_line_collection=True)\n",
    "    plt.xlabel(r'$\\kappa$')\n",
    "    plt.ylabel(r'$\\varphi_{yx}[\\kappa]$')\n",
    "    plt.title('cross correlation between y and x')\n",
    "    plt.grid(True)"
   ]
  },
  {
   "cell_type": "markdown",
   "metadata": {},
   "source": [
    "## Normalization schemes for cross correlation of finite length signals\n",
    "\n",
    "check cross correlation\n",
    "- of a cosine and a sine signal\n",
    "- of a normal pdf process that exhibits some repetition"
   ]
  },
  {
   "cell_type": "code",
   "execution_count": null,
   "metadata": {
    "run_control": {
     "marked": false
    }
   },
   "outputs": [],
   "source": [
    "case_str = 'cos_sin'\n",
    "case_str = 'normal_pdf'\n",
    "\n",
    "if case_str == 'cos_sin':\n",
    "    Nt = 200  # number of samples for a full period \n",
    "    x = np.cos(2*np.pi/Nt * 1 * np.arange(0, Nt)) * 2\n",
    "    y = np.sin(2*np.pi/Nt * 1 * np.arange(0, Nt)) * 2\n",
    "elif case_str == 'normal_pdf':\n",
    "    Nt = 20000\n",
    "    loc, scale = 2, np.sqrt(2)  # mu, sigma\n",
    "    x = scale * np.random.randn(Nt) + loc\n",
    "    y = np.roll(x,-7500)  # process similarity for offset of 7500 samples\n",
    "\n",
    "plt.figure(figsize=(8,6))\n",
    "plt.subplot(2,2,1)\n",
    "kappa, ccf = my_xcorr2(x, y, scaleopt='none')\n",
    "plt.plot(kappa, ccf)\n",
    "plt.ylabel(r'$\\varphi_{xy}[\\kappa]$')\n",
    "plt.title('raw CCF(x,y)')\n",
    "plt.grid(True)\n",
    "\n",
    "plt.subplot(2,2,2)\n",
    "kappa, ccf = my_xcorr2(x, y, scaleopt='biased')\n",
    "plt.plot(kappa, ccf)\n",
    "plt.title('biased CCF(x,y)')\n",
    "plt.grid(True)\n",
    "\n",
    "plt.subplot(2,2,3)\n",
    "kappa, ccf = my_xcorr2(x, y, scaleopt='unbiased')\n",
    "plt.plot(kappa, ccf)\n",
    "plt.xlabel(r'$\\kappa$')\n",
    "plt.ylabel(r'$\\varphi_{xy}[\\kappa]$')\n",
    "plt.title('unbiased CCF(x,y)')\n",
    "plt.grid(True)\n",
    "\n",
    "plt.subplot(2,2,4)\n",
    "kappa, ccf = my_xcorr2(x, y, scaleopt='coeff')\n",
    "plt.plot(kappa, ccf)\n",
    "plt.xlabel(r'$\\kappa$')\n",
    "plt.title('normalized CCF(x,y)')\n",
    "plt.grid(True)\n",
    "\n",
    "# check that the unbiased estimate of the CCF represents the theoretical\n",
    "# result best in comparison to the other normalization schemes, at least\n",
    "# for the chosen examples"
   ]
  },
  {
   "cell_type": "markdown",
   "metadata": {},
   "source": [
    "# **Copyright**\n",
    "\n",
    "The notebooks are provided as [Open Educational Resources](https://en.wikipedia.org/wiki/Open_educational_resources). Feel free to use the notebooks for your own purposes. The text is licensed under [Creative Commons Attribution 4.0](https://creativecommons.org/licenses/by/4.0/), the code of the IPython examples under the [MIT license](https://opensource.org/licenses/MIT). Please attribute the work as follows: *Frank Schultz, Digital Signal Processing - A Tutorial Featuring Computational Examples* with the URL https://github.com/spatialaudio/digital-signal-processing-exercises"
   ]
  }
 ],
 "metadata": {
  "kernelspec": {
   "display_name": "Python 3 (ipykernel)",
   "language": "python",
   "name": "python3"
  },
  "language_info": {
   "codemirror_mode": {
    "name": "ipython",
    "version": 3
   },
   "file_extension": ".py",
   "mimetype": "text/x-python",
   "name": "python",
   "nbconvert_exporter": "python",
   "pygments_lexer": "ipython3",
   "version": "3.10.12"
  }
 },
 "nbformat": 4,
 "nbformat_minor": 4
}
