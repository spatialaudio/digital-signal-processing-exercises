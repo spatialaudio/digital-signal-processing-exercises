{
 "cells": [
  {
   "cell_type": "markdown",
   "metadata": {},
   "source": [
    "Sascha Spors,\n",
    "Professorship Signal Theory and Digital Signal Processing,\n",
    "Institute of Communications Engineering (INT),\n",
    "Faculty of Computer Science and Electrical Engineering (IEF),\n",
    "University of Rostock,\n",
    "Germany\n",
    "\n",
    "# Tutorial Digital Signal Processing\n",
    "\n",
    "**Jupyter Notebook / `scipy` / `numpy` / `matplotlib` Basics for DSP**,\n",
    "Winter Semester 2023/24 (Course #24505)\n",
    "\n",
    "- lecture: https://github.com/spatialaudio/digital-signal-processing-lecture\n",
    "- tutorial: https://github.com/spatialaudio/digital-signal-processing-exercises\n",
    "\n",
    "Feel free to contact lecturer jacob.thoenes@uni-rostock.de"
   ]
  },
  {
   "cell_type": "markdown",
   "metadata": {},
   "source": [
    "You might find the following resources useful\n",
    "\n",
    "- Python tutorial\n",
    "https://nbviewer.jupyter.org/github/mgeier/python-audio/blob/master/intro-python.ipynb\n",
    "\n",
    "- Python / Jupyter Notebook tutorial\n",
    "https://nbviewer.jupyter.org/github/spatialaudio/selected-topics-in-audio-signal-processing-exercises/blob/master/intro.ipynb"
   ]
  },
  {
   "cell_type": "markdown",
   "metadata": {},
   "source": [
    "**Anaconda Environment**\n",
    "\n",
    "The [Anaconda distribution](https://www.anaconda.com/distribution/) is a convenient solution to install a required environment, i.e. to have access to the Jupyter Notebook renderer with a Python interpreter on a personal computer. It is very likely that a very recent installation of Anaconda already delivers all required packages just using the `base` environment. It is however good practice to create a dedicated environment for each project. So, for this tutorial we might use a `mydsp` (or whatever name works for us) environment.\n",
    "\n",
    "- get into the folder where the exercises are located, e.g. `cd my_dsp_folder`\n",
    "- in the subfolder `.binder` the `environment.yml` can be used to create a dedicated conda `mydsp` environment as\n",
    "    - `conda env create -f environment.yml --force`\n",
    "    - we can remove this environment with `conda env remove --name mydsp`\n",
    "- this should also have installed audio related libraries using pip\n",
    "    - `pip install soundfile==0.10.3.post1`\n",
    "    - we might check this with `pip list`\n",
    "- activate this environment with `conda activate mydsp`\n",
    "- Jupyter notebook renderer needs to know our dedicated environment:\n",
    "`python -m ipykernel install --user --name mydsp --display-name \"mydsp\"`\n",
    "- we might want to archive the actually installed package versions by\n",
    "    - `python -m pip list > detailed_packages_list_pip.txt` and\n",
    "    - `conda env export --no-builds > detailed_packages_list_conda.txt`\n",
    "- start either a Jupyter notebook or Jupyter lab working environment via a local server instance by either `jupyter notebook` or `jupyter lab`\n",
    "- start the landing page `index.ipynb` of the tutorial\n",
    "- make sure that the notebooks we want to work with are using our dedicated kernel `mydsp`\n",
    "- have fun with the playgrounds and start programming stuff by yourself"
   ]
  },
  {
   "cell_type": "code",
   "execution_count": null,
   "metadata": {},
   "outputs": [],
   "source": [
    "# most common used packages for DSP, have a look into other scipy submodules,\n",
    "# such as fft, signal\n",
    "import matplotlib as mpl\n",
    "import numpy as np\n",
    "\n",
    "from matplotlib import pyplot as plt\n",
    "# from numpy import fft  # use either numpy fft or\n",
    "from scipy import fft  # scipy fft\n",
    "from scipy import signal"
   ]
  },
  {
   "cell_type": "markdown",
   "metadata": {},
   "source": [
    "# Matrix vs. Numpy Packages\n",
    "\n",
    "The `np.matrix` package is (was) meant for linear algebra on matrices, which by\n",
    "definition are of dimension m rows $\\times$ n columns, i.e. 2D.\n",
    "So this might be what you're looking for when dealing with linear algebra.\n",
    "**However**, the community does not recommend to use this package anymore and\n",
    "it might be even removed in future."
   ]
  },
  {
   "cell_type": "code",
   "execution_count": null,
   "metadata": {},
   "outputs": [],
   "source": [
    "# 4x1 matrix as numpy.matrix object\n",
    "A = np.matrix([[1], [2], [3], [4]])\n",
    "print('A.shape = ', A.shape)\n",
    "print('A = \\n', A, '(a column vector)')\n",
    "print('A.T.shape = ', A.T.shape)\n",
    "print('A.T = \\n', A.T, '(a row vector)')"
   ]
  },
  {
   "cell_type": "markdown",
   "metadata": {},
   "source": [
    "Rather, use `np.numpy` arrays, which are then not restricted to $n \\times m$\n",
    "dimensions."
   ]
  },
  {
   "cell_type": "code",
   "execution_count": null,
   "metadata": {},
   "outputs": [],
   "source": [
    "# 4x1 matrix as numpy.array object\n",
    "A = np.array([1, 2, 3, 4])[:, np.newaxis]  # also check np.expand_dims\n",
    "print('A.shape = ', A.shape)\n",
    "print('A = \\n', A, '(a column vector)')\n",
    "print('A.T.shape = ', A.T.shape)\n",
    "print('A.T = \\n', A.T, '(a row vector)')"
   ]
  },
  {
   "cell_type": "markdown",
   "metadata": {},
   "source": [
    "There is one concept with numpy arrays that might lead to initial confusion, which\n",
    "is however a nice and powerful feature: this is the so called **array of rank 1**"
   ]
  },
  {
   "cell_type": "code",
   "execution_count": null,
   "metadata": {},
   "outputs": [],
   "source": [
    "# set up rank-1 numpy.array\n",
    "A = np.array([1, 2, 3, 4])\n",
    "print('A.shape = ', A.shape)\n",
    "print('A = ', A)\n",
    "print('A.T = ', A.T)"
   ]
  },
  {
   "cell_type": "markdown",
   "metadata": {},
   "source": [
    "Note here, that the shape is not (4,1) as above but rather (4,), this array has one axis. Note that transpose is doing nothing for arrays of rank 1. So this representation differs from the concepts of a column vector $(m \\times 1)$ and a row vector $(1 \\times n)$, which by means of linear algebra and the matrix idea have two axis, since they are very special matrices.\n",
    "\n",
    "So, if we really need a *classic* column or row vector, we need to tell this numpy explicitly.\n",
    "We have done this with the command `np.newaxis` in the above example.\n",
    "Especially, having strong experience with Matlab and starting with the concept of rank-1 vs. rank-2 arrays might produce initial headache. However, the concept is very powerful, so we should get used to it.\n",
    "\n",
    "Check https://numpy.org/devdocs/user/numpy-for-matlab-users.html for Matlab vs. numpy\n",
    "\n",
    "There are some examples given, how to handle some simple cases.  "
   ]
  },
  {
   "cell_type": "markdown",
   "metadata": {},
   "source": [
    "# Matrix as Numpy Array"
   ]
  },
  {
   "cell_type": "code",
   "execution_count": null,
   "metadata": {},
   "outputs": [],
   "source": [
    "# either\n",
    "A = np.array([[11, 12, 13],\n",
    "              [21, 22, 23],\n",
    "              [31, 32, 33],\n",
    "              [41, 42, 43]])  # shape: (4, 3)"
   ]
  },
  {
   "cell_type": "code",
   "execution_count": null,
   "metadata": {},
   "outputs": [],
   "source": [
    "# or\n",
    "if True:\n",
    "    A = np.array([[11, 12, 13, 14],\n",
    "                  [21, 22, 23, 24],\n",
    "                  [31, 32, 33, 34],\n",
    "                  [41, 42, 43, 44]])  # shape (4, 4)"
   ]
  },
  {
   "cell_type": "code",
   "execution_count": null,
   "metadata": {},
   "outputs": [],
   "source": [
    "print(A)\n",
    "print(A.shape)"
   ]
  },
  {
   "cell_type": "code",
   "execution_count": null,
   "metadata": {},
   "outputs": [],
   "source": [
    "B = A.T  # transpose\n",
    "print(B)\n",
    "print(B.shape)"
   ]
  },
  {
   "cell_type": "markdown",
   "metadata": {},
   "source": [
    "# Row / Column Vector vs. Rank-1 Array "
   ]
  },
  {
   "cell_type": "code",
   "execution_count": null,
   "metadata": {},
   "outputs": [],
   "source": [
    "print(A[:, 0])  # this is actually the first column of the matrix returned as\n",
    "print(A[:, 0].shape)  # rank-1 array"
   ]
  },
  {
   "cell_type": "code",
   "execution_count": null,
   "metadata": {},
   "outputs": [],
   "source": [
    "print(A[1, :])  # this is actually the second row returned as\n",
    "print(A[1, :].shape)  # rank-1 array"
   ]
  },
  {
   "cell_type": "markdown",
   "metadata": {},
   "source": [
    "If we need column and row vectors explicitly, we might use either `expand_dims`"
   ]
  },
  {
   "cell_type": "code",
   "execution_count": null,
   "metadata": {},
   "outputs": [],
   "source": [
    "c = np.expand_dims(A[:, 0], axis=1)\n",
    "print('1st col\\n', c, '\\ncol shape', c.shape)"
   ]
  },
  {
   "cell_type": "code",
   "execution_count": null,
   "metadata": {},
   "outputs": [],
   "source": [
    "r = np.expand_dims(A[1, :], axis=0)\n",
    "print('2nd row\\n', r, '\\nrow shape', r.shape)"
   ]
  },
  {
   "cell_type": "markdown",
   "metadata": {},
   "source": [
    "or the already used `newaxis`"
   ]
  },
  {
   "cell_type": "code",
   "execution_count": null,
   "metadata": {},
   "outputs": [],
   "source": [
    "c = A[:, 0][:, np.newaxis]\n",
    "print('1st col\\n', c, '\\ncol shape', c.shape)"
   ]
  },
  {
   "cell_type": "code",
   "execution_count": null,
   "metadata": {},
   "outputs": [],
   "source": [
    "r = A[1, :][np.newaxis, :]\n",
    "print('2nd row\\n', r, '\\nrow shape', r.shape)"
   ]
  },
  {
   "cell_type": "markdown",
   "metadata": {},
   "source": [
    "# Inner / Outer Product\n",
    "\n",
    "Once we get used to rank-1 arrays, we can do nice coding on (what we actually interpret as) vectors (and later\n",
    "of course on matrices and tensors).\n",
    "\n",
    "Consider the following matrix A"
   ]
  },
  {
   "cell_type": "code",
   "execution_count": null,
   "metadata": {},
   "outputs": [],
   "source": [
    "# for (4,3)-matrix\n",
    "A = np.array([[11, 12, 13],\n",
    "              [21, 22, 23],\n",
    "              [31, 32, 33],\n",
    "              [41, 42, 43]])\n",
    "print(A)\n",
    "c1 = A[:, 0]  # actually 1st col, however a rank-1 array\n",
    "c2 = A[:, 1]  # actually 2nd col, however a rank-1 array\n",
    "r2 = A[1, :]  # actually 2nd row, however a rank-1 array\n",
    "r3 = A[2, :]  # actually 2nd row, however a rank-1 array"
   ]
  },
  {
   "cell_type": "markdown",
   "metadata": {},
   "source": [
    "Now, we calculate inner and outer products on the rank-1 arrays "
   ]
  },
  {
   "cell_type": "code",
   "execution_count": null,
   "metadata": {},
   "outputs": [],
   "source": [
    "print(np.outer(c1, r2))  # outer product is producing a matrix\n",
    "print(np.outer(r2, c1))\n",
    "print(np.inner(c1, c2))  # inner product yields a scalar, i.e. a single value\n",
    "print(np.inner(r2, r3))"
   ]
  },
  {
   "cell_type": "markdown",
   "metadata": {},
   "source": [
    "A 4x4 matrix even allows more combinations for inner products. Let's see"
   ]
  },
  {
   "cell_type": "code",
   "execution_count": null,
   "metadata": {},
   "outputs": [],
   "source": [
    "A = np.array([[11, 12, 13, 14],\n",
    "              [21, 22, 23, 24],\n",
    "              [31, 32, 33, 34],\n",
    "              [41, 42, 43, 44]])\n",
    "print(A)\n",
    "c1 = A[:, 0]  # 1st col\n",
    "c2 = A[:, 1]  # 2nd col\n",
    "r2 = A[1, :]  # 2nd row\n",
    "r3 = A[2, :]  # 2nd row"
   ]
  },
  {
   "cell_type": "code",
   "execution_count": null,
   "metadata": {},
   "outputs": [],
   "source": [
    "print(np.outer(c1, r2))\n",
    "print(np.outer(r2, c1))\n",
    "print(np.inner(c1, c2))\n",
    "print(np.inner(r2, r3))\n",
    "# and since dimension is ok further inner products:\n",
    "print(np.inner(c1, r2))\n",
    "print(np.inner(c1, r3))\n",
    "print(np.inner(c2, r2))\n",
    "print(np.inner(c2, r3))"
   ]
  },
  {
   "cell_type": "markdown",
   "metadata": {},
   "source": [
    "The elegant part of the story is, that we directly see what the code shall do with the data. In other words, we know that the result's dimension is actually a scalar (`inner`) or a matrix (`outer`). We don't need to check the actual data to tell this. Just, compare this with typical Matlab code lines `a.' * b` or `a * b.'`. Here, we better should know the data dimensions to get an idea what the code is intended to do. This is only one advantage of numpy's array concept. "
   ]
  },
  {
   "cell_type": "markdown",
   "metadata": {},
   "source": [
    "Recall that an outer product of two vectors yields a matrix of matrix rank 1."
   ]
  },
  {
   "cell_type": "markdown",
   "metadata": {},
   "source": [
    "# Numpy Broadcasting\n",
    "\n",
    "Another very powerful concept is so called broadcasting. There is good material on that, so please start here\n",
    "\n",
    "- https://numpy.org/doc/stable/user/basics.broadcasting.html\n",
    "\n",
    "and find many other stuff until familiarized with it.\n",
    "\n",
    "Elegant data processing is based on heavy usage of broadcasting."
   ]
  },
  {
   "cell_type": "markdown",
   "metadata": {},
   "source": [
    "# Matrix Multiplications X = C D\n",
    "\n",
    "cf. Gilbert Strang, https://ocw.mit.edu/courses/mathematics/18-06-linear-algebra-spring-2010/, lecture 3"
   ]
  },
  {
   "cell_type": "code",
   "execution_count": null,
   "metadata": {},
   "outputs": [],
   "source": [
    "C = np.array([[1, 2, 3],\n",
    "              [4, 5, 6]])  # 2D (2, 3)\n",
    "D = np.array([[7, 8],\n",
    "              [9, 0],\n",
    "              [1, 2]])  # 2D (3, 2)\n",
    "# matrix multiplication C D is 2D (2, 2)\n",
    "print('C = \\n', C)\n",
    "print('D = \\n', D)"
   ]
  },
  {
   "cell_type": "code",
   "execution_count": null,
   "metadata": {},
   "outputs": [],
   "source": [
    "X = np.matmul(C, D)\n",
    "print(X)"
   ]
  },
  {
   "cell_type": "code",
   "execution_count": null,
   "metadata": {},
   "outputs": [],
   "source": [
    "X = C @ D  # nice to have this operator that conveniently indicates\n",
    "# that we operate on matrices, vectors or thinking in numpy: on np.arrays\n",
    "print(X)"
   ]
  },
  {
   "cell_type": "markdown",
   "metadata": {},
   "source": [
    "**but not**"
   ]
  },
  {
   "cell_type": "code",
   "execution_count": null,
   "metadata": {},
   "outputs": [],
   "source": [
    "if False:\n",
    "    C * D\n",
    "# using this operator overloading as Matlab does, is not working here,\n",
    "# since numpy actually tries to broadcast but cannot, since the\n",
    "# dimensions for broadcasting do not match"
   ]
  },
  {
   "cell_type": "markdown",
   "metadata": {},
   "source": [
    "## 1st Way: row x columns (inner product) to get values at individual indices\n",
    "\n",
    "this is the least enlightening way to see how a matrix $\\mathbf{C}$ acts on a\n",
    "vector or here on a matrix $\\mathbf{D}$"
   ]
  },
  {
   "cell_type": "code",
   "execution_count": null,
   "metadata": {},
   "outputs": [],
   "source": [
    "# assign variable for result, we expect integer, so assign it\n",
    "X = np.zeros((2, 2), dtype=int)\n",
    "for ri in range(2):\n",
    "    for ci in range(2):\n",
    "        # inner product = row of C x column of D\n",
    "        #X [ri, ci] = C[ri, :] @ D[:, ci]\n",
    "        X[ri, ci] = np.inner(C[ri, :], D[:, ci])\n",
    "print(X)"
   ]
  },
  {
   "cell_type": "markdown",
   "metadata": {},
   "source": [
    "## 2nd Way: matrix C x n-th column of D = n-th column of X\n",
    "\n",
    "- n-th column of X is a linear combination of columns of C, weights in n-th column of D\n",
    "\n",
    "- here dimensions: (2, 3) x (3, 1) = (2, 1)\n",
    "\n",
    "- useful mindset for the standard linear algebra problem $\\mathbf{A} \\mathbf{x} = \\mathbf{b}$"
   ]
  },
  {
   "cell_type": "code",
   "execution_count": null,
   "metadata": {},
   "outputs": [],
   "source": [
    "#X = np.array([C @ D[:, 0], C @ D[:, 1]]).T\n",
    "# we need the transpose due to the above discussed characteristics\n",
    "# on how numpy interprets resulting 1D arrays\n",
    "X = np.hstack((C @ D[:, 0][:, np.newaxis], C @ D[:, 1][:, np.newaxis]))\n",
    "print(X)"
   ]
  },
  {
   "cell_type": "markdown",
   "metadata": {},
   "source": [
    "## 3rd Way: n-th row of C x matrix D = n-th row of X\n",
    "\n",
    "- n-th row of X is a linear combination of rows of D, weights in n-th row of C\n",
    "- here dimensions: (1, 3) x (3, 2) = (1, 2)\n",
    "- useful mindset when doing elimination, such as LU factorization or permutation of rows"
   ]
  },
  {
   "cell_type": "code",
   "execution_count": null,
   "metadata": {},
   "outputs": [],
   "source": [
    "# using stacked rows, short version\n",
    "X = np.vstack((C[0, :] @ D, C[1, :] @ D))\n",
    "# long version, explicitly define the rows as 2D arrays first\n",
    "X = np.vstack((C[0, :] @ D[np.newaxis, :], C[1, :] @ D[np.newaxis, :]))\n",
    "print(X)"
   ]
  },
  {
   "cell_type": "markdown",
   "metadata": {},
   "source": [
    "## 4th Way: sum of (columns x rows) = sum of outer products\n",
    "- useful mindset e.g. when C contains independent columns, D contains independent rows, such as heavily used in SVD\n",
    "- **superposition of rank-1 matrices!**"
   ]
  },
  {
   "cell_type": "code",
   "execution_count": null,
   "metadata": {},
   "outputs": [],
   "source": [
    "X = \\\n",
    "    np.outer(C[:, 0], D[0, :]) + \\\n",
    "    np.outer(C[:, 1], D[1, :]) + \\\n",
    "    np.outer(C[:, 2], D[2, :])\n",
    "print(X)"
   ]
  },
  {
   "cell_type": "markdown",
   "metadata": {},
   "source": [
    "# Complex Vectors and Inner Product\n",
    "\n",
    "Let us extend the vector space to complex numbers with two vectors $\\mathbf{x}_1$ and $\\mathbf{x}_2$."
   ]
  },
  {
   "cell_type": "code",
   "execution_count": null,
   "metadata": {},
   "outputs": [],
   "source": [
    "N = 32\n",
    "OmegaN = 2*np.pi/N\n",
    "k = np.arange(N)\n",
    "x1 = np.exp(+1j*OmegaN * k * 1) / np.sqrt(N)\n",
    "x2 = np.exp(+1j*OmegaN * k * 2) / np.sqrt(N)"
   ]
  },
  {
   "cell_type": "markdown",
   "metadata": {},
   "source": [
    "These are complex exponentials and due to the chosen parameters, periodic in $N$. In fact, these can be considered as DFT eigensignals for $N=32$, actually for $\\mu=1$ and $\\mu=2$.\n",
    "\n",
    "Let's just plot these signals into one graph. The fastest way is to use `pyplot`, which is an API for `matplotlib` and similar to Matlab. `pyplot` is a good tool for quick'n dirty plots, whereas `matplotlib` gives us full access to any plotting objects, that's the professional way to plot. We leave it here with few simple calls of the `pyplot` API. "
   ]
  },
  {
   "cell_type": "code",
   "execution_count": null,
   "metadata": {},
   "outputs": [],
   "source": [
    "# C0, C1...C9 are matplotlib standard colors\n",
    "# use them, its on purpose why using exactly this flavoured blue, orange, green, red...\n",
    "# plain rgb and cmyl colors are not longer favored for nice colored graphs\n",
    "# due to perceptual reasons\n",
    "\n",
    "plt.plot(k, x1.real, '-o', color='C0', label='Re(x1), cos')\n",
    "plt.plot(k, x1.imag, '-o', color='C1', label='Im(x1), sin')\n",
    "\n",
    "# latex math using raw string\n",
    "plt.plot(k, np.real(x2), '-o', color='C2', label=r'$\\Re(x_2), \\mathrm{cos}$')\n",
    "plt.plot(k, np.imag(x2), '-o', color='C3', label=r'$\\Im(x_2), \\mathrm{sin}$')\n",
    "\n",
    "plt.xlabel(r'$k$')\n",
    "plt.ylabel(r'$x[k]$')\n",
    "plt.title(r'some sine / cosine signals')\n",
    "\n",
    "plt.legend()\n",
    "plt.grid(True)"
   ]
  },
  {
   "cell_type": "markdown",
   "metadata": {},
   "source": [
    "Back to vectors...\n",
    "\n",
    "We should know (if not, check the DFT lecture and exercise) that these vectors\n",
    "are orthonormal, so let us verify this with the **complex inner** product."
   ]
  },
  {
   "cell_type": "code",
   "execution_count": null,
   "metadata": {},
   "outputs": [],
   "source": [
    "np.vdot(x1, x1)  # not exactly 1 due to numerical errors, even with double precision"
   ]
  },
  {
   "cell_type": "code",
   "execution_count": null,
   "metadata": {},
   "outputs": [],
   "source": [
    "np.dot(np.conj(x1), x1)"
   ]
  },
  {
   "cell_type": "code",
   "execution_count": null,
   "metadata": {},
   "outputs": [],
   "source": [
    "np.conj(x1) @ x1  # not recommended to do this with a matrix op, but would work"
   ]
  },
  {
   "cell_type": "code",
   "execution_count": null,
   "metadata": {},
   "outputs": [],
   "source": [
    "np.vdot(x2, x2)  # just always use the vdot()\n",
    "# for real valued vectors this changes nothing,\n",
    "# and for complex vectors this handling is failsafe"
   ]
  },
  {
   "cell_type": "code",
   "execution_count": null,
   "metadata": {},
   "outputs": [],
   "source": [
    "np.vdot(x1, x2)  # we expect 0"
   ]
  },
  {
   "cell_type": "markdown",
   "metadata": {},
   "source": [
    "We get expected results for orthonormal vectors, besides numerical precision errors.\n",
    "\n",
    "If you don't like complex signals / complex vector space that much, check it\n",
    "with plain unit amplitude cos() and sin() signals, periodic in $N$, where full\n",
    "periods fit into the signal length (= vector dimension)."
   ]
  },
  {
   "cell_type": "code",
   "execution_count": null,
   "metadata": {},
   "outputs": [],
   "source": [
    "x3 = np.cos(OmegaN * k * 1)\n",
    "x4 = np.sin(OmegaN * k * 3)\n",
    "\n",
    "plt.plot(k, x3, 'o-', label='cos')\n",
    "plt.plot(k, x4, 'o-', label='sin')\n",
    "plt.xlabel(r'$k$')\n",
    "plt.ylabel(r'$x[k]$')\n",
    "plt.legend()\n",
    "plt.grid(True)"
   ]
  },
  {
   "cell_type": "code",
   "execution_count": null,
   "metadata": {},
   "outputs": [],
   "source": [
    "np.vdot(x3, x3)  # max"
   ]
  },
  {
   "cell_type": "code",
   "execution_count": null,
   "metadata": {},
   "outputs": [],
   "source": [
    "np.vdot(x3, x4)  # 0"
   ]
  },
  {
   "cell_type": "markdown",
   "metadata": {},
   "source": [
    "These vectors are orthogonal, but **not orthonormal**.\n",
    "\n",
    "For real valued signals / vectors the **normal inner** product works as expected."
   ]
  },
  {
   "cell_type": "code",
   "execution_count": null,
   "metadata": {},
   "outputs": [],
   "source": [
    "np.dot(x4, x4)"
   ]
  },
  {
   "cell_type": "code",
   "execution_count": null,
   "metadata": {},
   "outputs": [],
   "source": [
    "np.dot(x4, x3)"
   ]
  },
  {
   "cell_type": "markdown",
   "metadata": {},
   "source": [
    "# Surface Plot\n",
    "\n",
    "This is a simple example of a surface plot using\n",
    "- `pcolormesh` called with the `matplotlib` API\n",
    "- discrete valued colorbar based on `viridis` colormap. You might also check the `plasma`, `inferno`,`magma`,`cividis` colormaps for perceptually uniform sequential colormaps. If you need a diverging colormap (such as for nicely indicating positive and negative amplitudes of a waveform) `RdBu`, `seismic`, `bwr` (for non-red/blue colorblind people) do a good job. Colormaps like `jet` or `hsv` are not recommended, they do not match very well with our visual perception of these colorspaces."
   ]
  },
  {
   "cell_type": "code",
   "execution_count": null,
   "metadata": {},
   "outputs": [],
   "source": [
    "x = np.arange(0, 10)\n",
    "y = np.arange(-2, 3)\n",
    "z = np.zeros((5, 10))\n",
    "# set up most left matrix column with simple entries\n",
    "z[:, 0] = np.array([5, 6, 7, 8, 9])\n",
    "# set up most right  matrix column with other entries\n",
    "z[:, -2] = np.array([5, 4, 3, 2, 1])\n",
    "# intervals within colorbar and at the same time its ticks\n",
    "col_tick = np.arange(0, 11)\n",
    "# do the plot job\n",
    "cmap = plt.cm.viridis\n",
    "norm = mpl.colors.BoundaryNorm(col_tick, cmap.N)\n",
    "fig, ax = plt.subplots(1, 1)\n",
    "c = ax.pcolormesh(x, y, z, cmap=cmap, norm=norm)\n",
    "cbar = fig.colorbar(c, ax=ax, ticks=col_tick[::2], label='colorbar label')\n",
    "ax.set_xlim(0, 9)\n",
    "ax.set_ylim(-2, 2)\n",
    "ax.set_xticks(np.arange(0, 9, 2))\n",
    "ax.set_yticks(np.arange(-2, 3))\n",
    "ax.set_xlabel('x label')\n",
    "ax.set_ylabel('y label')\n",
    "ax.set_title('example plot');"
   ]
  },
  {
   "cell_type": "markdown",
   "metadata": {},
   "source": [
    "## Subplots with matplotlib"
   ]
  },
  {
   "cell_type": "code",
   "execution_count": null,
   "metadata": {},
   "outputs": [],
   "source": [
    "fig, ax = plt.subplots(2, 2)\n",
    "\n",
    "ax[0, 0].plot(0, 0, 'or')\n",
    "ax[0, 0].set_title('sub 1')\n",
    "\n",
    "ax[1, 0].plot(1, 0, 'og')\n",
    "ax[1, 0].set_title('sub 2')\n",
    "\n",
    "ax[0, 1].plot(0, 1, 'ob')\n",
    "ax[0, 1].set_title('sub 3')\n",
    "\n",
    "ax[1, 1].plot(1, 1, 'ok')\n",
    "ax[1, 1].set_title('sub 4')"
   ]
  },
  {
   "cell_type": "markdown",
   "metadata": {},
   "source": [
    "## Subplots with pyplot"
   ]
  },
  {
   "cell_type": "code",
   "execution_count": null,
   "metadata": {},
   "outputs": [],
   "source": [
    "plt.subplot(2, 2, 1)\n",
    "plt.plot(0, 0, 'or')\n",
    "plt.title('sub1')\n",
    "\n",
    "plt.subplot(2, 2, 3)\n",
    "plt.plot(1, 0, 'og')\n",
    "plt.title('sub3')\n",
    "\n",
    "plt.subplot(2, 2, 2)\n",
    "plt.plot(0, 1, 'ob')\n",
    "plt.title('sub2')\n",
    "\n",
    "plt.subplot(2, 2, 4)\n",
    "plt.plot(1, 1, 'ok')\n",
    "plt.title('sub4')"
   ]
  },
  {
   "cell_type": "markdown",
   "metadata": {},
   "source": [
    "**Copyright**\n",
    "\n",
    "The notebooks are provided as [Open Educational Resources](https://en.wikipedia.org/wiki/Open_educational_resources). Feel free to use the notebooks for your own purposes. The text is licensed under [Creative Commons Attribution 4.0](https://creativecommons.org/licenses/by/4.0/), the code of the IPython examples under the [MIT license](https://opensource.org/licenses/MIT). Please attribute the work as follows: *Frank Schultz, Digital Signal Processing - A Tutorial Featuring Computational Examples* with the URL https://github.com/spatialaudio/digital-signal-processing-exercises"
   ]
  }
 ],
 "metadata": {
  "kernelspec": {
   "display_name": "Python 3 (ipykernel)",
   "language": "python",
   "name": "python3"
  },
  "language_info": {
   "codemirror_mode": {
    "name": "ipython",
    "version": 3
   },
   "file_extension": ".py",
   "mimetype": "text/x-python",
   "name": "python",
   "nbconvert_exporter": "python",
   "pygments_lexer": "ipython3",
   "version": "3.10.12"
  }
 },
 "nbformat": 4,
 "nbformat_minor": 4
}
