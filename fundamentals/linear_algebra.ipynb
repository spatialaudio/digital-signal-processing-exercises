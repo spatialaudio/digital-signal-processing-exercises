{
 "cells": [
  {
   "cell_type": "markdown",
   "id": "21742d4e-2162-43b0-b9c2-2ae759feb961",
   "metadata": {},
   "source": [
    "Sascha Spors,\n",
    "Professorship Signal Theory and Digital Signal Processing,\n",
    "Institute of Communications Engineering (INT),\n",
    "Faculty of Computer Science and Electrical Engineering (IEF),\n",
    "University of Rostock,\n",
    "Germany\n",
    "\n",
    "# Tutorial Digital Signal Processing\n",
    "\n",
    "**Linear Algebra Recap**,\n",
    "Winter Semester 2021/22 (Course #24505)\n",
    "\n",
    "- lecture: https://github.com/spatialaudio/digital-signal-processing-lecture\n",
    "- tutorial: https://github.com/spatialaudio/digital-signal-processing-exercises\n",
    "\n",
    "Feel free to contact lecturer frank.schultz@uni-rostock.de"
   ]
  },
  {
   "cell_type": "code",
   "execution_count": null,
   "id": "c53a3a27-5c35-4c0a-ad84-af3937ea3e9a",
   "metadata": {},
   "outputs": [],
   "source": [
    "import numpy as np"
   ]
  },
  {
   "cell_type": "markdown",
   "id": "4175d6b0-7b74-41b7-b87e-c31ce702fce0",
   "metadata": {},
   "source": [
    "## Solving a Set of Linear Equations\n",
    "\n",
    "Le´s consider a set of linear equations.\n",
    "\n",
    "\\begin{matrix}\n",
    "2x_1 &+& 1x_2 & -&1x_3 &= &8\\\\\n",
    "-3x_1 &-&1x_2 &+& 2x_3 &= &-11\\\\\n",
    "-2x_1 &+& 1x_2&+ & 2x_3 &= &-3\n",
    "\\end{matrix}\n",
    "\n",
    "### Using Gaussian Elimination\n",
    "If we want to solve this system of equations we could choose the [gaussian elimination](https://en.wikipedia.org/wiki/Gaussian_elimination#Row_operations) method.\n",
    "Therefore we rewrite it for example like:\n",
    "\n",
    "\\begin{bmatrix}\n",
    "\\begin{array}{ccc|c}\n",
    "   2 & 1 & -1  & 8 \\\\\n",
    "   -3 & -1 & 2 & -11 \\\\\n",
    "   -2 & 1 & 2  & -3 \\\\\n",
    "\\end{array}\n",
    "\\end{bmatrix}\n",
    "\n",
    "and complete some row reduction procedure until we receive a triangular form.\n",
    "\n",
    "\\begin{bmatrix}\n",
    "\\begin{array}{ccc|c}\n",
    "   2 & 1 & -1  & 8 \\\\\n",
    "   0 & \\frac{1}{2} & \\frac{1}{2} & 1 \\\\\n",
    "   0 & 0 & 1  & -1 \\\\\n",
    "\\end{array}\n",
    "\\end{bmatrix}\n",
    "\n",
    "From this point of view, it is simple to designate the values for $x_1,x_2$ and $x_3$.\n",
    "\n",
    "### Using Linear Algebra\n",
    "\n",
    "A different and more elegant approach is to transform this given system of equations to a matrix and vector notation.\n",
    "\n",
    "\\begin{align}\n",
    "\\textbf{A}=\\begin{bmatrix}\n",
    "2 & 1 & -1\\\\\n",
    "-3 & -1 & 2\\\\\n",
    "-2 &1 & 2\n",
    "\\end{bmatrix} \n",
    "\\quad;\\quad \n",
    "\\textbf{x}=\\begin{bmatrix}\n",
    "x_1 \\\\\n",
    "x_2 \\\\\n",
    "x_3 \n",
    "\\end{bmatrix} \n",
    "\\quad;\\quad \n",
    "\\textbf{b}=\\begin{bmatrix}\n",
    "8 \\\\\n",
    "-11 \\\\\n",
    "-3 \n",
    "\\end{bmatrix}\n",
    "\\end{align}\n",
    "\n",
    "The linear algebra notation would then be represented by the form $\\textbf{A} \\textbf{x}=\\textbf{b}$.\n",
    "To solve this problem for $\\textbf{x}$ we just have to invert the matrix $\\textbf{A}$:\n",
    "\n",
    "\\begin{align}\n",
    "\\textbf{x}=\\textbf{A}^{-1}\\textbf{b}\n",
    "\\end{align}\n",
    "\n",
    "_Remark:_ The matrix has to fulfill the conditions to be [invertible](https://en.wikipedia.org/wiki/Invertible_matrix)."
   ]
  },
  {
   "cell_type": "markdown",
   "id": "31f6f796-6c1d-4111-9f22-db5970e66e9f",
   "metadata": {},
   "source": [
    "## Programming"
   ]
  },
  {
   "cell_type": "code",
   "execution_count": null,
   "id": "c8a1aa8f-91fd-438a-9b5f-44a9526c3474",
   "metadata": {},
   "outputs": [],
   "source": [
    "# Define numpy matrix A\n",
    "A = np.matrix([[2, 1, -1], [-3, -1, 2], [-2, 1, 2]])\n",
    "# Define numpy vector b\n",
    "b = np.array([8, -11, -3])\n",
    "# Print out A and b\n",
    "print(\"A =\", A, \"\\n\")\n",
    "print(\"b =\", b)"
   ]
  },
  {
   "cell_type": "code",
   "execution_count": null,
   "id": "ac038f06-a75b-4ff7-9aa5-1c566c51ef84",
   "metadata": {},
   "outputs": [],
   "source": [
    "# Solve it and print the result\n",
    "x = np.dot(A**-1, b)\n",
    "print(x)"
   ]
  },
  {
   "cell_type": "markdown",
   "id": "69d08676-d39f-402e-bee7-020b4e7e60ae",
   "metadata": {},
   "source": [
    "**Copyright**\n",
    "\n",
    "The notebooks are provided as [Open Educational Resources](https://en.wikipedia.org/wiki/Open_educational_resources). Feel free to use the notebooks for your own purposes. The text is licensed under [Creative Commons Attribution 4.0](https://creativecommons.org/licenses/by/4.0/), the code of the IPython examples under the [MIT license](https://opensource.org/licenses/MIT). Please attribute the work as follows: *Frank Schultz, Digital Signal Processing - A Tutorial Featuring Computational Examples* with the URL https://github.com/spatialaudio/digital-signal-processing-exercises"
   ]
  }
 ],
 "metadata": {
  "kernelspec": {
   "display_name": "Python 3 (ipykernel)",
   "language": "python",
   "name": "python3"
  },
  "language_info": {
   "codemirror_mode": {
    "name": "ipython",
    "version": 3
   },
   "file_extension": ".py",
   "mimetype": "text/x-python",
   "name": "python",
   "nbconvert_exporter": "python",
   "pygments_lexer": "ipython3",
   "version": "3.9.12"
  }
 },
 "nbformat": 4,
 "nbformat_minor": 5
}
