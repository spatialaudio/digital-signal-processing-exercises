{
 "cells": [
  {
   "cell_type": "markdown",
   "id": "21742d4e-2162-43b0-b9c2-2ae759feb961",
   "metadata": {},
   "source": [
    "Sascha Spors,\n",
    "Professorship Signal Theory and Digital Signal Processing,\n",
    "Institute of Communications Engineering (INT),\n",
    "Faculty of Computer Science and Electrical Engineering (IEF),\n",
    "University of Rostock,\n",
    "Germany\n",
    "\n",
    "# Tutorial Digital Signal Processing\n",
    "\n",
    "**Linear Algebra Recap**,\n",
    "Winter Semester 2023/24 (Course #24505)\n",
    "\n",
    "- lecture: https://github.com/spatialaudio/digital-signal-processing-lecture\n",
    "- tutorial: https://github.com/spatialaudio/digital-signal-processing-exercises\n",
    "\n",
    "Feel free to contact lecturer jacob.thoenes@uni-rostock.de"
   ]
  },
  {
   "cell_type": "code",
   "execution_count": null,
   "id": "c53a3a27-5c35-4c0a-ad84-af3937ea3e9a",
   "metadata": {},
   "outputs": [],
   "source": [
    "import numpy as np\n",
    "from IPython.display import Image\n",
    "\n",
    "# load images\n",
    "VectorTimesVector = Image(\n",
    "    \"https://github.com/kenjihiranabe/The-Art-of-Linear-Algebra/raw/2357e987993ba88eb34bbe16e038ce1b150c4878/VectorTimesVector.png\"\n",
    ")\n",
    "\n",
    "MatrixTimesVector = Image(\n",
    "    \"https://github.com/kenjihiranabe/The-Art-of-Linear-Algebra/raw/2357e987993ba88eb34bbe16e038ce1b150c4878/MatrixTimesVector.png\"\n",
    ")\n",
    "\n",
    "MatrixTimesMatrix = Image(\n",
    "    \"https://github.com/kenjihiranabe/The-Art-of-Linear-Algebra/raw/2357e987993ba88eb34bbe16e038ce1b150c4878/MatrixTimesMatrix.png\"\n",
    ")"
   ]
  },
  {
   "cell_type": "markdown",
   "id": "50ccdba6-6f5b-42fe-a3d2-6365130d1848",
   "metadata": {},
   "source": [
    "## Linear Algebra\n",
    "\n",
    "If we understand the fundamentals of [the art of linear algebra](https://github.com/kenjihiranabe/The-Art-of-Linear-Algebra/blob/main/The-Art-of-Linear-Algebra.pdf), we have a very powerful mathematical tool for solving various engineering problems.\n",
    "In this module, various methods benefit from linear algebra, which is why this notebook revisits some fundamentals.\n",
    "\n",
    "### Matrix and Vector\n",
    "\n",
    "A matrix is a two-dimensional arrangement of numbers, expressed in rows and columns. \n",
    "Let's assume very simple matrix $\\textbf{A}$ with a row dimension $m$ and comulmn dimension $n$.\n",
    "\n",
    "$$\n",
    "\\boldsymbol {A}=\\begin{pmatrix}a_{11}&a_{12}&\\cdots &a_{1n}\\\\a_{21}&a_{22}&\\cdots &a_{2n}\\\\\\vdots &\\vdots &&\\vdots \\\\a_{m1}&a_{m2}&\\cdots &a_{mn}\\\\\\end{pmatrix}\n",
    "$$\n",
    "\n",
    "A vector is a one-dimensional matrix with $m$ entries. It's important to distinguish between column vectors and row vectors. We can switch between these representations using the transformation operation. For example \n",
    "\n",
    "$$\n",
    "\\boldsymbol {x} ={\\begin{pmatrix} x_{1}\\\\ x_{2}\\\\ \\vdots\\\\x_{m}\\ \\end{pmatrix}} \\quad \\text{or} \\quad \\boldsymbol {x}^T = \\begin{pmatrix} x_{1},\\ x_{2},\\ \\cdots, \\ x_{m}\\ \\end{pmatrix}.\n",
    "$$\n",
    "\n",
    "In textbooks, the notation for vectors and matrices can sometimes vary, such as using $\\displaystyle A=\\boldsymbol {A}=\\underline {A}$ for matrices or $\\vec{x}=\\boldsymbol{x}$ for vectors. Here, we consistently use bold notation.\n",
    "\n",
    "### Vector Times Vector\n",
    "\n",
    "If we assume a column vector $\\boldsymbol{u}= \\begin{pmatrix} 3\\\\-5\\\\4 \\end{pmatrix}$ and a second column vector $\\boldsymbol{v} = \\begin{pmatrix} 2\\\\3\\\\-4 \\end{pmatrix}$, we can multiply our vectors $\\boldsymbol{u}$ and $\\boldsymbol{v}$ in two different ways:\n",
    "\n",
    "- Row vector times column vector: $\\boldsymbol{u}^{\\text{T}} \\boldsymbol{v}$ _(v1)_\n",
    "- Column vector times row vector: $\\boldsymbol{u} \\boldsymbol{v}^{\\text{T}}$ _(v2)_\n",
    "\n",
    "The following images graphically depict the mathematical properties of the two enumerated vector times vector operation."
   ]
  },
  {
   "cell_type": "code",
   "execution_count": null,
   "id": "fdd48c26-b00a-4e17-bd64-fa5350bb1dd7",
   "metadata": {
    "tags": []
   },
   "outputs": [],
   "source": [
    "VectorTimesVector"
   ]
  },
  {
   "cell_type": "code",
   "execution_count": null,
   "id": "bbf5a576-f237-443d-8e54-327be1617b09",
   "metadata": {
    "tags": []
   },
   "outputs": [],
   "source": [
    "# define vectors u and v\n",
    "u = np.array([[3], [-5], [4]])\n",
    "print(\"u=\", u)\n",
    "\n",
    "v = np.array([[2], [3], [-4]])\n",
    "print(\"v=\", v)"
   ]
  },
  {
   "cell_type": "code",
   "execution_count": null,
   "id": "6df070dd-b543-43de-828c-cd69047ae670",
   "metadata": {
    "tags": []
   },
   "outputs": [],
   "source": [
    "print(\"vu=\", u.T @ v)  # dot product (v1) -> inner product"
   ]
  },
  {
   "cell_type": "code",
   "execution_count": null,
   "id": "edf6457a-4e59-4379-bd9c-423972d7c13c",
   "metadata": {
    "tags": []
   },
   "outputs": [],
   "source": [
    "print(\"uv=\", u @ v.T)  # rank 1 matrix (v2) -> outer product"
   ]
  },
  {
   "cell_type": "markdown",
   "id": "dcb39467-9de5-4c70-9556-b8dbe9da872e",
   "metadata": {},
   "source": [
    "### Matrix Times Vector\n",
    "\n",
    "If we assume a vector $\\boldsymbol{u}= \\begin{pmatrix} 3\\\\-2\\\\4 \\end{pmatrix}$ and a matrix $\\textbf{A}=\\begin{pmatrix} 4 & 3 & -1 \\\\ 2 & -1 & 2 \\\\ -2 &1 &2 \\\\\\end{pmatrix}$ the matrix times vector operation is graphically shown below."
   ]
  },
  {
   "cell_type": "code",
   "execution_count": null,
   "id": "b0265ee3-50c0-453e-9a75-f236f466dd3a",
   "metadata": {
    "tags": []
   },
   "outputs": [],
   "source": [
    "MatrixTimesVector"
   ]
  },
  {
   "cell_type": "code",
   "execution_count": null,
   "id": "eec598f3-e982-4246-a973-fe35710868d7",
   "metadata": {
    "tags": []
   },
   "outputs": [],
   "source": [
    "# define vector u and matrix A\n",
    "u = np.array([[3], [-5], [4]])\n",
    "print(\"u=\", u)\n",
    "\n",
    "A = np.array([[4, 3, -1], [2, -1, 2], [-2, 1, 2]])\n",
    "print(\"A=\", A)"
   ]
  },
  {
   "cell_type": "code",
   "execution_count": null,
   "id": "8dcafa36-bb46-46f6-9ca6-81636481d1f5",
   "metadata": {
    "tags": []
   },
   "outputs": [],
   "source": [
    "# matrix A times vector u\n",
    "A @ u"
   ]
  },
  {
   "cell_type": "markdown",
   "id": "d8b0c4e4-a503-4729-b9ad-efca75c3a18f",
   "metadata": {},
   "source": [
    "The product of $\\boldsymbol{Au}$ yields a linear combination of the columns of $\\boldsymbol{A}$. To compute the product of $\\boldsymbol{u}$ and $\\boldsymbol{A}$, we need to transpose $\\boldsymbol{u} \\rightarrow \\boldsymbol{u}^T$ due to the dimensions. The result of $\\boldsymbol{u}^T\\boldsymbol{A}$ is a combination of the rows of $\\boldsymbol{A}$."
   ]
  },
  {
   "cell_type": "code",
   "execution_count": null,
   "id": "7bdfb158-8c67-474b-9c3f-02de796cd4b0",
   "metadata": {
    "tags": []
   },
   "outputs": [],
   "source": [
    "# row-vector u times matrix A\n",
    "u.T @ A"
   ]
  },
  {
   "cell_type": "markdown",
   "id": "d92951cd-c6e9-47a8-a117-7125d27186c6",
   "metadata": {},
   "source": [
    "### Matrix Times Matrix\n",
    "\n",
    "If we assume two matrices $\\textbf{A}=\\begin{pmatrix} 4 & 3 & -1 \\\\ 2 & -1 & 2 \\\\ -2 &1 &2 \\\\\\end{pmatrix}$ and $\\textbf{B}=\\begin{pmatrix} 3 & 2  \\\\ 2 & 1  \\\\ -4 &2 \\\\\\end{pmatrix}$ the matrix times matrix operation is graphically shown below."
   ]
  },
  {
   "cell_type": "code",
   "execution_count": null,
   "id": "447b4b66-de12-4ee4-972b-80f0024fe299",
   "metadata": {
    "tags": []
   },
   "outputs": [],
   "source": [
    "MatrixTimesMatrix"
   ]
  },
  {
   "cell_type": "code",
   "execution_count": null,
   "id": "4bd3a104-344d-4dbc-a2c6-7c8e4f7f962e",
   "metadata": {
    "tags": []
   },
   "outputs": [],
   "source": [
    "# define A and B\n",
    "A = np.array([[4, 3, -1], [2, -1, 2], [-2, 1, 2]])\n",
    "print(\"A=\", A)\n",
    "\n",
    "B = np.array([[3, 2], [2, 1], [4, 2]])\n",
    "print(\"B=\", B)"
   ]
  },
  {
   "cell_type": "code",
   "execution_count": null,
   "id": "b292153f-c9bd-4073-a44d-9ef71a9f3ab5",
   "metadata": {
    "tags": []
   },
   "outputs": [],
   "source": [
    "# matrix A times matrix B\n",
    "A @ B"
   ]
  },
  {
   "cell_type": "markdown",
   "id": "1c89a30f-4e7f-45f9-af5e-8e6216309f9f",
   "metadata": {},
   "source": [
    "From here on, we can experiment with various matrix-matrix, matrix-vector, or vector-vector operations ourselves."
   ]
  },
  {
   "cell_type": "markdown",
   "id": "4175d6b0-7b74-41b7-b87e-c31ce702fce0",
   "metadata": {},
   "source": [
    "## Solving a Set of Linear Equations\n",
    "\n",
    "Let´s consider a set of linear equations.\n",
    "\n",
    "$$\n",
    "\\begin{matrix}\n",
    " 2x_1 &+& 1x_2 &-& 1x_3 &= &8\\\\\n",
    "-3x_1 &-& 1x_2 &+& 2x_3 &= &-11\\\\\n",
    "-2x_1 &+& 1x_2 &+& 2x_3 &= &-3\n",
    "\\end{matrix}\n",
    "$$\n",
    "### Using Gaussian Elimination\n",
    "If we want to solve this system of equations we could choose the [gaussian elimination](https://en.wikipedia.org/wiki/Gaussian_elimination#Example_of_the_algorithm) method.\n",
    "Therefore we rewrite it for example like:\n",
    "\n",
    "\\begin{bmatrix}\n",
    "\\begin{array}{ccc|c}\n",
    "   2 & 1 & -1  & 8 \\\\\n",
    "   -3 & -1 & 2 & -11 \\\\\n",
    "   -2 & 1 & 2  & -3 \\\\\n",
    "\\end{array}\n",
    "\\end{bmatrix}\n",
    "\n",
    "and complete some row reduction procedure until we receive a triangular form.\n",
    "\n",
    "\\begin{bmatrix}\n",
    "\\begin{array}{ccc|c}\n",
    "   2 & 1 & -1  & 8 \\\\\n",
    "   0 & \\frac{1}{2} & \\frac{1}{2} & 1 \\\\\n",
    "   0 & 0 & 1  & -1 \\\\\n",
    "\\end{array}\n",
    "\\end{bmatrix}\n",
    "\n",
    "From this point of view, it is simple to designate the values for $x_1,x_2$ and $x_3$.\n",
    "\n",
    "### Using Linear Algebra\n",
    "\n",
    "A different and more elegant approach is to transform this given system of equations to a matrix and vector notation.\n",
    "\n",
    "\\begin{align}\n",
    "\\textbf{A}=\\begin{pmatrix} 2 & 1 & -1 \\\\ -3 & -1 & 2 \\\\ -2 &1 &2 \\\\\\end{pmatrix}\n",
    "\\quad;\\quad \n",
    "\\textbf{x}=\\begin{pmatrix} x_1\\\\x_2\\\\x_3 \\end{pmatrix}\n",
    "\\quad;\\quad \n",
    "\\textbf{b}=\\begin{pmatrix} 8\\\\-11\\\\-3 \\end{pmatrix}\n",
    "\\end{align}\n",
    "\n",
    "The linear algebra notation would then be represented by the form $\\textbf{A} \\textbf{x}=\\textbf{b}$.\n",
    "To solve this problem for $\\textbf{x}$ we just have to invert the matrix $\\textbf{A}$:\n",
    "\n",
    "\\begin{align}\n",
    "\\textbf{x}=\\textbf{A}^{-1}\\textbf{b}\n",
    "\\end{align}\n",
    "\n",
    "_Remark:_ The matrix has to fulfill the conditions to be [invertible](https://en.wikipedia.org/wiki/Invertible_matrix)."
   ]
  },
  {
   "cell_type": "code",
   "execution_count": null,
   "id": "8e924a2b-e035-463e-89b5-3938828f1fa7",
   "metadata": {},
   "outputs": [],
   "source": [
    "# define A and check the matrix properties:\n",
    "A = np.matrix([[2, 1, -1], [-3, -1, 2], [-2, 1, 2]])\n",
    "print(\"A =\", A, \"\\n\")\n",
    "\n",
    "# n=m\n",
    "print(\"n=m :\", np.allclose(A.shape[0], A.shape[1]))\n",
    "\n",
    "# det(A)!=0\n",
    "print(\"det(A)=\", np.linalg.det(A))\n",
    "\n",
    "# A⁻¹A = I\n",
    "print(\"A⁻¹A = \\n\", np.abs(np.round(A * A**-1)))\n",
    "\n",
    "# check the rank\n",
    "print(\"The matrix A has a rank=\", np.linalg.matrix_rank(A))"
   ]
  },
  {
   "cell_type": "markdown",
   "id": "b5fba7f9-0dcb-4e8e-885c-b1b752fc1381",
   "metadata": {},
   "source": [
    "Matrix $\\boldsymbol{A}$ is an $m \\times n$ matrix, with $m = n$. The determinant is not zero, $\\boldsymbol{A}^\\text{T}\\boldsymbol{A} = \\boldsymbol{I}$, and the matrix has full rank because $\\text{rank}(\\boldsymbol{A}) = m = n$. So finally the matrix $\\boldsymbol{A}$ satisfies the conditions for being invertible and we can define $\\boldsymbol{b}$ and solve for $\\boldsymbol{x}$."
   ]
  },
  {
   "cell_type": "code",
   "execution_count": null,
   "id": "c8a1aa8f-91fd-438a-9b5f-44a9526c3474",
   "metadata": {},
   "outputs": [],
   "source": [
    "# define b\n",
    "b = np.array([[8], [-11], [-3]])\n",
    "print(\"b =\", b)"
   ]
  },
  {
   "cell_type": "code",
   "execution_count": null,
   "id": "fed195c1-9ad2-46d2-80f6-e0e1d0565926",
   "metadata": {
    "tags": []
   },
   "outputs": [],
   "source": [
    "# solving: x = A⁻¹b\n",
    "x = np.linalg.inv(A) @ b\n",
    "print(\"x=\", x)"
   ]
  },
  {
   "cell_type": "markdown",
   "id": "69d08676-d39f-402e-bee7-020b4e7e60ae",
   "metadata": {},
   "source": [
    "**Copyright**\n",
    "\n",
    "The notebooks are provided as [Open Educational Resources](https://en.wikipedia.org/wiki/Open_educational_resources). Feel free to use the notebooks for your own purposes. The text is licensed under [Creative Commons Attribution 4.0](https://creativecommons.org/licenses/by/4.0/), the code of the IPython examples under the [MIT license](https://opensource.org/licenses/MIT). Please attribute the work as follows: *Frank Schultz, Digital Signal Processing - A Tutorial Featuring Computational Examples* with the URL https://github.com/spatialaudio/digital-signal-processing-exercises"
   ]
  }
 ],
 "metadata": {
  "kernelspec": {
   "display_name": "Python 3 (ipykernel)",
   "language": "python",
   "name": "python3"
  },
  "language_info": {
   "codemirror_mode": {
    "name": "ipython",
    "version": 3
   },
   "file_extension": ".py",
   "mimetype": "text/x-python",
   "name": "python",
   "nbconvert_exporter": "python",
   "pygments_lexer": "ipython3",
   "version": "3.10.12"
  }
 },
 "nbformat": 4,
 "nbformat_minor": 5
}
