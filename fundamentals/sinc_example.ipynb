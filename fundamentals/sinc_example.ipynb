{
 "cells": [
  {
   "cell_type": "markdown",
   "id": "8fca70fe-c2e2-46a1-9dae-ac1c2441f1d9",
   "metadata": {},
   "source": [
    "Sascha Spors,\n",
    "Professorship Signal Theory and Digital Signal Processing,\n",
    "Institute of Communications Engineering (INT),\n",
    "Faculty of Computer Science and Electrical Engineering (IEF),\n",
    "University of Rostock,\n",
    "Germany\n",
    "\n",
    "# Tutorial Digital Signal Processing\n",
    "\n",
    "**The (Periodic) Sinc Function**,\n",
    "Winter Semester 2021/22 (Course #24505)\n",
    "\n",
    "- lecture: https://github.com/spatialaudio/digital-signal-processing-lecture\n",
    "- tutorial: https://github.com/spatialaudio/digital-signal-processing-exercises\n",
    "\n",
    "Feel free to contact lecturer frank.schultz@uni-rostock.de"
   ]
  },
  {
   "cell_type": "code",
   "execution_count": null,
   "id": "1eb0f809-ee9e-4b9b-a1b6-1ec6be1acf9c",
   "metadata": {},
   "outputs": [],
   "source": [
    "import matplotlib.pyplot as plt\n",
    "import numpy as np\n",
    "from ipywidgets import interact\n",
    "from scipy.special import diric"
   ]
  },
  {
   "cell_type": "markdown",
   "id": "84f79eaf-75c9-4228-8294-c45997fcbf78",
   "metadata": {},
   "source": [
    "During the [DFT to DTFT interpolation](../dft/dft_to_dtft_interpolation.ipynb) the periodic sinc function, also known as aliased sinc and Dirichlet function, was introduced. For a better imagination what this sinc function has in common with the rectangular window, a little application experiment is provided.\n",
    "\n",
    "## Example: Diffraction at the gap\n",
    "\n",
    "In the picture below you can see the experimental setup of this popular experiment.\n",
    "A light source spreads light. This light is focused by the lens. An opaque area blocks a part of the light and the rest of the light shines through the transparent gap.\n",
    "\n",
    "<img src=\"diffraction_at_the_gap.png\" width=\"900\">\n",
    "\n",
    "The blue graph is then the resulting brightness distribution. At this point, you will probably already see a connection to the sinc function. And you´re right - the recognized brightness distribution perceived by the eye when light is diffracted is the square of the wave amplitude. In other words, for this example, we see $\\text{sinc}^2$ due to the spectated light intensity.\n",
    "\n",
    "In summary, two statements can be made:\n",
    "\n",
    "- **The sinc function is the Fourier transform of the square function**\n",
    "- The brightness distribution perceived by the eye when light is diffracted is the square of the wave amplitude\n",
    "\n",
    "But nevertheless, let's program this example. Therefore we follow the plan:\n",
    "\n",
    "1. Generate an array of zeros `x`\n",
    "2. Change a width of length `gap` to 1. The light opaque part equals 0 and the transparent part equals 1.\n",
    "2. Compute the fft `X`\n",
    "3. Compare the fft `X` with the psinc/dirichlet function `diric(Θ,gap)`"
   ]
  },
  {
   "cell_type": "code",
   "execution_count": null,
   "id": "800024af-4577-41ea-b4fb-a1fe2466c706",
   "metadata": {},
   "outputs": [],
   "source": [
    "# generate zeros array\n",
    "x = np.zeros(200)\n",
    "gap = 20\n",
    "\n",
    "# define gap part\n",
    "x[:gap] = 1\n",
    "\n",
    "# plot it\n",
    "plt.title(r\"transparent = 1, opaque = 0\")\n",
    "plt.plot(x)\n",
    "plt.show()\n",
    "\n",
    "# shift (roll) the gap ans plot it\n",
    "shift = len(x) // 2 - gap // 2\n",
    "x = np.roll(x, shift)\n",
    "\n",
    "plt.title(r\"Shifted array, transparent = 1, opaque = 0\")\n",
    "plt.plot(x)\n",
    "plt.show()"
   ]
  },
  {
   "cell_type": "code",
   "execution_count": null,
   "id": "d02ddc67-8d8b-4561-be79-b654a298fe32",
   "metadata": {},
   "outputs": [],
   "source": [
    "# compute the fft X with a zero-padding of 2**10, remember the square regarding the example above.\n",
    "zero_padding = 2**10\n",
    "X = np.abs(np.fft.fft(x, n=zero_padding)) ** 2\n",
    "\n",
    "plt.plot(np.linspace(0, 2 * np.pi, len(X)), np.abs(np.fft.fft(x, n=zero_padding)) ** 2)\n",
    "plt.ylabel(r\"|X|\")\n",
    "plt.xticks(\n",
    "    ticks=[0, np.pi / 2, np.pi, 3 / 2 * np.pi, 2 * np.pi],\n",
    "    labels=[r\"$0$\", r\"$\\pi$/2\", r\"$\\pi$\", r\"$3\\pi/2$\", r\"$2\\pi$\"],\n",
    ")\n",
    "plt.yticks([])\n",
    "plt.show()"
   ]
  },
  {
   "cell_type": "markdown",
   "id": "a4d659cb-9cc3-447e-8349-8a7d54f13509",
   "metadata": {},
   "source": [
    "To compare the fft result to our experimental configuration we just have to shift this fft by $\\pi$ and normalise the amplitude. This result is saved in `X_norm`. If we insert the $\\text{sinc}^2$ function inside this plot, we can see a perfect accordance between our experiment and given sinc function. "
   ]
  },
  {
   "cell_type": "code",
   "execution_count": null,
   "id": "0357575b-0938-4466-87d8-bdfc3802c2ae",
   "metadata": {},
   "outputs": [],
   "source": [
    "X_norm = np.roll(X, zero_padding // 2) / np.max(X)\n",
    "\n",
    "Theta = np.linspace(-np.pi, np.pi, len(X_norm))\n",
    "\n",
    "plt.plot(Theta, X_norm, label=r\"X_norm\")\n",
    "plt.ylabel(r\"psinc(Theta, gap)\")\n",
    "plt.xticks(\n",
    "    ticks=[-np.pi, -np.pi / 2, 0, np.pi / 2, np.pi],\n",
    "    labels=[r\"-$\\pi$\", r\"$-\\pi$/2\", r\"0\", r\"$\\pi$/2\", r\"$\\pi$\"],\n",
    ")\n",
    "plt.plot(\n",
    "    Theta,\n",
    "    np.abs(diric(np.linspace(-np.pi, np.pi, len(X_norm)), gap)) ** 2,\n",
    "    \"--\",\n",
    "    label=r\"sinc($\\Theta$,gap)\",\n",
    ")\n",
    "plt.ylabel(r\"psinc(θ, gap)\")\n",
    "plt.xticks(\n",
    "    ticks=[-np.pi, -np.pi / 2, 0, np.pi / 2, np.pi],\n",
    "    labels=[r\"-$\\pi$\", r\"$-\\pi$/2\", r\"0\", r\"$\\pi$/2\", r\"$\\pi$\"],\n",
    ")\n",
    "plt.legend()\n",
    "plt.show()"
   ]
  },
  {
   "cell_type": "markdown",
   "id": "333d633d-27f3-4c23-a27a-c63f1c969c14",
   "metadata": {},
   "source": [
    "## Relation between gap width and transformed spectrum\n",
    "\n",
    "What happens if we change the width of the gap?"
   ]
  },
  {
   "cell_type": "code",
   "execution_count": null,
   "id": "8f5782a6-1617-4e32-9121-2bbca576df26",
   "metadata": {},
   "outputs": [],
   "source": [
    "def rect_fft(gap_width):\n",
    "    x = np.zeros(200)\n",
    "    x[:gap_width] = 1\n",
    "    shift = len(x) // 2 - gap_width // 2\n",
    "    x = np.roll(x, shift)\n",
    "    plt.plot(x)\n",
    "    plt.xticks([])\n",
    "    plt.ylabel(r\"|x|\")\n",
    "    plt.yticks([])\n",
    "    plt.show()\n",
    "    zero_padding = 2**10\n",
    "    plt.plot(np.roll(np.abs(np.fft.fft(x, n=zero_padding)), zero_padding // 2))\n",
    "    plt.ylabel(r\"|X|\")\n",
    "    plt.xticks([])\n",
    "    plt.yticks([])\n",
    "    plt.show()\n",
    "\n",
    "\n",
    "interact(rect_fft, gap_width=(2, 200, 5))"
   ]
  },
  {
   "cell_type": "markdown",
   "id": "759ac0e6-44af-4677-83bb-ac4ea336a783",
   "metadata": {},
   "source": [
    "As we can see inside the plot above, a smaller gap yields wider lobes. A wider gap yields a smaller lobe."
   ]
  },
  {
   "cell_type": "markdown",
   "id": "1b070b7e-0834-492b-a5d5-c13d404007fe",
   "metadata": {},
   "source": [
    "**Copyright**\n",
    "\n",
    "The notebooks are provided as [Open Educational Resources](https://en.wikipedia.org/wiki/Open_educational_resources). Feel free to use the notebooks for your own purposes. The text is licensed under [Creative Commons Attribution 4.0](https://creativecommons.org/licenses/by/4.0/), the code of the IPython examples under the [MIT license](https://opensource.org/licenses/MIT). Please attribute the work as follows: *Frank Schultz, Digital Signal Processing - A Tutorial Featuring Computational Examples* with the URL https://github.com/spatialaudio/digital-signal-processing-exercises"
   ]
  }
 ],
 "metadata": {
  "kernelspec": {
   "display_name": "Python 3 (ipykernel)",
   "language": "python",
   "name": "python3"
  },
  "language_info": {
   "codemirror_mode": {
    "name": "ipython",
    "version": 3
   },
   "file_extension": ".py",
   "mimetype": "text/x-python",
   "name": "python",
   "nbconvert_exporter": "python",
   "pygments_lexer": "ipython3",
   "version": "3.9.12"
  }
 },
 "nbformat": 4,
 "nbformat_minor": 5
}
