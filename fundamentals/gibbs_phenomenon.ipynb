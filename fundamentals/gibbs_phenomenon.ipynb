{
 "cells": [
  {
   "cell_type": "markdown",
   "id": "5e796f97-ef73-4de2-9390-de0e2f9d999e",
   "metadata": {
    "tags": []
   },
   "source": [
    "Sascha Spors,\n",
    "Professorship Signal Theory and Digital Signal Processing,\n",
    "Institute of Communications Engineering (INT),\n",
    "Faculty of Computer Science and Electrical Engineering (IEF),\n",
    "University of Rostock,\n",
    "Germany\n",
    "\n",
    "# Tutorial Digital Signal Processing\n",
    "\n",
    "**Gibbs phenomenon** Winter Semester 2021/22 (Course #24505)\n",
    "\n",
    "- lecture: https://github.com/spatialaudio/digital-signal-processing-lecture\n",
    "- tutorial: https://github.com/spatialaudio/digital-signal-processing-exercises\n",
    "\n",
    "Feel free to contact lecturer frank.schultz@uni-rostock.de"
   ]
  },
  {
   "cell_type": "code",
   "execution_count": null,
   "id": "37cbb241-f167-44ff-985a-31746f80cffc",
   "metadata": {},
   "outputs": [],
   "source": [
    "import matplotlib.pyplot as plt\n",
    "import numpy as np\n",
    "from ipywidgets import interact"
   ]
  },
  {
   "cell_type": "markdown",
   "id": "3fa882ca-d84e-49ef-93f8-6cbeebd8ae6d",
   "metadata": {},
   "source": [
    "Using the Fourier series to generate an ideal square wave with an amplitude of 1 can be expressed as an infinit sum of sinusoidal waves:\n",
    "\n",
    "$$\n",
    "x(t) = \\frac{4}{\\pi} \\sum_{n=1}^{\\infty} \\frac{sin(2\\pi(2n-1))f t}{2n-1}\n",
    "$$.\n",
    "\n",
    "$f$ and $t$ are the frequency and the time index. Of cause, there is an issue of the infinit handling of signals using a computer.\n",
    "We are limited to build the rectangular wave out of a finite number $k$ of sinusoidal waves:\n",
    "\n",
    "$$\n",
    "x(t) = \\frac{4}{\\pi} \\sum_{n=1}^{k} \\frac{sin(2\\pi(2n-1))f t}{2n-1}\n",
    "$$\n",
    "\n",
    "The indec $k$ represents the number of harmonics that are added up like:\n",
    "\n",
    "$$\n",
    "x(t) = \\frac{\\pi}{4} \\big( sin(\\omega t) +  \\frac{1}{3}sin(3 \\omega t) +  \\frac{1}{5}sin(5 \\omega t) + \\dots \\big)\n",
    "$$\n",
    "Square wave. (2022, August 26). In Wikipedia. https://en.wikipedia.org/wiki/Square_wave\n",
    "\n",
    "Looking at these traces, there is good news and bad news. The good news is that the width of the transition band decreases as the length of the ﬁlter `k` increases; that is, the slope gets “sharper”.\n",
    "The bad news is that the maximum magnitude of ripple remains constant at about 9%, essentially independent of length k. \n",
    "This overshoot and undershoot is an example of the so called [Gibbs phenomenon](https://en.wikipedia.org/wiki/Gibbs_phenomenon), which you may have run across in your study of Fourier series approximations of continuous-time functions that have sharp discontinuities, such as a\n",
    "continuous-time square wave."
   ]
  },
  {
   "cell_type": "code",
   "execution_count": null,
   "id": "375013a9-c848-4c57-8fce-d9715c1169c9",
   "metadata": {},
   "outputs": [],
   "source": [
    "def GibbsPhenomenon(k=100):\n",
    "    samples = 10000\n",
    "    period = samples * 2\n",
    "    # harmonics\n",
    "\n",
    "    t = np.arange(samples)\n",
    "\n",
    "    for n in range(1, k, 2):\n",
    "        wave = (4 / np.pi) * 1 / n * np.sin(2 * np.pi * n * t / period)\n",
    "        if n == 1:\n",
    "            wavesum = wave\n",
    "        else:\n",
    "            wavesum += wave\n",
    "\n",
    "    plt.plot(t, wavesum)\n",
    "    plt.xlabel(r\"time (sample)\")\n",
    "    plt.ylabel(r\"x(t)\")\n",
    "    plt.grid()\n",
    "    plt.show()\n",
    "\n",
    "\n",
    "interact(GibbsPhenomenon, k=(10, 1001, 10))"
   ]
  },
  {
   "cell_type": "markdown",
   "id": "a747fb46-b6f2-4e5c-b8d8-2635944dccc4",
   "metadata": {},
   "source": [
    "**Copyright**\n",
    "\n",
    "The notebooks are provided as [Open Educational Resources](https://en.wikipedia.org/wiki/Open_educational_resources). Feel free to use the notebooks for your own purposes. The text is licensed under [Creative Commons Attribution 4.0](https://creativecommons.org/licenses/by/4.0/), the code of the IPython examples under the [MIT license](https://opensource.org/licenses/MIT). Please attribute the work as follows: *Frank Schultz, Digital Signal Processing - A Tutorial Featuring Computational Examples* with the URL https://github.com/spatialaudio/digital-signal-processing-exercises"
   ]
  }
 ],
 "metadata": {
  "kernelspec": {
   "display_name": "Python 3 (ipykernel)",
   "language": "python",
   "name": "python3"
  },
  "language_info": {
   "codemirror_mode": {
    "name": "ipython",
    "version": 3
   },
   "file_extension": ".py",
   "mimetype": "text/x-python",
   "name": "python",
   "nbconvert_exporter": "python",
   "pygments_lexer": "ipython3",
   "version": "3.9.12"
  }
 },
 "nbformat": 4,
 "nbformat_minor": 5
}
