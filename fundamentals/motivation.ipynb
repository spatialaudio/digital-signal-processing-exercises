{
 "cells": [
  {
   "cell_type": "markdown",
   "id": "1925d91c-35c3-4cb5-bcf1-3a52a731e4a2",
   "metadata": {},
   "source": [
    "Sascha Spors,\n",
    "Professorship Signal Theory and Digital Signal Processing,\n",
    "Institute of Communications Engineering (INT),\n",
    "Faculty of Computer Science and Electrical Engineering (IEF),\n",
    "University of Rostock,\n",
    "Germany\n",
    "\n",
    "# Tutorial Digital Signal Processing\n",
    "\n",
    "**Motivation [Holton,2021]**,\n",
    "Winter Semester 2021/22 (Course #24505)\n",
    "\n",
    "- lecture: https://github.com/spatialaudio/digital-signal-processing-lecture\n",
    "- tutorial: https://github.com/spatialaudio/digital-signal-processing-exercises\n",
    "\n",
    "Feel free to contact lecturer jacob.thoenes@uni-rostock.de"
   ]
  },
  {
   "cell_type": "markdown",
   "id": "b8143de8-a920-4fc9-8825-c1d7160805a7",
   "metadata": {},
   "source": [
    "## Advantages of digital signal processing\n",
    "\n",
    "- Powerful algorithms\n",
    "- Simple prototyping\n",
    "- Zero-tolerance design\n",
    "- Flexibility\n",
    "- Multiplatform support\n",
    "- Cost\n",
    "\n",
    "## Application of DSP\n",
    "\n",
    "- Speech signal processing\n",
    "- Audio signal processing\n",
    "- Image processing\n",
    "- Digital communication"
   ]
  },
  {
   "cell_type": "markdown",
   "id": "7db09526-1048-4ab5-9622-dfd9c49dd680",
   "metadata": {},
   "source": [
    "# **Copyright**\n",
    "\n",
    "The notebooks are provided as [Open Educational Resources](https://en.wikipedia.org/wiki/Open_educational_resources). Feel free to use the notebooks for your own purposes. The text is licensed under [Creative Commons Attribution 4.0](https://creativecommons.org/licenses/by/4.0/), the code of the IPython examples under the [MIT license](https://opensource.org/licenses/MIT). Please attribute the work as follows: *Frank Schultz, Digital Signal Processing - A Tutorial Featuring Computational Examples* with the URL https://github.com/spatialaudio/digital-signal-processing-exercises"
   ]
  }
 ],
 "metadata": {
  "kernelspec": {
   "display_name": "Python 3 (ipykernel)",
   "language": "python",
   "name": "python3"
  },
  "language_info": {
   "codemirror_mode": {
    "name": "ipython",
    "version": 3
   },
   "file_extension": ".py",
   "mimetype": "text/x-python",
   "name": "python",
   "nbconvert_exporter": "python",
   "pygments_lexer": "ipython3",
   "version": "3.9.12"
  }
 },
 "nbformat": 4,
 "nbformat_minor": 5
}
