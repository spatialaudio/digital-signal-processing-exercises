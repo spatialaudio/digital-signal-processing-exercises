{
 "cells": [
  {
   "cell_type": "markdown",
   "id": "21742d4e-2162-43b0-b9c2-2ae759feb961",
   "metadata": {},
   "source": [
    "Sascha Spors,\n",
    "Professorship Signal Theory and Digital Signal Processing,\n",
    "Institute of Communications Engineering (INT),\n",
    "Faculty of Computer Science and Electrical Engineering (IEF),\n",
    "University of Rostock,\n",
    "Germany\n",
    "\n",
    "# Tutorial Digital Signal Processing\n",
    "\n",
    "**Speed Comparison**,\n",
    "Winter Semester 2021/22 (Course #24505)\n",
    "\n",
    "- lecture: https://github.com/spatialaudio/digital-signal-processing-lecture\n",
    "- tutorial: https://github.com/spatialaudio/digital-signal-processing-exercises\n",
    "\n",
    "Feel free to contact lecturer frank.schultz@uni-rostock.de"
   ]
  },
  {
   "cell_type": "code",
   "execution_count": 1,
   "id": "c1b94900-2507-4c1e-af74-8a0f7f3fae72",
   "metadata": {},
   "outputs": [],
   "source": [
    "import time\n",
    "\n",
    "import matplotlib.pyplot as plt\n",
    "import numpy as np"
   ]
  },
  {
   "cell_type": "markdown",
   "id": "37612dcb-937d-4b74-bffb-2be1d6a6c819",
   "metadata": {},
   "source": [
    "# Speed comparison between for-loops and linear algebra notation\n",
    "\n",
    "Repeating the DFT calculation in terms of a matrix operation is recommended in [DFT Fundamentals](../dft/dft_intro.ipynb). This recommendation is based on speed optimization.\n",
    "The impact of the time of using for-loops to calculate the transpose instead the simple `np.transpose` from `numpy` is evaluated below."
   ]
  },
  {
   "cell_type": "code",
   "execution_count": 2,
   "id": "25a35fff-5bc9-40f9-ae12-83502a09a198",
   "metadata": {
    "tags": []
   },
   "outputs": [],
   "source": [
    "# Program to transpose a matrix using a nested loop\n",
    "t_for = []\n",
    "t_npy = []\n",
    "\n",
    "# increasing matrix shapes\n",
    "shapes = np.arange(10, 1000, 100)\n",
    "\n",
    "for s in shapes:\n",
    "    # generate random matrix\n",
    "    X = np.random.rand(s, s)\n",
    "    # empty result matrix\n",
    "    result = np.zeros((s, s))\n",
    "\n",
    "    # start for-loop timer\n",
    "    start = time.process_time()\n",
    "    # iterate through rows\n",
    "    for i in range(len(X)):\n",
    "        # iterate through columns\n",
    "        for j in range(len(X[0])):\n",
    "            result[j][i] = X[i][j]\n",
    "    # save for-loops timer\n",
    "    t_for.append(time.process_time() - start)\n",
    "\n",
    "    # start numpy timer\n",
    "    start = time.process_time()\n",
    "    np.transpose(X)\n",
    "    # save numpy timer\n",
    "    t_npy.append(time.process_time() - start)\n",
    "\n",
    "t_for = np.array(t_for)\n",
    "t_npy = np.array(t_npy)"
   ]
  },
  {
   "cell_type": "code",
   "execution_count": 4,
   "id": "ddc796f4-430e-4617-a642-d8e3ed8f2559",
   "metadata": {},
   "outputs": [
    {
     "data": {
      "image/png": "[encoded data removed]",
      "text/plain": [
       "<Figure size 432x288 with 1 Axes>"
      ]
     },
     "metadata": {
      "needs_background": "light"
     },
     "output_type": "display_data"
    }
   ],
   "source": [
    "plt.plot(shapes, t_for, \"C0-\", label=\"for-loop\")\n",
    "plt.plot(shapes, t_npy, \"C1-\", label=\"matrix operation\")\n",
    "plt.xlabel(r\"matrix shape $n \\times n$\")\n",
    "plt.xticks(\n",
    "    ticks=[10, 200, 400, 600, 800],\n",
    "    labels=[\n",
    "        r\"$10 \\times 10$\",\n",
    "        r\"$200 \\times 200$\",\n",
    "        r\"$400 \\times 400$\",\n",
    "        r\"$600 \\times 600$\",\n",
    "        r\"$800 \\times 800$\",\n",
    "    ],\n",
    ")\n",
    "plt.ylabel(r\"calculation time $t$\")\n",
    "plt.legend()\n",
    "plt.grid(True)"
   ]
  },
  {
   "cell_type": "markdown",
   "id": "a7acb502-27c9-4cf2-b95f-6a8bed132c7a",
   "metadata": {},
   "source": [
    "Based on the plot shown, it should be clear why for loops should be avoided, especially with large problems. One more reason for the extreme divergence is, that Python is an interpreted and not compiled language. "
   ]
  },
  {
   "cell_type": "markdown",
   "id": "4c82eb5c-3fe7-4cc2-b9a4-acd4a85b9977",
   "metadata": {},
   "source": [
    "**Copyright**\n",
    "\n",
    "The notebooks are provided as [Open Educational Resources](https://en.wikipedia.org/wiki/Open_educational_resources). Feel free to use the notebooks for your own purposes. The text is licensed under [Creative Commons Attribution 4.0](https://creativecommons.org/licenses/by/4.0/), the code of the IPython examples under the [MIT license](https://opensource.org/licenses/MIT). Please attribute the work as follows: *Frank Schultz, Digital Signal Processing - A Tutorial Featuring Computational Examples* with the URL https://github.com/spatialaudio/digital-signal-processing-exercises"
   ]
  }
 ],
 "metadata": {
  "kernelspec": {
   "display_name": "Python 3 (ipykernel)",
   "language": "python",
   "name": "python3"
  },
  "language_info": {
   "codemirror_mode": {
    "name": "ipython",
    "version": 3
   },
   "file_extension": ".py",
   "mimetype": "text/x-python",
   "name": "python",
   "nbconvert_exporter": "python",
   "pygments_lexer": "ipython3",
   "version": "3.9.12"
  }
 },
 "nbformat": 4,
 "nbformat_minor": 5
}
