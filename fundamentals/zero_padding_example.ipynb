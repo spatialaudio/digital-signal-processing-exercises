{
 "cells": [
  {
   "cell_type": "markdown",
   "id": "64ccaa64-f87f-49bc-acff-0ffb426ca228",
   "metadata": {},
   "source": [
    "Sascha Spors,\n",
    "Professorship Signal Theory and Digital Signal Processing,\n",
    "Institute of Communications Engineering (INT),\n",
    "Faculty of Computer Science and Electrical Engineering (IEF),\n",
    "University of Rostock,\n",
    "Germany\n",
    "\n",
    "# Tutorial Digital Signal Processing\n",
    "\n",
    "**Zero-Padding**,\n",
    "Winter Semester 2021/22 (Course #24505)\n",
    "\n",
    "- lecture: https://github.com/spatialaudio/digital-signal-processing-lecture\n",
    "- tutorial: https://github.com/spatialaudio/digital-signal-processing-exercises\n",
    "\n",
    "Feel free to contact lecturer frank.schultz@uni-rostock.de"
   ]
  },
  {
   "cell_type": "code",
   "execution_count": null,
   "id": "b175d2ca-dcc5-4bb0-82c8-59b19b9dce03",
   "metadata": {},
   "outputs": [],
   "source": [
    "import matplotlib.pyplot as plt\n",
    "import numpy as np\n",
    "from ipywidgets import interact"
   ]
  },
  {
   "cell_type": "markdown",
   "id": "a7d87495-5133-4ed1-917a-f52033fbe587",
   "metadata": {},
   "source": [
    "## Spectral effect of sampling"
   ]
  },
  {
   "cell_type": "code",
   "execution_count": null,
   "id": "210e79ca-11ec-451f-bb56-7965fb845944",
   "metadata": {},
   "outputs": [],
   "source": [
    "def zero_padding(N=16):\n",
    "    f_0 = 1143  # Hz\n",
    "    f_s = 8000  # Hz\n",
    "\n",
    "    ω_0 = 2 * np.pi * f_0 / f_s\n",
    "    x_n = np.cos(ω_0 * np.arange(16))\n",
    "    x_n_plt = np.zeros(N)\n",
    "\n",
    "    x_n_plt[:16] = x_n\n",
    "    X_n = np.fft.fft(x_n_plt).real[: N // 2]\n",
    "\n",
    "    k_max = np.argmax(X_n)\n",
    "    Δf = f_s / N\n",
    "\n",
    "    fig, (ax1, ax2) = plt.subplots(2, figsize=(15, 8))\n",
    "    fig.suptitle(\"Spectrum of a cosine as a function of increasing DFT length\")\n",
    "    ax1.stem(x_n_plt)\n",
    "    ax1.set(ylabel=r\"$x[n]$\", xlabel=r\"$n$\")\n",
    "\n",
    "    ax2.plot(\n",
    "        np.linspace(0, len(X_n), 2**9),\n",
    "        np.fft.fft(x_n_plt, n=2**10).real[: 2**9],\n",
    "        linewidth=0.8,\n",
    "    )\n",
    "    ax2.stem(X_n)\n",
    "    ax2.scatter(k_max, X_n[k_max], c=\"r\", linewidth=5, label=r\"$k_{max}$\")\n",
    "    ax2.set(\n",
    "        ylabel=r\"$X(\\omega)$\",\n",
    "        xlabel=r\"$\\omega$\",\n",
    "        xticks=[k_max],\n",
    "        xticklabels=[r\"$\\omega_0$\"],\n",
    "    )\n",
    "    ax2.legend()\n",
    "    plt.show()\n",
    "\n",
    "    print(\"Δω=\", 2 * np.pi / N, r\"Hz\")\n",
    "    print(\"Δf=(f_s/2π)*Δω=\", Δf, r\"Hz\")\n",
    "    print(r\"k_max=\", k_max)\n",
    "    print(\"ω_0=k_max*Δω=\", k_max * 2 * np.pi / N, r\"Hz\")\n",
    "    print(\"f_0=k_max*Δf=\", k_max * Δf, r\"Hz\")\n",
    "    print(\"Err(ω_0)=\", abs(f_0 - (k_max * Δf)), r\"Hz\")\n",
    "    print(\"\\n\\n\")\n",
    "\n",
    "\n",
    "interact(zero_padding, N=(16, 129, 16))"
   ]
  },
  {
   "cell_type": "markdown",
   "id": "1cdaed63-2ec0-40b7-950f-3d14e97a6b22",
   "metadata": {},
   "source": [
    "**Copyright**\n",
    "\n",
    "The notebooks are provided as [Open Educational Resources](https://en.wikipedia.org/wiki/Open_educational_resources). Feel free to use the notebooks for your own purposes. The text is licensed under [Creative Commons Attribution 4.0](https://creativecommons.org/licenses/by/4.0/), the code of the IPython examples under the [MIT license](https://opensource.org/licenses/MIT). Please attribute the work as follows: *Frank Schultz, Digital Signal Processing - A Tutorial Featuring Computational Examples* with the URL https://github.com/spatialaudio/digital-signal-processing-exercises"
   ]
  }
 ],
 "metadata": {
  "kernelspec": {
   "display_name": "Python 3 (ipykernel)",
   "language": "python",
   "name": "python3"
  },
  "language_info": {
   "codemirror_mode": {
    "name": "ipython",
    "version": 3
   },
   "file_extension": ".py",
   "mimetype": "text/x-python",
   "name": "python",
   "nbconvert_exporter": "python",
   "pygments_lexer": "ipython3",
   "version": "3.9.12"
  }
 },
 "nbformat": 4,
 "nbformat_minor": 5
}
