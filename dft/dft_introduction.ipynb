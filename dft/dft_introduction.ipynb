{
 "cells": [
  {
   "cell_type": "markdown",
   "id": "32f16d81-9143-49f1-9421-812547898989",
   "metadata": {
    "tags": []
   },
   "source": [
    "Sascha Spors,\n",
    "Professorship Signal Theory and Digital Signal Processing,\n",
    "Institute of Communications Engineering (INT),\n",
    "Faculty of Computer Science and Electrical Engineering (IEF),\n",
    "University of Rostock,\n",
    "Germany\n",
    "\n",
    "# Tutorial Digital Signal Processing\n",
    "\n",
    "**DFT Introduction**,\n",
    "Winter Semester 2021/22 (Course #24505)\n",
    "\n",
    "- lecture: https://github.com/spatialaudio/digital-signal-processing-lecture\n",
    "- tutorial: https://github.com/spatialaudio/digital-signal-processing-exercises\n",
    "\n",
    "Feel free to contact lecturer frank.schultz@uni-rostock.de"
   ]
  },
  {
   "cell_type": "code",
   "execution_count": null,
   "id": "9746ac8d-5363-4a1e-9eb8-b1ff2512fec3",
   "metadata": {},
   "outputs": [],
   "source": [
    "import timeit\n",
    "\n",
    "import matplotlib.pyplot as plt\n",
    "import numpy as np\n",
    "from numpy.fft import fft, ifft\n",
    "from numpy.linalg import inv\n",
    "from scipy.special import diric"
   ]
  },
  {
   "cell_type": "markdown",
   "id": "f013426f-0c94-4d1a-b75e-80dc9e8476e5",
   "metadata": {},
   "source": [
    "# Discrete Fourier Transform (DFT)\n",
    "\n",
    "## Input Signal\n",
    "\n",
    "Let us first define a **complex-valued signal** $x[k]$ of a certain block length $N$ ranging from $0\\leq k\\leq N-1$.\n",
    "\n",
    "The variable `tmpmu` defines the frequency of the signal. We will see later how this is connected to the DFT.\n",
    "For now on, leave it with `tmpmu=1`. This results in exactly one period of cosine and sine building the complex signal. If `tmpmu=2` we get exactly two periods of cos/sin. We'll get get an idea of `tmpmu`..."
   ]
  },
  {
   "cell_type": "code",
   "execution_count": null,
   "id": "78ff90ad-3005-4e98-b640-978cc809b351",
   "metadata": {},
   "outputs": [],
   "source": [
    "N = 2**3  # signal block length\n",
    "k = np.arange(N)  # all required sample/time indices\n",
    "A = 10  # signal amplitude\n",
    "\n",
    "tmpmu = 2 - 1 / 2  # DFT eigenfrequency worst case\n",
    "tmpmu = 1  # DFT eigenfrequency best case\n",
    "\n",
    "x = A * np.exp(tmpmu * +1j * 2 * np.pi / N * k)\n",
    "\n",
    "# plot\n",
    "plt.stem(k, np.real(x), markerfmt=\"C0o\", basefmt=\"C0:\", linefmt=\"C0:\", label=\"real\")\n",
    "plt.stem(k, np.imag(x), markerfmt=\"C1o\", basefmt=\"C1:\", linefmt=\"C1:\", label=\"imag\")\n",
    "# note that connecting the samples by lines is actually wrong, we\n",
    "# use it anyway for more visual convenience:\n",
    "plt.plot(k, np.real(x), \"C0-\", lw=0.5)\n",
    "plt.plot(k, np.imag(x), \"C1-\", lw=0.5)\n",
    "plt.xlabel(r\"sample $k$\")\n",
    "plt.ylabel(r\"complex-valued input signal $x[k]$\")\n",
    "plt.legend()\n",
    "plt.grid(True)"
   ]
  },
  {
   "cell_type": "markdown",
   "id": "d450eb08-9d91-4374-ae60-3786e424a80c",
   "metadata": {},
   "source": [
    "We will now perform an DFT of $x[k]$ since we are interested in the frequency spectrum of it.\n",
    "\n",
    "## DFT Definition\n",
    "\n",
    "The discrete Fourier transform pair for a discrete-time signal $x[k]$ with sample index $k$ and the corresponding DFT spectrum $X[\\mu]$ with frequency index $\\mu$ is given as \n",
    "\\begin{align}\n",
    "\\text{DFT}: X[\\mu]=&\\sum_{k=0}^{N-1}x[k]\\cdot\\mathrm{e}^{-\\mathrm{j}\\frac{2\\pi}{N}k\\mu}\\\\\n",
    "\\text{IDFT}: x[k]=\\frac{1}{N}&\\sum_{\\mu=0}^{N-1}X[\\mu]\\cdot\\mathrm{e}^{+\\mathrm{j}\\frac{2\\pi}{N}k\\mu}\n",
    "\\end{align}\n",
    "\n",
    "Note the sign reversal in the exp()-function and the $1/N$ normalization in the IDFT. This convention is used by the majority of DSP text books and also in Python's `numpy.fft.fft()`, `numpy.fft.ifft()` and Matlab's `fft()`, `ifft()` routines."
   ]
  },
  {
   "cell_type": "markdown",
   "id": "7dbdb9b5-b2c4-4eba-bfb5-a6f3f2d45ded",
   "metadata": {},
   "source": [
    "## DFT and IDFT with For-Loops\n",
    "\n",
    "We are now going to implement the DFT and IDFT with for-loop handling. While this might be helpful to validate  algorithms in its initial development phase, this should be avoided for practical used code in the field: for-loops are typically slow and very often more complicated to read than appropriate set up matrices and vectors. Especially for very large $N$ the computation time is very long.\n",
    "\n",
    "Anyway, the for-loop concept is: the DFT can be implemented with an outer for loop iterating over $\\mu$ and an inner for loop summing over all $k$ for a specific $\\mu$.\n",
    "\n",
    "We use variable with _ subscript here, in order to save nice variable names for the matrix based calculation."
   ]
  },
  {
   "cell_type": "code",
   "execution_count": null,
   "id": "b6f14689-e794-41a1-b3aa-d71ad44bc7ad",
   "metadata": {},
   "outputs": [],
   "source": [
    "# DFT with for-loop:\n",
    "X_ = np.zeros((N, 1), dtype=complex)  # alloc RAM, init with zeros\n",
    "for mu_ in range(N):  # do for all DFT frequency indices\n",
    "    for k_ in range(N):  # do for all sample indices\n",
    "        X_[mu_] += x[k_] * np.exp(-1j * 2 * np.pi / N * k_ * mu_)"
   ]
  },
  {
   "cell_type": "markdown",
   "id": "1e91474d-6693-48e9-9cd7-a5b6478955fa",
   "metadata": {},
   "source": [
    "IDFT with outer and inner looping reads as follows."
   ]
  },
  {
   "cell_type": "code",
   "execution_count": null,
   "id": "2f87fb5f-27bb-4a9c-8921-08fffc5f9442",
   "metadata": {},
   "outputs": [],
   "source": [
    "# IDFT with for-loop:\n",
    "x_ = np.zeros((N, 1), dtype=complex)  # alloc RAM, init with zeros\n",
    "for k_ in range(N):\n",
    "    for mu_ in range(N):\n",
    "        x_[k_] += X_[mu_] * np.exp(+1j * 2 * np.pi / N * k_ * mu_)\n",
    "x_ *= 1 / N  # normalization in the IDFT stage"
   ]
  },
  {
   "cell_type": "markdown",
   "id": "73257713-f22c-463d-8122-d255c51695c5",
   "metadata": {},
   "source": [
    "Besides exchanged variables, main differences are sign reversal in exp() and the $1/N$ normalization. This is expected due to the DFT/IDFT equation pair given above."
   ]
  },
  {
   "cell_type": "markdown",
   "id": "bf0034dc-e90c-460f-83a1-aeb86e3971d1",
   "metadata": {},
   "source": [
    "## DFT and IDFT with Matrix Multiplication\n",
    "\n",
    "Now we do a little better: We should think of the DFT/IDFT in terms of a matrix operation [setting up a set of linear equations](../fundamentals/linear_algebra.ipynb). \n",
    "\n",
    "Why? It´s because of the [speed of for-loops](../fundamentals/speed_eval_for_vs_linalg.ipynb)\n",
    "\n",
    "For that we define a column vector containing the samples of the discrete-time signal $x[k]$\n",
    "\\begin{equation}\n",
    "\\mathbf{x}_k = (x[k=0], x[k=1], x[k=2], \\dots , x[k=N-1])^\\mathrm{T}\n",
    "\\end{equation}\n",
    "\n",
    "and a column vector containing the DFT coefficients $X[\\mu]$\n",
    "\n",
    "\\begin{equation}\n",
    "\\mathbf{x}_\\mu = (X[\\mu=0], X[\\mu=1], X[\\mu=2], \\dots, X[\\mu=N-1])^\\mathrm{T}\n",
    "\\end{equation}\n",
    "\n",
    "Then, the matrix operations\n",
    "\n",
    "\\begin{align}\n",
    "\\text{DFT:   } & \\mathbf{x}_\\mu = \\mathbf{W}^* \\mathbf{x}_k\\\\\n",
    "\\text{IDFT:   } & \\mathbf{x}_k = \\frac{1}{N} \\mathbf{W} \\mathbf{x}_\\mu\n",
    "\\end{align}\n",
    "\n",
    "hold.\n",
    "\n",
    "$()^\\mathrm{T}$ is the transpose, $()^*$ is the conjugate complex.\n"
   ]
  },
  {
   "cell_type": "markdown",
   "id": "05b663b9-8132-4d83-b18e-ddf47e08631f",
   "metadata": {},
   "source": [
    "The $N\\times N$ Fourier matrix is defined as (element-wise operation $\\odot$)\n",
    "\\begin{equation}\n",
    "\\mathbf{W} = \\mathrm{e}^{+\\mathrm{j}\\frac{2\\pi}{N} \\odot \\mathbf{K}}\n",
    "\\end{equation}\n",
    "using the so called twiddle factor (note that the sign in the exp() is our convention)\n",
    "\\begin{equation}\n",
    "W_N = \\mathrm{e}^{+\\mathrm{j}\\frac{2\\pi}{N}}\n",
    "\\end{equation}\n",
    "and the outer product\n",
    "\\begin{equation}\n",
    "\\mathbf{K} = \n",
    "\\begin{bmatrix}\n",
    "0\\\\\n",
    "1\\\\\n",
    "2\\\\\n",
    "\\vdots\\\\\n",
    "N-1\n",
    "\\end{bmatrix}\n",
    "\\cdot\n",
    "\\begin{bmatrix}\n",
    "0 & 1 & 2 & \\cdots & N-1\n",
    "\\end{bmatrix}\n",
    "\\end{equation}\n",
    "containing all possible products $k\\,\\mu$ in a suitable arrangement.\n",
    "\n",
    "For the simple case $N=4$ these matrices are\n",
    "\\begin{align}\n",
    "\\mathbf{K} = \\begin{bmatrix}\n",
    "0 & 0 & 0 & 0\\\\\n",
    "0 & 1 & 2 & 3\\\\\n",
    "0 & 2 & 4 & 6\\\\\n",
    "0 & 3 & 6 & 9\n",
    "\\end{bmatrix}\n",
    "\\rightarrow\n",
    "\\mathbf{W} = \\begin{bmatrix}\n",
    "1 & 1 & 1 & 1\\\\\n",
    "1 & +\\mathrm{j} & -1 & -\\mathrm{j}\\\\\n",
    "1 & -1 & 1 & -1\\\\\n",
    "1 & -\\mathrm{j} & -1 & +\\mathrm{j}\n",
    "\\end{bmatrix}\n",
    "\\end{align}"
   ]
  },
  {
   "cell_type": "code",
   "execution_count": null,
   "id": "45c2e894-5c46-4f8f-8251-48bc20e2b580",
   "metadata": {},
   "outputs": [],
   "source": [
    "# k = np.arange(N)  # all required sample/time indices, already defined above\n",
    "\n",
    "# all required DFT frequency indices, actually same entries like in k\n",
    "mu = np.arange(N)\n",
    "\n",
    "# set up matrices\n",
    "K = np.outer(k, mu)  # get all possible entries k*mu in meaningful arrangement\n",
    "W = np.exp(+1j * 2 * np.pi / N * K)  # analysis matrix for DFT"
   ]
  },
  {
   "cell_type": "code",
   "execution_count": null,
   "id": "717644a1-c01f-4bb1-bae4-055d2aeb2036",
   "metadata": {},
   "outputs": [],
   "source": [
    "# visualize the content of the Fourier matrix\n",
    "# we've already set up (use other N if desired):\n",
    "# N = 8\n",
    "# k = np.arange(N)\n",
    "# mu = np.arange(N)\n",
    "# W = np.exp(+1j*2*np.pi/N*np.outer(k, mu))  # set up Fourier matrix\n",
    "\n",
    "fig, ax = plt.subplots(1, N)\n",
    "fig.set_size_inches(6, 6)\n",
    "fig.suptitle(\n",
    "    r\"Fourier Matrix for $N=$%d, blue: $\\Re(\\mathrm{e}^{+\\mathrm{j} \\frac{2\\pi}{N} \\mu k})$, orange: $\\Im(\\mathrm{e}^{+\\mathrm{j} \\frac{2\\pi}{N} \\mu k})$\"\n",
    "    % N\n",
    ")\n",
    "\n",
    "for tmp in range(N):\n",
    "    ax[tmp].set_facecolor(\"lavender\")\n",
    "    ax[tmp].plot(W[:, tmp].real, k, \"C0o-\", ms=7, lw=0.5)\n",
    "    ax[tmp].plot(W[:, tmp].imag, k, \"C1o-.\", ms=7, lw=0.5)\n",
    "    ax[tmp].set_ylim(N - 1, 0)\n",
    "    ax[tmp].set_xlim(-5 / 4, +5 / 4)\n",
    "    if tmp == 0:\n",
    "        ax[tmp].set_yticks(np.arange(0, N))\n",
    "        ax[tmp].set_xticks(np.arange(-1, 1 + 1, 1))\n",
    "        ax[tmp].set_ylabel(r\"$\\longleftarrow k$\")\n",
    "    else:\n",
    "        ax[tmp].set_yticks([], minor=False)\n",
    "        ax[tmp].set_xticks([], minor=False)\n",
    "    ax[tmp].set_title(r\"$\\mu=$%d\" % tmp)\n",
    "fig.tight_layout()\n",
    "fig.subplots_adjust(top=0.91)\n",
    "\n",
    "fig.savefig(\"fourier_matrix.png\", dpi=300)\n",
    "\n",
    "# TBD: row version for analysis"
   ]
  },
  {
   "cell_type": "markdown",
   "id": "10bfce3d-6140-441e-b9be-2ac76088e8bd",
   "metadata": {},
   "source": [
    "## Fourier Matrix Properties\n",
    "\n",
    "The DFT and IDFT basically solve two sets of linear equations, that are linked as forward and inverse problem.\n",
    "\n",
    "This is revealed with the important property of the Fourier matrix\n",
    "\n",
    "\\begin{equation}\n",
    "\\mathbf{W}^{-1}\n",
    "= \\frac{\\mathbf{W}^\\mathrm{H}}{N}\n",
    "= \\frac{\\mathbf{W}^\\mathrm{*}}{N},\n",
    "\\end{equation}\n",
    "\n",
    "the latter holds since the matrix is symmetric.\n",
    "\n",
    "Thus, we see that by our convention, the DFT is the inverse problem (signal analysis) and the IDFT is the forward problem (signal synthesis)\n",
    "\n",
    "\\begin{align}\n",
    "\\text{DFT:   } & \\mathbf{x}_\\mu = \\mathbf{W}^* \\mathbf{x}_k \\rightarrow \\mathbf{x}_\\mu = N \\mathbf{W}^{-1} \\, \\mathbf{x}_k\\\\\n",
    "\\text{IDFT:   } & \\mathbf{x}_k = \\frac{1}{N} \\mathbf{W} \\mathbf{x}_\\mu.\n",
    "\\end{align}\n",
    "\n",
    "The occurrence of the $N$, $1/N$ factor is due to the prevailing convention in signal processing literature.\n",
    "\n",
    "If the matrix is normalised as $\\frac{\\mathbf{W}}{\\sqrt{N}}$, a so called unitary matrix results, for which the \n",
    "important property\n",
    "\\begin{equation}\n",
    "(\\frac{\\mathbf{W}}{\\sqrt{N}})^\\mathrm{H} \\, (\\frac{\\mathbf{W}}{\\sqrt{N}}) = \\mathbf{I} =\n",
    "(\\frac{\\mathbf{W}}{\\sqrt{N}})^{-1} \\, (\\frac{\\mathbf{W}}{\\sqrt{N}})\n",
    "\\end{equation}\n",
    "holds, i.e. the complex-conjugate, transpose is equal to the inverse\n",
    "$(\\frac{\\mathbf{W}}{\\sqrt{N}})^\\mathrm{H} = (\\frac{\\mathbf{W}}{\\sqrt{N}})^{-1}$\n",
    "and due to the matrix symmetry also\n",
    "$(\\frac{\\mathbf{W}}{\\sqrt{N}})^* =\n",
    "(\\frac{\\mathbf{W}}{\\sqrt{N}})^{-1}$\n",
    "is valid.\n",
    "\n",
    "This tells that the matrix $\\frac{\\mathbf{W}}{\\sqrt{N}}$ is **orthonormal**, i.e. the matrix spans a orthonormal vector basis (the best what we can get in linear algebra world to work with) of $N$ normalized DFT eigensignals.\n",
    "\n",
    "So, DFT and IDFT is transforming vectors into other vectors using the vector basis of the Fourier matrix.\n"
   ]
  },
  {
   "cell_type": "markdown",
   "id": "1d2f54ab-84c1-4422-88b2-85971c6a1c68",
   "metadata": {},
   "source": [
    "## Check DFT Eigensignals and -Frequencies\n",
    "\n",
    "The columns of the Fourier matrix $\\mathbf{W}$ contain the eigensignals of the DFT. These are\n",
    "\\begin{align}\n",
    "w_\\mu[k] = \\cos(\\frac{2\\pi}{N} k \\mu) + \\mathrm{j} \\sin(\\frac{2\\pi}{N} k \\mu)\n",
    "\\end{align}\n",
    "since we have intentionally set up the matrix this way.\n",
    "\n",
    "The plot below shows the eigensignal for $\\mu=1$, which fits again one signal period in the block length $N$.\n",
    "For $\\mu=2$ we obtain two periods in one block.\n",
    "\n",
    "The eigensignals for $0\\leq \\mu \\leq N-1$ therefore exhibit a certain digital frequency, the so called DFT eigenfrequencies.\n",
    "\n",
    "What eigensignal corresponds to $\\mu=0$?..."
   ]
  },
  {
   "cell_type": "code",
   "execution_count": null,
   "id": "48cfb214-6073-4131-bab5-f9d75c03a68c",
   "metadata": {},
   "outputs": [],
   "source": [
    "tmpmu = 1  # column index\n",
    "\n",
    "plt.stem(\n",
    "    k, np.real(W[:, tmpmu]), label=\"real\", markerfmt=\"C0o\", basefmt=\"C0:\", linefmt=\"C0:\"\n",
    ")\n",
    "plt.stem(\n",
    "    k, np.imag(W[:, tmpmu]), label=\"imag\", markerfmt=\"C1o\", basefmt=\"C1:\", linefmt=\"C1:\"\n",
    ")\n",
    "# note that connecting the samples by lines is actually wrong, we\n",
    "# use it anyway for more visual convenience\n",
    "plt.plot(k, np.real(W[:, tmpmu]), \"C0-\", lw=0.5)\n",
    "plt.plot(k, np.imag(W[:, tmpmu]), \"C1-\", lw=0.5)\n",
    "plt.xlabel(r\"sample $k$\")\n",
    "plt.ylabel(r\"DFT eigensignal = \" + str(tmpmu + 1) + \". column of $\\mathbf{W}$\")\n",
    "plt.legend()\n",
    "plt.grid(True)"
   ]
  },
  {
   "cell_type": "markdown",
   "id": "2ae138be-9b98-4d24-9928-f9ad381ac65a",
   "metadata": {},
   "source": [
    "The nice thing about the chosen eigenfrequencies, is that the eigensignals are **orthogonal**.\n",
    "\n",
    "This choice of the vector basis is on purpose and one of the most important ones in linear algebra and signal processing.\n",
    "\n",
    "We might for example check orthogonality with the **complex** inner product of some matrix columns."
   ]
  },
  {
   "cell_type": "code",
   "execution_count": null,
   "id": "5fb716e2-344e-49e6-aa99-d90ec9465b84",
   "metadata": {},
   "outputs": [],
   "source": [
    "np.dot(np.conj(W[:, 0]), W[:, 0])  # same eigensignal, same eigenfrequency\n",
    "# np.vdot(W[:,0],W[:,0])  # this is the suitable numpy function"
   ]
  },
  {
   "cell_type": "code",
   "execution_count": null,
   "id": "c2411538-cfdc-4cc7-91c9-67fdaddef0d9",
   "metadata": {},
   "outputs": [],
   "source": [
    "np.dot(np.conj(W[:, 0]), W[:, 1])  # different eigensignals\n",
    "# np.vdot(W[:,0],W[:,1])  # this is the suitable numpy function\n",
    "# result should be zero, with numerical precision close to zero:"
   ]
  },
  {
   "cell_type": "markdown",
   "id": "a2a9a1d4-7bd5-4de1-bbec-a92f0052c9e9",
   "metadata": {},
   "source": [
    "[**For further readings**](dft_windowing_tutorial/dft_windowing_tutorial.pdf)"
   ]
  },
  {
   "cell_type": "markdown",
   "id": "c50c35c8-e799-4e07-a081-9fcdbb4ea612",
   "metadata": {},
   "source": [
    "**Copyright**\n",
    "\n",
    "The notebooks are provided as [Open Educational Resources](https://en.wikipedia.org/wiki/Open_educational_resources). Feel free to use the notebooks for your own purposes. The text is licensed under [Creative Commons Attribution 4.0](https://creativecommons.org/licenses/by/4.0/), the code of the IPython examples under the [MIT license](https://opensource.org/licenses/MIT). Please attribute the work as follows: *Frank Schultz, Digital Signal Processing - A Tutorial Featuring Computational Examples* with the URL https://github.com/spatialaudio/digital-signal-processing-exercises"
   ]
  }
 ],
 "metadata": {
  "kernelspec": {
   "display_name": "Python 3 (ipykernel)",
   "language": "python",
   "name": "python3"
  },
  "language_info": {
   "codemirror_mode": {
    "name": "ipython",
    "version": 3
   },
   "file_extension": ".py",
   "mimetype": "text/x-python",
   "name": "python",
   "nbconvert_exporter": "python",
   "pygments_lexer": "ipython3",
   "version": "3.9.12"
  }
 },
 "nbformat": 4,
 "nbformat_minor": 5
}
