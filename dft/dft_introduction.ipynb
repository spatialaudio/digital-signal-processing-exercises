{
 "cells": [
  {
   "cell_type": "markdown",
   "id": "32f16d81-9143-49f1-9421-812547898989",
   "metadata": {
    "tags": []
   },
   "source": [
    "Sascha Spors,\n",
    "Professorship Signal Theory and Digital Signal Processing,\n",
    "Institute of Communications Engineering (INT),\n",
    "Faculty of Computer Science and Electrical Engineering (IEF),\n",
    "University of Rostock,\n",
    "Germany\n",
    "\n",
    "# Tutorial Digital Signal Processing\n",
    "\n",
    "**DFT Introduction**,\n",
    "Winter Semester 2021/22 (Course #24505)\n",
    "\n",
    "- lecture: https://github.com/spatialaudio/digital-signal-processing-lecture\n",
    "- tutorial: https://github.com/spatialaudio/digital-signal-processing-exercises\n",
    "\n",
    "Feel free to contact lecturer frank.schultz@uni-rostock.de"
   ]
  },
  {
   "cell_type": "code",
   "execution_count": null,
   "id": "9746ac8d-5363-4a1e-9eb8-b1ff2512fec3",
   "metadata": {},
   "outputs": [],
   "source": [
    "import timeit\n",
    "\n",
    "import matplotlib.pyplot as plt\n",
    "import numpy as np\n",
    "from numpy.fft import fft, ifft\n",
    "from numpy.linalg import inv\n",
    "from scipy.special import diric"
   ]
  },
  {
   "cell_type": "markdown",
   "id": "0ecdd269-21a8-413e-9067-db02ca0a71e7",
   "metadata": {},
   "source": [
    "Sascha Spors,\n",
    "Professorship Signal Theory and Digital Signal Processing,\n",
    "Institute of Communications Engineering (INT),\n",
    "Faculty of Computer Science and Electrical Engineering (IEF),\n",
    "University of Rostock,\n",
    "Germany\n",
    "\n",
    "# Tutorial Digital Signal Processing\n",
    "\n",
    "**DFT Fundamentals**,\n",
    "Winter Semester 2021/22 (Course #24505)\n",
    "\n",
    "- lecture: https://github.com/spatialaudio/digital-signal-processing-lecture\n",
    "- tutorial: https://github.com/spatialaudio/digital-signal-processing-exercises\n",
    "\n",
    "Feel free to contact lecturer frank.schultz@uni-rostock.de# Discrete Fourier Transform (DFT)"
   ]
  },
  {
   "cell_type": "markdown",
   "id": "f013426f-0c94-4d1a-b75e-80dc9e8476e5",
   "metadata": {},
   "source": [
    "## Input Signal\n",
    "\n",
    "Let us first define a **complex-valued signal** $x[k]$ of a certain block length $N$ ranging from $0\\leq k\\leq N-1$.\n",
    "\n",
    "The variable `tmpmu` defines the frequency of the signal. We will see later how this is connected to the DFT.\n",
    "For now on, leave it with `tmpmu=1`. This results in exactly one period of cosine and sine building the complex signal. If `tmpmu=2` we get exactly two periods of cos/sin. We'll get get an idea of `tmpmu`..."
   ]
  },
  {
   "cell_type": "code",
   "execution_count": null,
   "id": "78ff90ad-3005-4e98-b640-978cc809b351",
   "metadata": {},
   "outputs": [],
   "source": [
    "N = 2**3  # signal block length\n",
    "k = np.arange(N)  # all required sample/time indices\n",
    "A = 10  # signal amplitude\n",
    "\n",
    "tmpmu = 2 - 1 / 2  # DFT eigenfrequency worst case\n",
    "tmpmu = 1  # DFT eigenfrequency best case\n",
    "\n",
    "x = A * np.exp(tmpmu * +1j * 2 * np.pi / N * k)\n",
    "\n",
    "# plot\n",
    "plt.stem(k, np.real(x), markerfmt=\"C0o\", basefmt=\"C0:\", linefmt=\"C0:\", label=\"real\")\n",
    "plt.stem(k, np.imag(x), markerfmt=\"C1o\", basefmt=\"C1:\", linefmt=\"C1:\", label=\"imag\")\n",
    "# note that connecting the samples by lines is actually wrong, we\n",
    "# use it anyway for more visual convenience:\n",
    "plt.plot(k, np.real(x), \"C0-\", lw=0.5)\n",
    "plt.plot(k, np.imag(x), \"C1-\", lw=0.5)\n",
    "plt.xlabel(r\"sample $k$\")\n",
    "plt.ylabel(r\"complex-valued input signal $x[k]$\")\n",
    "plt.legend()\n",
    "plt.grid(True)"
   ]
  },
  {
   "cell_type": "markdown",
   "id": "d450eb08-9d91-4374-ae60-3786e424a80c",
   "metadata": {},
   "source": [
    "We will now perform an DFT of $x[k]$ since we are interested in the frequency spectrum of it.\n",
    "\n",
    "## DFT Definition\n",
    "\n",
    "The discrete Fourier transform pair for a discrete-time signal $x[k]$ with sample index $k$ and the corresponding DFT spectrum $X[\\mu]$ with frequency index $\\mu$ is given as \n",
    "\\begin{align}\n",
    "\\text{DFT}: X[\\mu]=&\\sum_{k=0}^{N-1}x[k]\\cdot\\mathrm{e}^{-\\mathrm{j}\\frac{2\\pi}{N}k\\mu}\\\\\n",
    "\\text{IDFT}: x[k]=\\frac{1}{N}&\\sum_{\\mu=0}^{N-1}X[\\mu]\\cdot\\mathrm{e}^{+\\mathrm{j}\\frac{2\\pi}{N}k\\mu}\n",
    "\\end{align}\n",
    "\n",
    "Note the sign reversal in the exp()-function and the $1/N$ normalization in the IDFT. This convention is used by the majority of DSP text books and also in Python's `numpy.fft.fft()`, `numpy.fft.ifft()` and Matlab's `fft()`, `ifft()` routines."
   ]
  },
  {
   "cell_type": "markdown",
   "id": "7dbdb9b5-b2c4-4eba-bfb5-a6f3f2d45ded",
   "metadata": {},
   "source": [
    "## DFT and IDFT with For-Loops\n",
    "\n",
    "We are now going to implement the DFT and IDFT with for-loop handling. While this might be helpful to validate  algorithms in its initial development phase, this should be avoided for practical used code in the field: for-loops are typically slow and very often more complicated to read than appropriate set up matrices and vectors. Especially for very large $N$ the computation time is very long.\n",
    "\n",
    "Anyway, the for-loop concept is: the DFT can be implemented with an outer for loop iterating over $\\mu$ and an inner for loop summing over all $k$ for a specific $\\mu$.\n",
    "\n",
    "We use variable with _ subscript here, in order to save nice variable names for the matrix based calculation."
   ]
  },
  {
   "cell_type": "code",
   "execution_count": null,
   "id": "b6f14689-e794-41a1-b3aa-d71ad44bc7ad",
   "metadata": {},
   "outputs": [],
   "source": [
    "# DFT with for-loop:\n",
    "X_ = np.zeros((N, 1), dtype=complex)  # alloc RAM, init with zeros\n",
    "for mu_ in range(N):  # do for all DFT frequency indices\n",
    "    for k_ in range(N):  # do for all sample indices\n",
    "        X_[mu_] += x[k_] * np.exp(-1j * 2 * np.pi / N * k_ * mu_)"
   ]
  },
  {
   "cell_type": "markdown",
   "id": "1e91474d-6693-48e9-9cd7-a5b6478955fa",
   "metadata": {},
   "source": [
    "IDFT with outer and inner looping reads as follows."
   ]
  },
  {
   "cell_type": "code",
   "execution_count": null,
   "id": "2f87fb5f-27bb-4a9c-8921-08fffc5f9442",
   "metadata": {},
   "outputs": [],
   "source": [
    "# IDFT with for-loop:\n",
    "x_ = np.zeros((N, 1), dtype=complex)  # alloc RAM, init with zeros\n",
    "for k_ in range(N):\n",
    "    for mu_ in range(N):\n",
    "        x_[k_] += X_[mu_] * np.exp(+1j * 2 * np.pi / N * k_ * mu_)\n",
    "x_ *= 1 / N  # normalization in the IDFT stage"
   ]
  },
  {
   "cell_type": "markdown",
   "id": "73257713-f22c-463d-8122-d255c51695c5",
   "metadata": {},
   "source": [
    "Besides exchanged variables, main differences are sign reversal in exp() and the $1/N$ normalization. This is expected due to the DFT/IDFT equation pair given above."
   ]
  },
  {
   "cell_type": "markdown",
   "id": "bf0034dc-e90c-460f-83a1-aeb86e3971d1",
   "metadata": {},
   "source": [
    "## DFT and IDFT with Matrix Multiplication\n",
    "\n",
    "Now we do a little better: We should think of the DFT/IDFT in terms of a matrix operation setting up a set of linear equations. \n",
    "\n",
    "Why? It´s because of the [speed of for-loops](../fundamentals/speed_eval_for_vs_linalg.ipynb)\n",
    "\n",
    "For that we define a column vector containing the samples of the discrete-time signal $x[k]$\n",
    "\\begin{equation}\n",
    "\\mathbf{x}_k = (x[k=0], x[k=1], x[k=2], \\dots , x[k=N-1])^\\mathrm{T}\n",
    "\\end{equation}\n",
    "\n",
    "and a column vector containing the DFT coefficients $X[\\mu]$\n",
    "\n",
    "\\begin{equation}\n",
    "\\mathbf{x}_\\mu = (X[\\mu=0], X[\\mu=1], X[\\mu=2], \\dots, X[\\mu=N-1])^\\mathrm{T}\n",
    "\\end{equation}\n",
    "\n",
    "Then, the matrix operations\n",
    "\n",
    "\\begin{align}\n",
    "\\text{DFT:   } & \\mathbf{x}_\\mu = \\mathbf{W}^* \\mathbf{x}_k\\\\\n",
    "\\text{IDFT:   } & \\mathbf{x}_k = \\frac{1}{N} \\mathbf{W} \\mathbf{x}_\\mu\n",
    "\\end{align}\n",
    "\n",
    "hold.\n",
    "\n",
    "$()^\\mathrm{T}$ is the transpose, $()^*$ is the conjugate complex.\n"
   ]
  },
  {
   "cell_type": "markdown",
   "id": "05b663b9-8132-4d83-b18e-ddf47e08631f",
   "metadata": {},
   "source": [
    "The $N\\times N$ Fourier matrix is defined as (element-wise operation $\\odot$)\n",
    "\\begin{equation}\n",
    "\\mathbf{W} = \\mathrm{e}^{+\\mathrm{j}\\frac{2\\pi}{N} \\odot \\mathbf{K}}\n",
    "\\end{equation}\n",
    "using the so called twiddle factor (note that the sign in the exp() is our convention)\n",
    "\\begin{equation}\n",
    "W_N = \\mathrm{e}^{+\\mathrm{j}\\frac{2\\pi}{N}}\n",
    "\\end{equation}\n",
    "and the outer product\n",
    "\\begin{equation}\n",
    "\\mathbf{K} = \n",
    "\\begin{bmatrix}\n",
    "0\\\\\n",
    "1\\\\\n",
    "2\\\\\n",
    "\\vdots\\\\\n",
    "N-1\n",
    "\\end{bmatrix}\n",
    "\\cdot\n",
    "\\begin{bmatrix}\n",
    "0 & 1 & 2 & \\cdots & N-1\n",
    "\\end{bmatrix}\n",
    "\\end{equation}\n",
    "containing all possible products $k\\,\\mu$ in a suitable arrangement.\n",
    "\n",
    "For the simple case $N=4$ these matrices are\n",
    "\\begin{align}\n",
    "\\mathbf{K} = \\begin{bmatrix}\n",
    "0 & 0 & 0 & 0\\\\\n",
    "0 & 1 & 2 & 3\\\\\n",
    "0 & 2 & 4 & 6\\\\\n",
    "0 & 3 & 6 & 9\n",
    "\\end{bmatrix}\n",
    "\\rightarrow\n",
    "\\mathbf{W} = \\begin{bmatrix}\n",
    "1 & 1 & 1 & 1\\\\\n",
    "1 & +\\mathrm{j} & -1 & -\\mathrm{j}\\\\\n",
    "1 & -1 & 1 & -1\\\\\n",
    "1 & -\\mathrm{j} & -1 & +\\mathrm{j}\n",
    "\\end{bmatrix}\n",
    "\\end{align}"
   ]
  },
  {
   "cell_type": "code",
   "execution_count": null,
   "id": "45c2e894-5c46-4f8f-8251-48bc20e2b580",
   "metadata": {},
   "outputs": [],
   "source": [
    "# k = np.arange(N)  # all required sample/time indices, already defined above\n",
    "\n",
    "# all required DFT frequency indices, actually same entries like in k\n",
    "mu = np.arange(N)\n",
    "\n",
    "# set up matrices\n",
    "K = np.outer(k, mu)  # get all possible entries k*mu in meaningful arrangement\n",
    "W = np.exp(+1j * 2 * np.pi / N * K)  # analysis matrix for DFT"
   ]
  },
  {
   "cell_type": "code",
   "execution_count": null,
   "id": "717644a1-c01f-4bb1-bae4-055d2aeb2036",
   "metadata": {},
   "outputs": [],
   "source": [
    "# visualize the content of the Fourier matrix\n",
    "# we've already set up (use other N if desired):\n",
    "# N = 8\n",
    "# k = np.arange(N)\n",
    "# mu = np.arange(N)\n",
    "# W = np.exp(+1j*2*np.pi/N*np.outer(k, mu))  # set up Fourier matrix\n",
    "\n",
    "fig, ax = plt.subplots(1, N)\n",
    "fig.set_size_inches(6, 6)\n",
    "fig.suptitle(\n",
    "    r\"Fourier Matrix for $N=$%d, blue: $\\Re(\\mathrm{e}^{+\\mathrm{j} \\frac{2\\pi}{N} \\mu k})$, orange: $\\Im(\\mathrm{e}^{+\\mathrm{j} \\frac{2\\pi}{N} \\mu k})$\"\n",
    "    % N\n",
    ")\n",
    "\n",
    "for tmp in range(N):\n",
    "    ax[tmp].set_facecolor(\"lavender\")\n",
    "    ax[tmp].plot(W[:, tmp].real, k, \"C0o-\", ms=7, lw=0.5)\n",
    "    ax[tmp].plot(W[:, tmp].imag, k, \"C1o-.\", ms=7, lw=0.5)\n",
    "    ax[tmp].set_ylim(N - 1, 0)\n",
    "    ax[tmp].set_xlim(-5 / 4, +5 / 4)\n",
    "    if tmp == 0:\n",
    "        ax[tmp].set_yticks(np.arange(0, N))\n",
    "        ax[tmp].set_xticks(np.arange(-1, 1 + 1, 1))\n",
    "        ax[tmp].set_ylabel(r\"$\\longleftarrow k$\")\n",
    "    else:\n",
    "        ax[tmp].set_yticks([], minor=False)\n",
    "        ax[tmp].set_xticks([], minor=False)\n",
    "    ax[tmp].set_title(r\"$\\mu=$%d\" % tmp)\n",
    "fig.tight_layout()\n",
    "fig.subplots_adjust(top=0.91)\n",
    "\n",
    "fig.savefig(\"fourier_matrix.png\", dpi=300)\n",
    "\n",
    "# TBD: row version for analysis"
   ]
  },
  {
   "cell_type": "markdown",
   "id": "10bfce3d-6140-441e-b9be-2ac76088e8bd",
   "metadata": {},
   "source": [
    "## Fourier Matrix Properties\n",
    "\n",
    "The DFT and IDFT basically solve two sets of linear equations, that are linked as forward and inverse problem.\n",
    "\n",
    "This is revealed with the important property of the Fourier matrix\n",
    "\n",
    "\\begin{equation}\n",
    "\\mathbf{W}^{-1}\n",
    "= \\frac{\\mathbf{W}^\\mathrm{H}}{N}\n",
    "= \\frac{\\mathbf{W}^\\mathrm{*}}{N},\n",
    "\\end{equation}\n",
    "\n",
    "the latter holds since the matrix is symmetric.\n",
    "\n",
    "Thus, we see that by our convention, the DFT is the inverse problem (signal analysis) and the IDFT is the forward problem (signal synthesis)\n",
    "\n",
    "\\begin{align}\n",
    "\\text{DFT:   } & \\mathbf{x}_\\mu = \\mathbf{W}^* \\mathbf{x}_k \\rightarrow \\mathbf{x}_\\mu = N \\mathbf{W}^{-1} \\, \\mathbf{x}_k\\\\\n",
    "\\text{IDFT:   } & \\mathbf{x}_k = \\frac{1}{N} \\mathbf{W} \\mathbf{x}_\\mu.\n",
    "\\end{align}\n",
    "\n",
    "The occurrence of the $N$, $1/N$ factor is due to the prevailing convention in signal processing literature.\n",
    "\n",
    "If the matrix is normalised as $\\frac{\\mathbf{W}}{\\sqrt{N}}$, a so called unitary matrix results, for which the \n",
    "important property\n",
    "\\begin{equation}\n",
    "(\\frac{\\mathbf{W}}{\\sqrt{N}})^\\mathrm{H} \\, (\\frac{\\mathbf{W}}{\\sqrt{N}}) = \\mathbf{I} =\n",
    "(\\frac{\\mathbf{W}}{\\sqrt{N}})^{-1} \\, (\\frac{\\mathbf{W}}{\\sqrt{N}})\n",
    "\\end{equation}\n",
    "holds, i.e. the complex-conjugate, transpose is equal to the inverse\n",
    "$(\\frac{\\mathbf{W}}{\\sqrt{N}})^\\mathrm{H} = (\\frac{\\mathbf{W}}{\\sqrt{N}})^{-1}$\n",
    "and due to the matrix symmetry also\n",
    "$(\\frac{\\mathbf{W}}{\\sqrt{N}})^* =\n",
    "(\\frac{\\mathbf{W}}{\\sqrt{N}})^{-1}$\n",
    "is valid.\n",
    "\n",
    "This tells that the matrix $\\frac{\\mathbf{W}}{\\sqrt{N}}$ is **orthonormal**, i.e. the matrix spans a orthonormal vector basis (the best what we can get in linear algebra world to work with) of $N$ normalized DFT eigensignals.\n",
    "\n",
    "So, DFT and IDFT is transforming vectors into other vectors using the vector basis of the Fourier matrix.\n"
   ]
  },
  {
   "cell_type": "markdown",
   "id": "1d2f54ab-84c1-4422-88b2-85971c6a1c68",
   "metadata": {},
   "source": [
    "## Check DFT Eigensignals and -Frequencies\n",
    "\n",
    "The columns of the Fourier matrix $\\mathbf{W}$ contain the eigensignals of the DFT. These are\n",
    "\\begin{align}\n",
    "w_\\mu[k] = \\cos(\\frac{2\\pi}{N} k \\mu) + \\mathrm{j} \\sin(\\frac{2\\pi}{N} k \\mu)\n",
    "\\end{align}\n",
    "since we have intentionally set up the matrix this way.\n",
    "\n",
    "The plot below shows the eigensignal for $\\mu=1$, which fits again one signal period in the block length $N$.\n",
    "For $\\mu=2$ we obtain two periods in one block.\n",
    "\n",
    "The eigensignals for $0\\leq \\mu \\leq N-1$ therefore exhibit a certain digital frequency, the so called DFT eigenfrequencies.\n",
    "\n",
    "What eigensignal corresponds to $\\mu=0$?..."
   ]
  },
  {
   "cell_type": "code",
   "execution_count": null,
   "id": "48cfb214-6073-4131-bab5-f9d75c03a68c",
   "metadata": {},
   "outputs": [],
   "source": [
    "tmpmu = 1  # column index\n",
    "\n",
    "plt.stem(\n",
    "    k, np.real(W[:, tmpmu]), label=\"real\", markerfmt=\"C0o\", basefmt=\"C0:\", linefmt=\"C0:\"\n",
    ")\n",
    "plt.stem(\n",
    "    k, np.imag(W[:, tmpmu]), label=\"imag\", markerfmt=\"C1o\", basefmt=\"C1:\", linefmt=\"C1:\"\n",
    ")\n",
    "# note that connecting the samples by lines is actually wrong, we\n",
    "# use it anyway for more visual convenience\n",
    "plt.plot(k, np.real(W[:, tmpmu]), \"C0-\", lw=0.5)\n",
    "plt.plot(k, np.imag(W[:, tmpmu]), \"C1-\", lw=0.5)\n",
    "plt.xlabel(r\"sample $k$\")\n",
    "plt.ylabel(r\"DFT eigensignal = \" + str(tmpmu + 1) + \". column of $\\mathbf{W}$\")\n",
    "plt.legend()\n",
    "plt.grid(True)"
   ]
  },
  {
   "cell_type": "markdown",
   "id": "2ae138be-9b98-4d24-9928-f9ad381ac65a",
   "metadata": {},
   "source": [
    "The nice thing about the chosen eigenfrequencies, is that the eigensignals are **orthogonal**.\n",
    "\n",
    "This choice of the vector basis is on purpose and one of the most important ones in linear algebra and signal processing.\n",
    "\n",
    "We might for example check orthogonality with the **complex** inner product of some matrix columns."
   ]
  },
  {
   "cell_type": "code",
   "execution_count": null,
   "id": "5fb716e2-344e-49e6-aa99-d90ec9465b84",
   "metadata": {},
   "outputs": [],
   "source": [
    "np.dot(np.conj(W[:, 0]), W[:, 0])  # same eigensignal, same eigenfrequency\n",
    "# np.vdot(W[:,0],W[:,0])  # this is the suitable numpy function"
   ]
  },
  {
   "cell_type": "code",
   "execution_count": null,
   "id": "c2411538-cfdc-4cc7-91c9-67fdaddef0d9",
   "metadata": {},
   "outputs": [],
   "source": [
    "np.dot(np.conj(W[:, 0]), W[:, 1])  # different eigensignals\n",
    "# np.vdot(W[:,0],W[:,1])  # this is the suitable numpy function\n",
    "# result should be zero, with numerical precision close to zero:"
   ]
  },
  {
   "cell_type": "markdown",
   "id": "2a1132be-c00a-46a0-a99a-7d317396c332",
   "metadata": {},
   "source": [
    "## Initial Example: IDFT Signal Synthesis for N=8\n",
    "\n",
    "Let us synthesize a discrete-time signal by using the IDFT in matrix notation for $N=8$.\n",
    "\n",
    "The signal should contain a DC value, the first and second eigenfrequency with different amplitudes, such as\n",
    "\n",
    "\\begin{equation}\n",
    "\\mathbf{x}_\\mu = [8, 2, 4, 0, 0, 0, 0, 0]^\\text{T}\n",
    "\\end{equation}\n",
    "\n",
    "using large `X_test` in code."
   ]
  },
  {
   "cell_type": "code",
   "execution_count": null,
   "id": "0a909515-0cc7-43d9-aaa1-a11b18220a39",
   "metadata": {},
   "outputs": [],
   "source": [
    "if N == 8:\n",
    "    X_test = np.array([8, 2, 4, 0, 0, 0, 0, 0])\n",
    "    # x_test = 1/N*W@X_test  # >= Python3.5\n",
    "    x_test = 1 / N * np.matmul(W, X_test)\n",
    "\n",
    "    plt.stem(\n",
    "        k, np.real(x_test), label=\"real\", markerfmt=\"C0o\", basefmt=\"C0:\", linefmt=\"C0:\"\n",
    "    )\n",
    "    plt.stem(\n",
    "        k, np.imag(x_test), label=\"imag\", markerfmt=\"C1o\", basefmt=\"C1:\", linefmt=\"C1:\"\n",
    "    )\n",
    "    # note that connecting the samples by lines is actually wrong, we\n",
    "    # use it anyway for more visual convenience\n",
    "    plt.plot(k, np.real(x_test), \"C0o-\", lw=0.5)\n",
    "    plt.plot(k, np.imag(x_test), \"C1o-\", lw=0.5)\n",
    "    plt.xlabel(r\"sample $k$\")\n",
    "    plt.ylabel(r\"$x[k]$\")\n",
    "    plt.legend()\n",
    "    plt.grid(True)\n",
    "\n",
    "    # check if results are identical with numpy ifft package\n",
    "    print(np.allclose(ifft(X_test), x_test))\n",
    "    print(\"DC is 1 as expected: \", np.mean(x_test))"
   ]
  },
  {
   "cell_type": "markdown",
   "id": "a9da07f3-8bc2-4b5c-af80-430a3f59c5cd",
   "metadata": {},
   "source": [
    "This is a linear combination of the Fourier matrix columns, which are the DFT eigensignals, as "
   ]
  },
  {
   "cell_type": "code",
   "execution_count": null,
   "id": "7539a0b6-71bd-493b-89f3-6b02cc9443a3",
   "metadata": {},
   "outputs": [],
   "source": [
    "if N == 8:\n",
    "    x_test2 = X_test[0] * W[:, 0] + X_test[1] * W[:, 1] + X_test[2] * W[:, 2]"
   ]
  },
  {
   "cell_type": "markdown",
   "id": "51592d98-70ae-44a0-85dd-129c3bbd3031",
   "metadata": {},
   "source": [
    "We don't need summing the other columns, since their DFT coefficients in `X_test` are zero.\n",
    "\n",
    "Finally, normalizing yields the IDFT."
   ]
  },
  {
   "cell_type": "code",
   "execution_count": null,
   "id": "0b106aa6-ca94-49a7-86e6-de8c8a74d6e1",
   "metadata": {},
   "outputs": [],
   "source": [
    "if N == 8:\n",
    "    x_test2 *= 1 / N\n",
    "    print(np.allclose(x_test, x_test2))  # check with result before"
   ]
  },
  {
   "cell_type": "markdown",
   "id": "b76cdf30-18d8-4935-9ac1-d15dbaaf5b1f",
   "metadata": {},
   "source": [
    "## Initial Example: DFT Spectrum Analysis for N=8\n",
    "\n",
    "Now, let us calculate the DFT of the signal `x_test`. As result, we'd expect the DFT vector\n",
    "\n",
    "\\begin{equation}\n",
    "\\mathbf{x}_\\mu = [8, 2, 4, 0, 0, 0, 0, 0]^\\text{T}\n",
    "\\end{equation}\n",
    "\n",
    "that we started from."
   ]
  },
  {
   "cell_type": "code",
   "execution_count": null,
   "id": "4382c07a-aff3-49d2-b09c-b016b58ca611",
   "metadata": {},
   "outputs": [],
   "source": [
    "if N == 8:\n",
    "    # X_test2 = np.conj(W)@x_test  # >= Python3.5\n",
    "    X_test2 = np.matmul(np.conj(W), x_test)  # DFT, i.e. analysis\n",
    "    print(np.allclose(X_test, X_test2))  # check with result before"
   ]
  },
  {
   "cell_type": "markdown",
   "id": "bfd2bc3a-585e-49cf-a497-f4dfde65c032",
   "metadata": {},
   "source": [
    "This looks good. It is advisable also to check against the `numpy.fft` implementation:"
   ]
  },
  {
   "cell_type": "code",
   "execution_count": null,
   "id": "09ed0d81-edcd-41fe-9d69-dd55cf5a0c40",
   "metadata": {},
   "outputs": [],
   "source": [
    "if N == 8:\n",
    "    print(np.allclose(fft(x_test), X_test))"
   ]
  },
  {
   "cell_type": "markdown",
   "id": "7679fabe-790b-4e95-b707-e1380671ee16",
   "metadata": {},
   "source": [
    "Besides different quantization errors in range $10^{-15...-16}$ (which is prominent even with 64Bit double precision calculation)\n",
    "all results produce the same output."
   ]
  },
  {
   "cell_type": "markdown",
   "id": "2a63dc5b-3038-4f65-a192-fe95bb49b2de",
   "metadata": {},
   "source": [
    "The analysis stage for the discrete-time signal domain, i.e. the DFT\n",
    "can be reinvented by some intuition:\n",
    "How 'much' of the reference signal $\\mathbf{w}_{\\text{column i}}$\n",
    "(any column in $\\mathbf{W}$)\n",
    "is contained in the discrete-time signal $\\mathbf{x}_k$ that is to be analysed.\n",
    "\n",
    "In signal processing / statistic terms we look for the amount of correlation\n",
    "of the signals\n",
    "$\\mathbf{w}_{\\text{column i}}$ and $\\mathbf{x}_k$.\n",
    "\n",
    "In linear algebra terms we are interested in the projection of $\\mathbf{x}_k$ onto\n",
    "$\\mathbf{w}_{\\text{column i}}$, because the resulting length of this vector\n",
    "reveals the amount of correlation, which is precisely one DFT coefficient $X[\\cdot]$.\n",
    "\n",
    "The complex inner products $\\mathbf{w}_{\\text{column i}}^\\text{H} \\cdot \\mathbf{x}_k$\n",
    "reveals these searched quantities."
   ]
  },
  {
   "cell_type": "code",
   "execution_count": null,
   "id": "e202326e-1d68-46a6-bb5c-197fd2664121",
   "metadata": {},
   "outputs": [],
   "source": [
    "if N == 8:\n",
    "    print(np.conj(W[:, 0]) @ x_test)\n",
    "    print(np.conj(W[:, 1]) @ x_test)\n",
    "    print(np.conj(W[:, 2]) @ x_test)"
   ]
  },
  {
   "cell_type": "markdown",
   "id": "f7cb6c5a-31c1-46bb-94f7-c86f8f425c10",
   "metadata": {},
   "source": [
    "Doing this for all columns of matrix $\\mathbf{W}$, all DFT coefficients are obtained, such as\n",
    "\n",
    "\\begin{align}\n",
    "X[\\mu=0] =& \\mathbf{w}_{\\text{column 1}}^\\text{H} \\cdot \\mathbf{x}_k\\\\\n",
    "X[\\mu=1] =& \\mathbf{w}_{\\text{column 2}}^\\text{H} \\cdot \\mathbf{x}_k\\\\\n",
    "X[\\mu=2] =& \\mathbf{w}_{\\text{column 3}}^\\text{H} \\cdot \\mathbf{x}_k\\\\\n",
    "X[\\mu=3] =& \\mathbf{w}_{\\text{column 4}}^\\text{H} \\cdot \\mathbf{x}_k\\\\\n",
    "&\\vdots\\\\\n",
    "X[\\mu=N-1] =& \\mathbf{w}_{\\text{column N}}^\\text{H} \\cdot \\mathbf{x}_k.\n",
    "\\end{align}\n",
    "\n",
    "Naturally, all operations can be merged to one single\n",
    "matrix multiplication using the conjugate transpose of $\\mathbf{W}$.\n",
    "\n",
    "\\begin{equation}\n",
    "\\mathbf{x}_\\mu = \\mathbf{W}^\\text{H} \\cdot \\mathbf{x}_k = \\mathbf{W}^* \\cdot \\mathbf{x}_k\n",
    "\\end{equation}\n",
    "\n",
    "That's what we have performed with the single liner `X_test2 = np.matmul(np.conj(W), x_test)`"
   ]
  },
  {
   "cell_type": "markdown",
   "id": "25dff7ac-42a3-4e27-810b-da93d7f58e79",
   "metadata": {},
   "source": [
    "## Example: Plot the DFT Magnitude Spectrum\n",
    "\n",
    "We should now be familiar with the DFT and IDFT basic idea.\n",
    "\n",
    "Now, let us **return to our initially created signal** `x` at the very beginning of this notebook. We want to explore and learn to interpret the DFT magnitude spectrum of it. So, we'd perform a DFT first."
   ]
  },
  {
   "cell_type": "code",
   "execution_count": null,
   "id": "16930759-e992-4384-8c13-f10512326e64",
   "metadata": {},
   "outputs": [],
   "source": [
    "X = fft(x)\n",
    "# print(np.allclose(np.conj(W)@x, X))  # >=Python 3.5\n",
    "print(np.allclose(np.matmul(np.conj(W), x), X))"
   ]
  },
  {
   "cell_type": "markdown",
   "id": "1bc1525a-ab4c-4b79-b1bf-9007b2e897ac",
   "metadata": {},
   "source": [
    "Next, let us plot the magnitude of the spectrum over $\\mu$.\n",
    "\n",
    "- We should play around with the variable `tmpmu` when defining the input signal at the very beginning of the notebook. For example we can check what happens for `tmpmu = 1`, `tmpmu = 2` and run the whole notebook to visualize the actual magnitude spectra.\n",
    "\n",
    "We should recognize the link of the 'energy' at $\\mu$ in the magnitude spectrum with the chosen `tmpmu`.\n",
    "\n",
    "- We can apply any real valued `tmpmu` for creating the input signal, for example\n",
    "    - `tmpmu = N+1`, `tmpmu = N+2`\n",
    "    - `tmpmu = 1.5`\n",
    "    \n",
    "We should explain what happens in these cases. Recall periodicity and eigenfrequencies/-signals as fundamental concepts."
   ]
  },
  {
   "cell_type": "code",
   "execution_count": null,
   "id": "6b9f5b73-f214-49bd-8967-f65d08fcb802",
   "metadata": {},
   "outputs": [],
   "source": [
    "plt.stem(mu, np.abs(X) / N, markerfmt=\"C0o\", basefmt=\"C0:\", linefmt=\"C0:\")\n",
    "# plt.plot(mu, np.abs(X)/N, 'C0', lw=1)  # this is here a misleading plot and hence not used\n",
    "plt.xlabel(r\"DFT eigenfrequency $\\mu$\")\n",
    "plt.ylabel(r\"DFT spectrum magnitude $\\frac{|X[\\mu]|}{N}$\")\n",
    "plt.grid(True)"
   ]
  },
  {
   "cell_type": "markdown",
   "id": "3fb4872d-9a49-49c4-8637-b870c69fab5c",
   "metadata": {},
   "source": [
    "These exercises accompany the [dft_windowing_tutorial.pdf](dft_windowing_tutorial.pdf)"
   ]
  },
  {
   "cell_type": "markdown",
   "id": "3f9b380a-7a0d-4431-8b20-a5811022b5c1",
   "metadata": {
    "tags": []
   },
   "source": [
    "## Exercise 1: My Own DFT / IDFT Implementation\n",
    "\n",
    "Write Python functions `X = my_dft(x)` and `x = my_idft(X)` that calculate the DFT pair\n",
    "\n",
    "\\begin{align}\n",
    "X[\\mu] = \\mathrm{DFT}_N\\{x[k]\\} = &\\sum_{k=0}^{N-1} x[k] \\, (\\mathrm{e}^{-\\mathrm{j}\\frac{2\\pi}{N}})^{k \\cdot \\mu}\n",
    "\\\\\n",
    "x[k] = \\mathrm{IDFT}_N\\{X[\\mu]\\} = \\frac{1}{N} &\\sum_{\\mu=0}^{N-1} X[\\mu] \\, (\\mathrm{e}^{+\\mathrm{j}\\frac{2\\pi}{N}})^{k \\cdot \\mu}\n",
    "\\end{align}\n",
    "without using the pre-built functions `fft()` and `ifft()`. Check validity and performance against the built-in functions, especially try large $N$. We might consider the matrix operation approach rather than a for-loop implementation, given that the $N \\times N$ matrix fits into our RAM."
   ]
  },
  {
   "cell_type": "code",
   "execution_count": null,
   "id": "4641e140-f65c-4912-968a-982b6caab4c7",
   "metadata": {},
   "outputs": [],
   "source": [
    "def get_fourier_matrix(N):\n",
    "    k = np.arange(N)\n",
    "    return np.exp(+1j * 2 * np.pi / N * np.outer(k, k))\n",
    "\n",
    "\n",
    "def my_dft(x):\n",
    "    N = x.size\n",
    "    return np.conj(get_fourier_matrix(N)) @ x\n",
    "\n",
    "\n",
    "def my_idft(X):\n",
    "    N = X.size\n",
    "    return 1 / N * get_fourier_matrix(N) @ X"
   ]
  },
  {
   "cell_type": "code",
   "execution_count": null,
   "id": "c0865a9c-02d9-4b74-bd4f-2bb29ac4f9fa",
   "metadata": {},
   "outputs": [],
   "source": [
    "N = 2**8"
   ]
  },
  {
   "cell_type": "markdown",
   "id": "bd329b04-aa3c-43f0-b51f-4d76aaab0dfb",
   "metadata": {},
   "source": [
    "Check `my_dft` against numpy's `fft` with numpy's `allclose`"
   ]
  },
  {
   "cell_type": "code",
   "execution_count": null,
   "id": "8505f0d5-1ef4-4811-af59-02da5b68d1ca",
   "metadata": {},
   "outputs": [],
   "source": [
    "# create random complex valued signal\n",
    "x = np.random.randn(N) + 1j * np.random.randn(N)\n",
    "# check against numpy fft\n",
    "np.allclose(my_dft(x), fft(x))"
   ]
  },
  {
   "cell_type": "markdown",
   "id": "dc90c58c-4ffe-4edb-bfa4-35ef9e0cc92c",
   "metadata": {},
   "source": [
    "Check `my_idft` against numpy's `ifft` with numpy's `allclose`"
   ]
  },
  {
   "cell_type": "code",
   "execution_count": null,
   "id": "6969bcac-80b0-40b6-8149-bee39fa08598",
   "metadata": {},
   "outputs": [],
   "source": [
    "# create random complex valued spectrum\n",
    "X = np.random.randn(N) + 1j * np.random.randn(N)\n",
    "# check against numpy ifft\n",
    "np.allclose(my_idft(X), ifft(X))"
   ]
  },
  {
   "cell_type": "markdown",
   "id": "6166db33-7752-4006-90a5-6cdc1acdc062",
   "metadata": {},
   "source": [
    "check processing time as `dur`"
   ]
  },
  {
   "cell_type": "code",
   "execution_count": null,
   "id": "808bbfc1-8eb3-42f1-8fb9-8c8dcb1105bd",
   "metadata": {},
   "outputs": [],
   "source": [
    "N_rep = 2**8  # play around with N and N_rep to see that my_xxx() functions\n",
    "# are very slow for large N, i.e. our matrix multiplication generates very high\n",
    "# computing load compared to the FFT / IFFT algorithm used in numpy.fft package\n",
    "\n",
    "dur = timeit.timeit(\"my_dft(x)\", \"from __main__ import my_dft, x\", number=N_rep)\n",
    "print(\"my dft:\", dur)\n",
    "\n",
    "dur = timeit.timeit(\"fft(x)\", \"from __main__ import fft, x\", number=N_rep)\n",
    "print(\"numpy fft:\", dur)\n",
    "\n",
    "dur = timeit.timeit(\"my_idft(X)\", \"from __main__ import my_idft, X\", number=N_rep)\n",
    "print(\"my idft:\", dur)\n",
    "\n",
    "dur = timeit.timeit(\"ifft(X)\", \"from __main__ import ifft, X\", number=N_rep)\n",
    "print(\"numpy ifft\", dur)"
   ]
  },
  {
   "cell_type": "markdown",
   "id": "068a5053-c27e-4769-807a-3056eeb8a781",
   "metadata": {},
   "source": [
    "We see, that in practice we should better use the `fft()` and `ifft()` rourines rather than our own implementations  that exhibit comparably huge computational load."
   ]
  },
  {
   "cell_type": "markdown",
   "id": "6fefa5b9-47ef-4f78-b619-1b76fc698394",
   "metadata": {},
   "source": [
    "## Exercise 2: IDFT as Analytic Calculus / as Linear Vector Combination"
   ]
  },
  {
   "cell_type": "markdown",
   "id": "204b7eb0-d82b-475e-b494-5e5cdcc5eaee",
   "metadata": {},
   "source": [
    "The discrete-time signal\n",
    "\\begin{equation}\n",
    "x[k]=-2\\cdot\\sin\\left(\\frac{2\\pi}{4}k\\right)+3\\cdot\\cos\\left(\\frac{2\\pi}{4}\\cdot2k\\right)+1\n",
    "\\hspace{5mm}\\text{for}\\,\\,0\\leq k\\leq3\n",
    "\\end{equation}\n",
    "with $k\\in\\mathbb{Z}$ is given."
   ]
  },
  {
   "cell_type": "markdown",
   "id": "34ef04cb-c7ab-4f52-a5c1-be78cabb3519",
   "metadata": {},
   "source": [
    "**a)**\n",
    "\n",
    "Calculate the resulting values of $x[k]$ for $0\\leq k\\leq3$."
   ]
  },
  {
   "cell_type": "markdown",
   "id": "17c712c7-b8f3-464b-bcfa-3b5e47dbec9c",
   "metadata": {},
   "source": [
    "**Solution**\n",
    "\n",
    "\\begin{align}\n",
    "x[0]&=-2\\cdot\\sin\\left(2\\pi\\frac{1}{4}\\cdot0\\right)+3\\cdot\\cos\\left(2\\pi\\frac{2}{4}\\cdot0\\right)+1=3+1=4\\\\\n",
    "x[1]&=-2\\cdot\\sin\\left(2\\pi\\frac{1}{4}\\cdot1\\right)+3\\cdot\\cos\\left(2\\pi\\frac{2}{4}\\cdot1\\right)+1=-2-3+1=-4\\\\\n",
    "x[2]&=-2\\cdot\\sin\\left(2\\pi\\frac{1}{4}\\cdot2\\right)+3\\cdot\\cos\\left(2\\pi\\frac{2}{4}\\cdot2\\right)+1=3+1=4\\\\\n",
    "x[3]&=-2\\cdot\\sin\\left(2\\pi\\frac{1}{4}\\cdot3\\right)+3\\cdot\\cos\\left(2\\pi\\frac{2}{4}\\cdot3\\right)+1=2-3+1=0\n",
    "\\end{align}"
   ]
  },
  {
   "cell_type": "code",
   "execution_count": null,
   "id": "1858dca4-3597-48a6-84ca-1dc82ef92b0c",
   "metadata": {},
   "outputs": [],
   "source": [
    "N = 4\n",
    "k = np.arange(N)\n",
    "x = -2 * np.sin(2 * np.pi / N * k) + 3 * np.cos(2 * np.pi / N * 2 * k) + 1\n",
    "print(\"x=\", x)"
   ]
  },
  {
   "cell_type": "markdown",
   "id": "943e1458-a972-4fb8-b8b2-1cfcb3b38afc",
   "metadata": {},
   "source": [
    "**b)**\n",
    "\n",
    "Show analytically that the given values of $X[\\mu]$, $\\mu\\in\\mathbb{Z}$:\n",
    "\\begin{equation}\n",
    "X[\\mu=0]=4,\\quad X[\\mu=1]=4\\mathrm{j},\\quad  X[\\mu=2]=12\n",
    "\\end{equation}\n",
    "are the DFT coefficients of $x[k]$ stemming from our used DFT equation\n",
    "\\begin{equation}\n",
    "X[\\mu]=\\sum_{k=0}^{N-1}x[k]\\cdot\\mathrm{e}^{-\\mathrm{j}\\frac{2\\pi}{N}k\\mu}\n",
    "\\end{equation}\n",
    "with $N=4$.\n",
    "\n",
    "The following procedure is suggested: Set up the spectral\n",
    "coefficients $X[\\mu]$ in the form\n",
    "\n",
    "\\begin{equation}\n",
    "X[\\mu]=A[\\mu]\\cdot\\mathrm{e}^{\\mathrm{j}\\phi[\\mu]}\n",
    "\\end{equation}\n",
    "\n",
    "and specify the missing value $X[\\mu=3]$ so that the IDFT results in\n",
    "$x[k]\\in\\mathbb{R}$. Certain symmetries in the spectrum hold.\n",
    "\n",
    "Then calculate the IDFT analytically as\n",
    "\\begin{equation}\n",
    "x[k]=\\frac{1}{N}\\sum_{\\mu=0}^{N-1}X[\\mu]\\cdot\\mathrm{e}^{\\mathrm{j}\\frac{2\\pi}{N}k\\mu}\n",
    "\\end{equation}\n",
    "showing that this corresponds to the given signal $x[k]$.\n",
    "\n",
    "Also, check the results numerically. Store the DFT spectrum in `X` for future reference."
   ]
  },
  {
   "cell_type": "markdown",
   "id": "6661f96f-adbe-40a0-aeba-2e6ae642d3a8",
   "metadata": {},
   "source": [
    "**Solution**\n",
    "\n",
    "For manual calculus see [dft_windowing_tutorial.pdf](dft_windowing_tutorial.pdf)."
   ]
  },
  {
   "cell_type": "code",
   "execution_count": null,
   "id": "53d65017-88ad-4b58-88b9-3733da770efb",
   "metadata": {},
   "outputs": [],
   "source": [
    "mu = np.arange(N)\n",
    "W = np.exp(+1j * 2 * np.pi / N * np.outer(k, mu))  # Fourier matrix\n",
    "with np.printoptions(precision=3, suppress=True):\n",
    "    print(\"Fourier matrix W =\\n\", W)\n",
    "\n",
    "X = fft(x)\n",
    "\n",
    "# DFT as matrix mul\n",
    "X1 = np.conj(W) @ x\n",
    "\n",
    "# DFT as individual complex inner products using Fourier matrix column vectors\n",
    "X2 = np.zeros(N, dtype=\"complex\")\n",
    "for col in range(N):\n",
    "    X2[col] = np.vdot(W[:, col], x)\n",
    "\n",
    "with np.printoptions(precision=3, suppress=True):\n",
    "    print(\"X = \", X)\n",
    "    print(\"X1 == X2:\", np.allclose(X1, X2))\n",
    "    print(\"X1 == X:\", np.allclose(X1, X))"
   ]
  },
  {
   "cell_type": "markdown",
   "id": "aaa804ff-9588-49e1-9cb3-8fba1f013d7c",
   "metadata": {},
   "source": [
    "**c)**\n",
    "\n",
    "Plot the real and imaginary part as well as the magnitude and the phase of $X[\\mu]$ over $\\mu$."
   ]
  },
  {
   "cell_type": "code",
   "execution_count": null,
   "id": "449786fa-dc9e-41e3-bbde-3c75e9e69e0e",
   "metadata": {},
   "outputs": [],
   "source": [
    "plt.figure(figsize=(7, 4.375))\n",
    "plt.subplot(2, 2, 1)\n",
    "plt.plot(mu, X.real, \"C0o\", ms=7)\n",
    "plt.xlabel(r\"$\\mu$\")\n",
    "plt.ylabel(r\"$\\Re(X)$\")\n",
    "plt.grid(True)\n",
    "plt.subplot(2, 2, 2)\n",
    "plt.plot(mu, X.imag, \"C0o\", ms=7)\n",
    "plt.xlabel(r\"$\\mu$\")\n",
    "plt.ylabel(r\"$\\Im(X)$\")\n",
    "plt.grid(True)\n",
    "plt.subplot(2, 2, 3)\n",
    "plt.plot(mu, np.abs(X), \"C0o\", ms=7)\n",
    "plt.xlabel(r\"$\\mu$\")\n",
    "plt.ylabel(r\"$|X|$\")\n",
    "plt.grid(True)\n",
    "plt.subplot(2, 2, 4)\n",
    "plt.plot(mu, np.angle(X), \"C0o\", ms=7)\n",
    "plt.xlabel(r\"$\\mu$\")\n",
    "plt.ylabel(r\"$\\angle X$ / rad\")\n",
    "plt.grid(True)"
   ]
  },
  {
   "cell_type": "markdown",
   "id": "b3a4e8d8-0a12-4230-8078-0d2bdf9b6806",
   "metadata": {},
   "source": [
    "**d)**\n",
    "\n",
    "Remove the DC component in the DFT spectrum `X` and from that spectrum synthesise the signal $x_r[k]$ via IDFT.\n",
    "\n",
    "Check that the synthesised signal corresponds to\n",
    "\\begin{equation}\n",
    "x_r[k]=-2\\cdot\\sin\\left(\\frac{2\\pi}{4}k\\right)+3\\cdot\\cos\\left(\\frac{2\\pi}{4}\\cdot2k\\right)\n",
    "\\hspace{5mm}\\text{for}\\,\\,0\\leq k\\leq3\n",
    "\\end{equation}\n",
    "\n",
    "by help of a linear combination using the Fourier matrix."
   ]
  },
  {
   "cell_type": "code",
   "execution_count": null,
   "id": "1c4ebf2c-6766-492c-b6f0-d37fbb2b6cc6",
   "metadata": {},
   "outputs": [],
   "source": [
    "X[0] = 0  # remove DC\n",
    "\n",
    "# IDFT as matrix mul\n",
    "xr1 = 1 / N * W @ X\n",
    "\n",
    "# IDFT as linear combination of the Fourier matrix column vectors, i.e. DFT signals\n",
    "xr2 = 1 / N * (X[0] * W[:, 0] + X[1] * W[:, 1] + X[2] * W[:, 2] + X[3] * W[:, 3])\n",
    "\n",
    "xr_check = -2 * np.sin(2 * np.pi / N * k) + 3 * np.cos(2 * np.pi / N * 2 * k)\n",
    "print(np.allclose(xr1, xr_check))\n",
    "print(np.allclose(xr2, xr_check))"
   ]
  },
  {
   "cell_type": "markdown",
   "id": "a4eafb70-bae9-42c5-b41f-cefa3fd23fdd",
   "metadata": {},
   "source": [
    "**e)**\n",
    "\n",
    "A DFT-based audio analyser shall exhibit a frequency resolution of\n",
    "$\\Delta f=0.5$ Hz for a sampling frequency $f_s=44100$ Hz using a rectangular\n",
    "window.\n",
    "\n",
    "Determine the minimum required DFT length $N$ when only lengths $N=2^M$\n",
    "($M\\in\\mathbb{N}$) are allowed.\n",
    "\n",
    "What is the resulting frequency resolution then?"
   ]
  },
  {
   "cell_type": "markdown",
   "id": "d3a56209-cd8f-4828-91c5-07e26956ec3f",
   "metadata": {},
   "source": [
    "**Solution**\n",
    "\n",
    "\\begin{align}\n",
    "\\Delta f=\\frac{f_s}{N}=\\frac{f_s}{2^M}\\stackrel{!}{=}0.5\\,\\text{Hz}\\\\\n",
    "M=\\left\\lceil\\log_{2}\\left(\\frac{f_s}{\\Delta f}\\right)\\right\\rceil_{\\in\\mathbb{N}}\\\\\n",
    "=\\left\\lceil\\log_{2}\\left(\\frac{44100\\,\\text{Hz}}{0.5\\,\\text{Hz}}\\right)\\right\\rceil_{\\in\\mathbb{N}}\\\\\n",
    "=\\left\\lceil16.4285...\\right\\rceil_{\\in\\mathbb{N}}\\\\\n",
    "=17\\\\\n",
    "\\Rightarrow\\hspace{5mm} N=2^M=2^{17}=131072\n",
    "\\end{align}\n",
    "The resulting frequency resolution is thus\n",
    "\\begin{equation}\n",
    "\\Delta f=\\frac{f_s}{N}=\\frac{44100\\,\\text{Hz}}{131072}\\approx0.3365\\,\\text{Hz}.\\nonumber\n",
    "\\end{equation}"
   ]
  },
  {
   "cell_type": "code",
   "execution_count": null,
   "id": "b0913794-9451-48ec-bf9a-6ee2fc41ecf9",
   "metadata": {},
   "outputs": [],
   "source": [
    "df = 0.5\n",
    "fs = 44100\n",
    "M = np.ceil(np.log10(fs / df) / np.log10(2))\n",
    "Ntmp = 2**M\n",
    "print(\"N =\", Ntmp.astype(int))\n",
    "print(\"df =\", fs / Ntmp.astype(int), \"Hz\")"
   ]
  },
  {
   "cell_type": "markdown",
   "id": "8e23b0b2-9e60-48d8-a9fb-68a12bff8f94",
   "metadata": {},
   "source": [
    "## Exercise 3: DFT Analysis Using a Rectangular Window / DTFT Interpolation\n",
    "\n",
    "The DFT spectrum $X[\\mu]$ can used for interpolation towards the DTFT spectrum $X(\\Omega)$ with\n",
    "\n",
    "\\begin{equation}\n",
    "X(\\Omega)=\\sum_{\\mu=0}^{N-1}X[\\mu]\\cdot\\mathrm{e}^{-\\mathrm{j}\\frac{\\left(\\Omega-\\frac{2\\pi}{N}\\mu\\right)(N-1)}{2}}\\cdot\\text{psinc}_N\\left(\\Omega-\\frac{2\\pi}{N}\\mu\\right).\n",
    "\\end{equation}\n",
    "\n",
    "The interpolation kernel utilises the so-called **periodic sinc function**\n",
    "\n",
    "\\begin{align}\n",
    "\\text{psinc}_N(\\Omega)=\\begin{cases}\\frac{1}{N}\\cdot\\frac{\\sin\\left(\\frac{N}{2}\\Omega\\right)}{\\sin\\left(\\frac{1}{2}\\Omega\\right)}&\\text{for }\\Omega\\neq2\\pi m\\\\\n",
    "(-1)^{m(N-1)}&\\text{for }\\Omega=2\\pi m\\end{cases},\\,\\,m\\in\\mathbb{Z},\n",
    "\\end{align}\n",
    "\n",
    "which is also known as aliased sinc and Dirichlet function.\n",
    "This interpolation implies:\n",
    "- the DFT $X[\\mu]$ stems from a signal $x[k]$ for which periodicity of $N$ is inherent, we assume the first period at $0\\leq k\\leq N-1$ \n",
    "- the DFT spectrum is discrete and $N$ periodic\n",
    "- the DTFT $X(\\Omega)$ stems from the signal $x[k]$ for $0\\leq k\\leq N-1$, for all other $k$ is $x[k]=0$, i.e. considering only one period\n",
    "- the DTFT spectrum is continuous and $2\\pi$ periodic, which means that the signal $x[k]$ can not be periodic"
   ]
  },
  {
   "cell_type": "markdown",
   "id": "b78e4d5c-58e4-47dd-b033-9dd915e9f58b",
   "metadata": {},
   "source": [
    "**Task** \n",
    "\n",
    "A cosine signal $x[k]=\\cos(\\Omega k)$ with $0\\leq k \\leq N-1$ is to be analysed with the DFT using a rectangular window and assuming sampling frequency of $f_s=48$ kHz.\n",
    "\n",
    "For the parameters\n",
    "\n",
    "- $\\Omega=2\\cdot\\frac{2\\pi}{N}$, $N=8$\n",
    "- $\\Omega=2.5\\cdot\\frac{2\\pi}{N}$, $N=8$\n",
    "- $\\Omega=2\\cdot\\frac{2\\pi}{N}$, $N=9$\n",
    "- $\\Omega=2.5\\cdot\\frac{2\\pi}{N}$, $N=9$\n",
    "\n",
    "perform the following subtasks:\n",
    "\n",
    "**a)**\n",
    "\n",
    "Calculate the spectrum $X[\\mu]$ of $x[k]$ and visualise the real and\n",
    "imaginary part as well as the magnitude and the phase of $X[\\mu]$ over\n",
    "$0\\leq\\mu\\leq N-1$.\n",
    "\n",
    "**b)**\n",
    "\n",
    "Check the expected axial and point symmetries.\n",
    "\n",
    "**c)**\n",
    "\n",
    "Implement the DTFT interpolation equation above and visualise the $|X[\\mu]|$ and $|X(\\Omega)|$ over the frequency axes $\\mu$, $\\Omega$ and $f$.\n",
    "\n",
    "How and why the results are different?"
   ]
  },
  {
   "cell_type": "markdown",
   "id": "ea038862-5769-4ab5-b5da-5354f400a8db",
   "metadata": {},
   "source": [
    "**Solution**\n",
    "\n",
    "It is meaningful to code two functions for repeated calculations, the first is the DFT to DTFT interpolation, the second function creates the signal and calculates the DFT, DTFT and plots the requested graphs."
   ]
  },
  {
   "cell_type": "code",
   "execution_count": null,
   "id": "22ed3423-3cad-482f-8d21-3cb46a3788d5",
   "metadata": {},
   "outputs": [],
   "source": [
    "def dft2dtft(X, Om):\n",
    "    # DFT spectrum X\n",
    "    # digital angular freqency Om for which DTFT shall be evaluated\n",
    "    # DTFT Xi\n",
    "    N = len(X)\n",
    "    Xi = np.zeros(len(Om), dtype=\"complex\")\n",
    "    for i, Omega in enumerate(Om):\n",
    "        for mu_dft in range(N):\n",
    "            Xi[i] += (\n",
    "                X[mu_dft]\n",
    "                * np.exp(-1j / 2 * (Omega - 2 * np.pi / N * mu_dft) * (N - 1))\n",
    "                * diric(Omega - 2 * np.pi / N * mu_dft, N)\n",
    "            )\n",
    "    return Xi"
   ]
  },
  {
   "cell_type": "code",
   "execution_count": null,
   "id": "255032c5-3d27-47e7-85ae-7442a6e110c8",
   "metadata": {},
   "outputs": [],
   "source": [
    "def dft2dtft_playground_plot(\n",
    "    N=8, Om_sig=2, Om=np.linspace(0, 2 * np.pi, 2**8), fs=48000\n",
    "):\n",
    "    mu = np.arange(N)\n",
    "    k = mu\n",
    "    x = np.cos(Om_sig * k)  # indicated symmetry holds for real input signals!\n",
    "    dOm = 2 * np.pi / N\n",
    "    X_dft = fft(x)\n",
    "    X_dtft = dft2dtft(X_dft, Om)\n",
    "\n",
    "    plt.figure(figsize=(7, 4.375))\n",
    "    plt.subplot(2, 2, 1)\n",
    "    plt.plot(mu, X_dft.real, \"C0o\", ms=7)\n",
    "    plt.plot([N / 2, N / 2], [-N / 2, N / 2], \"C3:\")  # indicate axial symmetry\n",
    "    plt.xlim(0, N - 1)\n",
    "    plt.ylim(-N / 2, N / 2)\n",
    "    plt.xlabel(r\"$\\mu$\")\n",
    "    plt.ylabel(r\"$\\Re(X)$\")\n",
    "    plt.title(\"axial symmetry wrt red line\")\n",
    "    plt.grid(True)\n",
    "    plt.subplot(2, 2, 2)\n",
    "    plt.plot(mu, X_dft.imag, \"C0o\", ms=7)\n",
    "    plt.plot([N / 2], [0], \"C3o\")  # indicate point symmetry\n",
    "    plt.xlim(0, N - 1)\n",
    "    plt.ylim(-N / 2, N / 2)\n",
    "    plt.xlabel(r\"$\\mu$\")\n",
    "    plt.ylabel(r\"$\\Im(X)$\")\n",
    "    plt.title(\"point symmetry wrt red point\")\n",
    "    plt.grid(True)\n",
    "    plt.subplot(2, 2, 3)\n",
    "    plt.plot(mu, np.abs(X_dft), \"C0o\", ms=7)\n",
    "    plt.plot([N / 2, N / 2], [0, N / 2], \"C3:\")  # indicate axial symmetry\n",
    "    plt.xlim(0, N - 1)\n",
    "    plt.ylim(0, N / 2)\n",
    "    plt.xlabel(r\"$\\mu$\")\n",
    "    plt.ylabel(r\"$|X|$\")\n",
    "    plt.grid(True)\n",
    "    plt.subplot(2, 2, 4)\n",
    "    plt.plot(mu, np.angle(X_dft), \"C0o\", ms=7)\n",
    "    plt.plot([N / 2], [0], \"C3o\")  # indicate point symmetry\n",
    "    plt.xlim(0, N - 1)\n",
    "    plt.ylim(-np.pi, np.pi)\n",
    "    plt.xlabel(r\"$\\mu$\")\n",
    "    plt.ylabel(r\"$\\angle X$ / rad\")\n",
    "    plt.grid(True)\n",
    "\n",
    "    plt.figure(figsize=(7, 9))\n",
    "    plt.subplot(3, 1, 1)\n",
    "    plt.plot(mu, np.abs(X_dft), \"C0o\", ms=7, label=\"DFT\")\n",
    "    plt.plot(Om / dOm, np.abs(X_dtft), \"C1\", label=\"DTFT\")\n",
    "    plt.xlim(0, N)\n",
    "    plt.xlabel(r\"$\\mu$\")\n",
    "    plt.title(\"magnitude spectrum |X|\")\n",
    "    plt.legend()\n",
    "    plt.grid(True)\n",
    "    plt.subplot(3, 1, 2)\n",
    "    plt.plot(mu * dOm, np.abs(X_dft), \"C0o\", ms=7)\n",
    "    plt.plot(Om, np.abs(X_dtft), \"C1\")\n",
    "    plt.xlim(0, 2 * np.pi)\n",
    "    plt.xlabel(r\"$\\Omega$ / rad\")\n",
    "    plt.grid(True)\n",
    "    plt.subplot(3, 1, 3)\n",
    "    plt.plot(mu * fs / N, np.abs(X_dft), \"C0o\", ms=7)\n",
    "    plt.plot(Om * fs / 2 / np.pi, np.abs(X_dtft), \"C1\")\n",
    "    plt.xlim(0, fs)\n",
    "    plt.xlabel(r\"$f$ / Hz with fs=\" + str(fs / 1000) + \"kHz\")\n",
    "    plt.grid(True)"
   ]
  },
  {
   "cell_type": "code",
   "execution_count": null,
   "id": "9aee8fe4-fbe7-47c5-9f38-6e121ba3b530",
   "metadata": {},
   "outputs": [],
   "source": [
    "N = 8\n",
    "Om_sig = 2 * 2 * np.pi / N\n",
    "dft2dtft_playground_plot(N=N, Om_sig=Om_sig)"
   ]
  },
  {
   "cell_type": "code",
   "execution_count": null,
   "id": "0dc0b19d-af5e-4e22-bd06-e29836dc0aeb",
   "metadata": {},
   "outputs": [],
   "source": [
    "N = 9\n",
    "Om_sig = 2 * 2 * np.pi / N\n",
    "dft2dtft_playground_plot(N=N, Om_sig=Om_sig)"
   ]
  },
  {
   "cell_type": "code",
   "execution_count": null,
   "id": "f10a1cc5-5ce6-4cf6-9e49-39cea5d87da2",
   "metadata": {},
   "outputs": [],
   "source": [
    "N = 8\n",
    "Om_sig = 2.5 * 2 * np.pi / N\n",
    "dft2dtft_playground_plot(N=N, Om_sig=Om_sig)"
   ]
  },
  {
   "cell_type": "code",
   "execution_count": null,
   "id": "80c9edff-7b1b-41bd-8f57-6caa89ecfc4d",
   "metadata": {},
   "outputs": [],
   "source": [
    "N = 9\n",
    "Om_sig = 2.5 * 2 * np.pi / N\n",
    "dft2dtft_playground_plot(N=N, Om_sig=Om_sig)"
   ]
  },
  {
   "cell_type": "markdown",
   "id": "95e69082-c393-4788-9fc7-d852e8c65756",
   "metadata": {},
   "source": [
    "## Exercise 4: DFT / DTFT of an Finite Impulse Response (FIR)"
   ]
  },
  {
   "cell_type": "markdown",
   "id": "cd900be8-a0ad-4a46-8bbb-bc0ac0d7deab",
   "metadata": {},
   "source": [
    "The finite length impulse response (FIR) $h[k]$ of an LTI system is given\n",
    "as\n",
    "\n",
    "\\begin{equation}\n",
    "h[k]=\\frac{1}{8}\\cdot\\left(11 \\delta[k]-5 \\delta[k-1]+7 \\delta[k-2]-9 \\delta[k-3]\\right).\n",
    "\\end{equation}\n",
    "\n",
    "Obviously, the LTI system is non-recursive.\n",
    "\n",
    "The magnitude and phase spectrum is to be evaluated from\n",
    "- DFT\n",
    "- DTFT\n",
    "- DFT of zerpadded impulse response\n",
    "\n",
    "Discuss the different approaches."
   ]
  },
  {
   "cell_type": "code",
   "execution_count": null,
   "id": "1eb65a8f-48d1-41f6-a919-5b44dfa664cd",
   "metadata": {},
   "outputs": [],
   "source": [
    "h = np.array([11, -5, 7, -9]) / 8  # FIR\n",
    "\n",
    "# DFT\n",
    "Nh = h.size  # length of FIR\n",
    "H_dft = fft(h)  # DFT of FIR\n",
    "mu = np.arange(Nh)  # DFT frequency vector mu\n",
    "\n",
    "with np.printoptions(precision=3, suppress=True):\n",
    "    print(\"at DFT frequencies:\")\n",
    "    print(\"level\", 20 * np.log10(np.abs(H_dft)), \"dB\")\n",
    "    print(\"phase\", np.angle(H_dft) * 180 / np.pi, \"deg\")\n",
    "\n",
    "# interpolation towards DTFT\n",
    "NOm = 2**8  # DTFT frequencies to be plotted\n",
    "dOm = 2 * np.pi / NOm  # resolution\n",
    "Om = np.arange(NOm) * dOm\n",
    "H_dtft = dft2dtft(fft(h), Om)\n",
    "\n",
    "# interpolation via zeropadding and DFT\n",
    "hz = np.zeros(NOm)  # zero signal\n",
    "hz[0:4] = h  # insert h yields zeropadded FIR in hz\n",
    "Hz_dft = fft(hz)  # DFT of zeropadded FIR\n",
    "\n",
    "plt.figure(figsize=(7, 4.375))\n",
    "plt.subplot(2, 1, 1)\n",
    "plt.plot(mu * 2 * np.pi / Nh, np.abs(H_dft), \"C0o\", label=r\"DFT of $h[k]$\")\n",
    "plt.plot(Om, np.abs(H_dtft), \"C1\", label=r\"DTFT of $h[k]$\")\n",
    "plt.plot(Om, np.abs(Hz_dft), \"C3-.\", label=r\"DFT of zeropadded IR $h_z[k]$\")\n",
    "plt.xlim(0, 2 * np.pi)\n",
    "plt.ylim(0)\n",
    "# plt.xlabel(r'$\\Omega$ / rad')\n",
    "plt.ylabel(r\"magnitude |H|\")\n",
    "plt.legend()\n",
    "plt.grid(True)\n",
    "plt.subplot(2, 1, 2)\n",
    "plt.plot(\n",
    "    mu * 2 * np.pi / Nh, np.angle(H_dft) * 180 / np.pi, \"C0o\", label=r\"DFT of $h[k]$\"\n",
    ")\n",
    "plt.plot(Om, np.angle(H_dtft) * 180 / np.pi, \"C1\", label=r\"DTFT of $h[k]$\")\n",
    "plt.plot(\n",
    "    Om, np.angle(Hz_dft) * 180 / np.pi, \"C3-.\", label=r\"DFT of zeropadded IR $h_z[k]$\"\n",
    ")\n",
    "plt.xlim(0, 2 * np.pi)\n",
    "plt.xlabel(r\"$\\Omega$ / rad\")\n",
    "plt.ylabel(r\"phase $\\angle H$ in deg\")\n",
    "plt.grid(True)"
   ]
  },
  {
   "cell_type": "markdown",
   "id": "88bbcdb8-f0bb-4089-8c48-12f1008e4502",
   "metadata": {},
   "source": [
    "**Copyright**\n",
    "\n",
    "The notebooks are provided as [Open Educational Resources](https://en.wikipedia.org/wiki/Open_educational_resources). Feel free to use the notebooks for your own purposes. The text is licensed under [Creative Commons Attribution 4.0](https://creativecommons.org/licenses/by/4.0/), the code of the IPython examples under the [MIT license](https://opensource.org/licenses/MIT). Please attribute the work as follows: *Frank Schultz, Digital Signal Processing - A Tutorial Featuring Computational Examples* with the URL https://github.com/spatialaudio/digital-signal-processing-exercises"
   ]
  },
  {
   "cell_type": "markdown",
   "id": "b51d0b5b-a00a-402c-a68c-0a74c1cc2562",
   "metadata": {},
   "source": [
    "**Copyright**\n",
    "\n",
    "The notebooks are provided as [Open Educational Resources](https://en.wikipedia.org/wiki/Open_educational_resources). Feel free to use the notebooks for your own purposes. The text is licensed under [Creative Commons Attribution 4.0](https://creativecommons.org/licenses/by/4.0/), the code of the IPython examples under the [MIT license](https://opensource.org/licenses/MIT). Please attribute the work as follows: *Frank Schultz, Digital Signal Processing - A Tutorial Featuring Computational Examples* with the URL https://github.com/spatialaudio/digital-signal-processing-exercises"
   ]
  }
 ],
 "metadata": {
  "kernelspec": {
   "display_name": "Python 3 (ipykernel)",
   "language": "python",
   "name": "python3"
  },
  "language_info": {
   "codemirror_mode": {
    "name": "ipython",
    "version": 3
   },
   "file_extension": ".py",
   "mimetype": "text/x-python",
   "name": "python",
   "nbconvert_exporter": "python",
   "pygments_lexer": "ipython3",
   "version": "3.9.12"
  }
 },
 "nbformat": 4,
 "nbformat_minor": 5
}
