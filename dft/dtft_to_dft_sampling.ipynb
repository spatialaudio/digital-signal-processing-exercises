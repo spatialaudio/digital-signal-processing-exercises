{
 "cells": [
  {
   "cell_type": "markdown",
   "metadata": {},
   "source": [
    "Sascha Spors,\n",
    "Professorship Signal Theory and Digital Signal Processing,\n",
    "Institute of Communications Engineering (INT),\n",
    "Faculty of Computer Science and Electrical Engineering (IEF),\n",
    "University of Rostock,\n",
    "Germany\n",
    "\n",
    "# Tutorial Digital Signal Processing\n",
    "\n",
    "**DFT to DTFT Interpolation with the Periodic Sinc Function**,\n",
    "Winter Semester 2023/24 (Course #24505)\n",
    "\n",
    "- lecture: https://github.com/spatialaudio/digital-signal-processing-lecture\n",
    "- tutorial: https://github.com/spatialaudio/digital-signal-processing-exercises\n",
    "\n",
    "Feel free to contact lecturer jacob.thoenes@uni-rostock.de\n"
   ]
  },
  {
   "cell_type": "code",
   "execution_count": null,
   "metadata": {},
   "outputs": [],
   "source": [
    "import numpy as np\n",
    "from matplotlib import pyplot as plt\n",
    "from matplotlib.patches import Rectangle\n",
    "from numpy.fft import fft, ifft\n",
    "\n",
    "# from scipy.fft import fft, ifft\n",
    "from scipy.special import diric"
   ]
  },
  {
   "cell_type": "markdown",
   "metadata": {},
   "source": [
    "# Sampling of DTFT towards DFT \n",
    "\n",
    "We should create a signal and the corresponding DTFT spectrum for which we have analytical expressions.\n",
    "\n",
    "We can use the exact Hamming window from the tutorial (see Ch. 1.8.4) found at https://github.com/spatialaudio/digital-signal-processing-exercises/blob/master/dft/dft_windowing_tutorial/dft_windowing_tutorial.pdf"
   ]
  },
  {
   "cell_type": "code",
   "execution_count": null,
   "metadata": {},
   "outputs": [],
   "source": [
    "N_DTFT = 2**3\n",
    "beta = 21 / 25  # exact Hamming coeff, see\n",
    "k_DTFT = np.arange(N_DTFT)\n",
    "x_DTFT = 1 - beta * np.cos(2 * np.pi / N_DTFT * (k_DTFT + 1 / 2))\n",
    "Omega_DTFT = np.arange(-4 * np.pi, +4 * np.pi, np.pi / 2**6)\n",
    "X_DTFT = np.exp(-1j * Omega_DTFT * (N_DTFT - 1) / 2) * (\n",
    "    N_DTFT * diric(Omega_DTFT, N_DTFT)\n",
    "    + beta / 2 * N_DTFT * diric(Omega_DTFT - 2 * np.pi / N_DTFT, N_DTFT)\n",
    "    + beta / 2 * N_DTFT * diric(Omega_DTFT + 2 * np.pi / N_DTFT, N_DTFT)\n",
    ")"
   ]
  },
  {
   "cell_type": "markdown",
   "metadata": {},
   "source": [
    "We can zeropad the signal before the DFT. We do this manually, to make sure that we are aware of this concept."
   ]
  },
  {
   "cell_type": "code",
   "execution_count": null,
   "metadata": {},
   "outputs": [],
   "source": [
    "# how many samples should be used for zeropadding of the x_DTFT signal\n",
    "# if 0 then the signal has length of N_DTFT, so N_DTFT==N_DFT\n",
    "Nzeropad = 5\n",
    "\n",
    "x_DFT = np.concatenate([x_DTFT, np.zeros(Nzeropad)])"
   ]
  },
  {
   "cell_type": "markdown",
   "metadata": {},
   "source": [
    "Then we perform the DFT and calculate at which frequencies $\\Omega_\\mu$ the DFT coefficients occur:"
   ]
  },
  {
   "cell_type": "code",
   "execution_count": null,
   "metadata": {},
   "outputs": [],
   "source": [
    "# calculate the DFT of the zeropadded signal\n",
    "N_DFT = x_DFT.size\n",
    "# print('DFT size check must be zero:', N_DFT - N_DTFT - Nzeropad)\n",
    "print(\"DFT block size:\", N_DFT)\n",
    "k_DFT = np.arange(N_DFT)\n",
    "X_DFT = fft(x_DFT)\n",
    "Omega_DFT = np.arange(N_DFT) * 2 * np.pi / N_DFT"
   ]
  },
  {
   "cell_type": "markdown",
   "metadata": {},
   "source": [
    "By plotting the spectrum of the DTFT and the DFT, we see that the DFT coefficients exactly correspond to DTFT values at specific frequencies. This is due to the inherent sampling process, where we **sample the DTFT spectrum** to **precisely obtain the DFT coefficients**. Detailed derivation can be found in the [DFT tutorial in Ch. 1.7](https://github.com/spatialaudio/digital-signal-processing-exercises/blob/master/dft/dft_windowing_tutorial/dft_windowing_tutorial.pdf) \n",
    "\n",
    "**Sampling in one domain** (here the spectrum) corresponds to **'make it periodic' in the other domain** (here the discrete-time signal). The single window function that corresponds to the DTFT spectrum (blue) is thus repeated over and over again (orange), which is required for the DFT's periodicity characteristic. Its periodicity is determined by the DFT size and not necessarily equal to `N_DTFT`.\n",
    "\n",
    "Very **large zeropadding** can be used to obtain many spectral samples and by that a very good **approximation of the DTFT** spectrum **without** using **explicit interpolation** between the DFT coefficients. This is often used in practice, very conveniently by calling `fft(x, N)` where `N` is larger than length of `x`. Note however, that by doing so, we do not increase the spectral resolution and we also do not enhance the capability for spectral discrimination. We gain **no new information by oversampling**.\n",
    "\n",
    "Note that `N_DTFT=N_DFT` (no zeropadding) is the case of **critical sampling**."
   ]
  },
  {
   "cell_type": "code",
   "execution_count": null,
   "metadata": {},
   "outputs": [],
   "source": [
    "plt.figure(figsize=(10, 16))\n",
    "ax = plt.subplot(5, 1, 1)\n",
    "plt.plot(Omega_DTFT / np.pi, np.real(X_DTFT), label=\"DTFT\")\n",
    "plt.plot(Omega_DFT / np.pi, np.real(X_DFT), \"C3o\", ms=3, label=\"DFT\")\n",
    "plt.plot((Omega_DFT - 2 * np.pi) / np.pi, np.real(X_DFT), \"C3o\", ms=3)\n",
    "plt.plot((Omega_DFT - 4 * np.pi) / np.pi, np.real(X_DFT), \"C3o\", ms=3)\n",
    "plt.plot((Omega_DFT + 2 * np.pi) / np.pi, np.real(X_DFT), \"C3o\", ms=3)\n",
    "plt.xlim(-4, 4)\n",
    "plt.xlabel(r\"$\\Omega / \\pi$\")\n",
    "plt.ylabel(r\"spectrum, real part\")\n",
    "plt.legend(loc=\"upper left\")\n",
    "rect = plt.Rectangle((0, -3.5), 2, 12, facecolor=\"lightgrey\")\n",
    "ax.add_patch(rect)\n",
    "plt.text(0.5, 6, \"1st period\")\n",
    "\n",
    "plt.subplot(5, 1, 2)\n",
    "ax = plt.plot(Omega_DTFT / np.pi, np.imag(X_DTFT))\n",
    "plt.plot(Omega_DFT / np.pi, np.imag(X_DFT), \"C3o\", ms=3)\n",
    "plt.plot((Omega_DFT - 2 * np.pi) / np.pi, np.imag(X_DFT), \"C3o\", ms=3)\n",
    "plt.plot((Omega_DFT - 4 * np.pi) / np.pi, np.imag(X_DFT), \"C3o\", ms=3)\n",
    "plt.plot((Omega_DFT + 2 * np.pi) / np.pi, np.imag(X_DFT), \"C3o\", ms=3)\n",
    "plt.xlim(-4, 4)\n",
    "plt.xlabel(r\"$\\Omega / \\pi$\")\n",
    "plt.ylabel(r\"spectrum, imaginary part\")\n",
    "\n",
    "plt.subplot(5, 1, 3)\n",
    "ax = plt.plot(Omega_DTFT / np.pi, np.abs(X_DTFT))\n",
    "plt.plot(Omega_DFT / np.pi, np.abs(X_DFT), \"C3o\", ms=3)\n",
    "plt.plot((Omega_DFT - 2 * np.pi) / np.pi, np.abs(X_DFT), \"C3o\", ms=3)\n",
    "plt.plot((Omega_DFT - 4 * np.pi) / np.pi, np.abs(X_DFT), \"C3o\", ms=3)\n",
    "plt.plot((Omega_DFT + 2 * np.pi) / np.pi, np.abs(X_DFT), \"C3o\", ms=3)\n",
    "plt.xlim(-4, 4)\n",
    "plt.xlabel(r\"$\\Omega / \\pi$\")\n",
    "plt.ylabel(r\"spectrum, magnitude\")\n",
    "\n",
    "plt.subplot(5, 1, 4)\n",
    "plt.stem(\n",
    "    k_DTFT,\n",
    "    x_DTFT,\n",
    "    basefmt=\"C0:\",\n",
    "    linefmt=\"C0:\",\n",
    "    markerfmt=\"C0o\",\n",
    "    label=\"DTFT (non-periodic, length = \" + str(N_DTFT) + \" samples\",\n",
    ")\n",
    "plt.stem(k_DTFT - N_DTFT, x_DTFT * 0, basefmt=\"C0:\", linefmt=\"C0:\", markerfmt=\"C0o\")\n",
    "plt.stem(k_DTFT + N_DTFT, x_DTFT * 0, basefmt=\"C0:\", linefmt=\"C0:\", markerfmt=\"C0o\")\n",
    "plt.xlabel(r\"$k$\")\n",
    "plt.ylabel(r\"$x_{DTFT}[k]$\")\n",
    "plt.legend(loc=\"upper left\")\n",
    "\n",
    "plt.subplot(5, 1, 5)\n",
    "plt.stem(\n",
    "    k_DFT,\n",
    "    x_DFT,\n",
    "    basefmt=\"C3:\",\n",
    "    linefmt=\"C3:\",\n",
    "    markerfmt=\"C3o\",\n",
    "    label=\"DFT (periodicity = \" + str(N_DFT) + \" samples\",\n",
    ")\n",
    "plt.stem(k_DFT - N_DFT, x_DFT, basefmt=\"C3:\", linefmt=\"C3:\", markerfmt=\"C3o\")\n",
    "plt.stem(k_DFT + N_DFT, x_DFT, basefmt=\"C3:\", linefmt=\"C3:\", markerfmt=\"C3o\")\n",
    "plt.xlabel(r\"$k$\")\n",
    "plt.ylabel(r\"$x_{DFT}[k]$\")\n",
    "plt.legend(loc=\"upper left\");"
   ]
  },
  {
   "cell_type": "markdown",
   "metadata": {},
   "source": [
    "**Copyright**\n",
    "\n",
    "The notebooks are provided as [Open Educational Resources](https://en.wikipedia.org/wiki/Open_educational_resources). Feel free to use the notebooks for your own purposes. The text is licensed under [Creative Commons Attribution 4.0](https://creativecommons.org/licenses/by/4.0/), the code of the IPython examples under the [MIT license](https://opensource.org/licenses/MIT). Please attribute the work as follows: *Frank Schultz, Digital Signal Processing - A Tutorial Featuring Computational Examples* with the URL https://github.com/spatialaudio/digital-signal-processing-exercises"
   ]
  }
 ],
 "metadata": {
  "kernelspec": {
   "display_name": "Python 3 (ipykernel)",
   "language": "python",
   "name": "python3"
  },
  "language_info": {
   "codemirror_mode": {
    "name": "ipython",
    "version": 3
   },
   "file_extension": ".py",
   "mimetype": "text/x-python",
   "name": "python",
   "nbconvert_exporter": "python",
   "pygments_lexer": "ipython3",
   "version": "3.10.12"
  }
 },
 "nbformat": 4,
 "nbformat_minor": 4
}
