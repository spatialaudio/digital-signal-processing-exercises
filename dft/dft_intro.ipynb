{
 "cells": [
  {
   "cell_type": "markdown",
   "metadata": {},
   "source": [
    "Sascha Spors,\n",
    "Professorship Signal Theory and Digital Signal Processing,\n",
    "Institute of Communications Engineering (INT),\n",
    "Faculty of Computer Science and Electrical Engineering (IEF),\n",
    "University of Rostock,\n",
    "Germany\n",
    "\n",
    "# Tutorial Digital Signal Processing\n",
    "\n",
    "**DFT Fundamentals**,\n",
    "Winter Semester 2023/24 (Course #24505)\n",
    "\n",
    "- lecture: https://github.com/spatialaudio/digital-signal-processing-lecture\n",
    "- tutorial: https://github.com/spatialaudio/digital-signal-processing-exercises\n",
    "\n",
    "Feel free to contact lecturer jacob.thoenes@uni-rostock.de"
   ]
  },
  {
   "cell_type": "code",
   "execution_count": null,
   "metadata": {},
   "outputs": [],
   "source": [
    "import numpy as np\n",
    "import matplotlib.pyplot as plt\n",
    "from numpy.linalg import inv\n",
    "from numpy.fft import fft, ifft\n",
    "#from scipy.fft import fft, ifft"
   ]
  },
  {
   "cell_type": "markdown",
   "metadata": {},
   "source": [
    "# Discrete Fourier Transform (DFT)"
   ]
  },
  {
   "cell_type": "markdown",
   "metadata": {},
   "source": [
    "## Input Signal\n",
    "\n",
    "Let us first define a **complex-valued signal** $x[k]$ of a certain block length $N$ ranging from $0\\leq k\\leq N-1$.\n",
    "\n",
    "The variable `tmpmu` defines the frequency of the signal. We will see later how this is connected to the DFT.\n",
    "For now on, leave it with `tmpmu=1`. This results in exactly one period of cosine and sine building the complex signal. If `tmpmu=2` we get exactly two periods of cos/sin. We'll get get an idea of `tmpmu`..."
   ]
  },
  {
   "cell_type": "code",
   "execution_count": null,
   "metadata": {},
   "outputs": [],
   "source": [
    "N = 2**3  # signal block length\n",
    "k = np.arange(N)  # all required sample/time indices\n",
    "A = 10  # signal amplitude\n",
    "\n",
    "tmpmu = 2-1/2  # DFT eigenfrequency worst case\n",
    "tmpmu = 1  # DFT eigenfrequency best case\n",
    "\n",
    "x = A * np.exp(tmpmu * +1j*2*np.pi/N * k)\n",
    "\n",
    "# plot\n",
    "plt.stem(k, np.real(x), markerfmt='C0o',\n",
    "         basefmt='C0:', linefmt='C0:', label='real')\n",
    "plt.stem(k, np.imag(x), markerfmt='C1o',\n",
    "         basefmt='C1:', linefmt='C1:', label='imag')\n",
    "# note that connecting the samples by lines is actually wrong, we\n",
    "# use it anyway for more visual convenience:\n",
    "plt.plot(k, np.real(x), 'C0-', lw=0.5)\n",
    "plt.plot(k, np.imag(x), 'C1-', lw=0.5)\n",
    "plt.xlabel(r'sample $k$')\n",
    "plt.ylabel(r'complex-valued input signal $x[k]$')\n",
    "plt.legend()\n",
    "plt.grid(True)"
   ]
  },
  {
   "cell_type": "markdown",
   "metadata": {},
   "source": [
    "We will now perform an DFT of $x[k]$ since we are interested in the frequency spectrum of it.\n",
    "\n",
    "## DFT Definition\n",
    "\n",
    "The discrete Fourier transform pair for a discrete-time signal $x[k]$ with sample index $k$ and the corresponding DFT spectrum $X[\\mu]$ with frequency index $\\mu$ is given as \n",
    "\\begin{align}\n",
    "\\text{DFT}: X[\\mu]=&\\sum_{k=0}^{N-1}x[k]\\cdot\\mathrm{e}^{-\\mathrm{j}\\frac{2\\pi}{N}k\\mu}\\\\\n",
    "\\text{IDFT}: x[k]=\\frac{1}{N}&\\sum_{\\mu=0}^{N-1}X[\\mu]\\cdot\\mathrm{e}^{+\\mathrm{j}\\frac{2\\pi}{N}k\\mu}\n",
    "\\end{align}\n",
    "\n",
    "Note the sign reversal in the exp()-function and the $1/N$ normalization in the IDFT. This convention is used by the majority of DSP text books and also in Python's `numpy.fft.fft()`, `numpy.fft.ifft()` and Matlab's `fft()`, `ifft()` routines."
   ]
  },
  {
   "cell_type": "markdown",
   "metadata": {},
   "source": [
    "## DFT and IDFT with For-Loops\n",
    "\n",
    "We are now going to implement the DFT and IDFT with for-loop handling. While this might be helpful to validate  algorithms in its initial development phase, this should be avoided for practical used code in the field: for-loops are typically slow and very often more complicated to read than appropriate set up matrices and vectors. Especially for very large $N$ the computation time is very long.\n",
    "\n",
    "Anyway, the for-loop concept is: the DFT can be implemented with an outer for loop iterating over $\\mu$ and an inner for loop summing over all $k$ for a specific $\\mu$.\n",
    "\n",
    "We use variable with _ subscript here, in order to save nice variable names for the matrix based calculation."
   ]
  },
  {
   "cell_type": "code",
   "execution_count": null,
   "metadata": {},
   "outputs": [],
   "source": [
    "# DFT with for-loop:\n",
    "X_ = np.zeros((N, 1), dtype=complex)  # alloc RAM, init with zeros\n",
    "for mu_ in range(N):  # do for all DFT frequency indices\n",
    "    for k_ in range(N):  # do for all sample indices\n",
    "        X_[mu_] += x[k_] * np.exp(-1j*2*np.pi/N*k_*mu_)"
   ]
  },
  {
   "cell_type": "markdown",
   "metadata": {},
   "source": [
    "IDFT with outer and inner looping reads as follows."
   ]
  },
  {
   "cell_type": "code",
   "execution_count": null,
   "metadata": {},
   "outputs": [],
   "source": [
    "# IDFT with for-loop:\n",
    "x_ = np.zeros((N, 1), dtype=complex)  # alloc RAM, init with zeros\n",
    "for k_ in range(N):\n",
    "    for mu_ in range(N):\n",
    "        x_[k_] += X_[mu_] * np.exp(+1j*2*np.pi/N*k_*mu_)\n",
    "x_ *= 1/N  # normalization in the IDFT stage"
   ]
  },
  {
   "cell_type": "markdown",
   "metadata": {},
   "source": [
    "Besides exchanged variables, main differences are sign reversal in exp() and the $1/N$ normalization. This is expected due to the DFT/IDFT equation pair given above."
   ]
  },
  {
   "cell_type": "markdown",
   "metadata": {},
   "source": [
    "## DFT and IDFT with Matrix Multiplication\n",
    "\n",
    "Now we do a little better: We should think of the DFT/IDFT in terms of a matrix operation setting up a set of linear equations.\n",
    "\n",
    "For that we define a column vector containing the samples of the discrete-time signal $x[k]$\n",
    "\\begin{equation}\n",
    "\\mathbf{x}_k = (x[k=0], x[k=1], x[k=2], \\dots , x[k=N-1])^\\mathrm{T}\n",
    "\\end{equation}\n",
    "\n",
    "and a column vector containing the DFT coefficients $X[\\mu]$\n",
    "\n",
    "\\begin{equation}\n",
    "\\mathbf{x}_\\mu = (X[\\mu=0], X[\\mu=1], X[\\mu=2], \\dots, X[\\mu=N-1])^\\mathrm{T}\n",
    "\\end{equation}\n",
    "\n",
    "Then, the matrix operations\n",
    "\n",
    "\\begin{align}\n",
    "\\text{DFT:   } & \\mathbf{x}_\\mu = \\mathbf{W}^* \\mathbf{x}_k\\\\\n",
    "\\text{IDFT:   } & \\mathbf{x}_k = \\frac{1}{N} \\mathbf{W} \\mathbf{x}_\\mu\n",
    "\\end{align}\n",
    "\n",
    "hold.\n",
    "\n",
    "$()^\\mathrm{T}$ is the transpose, $()^*$ is the conjugate complex.\n"
   ]
  },
  {
   "cell_type": "markdown",
   "metadata": {},
   "source": [
    "The $N\\times N$ Fourier matrix is defined as (element-wise operation $\\odot$)\n",
    "\\begin{equation}\n",
    "\\mathbf{W} = \\mathrm{e}^{+\\mathrm{j}\\frac{2\\pi}{N} \\odot \\mathbf{K}}\n",
    "\\end{equation}\n",
    "using the so called twiddle factor (note that the sign in the exp() is our convention)\n",
    "\\begin{equation}\n",
    "W_N = \\mathrm{e}^{+\\mathrm{j}\\frac{2\\pi}{N}}\n",
    "\\end{equation}\n",
    "and the outer product\n",
    "\\begin{equation}\n",
    "\\mathbf{K} = \n",
    "\\begin{bmatrix}\n",
    "0\\\\\n",
    "1\\\\\n",
    "2\\\\\n",
    "\\vdots\\\\\n",
    "N-1\n",
    "\\end{bmatrix}\n",
    "\\cdot\n",
    "\\begin{bmatrix}\n",
    "0 & 1 & 2 & \\cdots & N-1\n",
    "\\end{bmatrix}\n",
    "\\end{equation}\n",
    "containing all possible products $k\\,\\mu$ in a suitable arrangement.\n",
    "\n",
    "For the simple case $N=4$ these matrices are\n",
    "\\begin{align}\n",
    "\\mathbf{K} = \\begin{bmatrix}\n",
    "0 & 0 & 0 & 0\\\\\n",
    "0 & 1 & 2 & 3\\\\\n",
    "0 & 2 & 4 & 6\\\\\n",
    "0 & 3 & 6 & 9\n",
    "\\end{bmatrix}\n",
    "\\rightarrow\n",
    "\\mathbf{W} = \\begin{bmatrix}\n",
    "1 & 1 & 1 & 1\\\\\n",
    "1 & +\\mathrm{j} & -1 & -\\mathrm{j}\\\\\n",
    "1 & -1 & 1 & -1\\\\\n",
    "1 & -\\mathrm{j} & -1 & +\\mathrm{j}\n",
    "\\end{bmatrix}\n",
    "\\end{align}"
   ]
  },
  {
   "cell_type": "code",
   "execution_count": null,
   "metadata": {},
   "outputs": [],
   "source": [
    "# k = np.arange(N)  # all required sample/time indices, already defined above\n",
    "\n",
    "# all required DFT frequency indices, actually same entries like in k\n",
    "mu = np.arange(N)\n",
    "\n",
    "# set up matrices\n",
    "K = np.outer(k, mu)  # get all possible entries k*mu in meaningful arrangement\n",
    "W = np.exp(+1j * 2*np.pi/N * K)  # analysis matrix for DFT"
   ]
  },
  {
   "cell_type": "code",
   "execution_count": null,
   "metadata": {},
   "outputs": [],
   "source": [
    "# visualize the content of the Fourier matrix\n",
    "# we've already set up (use other N if desired):\n",
    "# N = 8\n",
    "# k = np.arange(N)\n",
    "# mu = np.arange(N)\n",
    "# W = np.exp(+1j*2*np.pi/N*np.outer(k, mu))  # set up Fourier matrix\n",
    "\n",
    "fig, ax = plt.subplots(1, N)\n",
    "fig.set_size_inches(6, 6)\n",
    "fig.suptitle(\n",
    "    r'Fourier Matrix for $N=$%d, blue: $\\Re(\\mathrm{e}^{+\\mathrm{j} \\frac{2\\pi}{N} \\mu k})$, orange: $\\Im(\\mathrm{e}^{+\\mathrm{j} \\frac{2\\pi}{N} \\mu k})$' % N)\n",
    "\n",
    "for tmp in range(N):\n",
    "    ax[tmp].set_facecolor('lavender')\n",
    "    ax[tmp].plot(W[:, tmp].real, k, 'C0o-', ms=7, lw=0.5)\n",
    "    ax[tmp].plot(W[:, tmp].imag, k, 'C1o-.', ms=7, lw=0.5)\n",
    "    ax[tmp].set_ylim(N-1, 0)\n",
    "    ax[tmp].set_xlim(-5/4, +5/4)\n",
    "    if tmp == 0:\n",
    "        ax[tmp].set_yticks(np.arange(0, N))\n",
    "        ax[tmp].set_xticks(np.arange(-1, 1+1, 1))\n",
    "        ax[tmp].set_ylabel(r'$\\longleftarrow k$')\n",
    "    else:\n",
    "        ax[tmp].set_yticks([], minor=False)\n",
    "        ax[tmp].set_xticks([], minor=False)\n",
    "    ax[tmp].set_title(r'$\\mu=$%d' % tmp)\n",
    "fig.tight_layout()\n",
    "fig.subplots_adjust(top=0.91)\n",
    "\n",
    "fig.savefig('fourier_matrix.png', dpi=300)\n",
    "\n",
    "# TBD: row version for analysis"
   ]
  },
  {
   "cell_type": "markdown",
   "metadata": {},
   "source": [
    "## Fourier Matrix Properties\n",
    "\n",
    "The DFT and IDFT basically solve two sets of linear equations, that are linked as forward and inverse problem.\n",
    "\n",
    "This is revealed with the important property of the Fourier matrix\n",
    "\n",
    "\\begin{equation}\n",
    "\\mathbf{W}^{-1}\n",
    "= \\frac{\\mathbf{W}^\\mathrm{H}}{N}\n",
    "= \\frac{\\mathbf{W}^\\mathrm{*}}{N},\n",
    "\\end{equation}\n",
    "\n",
    "the latter holds since the matrix is symmetric.\n",
    "\n",
    "Thus, we see that by our convention, the DFT is the inverse problem (signal analysis) and the IDFT is the forward problem (signal synthesis)\n",
    "\n",
    "\\begin{align}\n",
    "\\text{DFT:   } & \\mathbf{x}_\\mu = \\mathbf{W}^* \\mathbf{x}_k \\rightarrow \\mathbf{x}_\\mu = N \\mathbf{W}^{-1} \\, \\mathbf{x}_k\\\\\n",
    "\\text{IDFT:   } & \\mathbf{x}_k = \\frac{1}{N} \\mathbf{W} \\mathbf{x}_\\mu.\n",
    "\\end{align}\n",
    "\n",
    "The occurrence of the $N$, $1/N$ factor is due to the prevailing convention in signal processing literature.\n",
    "\n",
    "If the matrix is normalised as $\\frac{\\mathbf{W}}{\\sqrt{N}}$, a so called unitary matrix results, for which the \n",
    "important property\n",
    "\\begin{equation}\n",
    "(\\frac{\\mathbf{W}}{\\sqrt{N}})^\\mathrm{H} \\, (\\frac{\\mathbf{W}}{\\sqrt{N}}) = \\mathbf{I} =\n",
    "(\\frac{\\mathbf{W}}{\\sqrt{N}})^{-1} \\, (\\frac{\\mathbf{W}}{\\sqrt{N}})\n",
    "\\end{equation}\n",
    "holds, i.e. the complex-conjugate, transpose is equal to the inverse\n",
    "$(\\frac{\\mathbf{W}}{\\sqrt{N}})^\\mathrm{H} = (\\frac{\\mathbf{W}}{\\sqrt{N}})^{-1}$\n",
    "and due to the matrix symmetry also\n",
    "$(\\frac{\\mathbf{W}}{\\sqrt{N}})^* =\n",
    "(\\frac{\\mathbf{W}}{\\sqrt{N}})^{-1}$\n",
    "is valid.\n",
    "\n",
    "This tells that the matrix $\\frac{\\mathbf{W}}{\\sqrt{N}}$ is **orthonormal**, i.e. the matrix spans a orthonormal vector basis (the best what we can get in linear algebra world to work with) of $N$ normalized DFT eigensignals.\n",
    "\n",
    "So, DFT and IDFT is transforming vectors into other vectors using the vector basis of the Fourier matrix.\n"
   ]
  },
  {
   "cell_type": "markdown",
   "metadata": {},
   "source": [
    "## Check DFT Eigensignals and -Frequencies\n",
    "\n",
    "The columns of the Fourier matrix $\\mathbf{W}$ contain the eigensignals of the DFT. These are\n",
    "\\begin{align}\n",
    "w_\\mu[k] = \\cos(\\frac{2\\pi}{N} k \\mu) + \\mathrm{j} \\sin(\\frac{2\\pi}{N} k \\mu)\n",
    "\\end{align}\n",
    "since we have intentionally set up the matrix this way.\n",
    "\n",
    "The plot below shows the eigensignal for $\\mu=1$, which fits again one signal period in the block length $N$.\n",
    "For $\\mu=2$ we obtain two periods in one block.\n",
    "\n",
    "The eigensignals for $0\\leq \\mu \\leq N-1$ therefore exhibit a certain digital frequency, the so called DFT eigenfrequencies.\n",
    "\n",
    "What eigensignal corresponds to $\\mu=0$?..."
   ]
  },
  {
   "cell_type": "code",
   "execution_count": null,
   "metadata": {},
   "outputs": [],
   "source": [
    "tmpmu = 1  # column index\n",
    "\n",
    "plt.stem(k, np.real(W[:, tmpmu]), label='real',\n",
    "         markerfmt='C0o', basefmt='C0:', linefmt='C0:')\n",
    "plt.stem(k, np.imag(W[:, tmpmu]), label='imag',\n",
    "         markerfmt='C1o', basefmt='C1:', linefmt='C1:')\n",
    "# note that connecting the samples by lines is actually wrong, we\n",
    "# use it anyway for more visual convenience\n",
    "plt.plot(k, np.real(W[:, tmpmu]), 'C0-', lw=0.5)\n",
    "plt.plot(k, np.imag(W[:, tmpmu]), 'C1-', lw=0.5)\n",
    "plt.xlabel(r'sample $k$')\n",
    "plt.ylabel(r'DFT eigensignal = '+str(tmpmu+1)+'. column of $\\mathbf{W}$')\n",
    "plt.legend()\n",
    "plt.grid(True)"
   ]
  },
  {
   "cell_type": "markdown",
   "metadata": {},
   "source": [
    "The nice thing about the chosen eigenfrequencies, is that the eigensignals are **orthogonal**.\n",
    "\n",
    "This choice of the vector basis is on purpose and one of the most important ones in linear algebra and signal processing.\n",
    "\n",
    "We might for example check orthogonality with the **complex** inner product of some matrix columns."
   ]
  },
  {
   "cell_type": "code",
   "execution_count": null,
   "metadata": {},
   "outputs": [],
   "source": [
    "np.dot(np.conj(W[:, 0]), W[:, 0])  # same eigensignal, same eigenfrequency\n",
    "# np.vdot(W[:,0],W[:,0])  # this is the suitable numpy function"
   ]
  },
  {
   "cell_type": "code",
   "execution_count": null,
   "metadata": {},
   "outputs": [],
   "source": [
    "np.dot(np.conj(W[:, 0]), W[:, 1])  # different eigensignals\n",
    "# np.vdot(W[:,0],W[:,1])  # this is the suitable numpy function\n",
    "# result should be zero, with numerical precision close to zero:"
   ]
  },
  {
   "cell_type": "markdown",
   "metadata": {},
   "source": [
    "## Initial Example: IDFT Signal Synthesis for N=8\n",
    "\n",
    "Let us synthesize a discrete-time signal by using the IDFT in matrix notation for $N=8$.\n",
    "\n",
    "The signal should contain a DC value, the first and second eigenfrequency with different amplitudes, such as\n",
    "\n",
    "\\begin{equation}\n",
    "\\mathbf{x}_\\mu = [8, 2, 4, 0, 0, 0, 0, 0]^\\text{T}\n",
    "\\end{equation}\n",
    "\n",
    "using large `X_test` in code."
   ]
  },
  {
   "cell_type": "code",
   "execution_count": null,
   "metadata": {},
   "outputs": [],
   "source": [
    "if N == 8:\n",
    "    X_test = np.array([8, 2, 4, 0, 0, 0, 0, 0])\n",
    "    # x_test = 1/N*W@X_test  # >= Python3.5\n",
    "    x_test = 1/N * np.matmul(W, X_test)\n",
    "\n",
    "    plt.stem(k, np.real(x_test), label='real',\n",
    "             markerfmt='C0o', basefmt='C0:', linefmt='C0:')\n",
    "    plt.stem(k, np.imag(x_test), label='imag',\n",
    "             markerfmt='C1o', basefmt='C1:', linefmt='C1:')    \n",
    "    # note that connecting the samples by lines is actually wrong, we\n",
    "    # use it anyway for more visual convenience\n",
    "    plt.plot(k, np.real(x_test), 'C0o-', lw=0.5)\n",
    "    plt.plot(k, np.imag(x_test), 'C1o-', lw=0.5)\n",
    "    plt.xlabel(r'sample $k$')\n",
    "    plt.ylabel(r'$x[k]$')\n",
    "    plt.legend()\n",
    "    plt.grid(True)\n",
    "\n",
    "    # check if results are identical with numpy ifft package\n",
    "    print(np.allclose(ifft(X_test), x_test))\n",
    "    print('DC is 1 as expected: ', np.mean(x_test))"
   ]
  },
  {
   "cell_type": "markdown",
   "metadata": {},
   "source": [
    "This is a linear combination of the Fourier matrix columns, which are the DFT eigensignals, as "
   ]
  },
  {
   "cell_type": "code",
   "execution_count": null,
   "metadata": {},
   "outputs": [],
   "source": [
    "if N == 8:\n",
    "    x_test2 = X_test[0] * W[:, 0] + X_test[1] * W[:, 1] + X_test[2] * W[:, 2]"
   ]
  },
  {
   "cell_type": "markdown",
   "metadata": {},
   "source": [
    "We don't need summing the other columns, since their DFT coefficients in `X_test` are zero.\n",
    "\n",
    "Finally, normalizing yields the IDFT."
   ]
  },
  {
   "cell_type": "code",
   "execution_count": null,
   "metadata": {},
   "outputs": [],
   "source": [
    "if N == 8:\n",
    "    x_test2 *= 1/N\n",
    "    print(np.allclose(x_test, x_test2))  # check with result before"
   ]
  },
  {
   "cell_type": "markdown",
   "metadata": {},
   "source": [
    "## Initial Example: DFT Spectrum Analysis for N=8\n",
    "\n",
    "Now, let us calculate the DFT of the signal `x_test`. As result, we'd expect the DFT vector\n",
    "\n",
    "\\begin{equation}\n",
    "\\mathbf{x}_\\mu = [8, 2, 4, 0, 0, 0, 0, 0]^\\text{T}\n",
    "\\end{equation}\n",
    "\n",
    "that we started from."
   ]
  },
  {
   "cell_type": "code",
   "execution_count": null,
   "metadata": {},
   "outputs": [],
   "source": [
    "if N == 8:\n",
    "    # X_test2 = np.conj(W)@x_test  # >= Python3.5\n",
    "    X_test2 = np.matmul(np.conj(W), x_test)  # DFT, i.e. analysis\n",
    "    print(np.allclose(X_test, X_test2))  # check with result before"
   ]
  },
  {
   "cell_type": "markdown",
   "metadata": {},
   "source": [
    "This looks good. It is advisable also to check against the `numpy.fft` implementation:"
   ]
  },
  {
   "cell_type": "code",
   "execution_count": null,
   "metadata": {},
   "outputs": [],
   "source": [
    "if N == 8:\n",
    "    print(np.allclose(fft(x_test), X_test))"
   ]
  },
  {
   "cell_type": "markdown",
   "metadata": {},
   "source": [
    "Besides different quantization errors in range $10^{-15...-16}$ (which is prominent even with 64Bit double precision calculation)\n",
    "all results produce the same output."
   ]
  },
  {
   "cell_type": "markdown",
   "metadata": {},
   "source": [
    "The analysis stage for the discrete-time signal domain, i.e. the DFT\n",
    "can be reinvented by some intuition:\n",
    "How 'much' of the reference signal $\\mathbf{w}_{\\text{column i}}$\n",
    "(any column in $\\mathbf{W}$)\n",
    "is contained in the discrete-time signal $\\mathbf{x}_k$ that is to be analysed.\n",
    "\n",
    "In signal processing / statistic terms we look for the amount of correlation\n",
    "of the signals\n",
    "$\\mathbf{w}_{\\text{column i}}$ and $\\mathbf{x}_k$.\n",
    "\n",
    "In linear algebra terms we are interested in the projection of $\\mathbf{x}_k$ onto\n",
    "$\\mathbf{w}_{\\text{column i}}$, because the resulting length of this vector\n",
    "reveals the amount of correlation, which is precisely one DFT coefficient $X[\\cdot]$.\n",
    "\n",
    "The complex inner products $\\mathbf{w}_{\\text{column i}}^\\text{H} \\cdot \\mathbf{x}_k$\n",
    "reveals these searched quantities."
   ]
  },
  {
   "cell_type": "code",
   "execution_count": null,
   "metadata": {},
   "outputs": [],
   "source": [
    "if N == 8:\n",
    "    print(np.conj(W[:, 0])@x_test)\n",
    "    print(np.conj(W[:, 1])@x_test)\n",
    "    print(np.conj(W[:, 2])@x_test)"
   ]
  },
  {
   "cell_type": "markdown",
   "metadata": {},
   "source": [
    "Doing this for all columns of matrix $\\mathbf{W}$, all DFT coefficients are obtained, such as\n",
    "\n",
    "\\begin{align}\n",
    "X[\\mu=0] =& \\mathbf{w}_{\\text{column 1}}^\\text{H} \\cdot \\mathbf{x}_k\\\\\n",
    "X[\\mu=1] =& \\mathbf{w}_{\\text{column 2}}^\\text{H} \\cdot \\mathbf{x}_k\\\\\n",
    "X[\\mu=2] =& \\mathbf{w}_{\\text{column 3}}^\\text{H} \\cdot \\mathbf{x}_k\\\\\n",
    "X[\\mu=3] =& \\mathbf{w}_{\\text{column 4}}^\\text{H} \\cdot \\mathbf{x}_k\\\\\n",
    "&\\vdots\\\\\n",
    "X[\\mu=N-1] =& \\mathbf{w}_{\\text{column N}}^\\text{H} \\cdot \\mathbf{x}_k.\n",
    "\\end{align}\n",
    "\n",
    "Naturally, all operations can be merged to one single\n",
    "matrix multiplication using the conjugate transpose of $\\mathbf{W}$.\n",
    "\n",
    "\\begin{equation}\n",
    "\\mathbf{x}_\\mu = \\mathbf{W}^\\text{H} \\cdot \\mathbf{x}_k = \\mathbf{W}^* \\cdot \\mathbf{x}_k\n",
    "\\end{equation}\n",
    "\n",
    "That's what we have performed with the single liner `X_test2 = np.matmul(np.conj(W), x_test)`"
   ]
  },
  {
   "cell_type": "markdown",
   "metadata": {},
   "source": [
    "## Example: Plot the DFT Magnitude Spectrum\n",
    "\n",
    "We should now be familiar with the DFT and IDFT basic idea.\n",
    "\n",
    "Now, let us **return to our initially created signal** `x` at the very beginning of this notebook. We want to explore and learn to interpret the DFT magnitude spectrum of it. So, we'd perform a DFT first."
   ]
  },
  {
   "cell_type": "code",
   "execution_count": null,
   "metadata": {},
   "outputs": [],
   "source": [
    "X = fft(x)\n",
    "# print(np.allclose(np.conj(W)@x, X))  # >=Python 3.5\n",
    "print(np.allclose(np.matmul(np.conj(W), x), X))"
   ]
  },
  {
   "cell_type": "markdown",
   "metadata": {},
   "source": [
    "Next, let us plot the magnitude of the spectrum over $\\mu$.\n",
    "\n",
    "- We should play around with the variable `tmpmu` when defining the input signal at the very beginning of the notebook. For example we can check what happens for `tmpmu = 1`, `tmpmu = 2` and run the whole notebook to visualize the actual magnitude spectra.\n",
    "\n",
    "We should recognize the link of the 'energy' at $\\mu$ in the magnitude spectrum with the chosen `tmpmu`.\n",
    "\n",
    "- We can apply any real valued `tmpmu` for creating the input signal, for example\n",
    "    - `tmpmu = N+1`, `tmpmu = N+2`\n",
    "    - `tmpmu = 1.5`\n",
    "    \n",
    "We should explain what happens in these cases. Recall periodicity and eigenfrequencies/-signals as fundamental concepts."
   ]
  },
  {
   "cell_type": "code",
   "execution_count": null,
   "metadata": {},
   "outputs": [],
   "source": [
    "plt.stem(mu, np.abs(X)/N, markerfmt='C0o', basefmt='C0:', linefmt='C0:')\n",
    "# plt.plot(mu, np.abs(X)/N, 'C0', lw=1)  # this is here a misleading plot and hence not used\n",
    "plt.xlabel(r'DFT eigenfrequency $\\mu$')\n",
    "plt.ylabel(r'DFT spectrum magnitude $\\frac{|X[\\mu]|}{N}$')\n",
    "plt.grid(True)"
   ]
  },
  {
   "cell_type": "markdown",
   "metadata": {},
   "source": [
    "**Copyright**\n",
    "\n",
    "The notebooks are provided as [Open Educational Resources](https://en.wikipedia.org/wiki/Open_educational_resources). Feel free to use the notebooks for your own purposes. The text is licensed under [Creative Commons Attribution 4.0](https://creativecommons.org/licenses/by/4.0/), the code of the IPython examples under the [MIT license](https://opensource.org/licenses/MIT). Please attribute the work as follows: *Frank Schultz, Digital Signal Processing - A Tutorial Featuring Computational Examples* with the URL https://github.com/spatialaudio/digital-signal-processing-exercises"
   ]
  }
 ],
 "metadata": {
  "kernelspec": {
   "display_name": "Python 3 (ipykernel)",
   "language": "python",
   "name": "python3"
  },
  "language_info": {
   "codemirror_mode": {
    "name": "ipython",
    "version": 3
   },
   "file_extension": ".py",
   "mimetype": "text/x-python",
   "name": "python",
   "nbconvert_exporter": "python",
   "pygments_lexer": "ipython3",
   "version": "3.10.12"
  }
 },
 "nbformat": 4,
 "nbformat_minor": 4
}
