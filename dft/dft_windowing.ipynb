{
 "cells": [
  {
   "cell_type": "markdown",
   "metadata": {},
   "source": [
    "Sascha Spors,\n",
    "Professorship Signal Theory and Digital Signal Processing,\n",
    "Institute of Communications Engineering (INT),\n",
    "Faculty of Computer Science and Electrical Engineering (IEF),\n",
    "University of Rostock,\n",
    "Germany\n",
    "\n",
    "# Tutorial Digital Signal Processing\n",
    "\n",
    "**DFT and Windowing**,\n",
    "Winter Semester 2023/24 (Course #24505)\n",
    "\n",
    "- lecture: https://github.com/spatialaudio/digital-signal-processing-lecture\n",
    "- tutorial: https://github.com/spatialaudio/digital-signal-processing-exercises\n",
    "\n",
    "Feel free to contact lecturer jacob.thoenes@uni-rostock.de"
   ]
  },
  {
   "cell_type": "code",
   "execution_count": null,
   "metadata": {},
   "outputs": [],
   "source": [
    "import numpy as np\n",
    "import matplotlib.pyplot as plt\n",
    "from numpy.fft import fft, ifft, fftshift\n",
    "#from scipy.fft import fft, ifft, fftshift\n",
    "from scipy.signal.windows import hann, flattop"
   ]
  },
  {
   "cell_type": "markdown",
   "metadata": {},
   "source": [
    "## Task a)\n",
    "\n",
    "Generate two sine signals of $f_1=200$ Hz and $f_2=200.25$ Hz and amplitude $|x[k]|_\\text{max}=1$ for the sampling frequency $f_s=800$ Hz in the range of $0\\leq k<N=1600$."
   ]
  },
  {
   "cell_type": "code",
   "execution_count": null,
   "metadata": {},
   "outputs": [],
   "source": [
    "# a)\n",
    "f1 = 200  # Hz\n",
    "f2 = 200.25  # Hz\n",
    "fs = 800  # Hz\n",
    "N = 1600\n",
    "k = np.arange(N)\n",
    "x1 = np.sin(2*np.pi*f1/fs*k)\n",
    "x2 = np.sin(2*np.pi*f2/fs*k)"
   ]
  },
  {
   "cell_type": "markdown",
   "metadata": {},
   "source": [
    "## Task b) \n",
    "\n",
    "Generate\n",
    "- a rectangular window, \n",
    "- a Hann window and\n",
    "- a flat top window\n",
    "\n",
    "with the same lengths as the sine signals. Note: we analyze signals, so we use `sym=False` (periodic window) rather than `sym=True` (symmetric window, used for FIR filter design). Plot the obtained window signals over $k$."
   ]
  },
  {
   "cell_type": "code",
   "execution_count": null,
   "metadata": {},
   "outputs": [],
   "source": [
    "# b)\n",
    "wrect = np.ones(N)\n",
    "whann = hann(N, sym=False)\n",
    "wflattop = flattop(N, sym=False)\n",
    "plt.plot(wrect, 'C0o-', ms=3, label='rect')\n",
    "plt.plot(whann, 'C1o-', ms=3, label='hann')\n",
    "plt.plot(wflattop, 'C2o-', ms=3, label='flattop')\n",
    "plt.xlabel(r'$k$')\n",
    "plt.ylabel(r'window $w[k]$')\n",
    "plt.xlim(0, N)\n",
    "plt.legend()\n",
    "plt.grid(True)"
   ]
  },
  {
   "cell_type": "markdown",
   "metadata": {},
   "source": [
    "## Task c)\n",
    "\n",
    " Window both sine signals `x1` and `x2` with the three windows and calculate the corresponding DFT spectra using FFT algorithm either from `numpy.fft` or from `scipy.fft` package."
   ]
  },
  {
   "cell_type": "code",
   "execution_count": null,
   "metadata": {},
   "outputs": [],
   "source": [
    "# c)\n",
    "X1wrect = fft(x1)\n",
    "X2wrect = fft(x2)\n",
    "\n",
    "X1whann = fft(x1*whann)\n",
    "X2whann = fft(x2*whann)\n",
    "\n",
    "X1wflattop = fft(x1*wflattop)\n",
    "X2wflattop = fft(x2*wflattop)"
   ]
  },
  {
   "cell_type": "markdown",
   "metadata": {},
   "source": [
    "## Task d)\n",
    "\n",
    "Plot the **normalized** level of the DFT spectra in between 175 Hz and 225 Hz and -50 and 0 dB.\n",
    "\n",
    "Note that we are dealing with analysis of sine signals, so a convenient **normalization** should be applied for the shown level. This can be achieved by making the result independent from the chosen DFT length $N$. Furthermore, considering negative and positive frequency bins, multiplying with 2 yields normalization to sine signal amplitudes. Since the frequency bin for 0 Hz and (if $N$ is even) for $f_s/2$ exists only once, multiplication with 2 is not required for these bins."
   ]
  },
  {
   "cell_type": "markdown",
   "metadata": {},
   "source": [
    "### Preparations for solution\n",
    "\n",
    "It is meaningful to define a function that returns the level of DFT in term of sine signal normalization.\n",
    "\n",
    "Furthermore, the DFT frequency vector should be set up."
   ]
  },
  {
   "cell_type": "code",
   "execution_count": null,
   "metadata": {},
   "outputs": [],
   "source": [
    "# this handling is working for N even and odd:\n",
    "def fft2db(X):\n",
    "    N = X.size\n",
    "    Xtmp = 2/N * X  # independent of N, norm for sine amplitudes\n",
    "    Xtmp[0] *= 1/2  # bin for f=0 Hz is existing only once, so cancel *2 from above\n",
    "    if N % 2 == 0:  # fs/2 is included as a bin\n",
    "        # fs/2 bin is existing only once, so cancel *2 from above\n",
    "        Xtmp[N//2] = Xtmp[N//2] / 2\n",
    "    return 20*np.log10(np.abs(Xtmp))  # in dB\n",
    "\n",
    "\n",
    "# setup of frequency vector this way is independent of N even/odd:\n",
    "df = fs/N\n",
    "f = np.arange(N)*df"
   ]
  },
  {
   "cell_type": "markdown",
   "metadata": {},
   "source": [
    "The proposed handling is independent of N odd/even and returns the whole DFT spectrum. Since we normalized for physical sine frequencies, only the part from 0 Hz to fs/2 is valid.\n",
    "So, make sure that spectrum returned from fft2db is only plotted up to fs/2.\n",
    "\n",
    "### Solution"
   ]
  },
  {
   "cell_type": "code",
   "execution_count": null,
   "metadata": {},
   "outputs": [],
   "source": [
    "plt.figure(figsize=(16/1.5, 10/1.5))\n",
    "plt.subplot(3, 1, 1)\n",
    "plt.plot(f, fft2db(X1wrect), 'C0o-', ms=3, label='best case rect')\n",
    "plt.plot(f, fft2db(X2wrect), 'C3o-', ms=3, label='worst case rect')\n",
    "plt.xlim(175, 225)\n",
    "plt.ylim(-60, 0)\n",
    "plt.xticks(np.arange(175, 230, 5))\n",
    "plt.yticks(np.arange(-60, 10, 10))\n",
    "plt.legend()\n",
    "#plt.xlabel('f / Hz')\n",
    "plt.ylabel('A / dB')\n",
    "plt.grid(True)\n",
    "\n",
    "plt.subplot(3, 1, 2)\n",
    "plt.plot(f, fft2db(X1whann), 'C0o-', ms=3, label='best case hann')\n",
    "plt.plot(f, fft2db(X2whann), 'C3o-', ms=3, label='worst case hann')\n",
    "plt.xlim(175, 225)\n",
    "plt.ylim(-60, 0)\n",
    "plt.xticks(np.arange(175, 230, 5))\n",
    "plt.yticks(np.arange(-60, 10, 10))\n",
    "plt.legend()\n",
    "#plt.xlabel('f / Hz')\n",
    "plt.ylabel('A / dB')\n",
    "plt.grid(True)\n",
    "\n",
    "plt.subplot(3, 1, 3)\n",
    "plt.plot(f, fft2db(X1wflattop), 'C0o-', ms=3, label='best case flattop')\n",
    "plt.plot(f, fft2db(X2wflattop), 'C3o-', ms=3, label='worst case flattop')\n",
    "plt.xlim(175, 225)\n",
    "plt.ylim(-60, 0)\n",
    "plt.xticks(np.arange(175, 230, 5))\n",
    "plt.yticks(np.arange(-60, 10, 10))\n",
    "plt.legend()\n",
    "plt.xlabel('f / Hz')\n",
    "plt.ylabel('A / dB')\n",
    "plt.grid(True)"
   ]
  },
  {
   "cell_type": "markdown",
   "metadata": {},
   "source": [
    "## Task e)\n",
    "Plot the level of the window DTFT spectra normalized to their mainlobe maximum for $-\\pi \\leq \\Omega \\leq \\pi$ and -120 dB to 0 dB. Use zero-padding or the formulas for interpolation towards the DTFT to achieve a sufficiently high resolution of the spectra. To inspect the mainlobe in detail spectra might be plotted within the range $-\\pi/100 \\leq \\Omega \\leq \\pi/100$ as well."
   ]
  },
  {
   "cell_type": "markdown",
   "metadata": {},
   "source": [
    "### Preparations for solution\n",
    "\n",
    "It is again meaningful to define a function that returns the quasi-DTFT and the evaluated digital frequencies.\n",
    "Here is a proposal using zeropadding (to obtain DTFT-like frequency resolution) and fftshift (to bring mainlobe into the middle of numpy array), which then requires $\\Omega$ from $-\\pi$ to $\\pi$. "
   ]
  },
  {
   "cell_type": "code",
   "execution_count": null,
   "metadata": {},
   "outputs": [],
   "source": [
    "def winDTFTdB(w):\n",
    "    N = w.size  # get window length\n",
    "    Nz = 100*N  # zeropadding length\n",
    "    W = np.zeros(Nz)  # allocate RAM\n",
    "    W[0:N] = w  # insert window\n",
    "    W = np.abs(fftshift(fft(W)))  # fft, fftshift and magnitude\n",
    "    W /= np.max(W)  # normalize to maximum, i.e. the mainlobe maximum here\n",
    "    W = 20*np.log10(W)  # get level in dB\n",
    "    # get appropriate digital frequencies\n",
    "    Omega = 2*np.pi/Nz*np.arange(Nz) - np.pi  # also shifted\n",
    "    return Omega, W"
   ]
  },
  {
   "cell_type": "code",
   "execution_count": null,
   "metadata": {},
   "outputs": [],
   "source": [
    "plt.plot([-np.pi, +np.pi], [-3.01, -3.01], 'gray')  # mainlobe bandwidth\n",
    "plt.plot([-np.pi, +np.pi], [-13.3, -13.3], 'gray')  # rect max sidelobe\n",
    "plt.plot([-np.pi, +np.pi], [-31.5, -31.5], 'gray')  # hann max sidelobe\n",
    "plt.plot([-np.pi, +np.pi], [-93.6, -93.6], 'gray')  # flattop max sidelobe\n",
    "Omega, W = winDTFTdB(wrect)\n",
    "plt.plot(Omega, W, label='rect')\n",
    "Omega, W = winDTFTdB(whann)\n",
    "plt.plot(Omega, W, label='hann')\n",
    "Omega, W = winDTFTdB(wflattop)\n",
    "plt.plot(Omega, W, label='flattop')\n",
    "plt.xlim(-np.pi, np.pi)\n",
    "plt.ylim(-120, 10)\n",
    "\n",
    "plt.xlim(-np.pi/100, np.pi/100)  # zoom into mainlobe\n",
    "\n",
    "plt.xlabel(r'$\\Omega$')\n",
    "plt.ylabel(r'|W($\\Omega$)| / dB')\n",
    "plt.legend()\n",
    "plt.grid(True)"
   ]
  },
  {
   "cell_type": "markdown",
   "metadata": {},
   "source": [
    "## Task f)\n",
    "\n",
    "Interpret the results of d) with the help of e) regarding the best and worst case for the different windows. Why do the results for the signals with frequencies $f_1$ and $f_2$ differ?\n",
    "\n",
    "This is the key question of the windowing concept. Check the DFT/window script for possible explanations."
   ]
  },
  {
   "cell_type": "markdown",
   "metadata": {},
   "source": [
    "## Task g)\n",
    "\n",
    "1. Determine the width of the main lobe (at the -3.01 dB cut frequencies) in terms of physical frequency and digital frequency.\n",
    "\n",
    "2. Determine the attenuation of the highest side lobe from the window spectra.\n",
    "\n",
    "For 1. The mainlobe bandwidth can be computed comparably easy, assumed that zeropadding resolution is high enough. Just find that Omega, for which W gets larger than -3 dB. Starting from Omega=-pi, one can not miss it. Then doubling the found value gives the bandwidth."
   ]
  },
  {
   "cell_type": "code",
   "execution_count": null,
   "metadata": {},
   "outputs": [],
   "source": [
    "Omega, W = winDTFTdB(wrect)\n",
    "BW = Omega[W >= -3.01]\n",
    "print('rect window mainlobe bandwidth is',\n",
    "      (-BW[0]*2)*fs/(2*np.pi), 'Hz,', (-BW[0]*2), 'rad')\n",
    "\n",
    "Omega, W = winDTFTdB(whann)\n",
    "BW = Omega[W >= -3.01]\n",
    "print('hann window mainlobe bandwidth is',\n",
    "      (-BW[0]*2)*fs/(2*np.pi), 'Hz,', (-BW[0]*2), 'rad')\n",
    "\n",
    "Omega, W = winDTFTdB(wflattop)\n",
    "BW = Omega[W >= -3.01]\n",
    "print('flattop window mainlobe bandwidth is',\n",
    "      (-BW[0]*2)*fs/(2*np.pi), 'Hz,', (-BW[0]*2), 'rad')"
   ]
  },
  {
   "cell_type": "markdown",
   "metadata": {},
   "source": [
    "For 2. This is a little bit more tricky, since you should find it starting from the mainlobe, falling into the first zero and then find the maximum level of the sidelobes. Think about how to compute this elegantly.\n",
    "\n",
    "The plot above for task e) indicated the sidelobe levels with gray lines. You'll find that maximum sidelobe level is -13.3 dB for rectangular (always equal to first sidelobe), -31.5 dB for Hann (always equal to first sidelobe), -93.6 dB for Flattop window compared to the 0dB mainlobe maximum."
   ]
  },
  {
   "cell_type": "markdown",
   "metadata": {},
   "source": [
    "## Task h)\n",
    "\n",
    "Explain for which signal analysis task the rectangular window and the flat top window should be used.\n",
    "\n",
    "- Rectangular has good frequency resolution (most narrow mainlobe), but bad sidelobe suppression, thus deviations from DFT eigenfrequencies lead to large estimation errors of the spectrum's magnitude. This window exhibits the largest leakage effect but best frequency resolution.\n",
    "\n",
    "- Flattop has bad frequency resolution (wide mainlobe), but good sidelobe suppression, thus deviations from DFT eigenfrequencies lead to small estimation errors of the spectrum's magnitude. This window has very low leakgave effect but very bad frequency resolution.\n",
    "\n",
    "So, use a rectangular window if frequency resolution must be very high, use a flattop window if magnitude estimation error must be small.\n"
   ]
  },
  {
   "cell_type": "markdown",
   "metadata": {},
   "source": [
    "## Task i)\n",
    "\n",
    "Do some research on your own: Which advantages exhibit the Kaiser-Bessel and the Dolph-Chebyshev windows compared to the so far used windows here?\n",
    "\n",
    "The Kaiser-Bessel and the Dolph-Chebyshev window are members of the so called parametric windows family.\n",
    "See the Jupyter notebook [parametric_windows.ipynb](parametric_windows.ipynb) for details.\n",
    "We have seen that mainlobe width and sidelobe suppression is always a trade-off. The rect, hann and flattop window are so called non-parametric windows only having window length $N$ as parameter and by that exhibit a certain, fixed mainlobe/sidelobe trade-off by design.\n",
    "\n",
    "Parametric windows, besides length $N$ (which is often fixed due to measurement constraints), allow to change at least one more parameter, which precisely varies the trade-off between mainlobe width and sidelobe suppression. The specific trade-off characteristic follows a certain design criterion.\n",
    "For example the Dolph-Chebyshev window asks for equal desired sidelobe level, whereas the Kaiser-Bessel asks for mainlobe energy concentration for a desired bandwidth. "
   ]
  },
  {
   "cell_type": "markdown",
   "metadata": {},
   "source": [
    "**Copyright**\n",
    "\n",
    "The notebooks are provided as [Open Educational Resources](https://en.wikipedia.org/wiki/Open_educational_resources). Feel free to use the notebooks for your own purposes. The text is licensed under [Creative Commons Attribution 4.0](https://creativecommons.org/licenses/by/4.0/), the code of the IPython examples under the [MIT license](https://opensource.org/licenses/MIT). Please attribute the work as follows: *Frank Schultz, Digital Signal Processing - A Tutorial Featuring Computational Examples* with the URL https://github.com/spatialaudio/digital-signal-processing-exercises"
   ]
  }
 ],
 "metadata": {
  "kernelspec": {
   "display_name": "Python 3 (ipykernel)",
   "language": "python",
   "name": "python3"
  },
  "language_info": {
   "codemirror_mode": {
    "name": "ipython",
    "version": 3
   },
   "file_extension": ".py",
   "mimetype": "text/x-python",
   "name": "python",
   "nbconvert_exporter": "python",
   "pygments_lexer": "ipython3",
   "version": "3.10.12"
  }
 },
 "nbformat": 4,
 "nbformat_minor": 4
}
