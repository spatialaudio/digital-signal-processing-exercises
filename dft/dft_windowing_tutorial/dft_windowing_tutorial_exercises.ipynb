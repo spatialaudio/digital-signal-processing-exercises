{
 "cells": [
  {
   "cell_type": "markdown",
   "metadata": {},
   "source": [
    "Sascha Spors,\n",
    "Professorship Signal Theory and Digital Signal Processing,\n",
    "Institute of Communications Engineering (INT),\n",
    "Faculty of Computer Science and Electrical Engineering (IEF),\n",
    "University of Rostock,\n",
    "Germany\n",
    "\n",
    "# Tutorial Digital Signal Processing\n",
    "\n",
    "**DFT Fundamentals**,\n",
    "Winter Semester 2021/22 (Course #24505)\n",
    "\n",
    "- lecture: https://github.com/spatialaudio/digital-signal-processing-lecture\n",
    "- tutorial: https://github.com/spatialaudio/digital-signal-processing-exercises\n",
    "\n",
    "Feel free to contact lecturer frank.schultz@uni-rostock.de"
   ]
  },
  {
   "cell_type": "code",
   "execution_count": null,
   "metadata": {},
   "outputs": [],
   "source": [
    "import numpy as np\n",
    "import timeit\n",
    "\n",
    "from matplotlib import pyplot as plt\n",
    "from numpy.fft import fft, ifft\n",
    "#from scipy.fft import fft, ifft\n",
    "from scipy.special import diric"
   ]
  },
  {
   "cell_type": "markdown",
   "metadata": {},
   "source": [
    "These exercises accompany the [dft_windowing_tutorial.pdf](dft_windowing_tutorial.pdf)"
   ]
  },
  {
   "cell_type": "markdown",
   "metadata": {},
   "source": [
    "## Exercise 1: My Own DFT / IDFT Implementation\n",
    "\n",
    "Write Python functions `X = my_dft(x)` and `x = my_idft(X)` that calculate the DFT pair\n",
    "\n",
    "\\begin{align}\n",
    "X[\\mu] = \\mathrm{DFT}_N\\{x[k]\\} = &\\sum_{k=0}^{N-1} x[k] \\, (\\mathrm{e}^{-\\mathrm{j}\\frac{2\\pi}{N}})^{k \\cdot \\mu}\n",
    "\\\\\n",
    "x[k] = \\mathrm{IDFT}_N\\{X[\\mu]\\} = \\frac{1}{N} &\\sum_{\\mu=0}^{N-1} X[\\mu] \\, (\\mathrm{e}^{+\\mathrm{j}\\frac{2\\pi}{N}})^{k \\cdot \\mu}\n",
    "\\end{align}\n",
    "without using the pre-built functions `fft()` and `ifft()`. Check validity and performance against the built-in functions, especially try large $N$. We might consider the matrix operation approach rather than a for-loop implementation, given that the $N \\times N$ matrix fits into our RAM."
   ]
  },
  {
   "cell_type": "code",
   "execution_count": null,
   "metadata": {},
   "outputs": [],
   "source": [
    "def get_fourier_matrix(N):\n",
    "    k = np.arange(N)\n",
    "    return np.exp(+1j*2*np.pi/N*np.outer(k, k))\n",
    "\n",
    "\n",
    "def my_dft(x):\n",
    "    N = x.size\n",
    "    return np.conj(get_fourier_matrix(N))@x\n",
    "\n",
    "\n",
    "def my_idft(X):\n",
    "    N = X.size\n",
    "    return 1/N*get_fourier_matrix(N)@X"
   ]
  },
  {
   "cell_type": "code",
   "execution_count": null,
   "metadata": {},
   "outputs": [],
   "source": [
    "N = 2**8"
   ]
  },
  {
   "cell_type": "markdown",
   "metadata": {},
   "source": [
    "Check `my_dft` against numpy's `fft` with numpy's `allclose`"
   ]
  },
  {
   "cell_type": "code",
   "execution_count": null,
   "metadata": {},
   "outputs": [],
   "source": [
    "# create random complex valued signal\n",
    "x = np.random.randn(N) + 1j * np.random.randn(N)\n",
    "# check against numpy fft\n",
    "np.allclose(my_dft(x), fft(x))"
   ]
  },
  {
   "cell_type": "markdown",
   "metadata": {},
   "source": [
    "Check `my_idft` against numpy's `ifft` with numpy's `allclose`"
   ]
  },
  {
   "cell_type": "code",
   "execution_count": null,
   "metadata": {},
   "outputs": [],
   "source": [
    "# create random complex valued spectrum\n",
    "X = np.random.randn(N) + 1j * np.random.randn(N)\n",
    "# check against numpy ifft\n",
    "np.allclose(my_idft(X), ifft(X))"
   ]
  },
  {
   "cell_type": "markdown",
   "metadata": {},
   "source": [
    "check processing time as `dur`"
   ]
  },
  {
   "cell_type": "code",
   "execution_count": null,
   "metadata": {},
   "outputs": [],
   "source": [
    "N_rep = 2**8  # play around with N and N_rep to see that my_xxx() functions\n",
    "# are very slow for large N, i.e. our matrix multiplication generates very high\n",
    "# computing load compared to the FFT / IFFT algorithm used in numpy.fft package\n",
    "\n",
    "dur = timeit.timeit(\n",
    "    'my_dft(x)', 'from __main__ import my_dft, x', number=N_rep)\n",
    "print('my dft:', dur)\n",
    "\n",
    "dur = timeit.timeit(\n",
    "    'fft(x)', 'from __main__ import fft, x', number=N_rep)\n",
    "print('numpy fft:', dur)\n",
    "\n",
    "dur = timeit.timeit(\n",
    "    'my_idft(X)', 'from __main__ import my_idft, X', number=N_rep)\n",
    "print('my idft:', dur)\n",
    "\n",
    "dur = timeit.timeit(\n",
    "    'ifft(X)', 'from __main__ import ifft, X', number=N_rep)\n",
    "print('numpy ifft', dur)"
   ]
  },
  {
   "cell_type": "markdown",
   "metadata": {},
   "source": [
    "We see, that in practice we should better use the `fft()` and `ifft()` rourines rather than our own implementations  that exhibit comparably huge computational load."
   ]
  },
  {
   "cell_type": "markdown",
   "metadata": {},
   "source": [
    "## Exercise 2: IDFT as Analytic Calculus / as Linear Vector Combination"
   ]
  },
  {
   "cell_type": "markdown",
   "metadata": {},
   "source": [
    "The discrete-time signal\n",
    "\\begin{equation}\n",
    "x[k]=-2\\cdot\\sin\\left(\\frac{2\\pi}{4}k\\right)+3\\cdot\\cos\\left(\\frac{2\\pi}{4}\\cdot2k\\right)+1\n",
    "\\hspace{5mm}\\text{for}\\,\\,0\\leq k\\leq3\n",
    "\\end{equation}\n",
    "with $k\\in\\mathbb{Z}$ is given."
   ]
  },
  {
   "cell_type": "markdown",
   "metadata": {},
   "source": [
    "**a)**\n",
    "\n",
    "Calculate the resulting values of $x[k]$ for $0\\leq k\\leq3$."
   ]
  },
  {
   "cell_type": "markdown",
   "metadata": {},
   "source": [
    "**Solution**\n",
    "\n",
    "\\begin{align}\n",
    "x[0]&=-2\\cdot\\sin\\left(2\\pi\\frac{1}{4}\\cdot0\\right)+3\\cdot\\cos\\left(2\\pi\\frac{2}{4}\\cdot0\\right)+1=3+1=4\\\\\n",
    "x[1]&=-2\\cdot\\sin\\left(2\\pi\\frac{1}{4}\\cdot1\\right)+3\\cdot\\cos\\left(2\\pi\\frac{2}{4}\\cdot1\\right)+1=-2-3+1=-4\\\\\n",
    "x[2]&=-2\\cdot\\sin\\left(2\\pi\\frac{1}{4}\\cdot2\\right)+3\\cdot\\cos\\left(2\\pi\\frac{2}{4}\\cdot2\\right)+1=3+1=4\\\\\n",
    "x[3]&=-2\\cdot\\sin\\left(2\\pi\\frac{1}{4}\\cdot3\\right)+3\\cdot\\cos\\left(2\\pi\\frac{2}{4}\\cdot3\\right)+1=2-3+1=0\n",
    "\\end{align}"
   ]
  },
  {
   "cell_type": "code",
   "execution_count": null,
   "metadata": {},
   "outputs": [],
   "source": [
    "N = 4\n",
    "k = np.arange(N)\n",
    "x = -2*np.sin(2*np.pi/N*k) + 3*np.cos(2*np.pi/N*2*k) + 1\n",
    "print('x=', x)"
   ]
  },
  {
   "cell_type": "markdown",
   "metadata": {},
   "source": [
    "**b)**\n",
    "\n",
    "Show analytically that the given values of $X[\\mu]$, $\\mu\\in\\mathbb{Z}$:\n",
    "\\begin{equation}\n",
    "X[\\mu=0]=4,\\quad X[\\mu=1]=4\\mathrm{j},\\quad  X[\\mu=2]=12\n",
    "\\end{equation}\n",
    "are the DFT coefficients of $x[k]$ stemming from our used DFT equation\n",
    "\\begin{equation}\n",
    "X[\\mu]=\\sum_{k=0}^{N-1}x[k]\\cdot\\mathrm{e}^{-\\mathrm{j}\\frac{2\\pi}{N}k\\mu}\n",
    "\\end{equation}\n",
    "with $N=4$.\n",
    "\n",
    "The following procedure is suggested: Set up the spectral\n",
    "coefficients $X[\\mu]$ in the form\n",
    "\n",
    "\\begin{equation}\n",
    "X[\\mu]=A[\\mu]\\cdot\\mathrm{e}^{\\mathrm{j}\\phi[\\mu]}\n",
    "\\end{equation}\n",
    "\n",
    "and specify the missing value $X[\\mu=3]$ so that the IDFT results in\n",
    "$x[k]\\in\\mathbb{R}$. Certain symmetries in the spectrum hold.\n",
    "\n",
    "Then calculate the IDFT analytically as\n",
    "\\begin{equation}\n",
    "x[k]=\\frac{1}{N}\\sum_{\\mu=0}^{N-1}X[\\mu]\\cdot\\mathrm{e}^{\\mathrm{j}\\frac{2\\pi}{N}k\\mu}\n",
    "\\end{equation}\n",
    "showing that this corresponds to the given signal $x[k]$.\n",
    "\n",
    "Also, check the results numerically. Store the DFT spectrum in `X` for future reference."
   ]
  },
  {
   "cell_type": "markdown",
   "metadata": {},
   "source": [
    "**Solution**\n",
    "\n",
    "For manual calculus see [dft_windowing_tutorial.pdf](dft_windowing_tutorial.pdf)."
   ]
  },
  {
   "cell_type": "code",
   "execution_count": null,
   "metadata": {},
   "outputs": [],
   "source": [
    "mu = np.arange(N)\n",
    "W = np.exp(+1j*2*np.pi/N*np.outer(k, mu))  # Fourier matrix\n",
    "with np.printoptions(precision=3, suppress=True):\n",
    "    print('Fourier matrix W =\\n', W)\n",
    "\n",
    "X = fft(x)\n",
    "\n",
    "# DFT as matrix mul\n",
    "X1 = np.conj(W)@x\n",
    "\n",
    "# DFT as individual complex inner products using Fourier matrix column vectors\n",
    "X2 = np.zeros(N, dtype='complex')\n",
    "for col in range(N):\n",
    "    X2[col] = np.vdot(W[:, col], x)\n",
    "\n",
    "with np.printoptions(precision=3, suppress=True):\n",
    "    print('X = ', X)\n",
    "    print('X1 == X2:', np.allclose(X1, X2))\n",
    "    print('X1 == X:', np.allclose(X1, X))"
   ]
  },
  {
   "cell_type": "markdown",
   "metadata": {},
   "source": [
    "**c)**\n",
    "\n",
    "Plot the real and imaginary part as well as the magnitude and the phase of $X[\\mu]$ over $\\mu$."
   ]
  },
  {
   "cell_type": "code",
   "execution_count": null,
   "metadata": {},
   "outputs": [],
   "source": [
    "plt.figure(figsize=(7, 4.375))\n",
    "plt.subplot(2, 2, 1)\n",
    "plt.plot(mu, X.real, 'C0o', ms=7)\n",
    "plt.xlabel(r'$\\mu$')\n",
    "plt.ylabel(r'$\\Re(X)$')\n",
    "plt.grid(True)\n",
    "plt.subplot(2, 2, 2)\n",
    "plt.plot(mu, X.imag, 'C0o', ms=7)\n",
    "plt.xlabel(r'$\\mu$')\n",
    "plt.ylabel(r'$\\Im(X)$')\n",
    "plt.grid(True)\n",
    "plt.subplot(2, 2, 3)\n",
    "plt.plot(mu, np.abs(X), 'C0o', ms=7)\n",
    "plt.xlabel(r'$\\mu$')\n",
    "plt.ylabel(r'$|X|$')\n",
    "plt.grid(True)\n",
    "plt.subplot(2, 2, 4)\n",
    "plt.plot(mu, np.angle(X), 'C0o', ms=7)\n",
    "plt.xlabel(r'$\\mu$')\n",
    "plt.ylabel(r'$\\angle X$ / rad')\n",
    "plt.grid(True)"
   ]
  },
  {
   "cell_type": "markdown",
   "metadata": {},
   "source": [
    "**d)**\n",
    "\n",
    "Remove the DC component in the DFT spectrum `X` and from that spectrum synthesise the signal $x_r[k]$ via IDFT.\n",
    "\n",
    "Check that the synthesised signal corresponds to\n",
    "\\begin{equation}\n",
    "x_r[k]=-2\\cdot\\sin\\left(\\frac{2\\pi}{4}k\\right)+3\\cdot\\cos\\left(\\frac{2\\pi}{4}\\cdot2k\\right)\n",
    "\\hspace{5mm}\\text{for}\\,\\,0\\leq k\\leq3\n",
    "\\end{equation}\n",
    "\n",
    "by help of a linear combination using the Fourier matrix."
   ]
  },
  {
   "cell_type": "code",
   "execution_count": null,
   "metadata": {},
   "outputs": [],
   "source": [
    "X[0] = 0  # remove DC\n",
    "\n",
    "# IDFT as matrix mul\n",
    "xr1 = 1/N * W@X\n",
    "\n",
    "# IDFT as linear combination of the Fourier matrix column vectors, i.e. DFT signals\n",
    "xr2 = 1/N * (X[0]*W[:, 0] + X[1]*W[:, 1] + X[2]*W[:, 2] + X[3]*W[:, 3])\n",
    "\n",
    "xr_check = -2*np.sin(2*np.pi/N*k) + 3*np.cos(2*np.pi/N*2*k)\n",
    "print(np.allclose(xr1, xr_check))\n",
    "print(np.allclose(xr2, xr_check))"
   ]
  },
  {
   "cell_type": "markdown",
   "metadata": {},
   "source": [
    "**e)**\n",
    "\n",
    "A DFT-based audio analyser shall exhibit a frequency resolution of\n",
    "$\\Delta f=0.5$ Hz for a sampling frequency $f_s=44100$ Hz using a rectangular\n",
    "window.\n",
    "\n",
    "Determine the minimum required DFT length $N$ when only lengths $N=2^M$\n",
    "($M\\in\\mathbb{N}$) are allowed.\n",
    "\n",
    "What is the resulting frequency resolution then?"
   ]
  },
  {
   "cell_type": "markdown",
   "metadata": {},
   "source": [
    "**Solution**\n",
    "\n",
    "\\begin{align}\n",
    "\\Delta f=\\frac{f_s}{N}=\\frac{f_s}{2^M}\\stackrel{!}{=}0.5\\,\\text{Hz}\\\\\n",
    "M=\\left\\lceil\\log_{2}\\left(\\frac{f_s}{\\Delta f}\\right)\\right\\rceil_{\\in\\mathbb{N}}\\\\\n",
    "=\\left\\lceil\\log_{2}\\left(\\frac{44100\\,\\text{Hz}}{0.5\\,\\text{Hz}}\\right)\\right\\rceil_{\\in\\mathbb{N}}\\\\\n",
    "=\\left\\lceil16.4285...\\right\\rceil_{\\in\\mathbb{N}}\\\\\n",
    "=17\\\\\n",
    "\\Rightarrow\\hspace{5mm} N=2^M=2^{17}=131072\n",
    "\\end{align}\n",
    "The resulting frequency resolution is thus\n",
    "\\begin{equation}\n",
    "\\Delta f=\\frac{f_s}{N}=\\frac{44100\\,\\text{Hz}}{131072}\\approx0.3365\\,\\text{Hz}.\\nonumber\n",
    "\\end{equation}"
   ]
  },
  {
   "cell_type": "code",
   "execution_count": null,
   "metadata": {},
   "outputs": [],
   "source": [
    "df = 0.5\n",
    "fs = 44100\n",
    "M = (np.ceil(np.log10(fs/df) / np.log10(2)))\n",
    "Ntmp = 2**M\n",
    "print('N =', Ntmp.astype(int))\n",
    "print('df =', fs/Ntmp.astype(int), 'Hz')"
   ]
  },
  {
   "cell_type": "markdown",
   "metadata": {},
   "source": [
    "## Exercise 3: DFT Analysis Using a Rectangular Window / DTFT Interpolation\n",
    "\n",
    "The DFT spectrum $X[\\mu]$ can used for interpolation towards the DTFT spectrum $X(\\Omega)$ with\n",
    "\n",
    "\\begin{equation}\n",
    "X(\\Omega)=\\sum_{\\mu=0}^{N-1}X[\\mu]\\cdot\\mathrm{e}^{-\\mathrm{j}\\frac{\\left(\\Omega-\\frac{2\\pi}{N}\\mu\\right)(N-1)}{2}}\\cdot\\text{psinc}_N\\left(\\Omega-\\frac{2\\pi}{N}\\mu\\right).\n",
    "\\end{equation}\n",
    "\n",
    "The interpolation kernel utilises the so-called **periodic sinc function**\n",
    "\n",
    "\\begin{align}\n",
    "\\text{psinc}_N(\\Omega)=\\begin{cases}\\frac{1}{N}\\cdot\\frac{\\sin\\left(\\frac{N}{2}\\Omega\\right)}{\\sin\\left(\\frac{1}{2}\\Omega\\right)}&\\text{for }\\Omega\\neq2\\pi m\\\\\n",
    "(-1)^{m(N-1)}&\\text{for }\\Omega=2\\pi m\\end{cases},\\,\\,m\\in\\mathbb{Z},\n",
    "\\end{align}\n",
    "\n",
    "which is also known as aliased sinc and Dirichlet function.\n",
    "This interpolation implies:\n",
    "- the DFT $X[\\mu]$ stems from a signal $x[k]$ for which periodicity of $N$ is inherent, we assume the first period at $0\\leq k\\leq N-1$ \n",
    "- the DFT spectrum is discrete and $N$ periodic\n",
    "- the DTFT $X(\\Omega)$ stems from the signal $x[k]$ for $0\\leq k\\leq N-1$, for all other $k$ is $x[k]=0$, i.e. considering only one period\n",
    "- the DTFT spectrum is continuous and $2\\pi$ periodic, which means that the signal $x[k]$ can not be periodic"
   ]
  },
  {
   "cell_type": "markdown",
   "metadata": {},
   "source": [
    "**Task** \n",
    "\n",
    "A cosine signal $x[k]=\\cos(\\Omega k)$ with $0\\leq k \\leq N-1$ is to be analysed with the DFT using a rectangular window and assuming sampling frequency of $f_s=48$ kHz.\n",
    "\n",
    "For the parameters\n",
    "\n",
    "- $\\Omega=2\\cdot\\frac{2\\pi}{N}$, $N=8$\n",
    "- $\\Omega=2.5\\cdot\\frac{2\\pi}{N}$, $N=8$\n",
    "- $\\Omega=2\\cdot\\frac{2\\pi}{N}$, $N=9$\n",
    "- $\\Omega=2.5\\cdot\\frac{2\\pi}{N}$, $N=9$\n",
    "\n",
    "perform the following subtasks:\n",
    "\n",
    "**a)**\n",
    "\n",
    "Calculate the spectrum $X[\\mu]$ of $x[k]$ and visualise the real and\n",
    "imaginary part as well as the magnitude and the phase of $X[\\mu]$ over\n",
    "$0\\leq\\mu\\leq N-1$.\n",
    "\n",
    "**b)**\n",
    "\n",
    "Check the expected axial and point symmetries.\n",
    "\n",
    "**c)**\n",
    "\n",
    "Implement the DTFT interpolation equation above and visualise the $|X[\\mu]|$ and $|X(\\Omega)|$ over the frequency axes $\\mu$, $\\Omega$ and $f$.\n",
    "\n",
    "How and why the results are different?"
   ]
  },
  {
   "cell_type": "markdown",
   "metadata": {},
   "source": [
    "**Solution**\n",
    "\n",
    "It is meaningful to code two functions for repeated calculations, the first is the DFT to DTFT interpolation, the second function creates the signal and calculates the DFT, DTFT and plots the requested graphs."
   ]
  },
  {
   "cell_type": "code",
   "execution_count": null,
   "metadata": {},
   "outputs": [],
   "source": [
    "def dft2dtft(X, Om):\n",
    "    # DFT spectrum X\n",
    "    # digital angular freqency Om for which DTFT shall be evaluated\n",
    "    # DTFT Xi\n",
    "    N = len(X)\n",
    "    Xi = np.zeros(len(Om), dtype='complex')\n",
    "    for i, Omega in enumerate(Om):\n",
    "        for mu_dft in range(N):\n",
    "            Xi[i] += X[mu_dft] *\\\n",
    "                np.exp(-1j/2*(Omega - 2*np.pi/N*mu_dft)*(N-1)) *\\\n",
    "                diric(Omega - 2*np.pi/N*mu_dft, N)\n",
    "    return Xi"
   ]
  },
  {
   "cell_type": "code",
   "execution_count": null,
   "metadata": {},
   "outputs": [],
   "source": [
    "def dft2dtft_playground_plot(N=8, Om_sig=2,\n",
    "                             Om=np.linspace(0, 2*np.pi, 2**8), fs=48000):\n",
    "    mu = np.arange(N)\n",
    "    k = mu\n",
    "    x = np.cos(Om_sig*k)  # indicated symmetry holds for real input signals! \n",
    "    dOm = 2*np.pi/N\n",
    "    X_dft = fft(x)\n",
    "    X_dtft = dft2dtft(X_dft, Om)\n",
    "\n",
    "    plt.figure(figsize=(7, 4.375))\n",
    "    plt.subplot(2, 2, 1)\n",
    "    plt.plot(mu, X_dft.real, 'C0o', ms=7)\n",
    "    plt.plot([N/2, N/2], [-N/2, N/2], 'C3:')  # indicate axial symmetry\n",
    "    plt.xlim(0, N-1)\n",
    "    plt.ylim(-N/2, N/2)\n",
    "    plt.xlabel(r'$\\mu$')\n",
    "    plt.ylabel(r'$\\Re(X)$')\n",
    "    plt.title('axial symmetry wrt red line')\n",
    "    plt.grid(True)\n",
    "    plt.subplot(2, 2, 2)\n",
    "    plt.plot(mu, X_dft.imag, 'C0o', ms=7)\n",
    "    plt.plot([N/2], [0], 'C3o')  # indicate point symmetry\n",
    "    plt.xlim(0, N-1)\n",
    "    plt.ylim(-N/2, N/2)\n",
    "    plt.xlabel(r'$\\mu$')\n",
    "    plt.ylabel(r'$\\Im(X)$')\n",
    "    plt.title('point symmetry wrt red point')\n",
    "    plt.grid(True)\n",
    "    plt.subplot(2, 2, 3)\n",
    "    plt.plot(mu, np.abs(X_dft), 'C0o', ms=7)\n",
    "    plt.plot([N/2, N/2], [0, N/2], 'C3:')  # indicate axial symmetry\n",
    "    plt.xlim(0, N-1)\n",
    "    plt.ylim(0, N/2)\n",
    "    plt.xlabel(r'$\\mu$')\n",
    "    plt.ylabel(r'$|X|$')\n",
    "    plt.grid(True)\n",
    "    plt.subplot(2, 2, 4)\n",
    "    plt.plot(mu, np.angle(X_dft), 'C0o', ms=7)\n",
    "    plt.plot([N/2], [0], 'C3o')  # indicate point symmetry    \n",
    "    plt.xlim(0, N-1)\n",
    "    plt.ylim(-np.pi, np.pi)\n",
    "    plt.xlabel(r'$\\mu$')\n",
    "    plt.ylabel(r'$\\angle X$ / rad')\n",
    "    plt.grid(True)\n",
    "\n",
    "    plt.figure(figsize=(7, 9))\n",
    "    plt.subplot(3, 1, 1)\n",
    "    plt.plot(mu, np.abs(X_dft), 'C0o', ms=7, label='DFT')\n",
    "    plt.plot(Om/dOm, np.abs(X_dtft), 'C1', label='DTFT')\n",
    "    plt.xlim(0, N)\n",
    "    plt.xlabel(r'$\\mu$')\n",
    "    plt.title('magnitude spectrum |X|')\n",
    "    plt.legend()\n",
    "    plt.grid(True)\n",
    "    plt.subplot(3, 1, 2)\n",
    "    plt.plot(mu*dOm, np.abs(X_dft), 'C0o', ms=7)\n",
    "    plt.plot(Om, np.abs(X_dtft), 'C1')\n",
    "    plt.xlim(0, 2*np.pi)\n",
    "    plt.xlabel(r'$\\Omega$ / rad')\n",
    "    plt.grid(True)\n",
    "    plt.subplot(3, 1, 3)\n",
    "    plt.plot(mu*fs/N, np.abs(X_dft), 'C0o', ms=7)\n",
    "    plt.plot(Om*fs/2/np.pi, np.abs(X_dtft), 'C1')\n",
    "    plt.xlim(0, fs)\n",
    "    plt.xlabel(r'$f$ / Hz with fs='+str(fs/1000)+'kHz')\n",
    "    plt.grid(True)"
   ]
  },
  {
   "cell_type": "code",
   "execution_count": null,
   "metadata": {},
   "outputs": [],
   "source": [
    "N = 8\n",
    "Om_sig = 2*2*np.pi/N\n",
    "dft2dtft_playground_plot(N=N, Om_sig=Om_sig)"
   ]
  },
  {
   "cell_type": "code",
   "execution_count": null,
   "metadata": {},
   "outputs": [],
   "source": [
    "N = 9\n",
    "Om_sig = 2*2*np.pi/N\n",
    "dft2dtft_playground_plot(N=N, Om_sig=Om_sig)"
   ]
  },
  {
   "cell_type": "code",
   "execution_count": null,
   "metadata": {},
   "outputs": [],
   "source": [
    "N = 8\n",
    "Om_sig = 2.5*2*np.pi/N\n",
    "dft2dtft_playground_plot(N=N, Om_sig=Om_sig)"
   ]
  },
  {
   "cell_type": "code",
   "execution_count": null,
   "metadata": {},
   "outputs": [],
   "source": [
    "N = 9\n",
    "Om_sig = 2.5*2*np.pi/N\n",
    "dft2dtft_playground_plot(N=N, Om_sig=Om_sig)"
   ]
  },
  {
   "cell_type": "markdown",
   "metadata": {},
   "source": [
    "## Exercise 4: DFT / DTFT of an Finite Impulse Response (FIR)"
   ]
  },
  {
   "cell_type": "markdown",
   "metadata": {},
   "source": [
    "The finite length impulse response (FIR) $h[k]$ of an LTI system is given\n",
    "as\n",
    "\n",
    "\\begin{equation}\n",
    "h[k]=\\frac{1}{8}\\cdot\\left(11 \\delta[k]-5 \\delta[k-1]+7 \\delta[k-2]-9 \\delta[k-3]\\right).\n",
    "\\end{equation}\n",
    "\n",
    "Obviously, the LTI system is non-recursive.\n",
    "\n",
    "The magnitude and phase spectrum is to be evaluated from\n",
    "- DFT\n",
    "- DTFT\n",
    "- DFT of zerpadded impulse response\n",
    "\n",
    "Discuss the different approaches."
   ]
  },
  {
   "cell_type": "code",
   "execution_count": null,
   "metadata": {},
   "outputs": [],
   "source": [
    "h = np.array([11, -5, 7, -9]) / 8  # FIR\n",
    "\n",
    "# DFT\n",
    "Nh = h.size  # length of FIR\n",
    "H_dft = fft(h)  # DFT of FIR\n",
    "mu = np.arange(Nh)  # DFT frequency vector mu\n",
    "\n",
    "with np.printoptions(precision=3, suppress=True):\n",
    "    print('at DFT frequencies:')\n",
    "    print('level', 20*np.log10(np.abs(H_dft)), 'dB')\n",
    "    print('phase', np.angle(H_dft)*180/np.pi, 'deg')\n",
    "\n",
    "# interpolation towards DTFT  \n",
    "NOm = 2**8  # DTFT frequencies to be plotted\n",
    "dOm = 2*np.pi/NOm  # resolution\n",
    "Om = np.arange(NOm)*dOm\n",
    "H_dtft = dft2dtft(fft(h), Om)\n",
    "\n",
    "# interpolation via zeropadding and DFT\n",
    "hz = np.zeros(NOm)  # zero signal\n",
    "hz[0:4] = h  # insert h yields zeropadded FIR in hz\n",
    "Hz_dft = fft(hz)  # DFT of zeropadded FIR\n",
    "\n",
    "plt.figure(figsize=(7,4.375))\n",
    "plt.subplot(2,1,1)\n",
    "plt.plot(mu*2*np.pi/Nh, np.abs(H_dft), 'C0o', label=r'DFT of $h[k]$')\n",
    "plt.plot(Om, np.abs(H_dtft), 'C1', label=r'DTFT of $h[k]$')\n",
    "plt.plot(Om, np.abs(Hz_dft), 'C3-.', label=r'DFT of zeropadded IR $h_z[k]$')\n",
    "plt.xlim(0, 2*np.pi)\n",
    "plt.ylim(0)\n",
    "#plt.xlabel(r'$\\Omega$ / rad')\n",
    "plt.ylabel(r'magnitude |H|')\n",
    "plt.legend()\n",
    "plt.grid(True)\n",
    "plt.subplot(2,1,2)\n",
    "plt.plot(mu*2*np.pi/Nh, np.angle(H_dft)*180/np.pi, 'C0o', label=r'DFT of $h[k]$')\n",
    "plt.plot(Om, np.angle(H_dtft)*180/np.pi, 'C1', label=r'DTFT of $h[k]$')\n",
    "plt.plot(Om, np.angle(Hz_dft)*180/np.pi, 'C3-.', label=r'DFT of zeropadded IR $h_z[k]$')\n",
    "plt.xlim(0, 2*np.pi)\n",
    "plt.xlabel(r'$\\Omega$ / rad')\n",
    "plt.ylabel(r'phase $\\angle H$ in deg')\n",
    "plt.grid(True)"
   ]
  },
  {
   "cell_type": "markdown",
   "metadata": {},
   "source": [
    "**Copyright**\n",
    "\n",
    "The notebooks are provided as [Open Educational Resources](https://en.wikipedia.org/wiki/Open_educational_resources). Feel free to use the notebooks for your own purposes. The text is licensed under [Creative Commons Attribution 4.0](https://creativecommons.org/licenses/by/4.0/), the code of the IPython examples under the [MIT license](https://opensource.org/licenses/MIT). Please attribute the work as follows: *Frank Schultz, Digital Signal Processing - A Tutorial Featuring Computational Examples* with the URL https://github.com/spatialaudio/digital-signal-processing-exercises"
   ]
  }
 ],
 "metadata": {
  "kernelspec": {
   "display_name": "mydsp",
   "language": "python",
   "name": "mydsp"
  },
  "language_info": {
   "codemirror_mode": {
    "name": "ipython",
    "version": 3
   },
   "file_extension": ".py",
   "mimetype": "text/x-python",
   "name": "python",
   "nbconvert_exporter": "python",
   "pygments_lexer": "ipython3",
   "version": "3.8.12"
  }
 },
 "nbformat": 4,
 "nbformat_minor": 4
}
