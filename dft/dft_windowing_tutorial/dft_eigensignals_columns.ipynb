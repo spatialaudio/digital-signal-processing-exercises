{
 "cells": [
  {
   "cell_type": "markdown",
   "metadata": {},
   "source": [
    "Sascha Spors,\n",
    "Professorship Signal Theory and Digital Signal Processing,\n",
    "Institute of Communications Engineering (INT),\n",
    "Faculty of Computer Science and Electrical Engineering (IEF),\n",
    "University of Rostock,\n",
    "Germany\n",
    "\n",
    "# Tutorial Digital Signal Processing\n",
    "**DFT Fundamentals**,\n",
    "Winter Semester 2020/21 (Course #24505)\n",
    "\n",
    "- lecture: https://github.com/spatialaudio/digital-signal-processing-lecture\n",
    "- tutorial: https://github.com/spatialaudio/digital-signal-processing-exercises\n",
    "\n",
    "Feel free to contact lecturer frank.schultz@uni-rostock.de\n",
    "\n",
    "This notebook creates a plot for the [DFT Tutorial pdf](dft_windowing_tutorial.pdf)"
   ]
  },
  {
   "cell_type": "code",
   "execution_count": null,
   "metadata": {},
   "outputs": [],
   "source": [
    "import numpy as np\n",
    "from matplotlib import pyplot as plt"
   ]
  },
  {
   "cell_type": "code",
   "execution_count": null,
   "metadata": {},
   "outputs": [],
   "source": [
    "N = 16\n",
    "k = np.arange(N)\n",
    "W = np.exp(+1j*2*np.pi/N*np.outer(k,k))\n",
    "#with np.printoptions(precision=2, suppress=True):\n",
    "#    print(W)"
   ]
  },
  {
   "cell_type": "code",
   "execution_count": null,
   "metadata": {},
   "outputs": [],
   "source": [
    "width = 7\n",
    "height = width*10/16\n",
    "fig, ax = plt.subplots(2, figsize=(width, height))\n",
    "for mu in range(2):\n",
    "    ax[mu].plot(k, W[:, mu+1].real, 'C0o-', label=r'$\\Re\\{\\mathbf{W}_\\mathrm{column %d}\\}$'  %(mu+2))\n",
    "    ax[mu].plot(k, W[:, mu+1].imag, 'C1o-', label=r'$\\Im\\{\\mathbf{W}_\\mathrm{column %d}\\}$'  %(mu+2))\n",
    "    ax[mu].set_xlim(0, N-1)\n",
    "    ax[mu].set_ylim(-1.1,1.1)\n",
    "    ax[mu].legend()\n",
    "    ax[mu].grid(True)\n",
    "#ax[0].set_title(r'DFT Eigensignals = Columns of Fourier Matrix $\\mathbf{W}$ for DFT Length N=%d' %N)\n",
    "ax[1].set_xlabel(r'$k$')\n",
    "plt.savefig('graphics/dft_eigensignals_columns.pdf')"
   ]
  },
  {
   "cell_type": "markdown",
   "metadata": {},
   "source": [
    "**Copyright**\n",
    "\n",
    "The notebooks are provided as [Open Educational Resources](https://en.wikipedia.org/wiki/Open_educational_resources). Feel free to use the notebooks for your own purposes. The text is licensed under [Creative Commons Attribution 4.0](https://creativecommons.org/licenses/by/4.0/), the code of the IPython examples under the [MIT license](https://opensource.org/licenses/MIT). Please attribute the work as follows: *Frank Schultz, Digital Signal Processing - A Tutorial Featuring Computational Examples* with the URL https://github.com/spatialaudio/digital-signal-processing-exercises"
   ]
  }
 ],
 "metadata": {
  "kernelspec": {
   "display_name": "Python [conda env:mypy] *",
   "language": "python",
   "name": "conda-env-mypy-py"
  },
  "language_info": {
   "codemirror_mode": {
    "name": "ipython",
    "version": 3
   },
   "file_extension": ".py",
   "mimetype": "text/x-python",
   "name": "python",
   "nbconvert_exporter": "python",
   "pygments_lexer": "ipython3",
   "version": "3.7.6"
  }
 },
 "nbformat": 4,
 "nbformat_minor": 4
}
