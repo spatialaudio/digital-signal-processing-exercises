{
 "cells": [
  {
   "cell_type": "code",
   "execution_count": null,
   "id": "2d0c0435-49aa-49a9-b361-7a7b685b4c52",
   "metadata": {},
   "outputs": [],
   "source": [
    "import matplotlib.pyplot as plt\n",
    "import numpy as np\n",
    "from IPython.display import display\n",
    "from ipywidgets import interactive"
   ]
  },
  {
   "cell_type": "code",
   "execution_count": null,
   "id": "b66af06a-71cb-4cfc-b3c2-15626ecdebfe",
   "metadata": {},
   "outputs": [],
   "source": [
    "def leakage_effect_of_DFT(N=32, P=10):\n",
    "    # N  length of the signal\n",
    "    # P periodicity of the exponential signal\n",
    "    Om0 = P * (2 * np.pi / N)  # frequency of exponential signal\n",
    "\n",
    "    # truncated exponential signal\n",
    "    k = np.arange(N)\n",
    "    x = np.exp(1j * Om0 * k)\n",
    "\n",
    "    # DTFT of finite length exponential signal (analytic)\n",
    "    Om = np.linspace(0, 2 * np.pi, num=1024)\n",
    "    Xw = (\n",
    "        np.exp(-1j * (Om - Om0) * (N - 1) / 2)\n",
    "        * (np.sin(N * (Om - Om0) / 2))\n",
    "        / (np.sin((Om - Om0) / 2))\n",
    "    )\n",
    "\n",
    "    # DFT of the exponential signal by FFT\n",
    "    X = np.fft.fft(x)\n",
    "    mu = np.arange(N) * 2 * np.pi / N\n",
    "\n",
    "    # plot spectra\n",
    "    plt.figure(figsize=(10, 8))\n",
    "    ax1 = plt.gca()\n",
    "\n",
    "    plt.plot(Om, abs(Xw), label=r\"$|X_N(e^{j \\Omega})|$\")\n",
    "    plt.stem(\n",
    "        mu, abs(X), label=r\"$|X_N[\\mu]|$\", basefmt=\" \", linefmt=\"C1\", markerfmt=\"C1o\"\n",
    "    )\n",
    "    plt.ylim([-0.5, N + 5])\n",
    "    plt.title(\n",
    "        r\"Absolute value of the DTFT/DFT of a truncated exponential signal \"\n",
    "        + r\"$e^{{j \\Omega_0 k}}$ with $\\Omega_0=${0:1.2f}\".format(Om0),\n",
    "        y=1.08,\n",
    "    )\n",
    "    plt.legend()\n",
    "\n",
    "    ax1.set_xlabel(r\"$\\Omega$\")\n",
    "    ax1.set_xlim([Om[0], Om[-1]])\n",
    "    ax1.grid()\n",
    "\n",
    "    ax2 = ax1.twiny()\n",
    "    ax2.set_xlim([0, N])\n",
    "    ax2.set_xlabel(r\"$\\mu$\", color=\"C1\")\n",
    "    ax2.tick_params(\"x\", colors=\"C1\")\n",
    "\n",
    "\n",
    "p = interactive(leakage_effect_of_DFT, N=(4, 128), P=(0.0, 20.0, 0.1))\n",
    "display(p)"
   ]
  }
 ],
 "metadata": {
  "kernelspec": {
   "display_name": "Python 3 (ipykernel)",
   "language": "python",
   "name": "python3"
  },
  "language_info": {
   "codemirror_mode": {
    "name": "ipython",
    "version": 3
   },
   "file_extension": ".py",
   "mimetype": "text/x-python",
   "name": "python",
   "nbconvert_exporter": "python",
   "pygments_lexer": "ipython3",
   "version": "3.9.12"
  }
 },
 "nbformat": 4,
 "nbformat_minor": 5
}
