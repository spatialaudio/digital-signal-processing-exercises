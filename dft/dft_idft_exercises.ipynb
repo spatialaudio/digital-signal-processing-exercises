{
 "cells": [
  {
   "cell_type": "markdown",
   "id": "aaf19c09-2b0b-447f-98dc-25b04e985de5",
   "metadata": {
    "tags": []
   },
   "source": [
    "Sascha Spors,\n",
    "Professorship Signal Theory and Digital Signal Processing,\n",
    "Institute of Communications Engineering (INT),\n",
    "Faculty of Computer Science and Electrical Engineering (IEF),\n",
    "University of Rostock,\n",
    "Germany\n",
    "\n",
    "# Tutorial Digital Signal Processing\n",
    "\n",
    "**DFT Introduction**,\n",
    "Winter Semester 2023/24 (Course #24505)\n",
    "\n",
    "- lecture: https://github.com/spatialaudio/digital-signal-processing-lecture\n",
    "- tutorial: https://github.com/spatialaudio/digital-signal-processing-exercises\n",
    "\n",
    "Feel free to contact lecturer jacob.thoenes@uni-rostock.de"
   ]
  },
  {
   "cell_type": "code",
   "execution_count": null,
   "id": "683f2c40-e908-4e38-b6f4-5618a33e1648",
   "metadata": {},
   "outputs": [],
   "source": [
    "import timeit\n",
    "\n",
    "import matplotlib.pyplot as plt\n",
    "import numpy as np\n",
    "from numpy.fft import fft, ifft\n",
    "from numpy.linalg import inv\n",
    "from scipy.special import diric"
   ]
  },
  {
   "cell_type": "markdown",
   "id": "971b69d2-ce6a-474e-9412-f1eb7e33b20b",
   "metadata": {},
   "source": [
    "## Exercise 1: Spectral Analysis of Signal Mixture\n",
    "\n",
    "In [DFT Intro](../dft_introduction.ipynb), we learned that the DFT is able to compute the spectral frequency components of signals. So why shouldn´t we prove it with a self-generated signal mixture?\n",
    "\n",
    "Let´s define three different sine signals $x_1[k],x_2[k]$ and $x_3[k]$ with the amplitudes $A_1=2$, $A_2=3$ and $A_3=0.5$. Furthermore, the signals have frequencies of $f_1=1$, $f_2=4$ and $f_3 =7$. You could also think of the created signals as analogue signals, but of course due to the use of our computer we only have the discrete resolution of our invented signals. Basically, all signals that we process with a computer are time-discrete.\n",
    "\n",
    "$$x_1[k] = A_1 sin(\\omega_1 k)$$\n",
    "$$x_2[k] = A_2 sin(\\omega_2 k)$$\n",
    "$$x_3[k] = A_3 sin(\\omega_3 k)$$\n",
    "\n",
    "The sample rate is defined as `sr`$=128$ and the sampling interval `ts`$=1$ /`sr`. Following this, the number of samples is `N`$=128$."
   ]
  },
  {
   "cell_type": "code",
   "execution_count": null,
   "id": "d3141825-e870-49fa-a3b8-586d70b3adb8",
   "metadata": {},
   "outputs": [],
   "source": [
    "# sampling rate\n",
    "sr = 128\n",
    "# sampling interval\n",
    "ts = 1.0 / sr\n",
    "t = np.arange(0, 1, ts)\n",
    "\n",
    "# x_1\n",
    "x_1 = 2 * np.sin(2 * np.pi * 1 * t)\n",
    "# x_2\n",
    "x_2 = 3 * np.sin(2 * np.pi * 4 * t)\n",
    "# x_3\n",
    "x_3 = 0.5 * np.sin(2 * np.pi * 7 * t)\n",
    "\n",
    "plt.plot(t, x_1, label=r\"$x_1[t]$\")\n",
    "plt.plot(t, x_2, label=r\"$x_2[t]$\")\n",
    "plt.plot(t, x_3, label=r\"$x_3[t]$\")\n",
    "plt.grid()\n",
    "plt.legend()\n",
    "plt.xlabel(r\"index $k$\")\n",
    "plt.ylabel(r\"x[t]\")"
   ]
  },
  {
   "cell_type": "markdown",
   "id": "a9881ecb-b5a0-45c3-8aa1-3e3b23fe2f6a",
   "metadata": {},
   "source": [
    "Because of the sample rate `sr` of $128$ the three different signals look quite smooth. If we would lower the sample rate, the signals would get some edges. You can try it yourself by changing `sr`!\n",
    "\n",
    "Now let's add the signals up like: $x[k] = x_1[k]+ x_2[k]+ x_3[k]$ and store it inside the variable `x_t`."
   ]
  },
  {
   "cell_type": "code",
   "execution_count": null,
   "id": "bfd9e4d8-da3b-4cba-a79c-4a7e91848231",
   "metadata": {},
   "outputs": [],
   "source": [
    "x_t = x_1 + x_2 + x_3\n",
    "\n",
    "plt.plot(t, x_t)\n",
    "plt.grid()\n",
    "plt.xlabel(r\"index $k$\")\n",
    "plt.ylabel(r\"x[t]\")"
   ]
  },
  {
   "cell_type": "markdown",
   "id": "61ce8316-3d58-476f-889f-468c3a86fdbe",
   "metadata": {},
   "source": [
    "Imagine at this point you see this plottet signal $x[k]$ the first time and you are very interested in its composition. What do you do?\n",
    "\n",
    "Of cause, it is time to compute the DFT of the signal `x_t`. We compute it with the `fft` function of the `numpy` package. To receive the right frequency and amplitude scale we have to normalize it with the known sample rate `sr`. \n",
    "Due to the symmetric DFT spectrum, we only need half of DFT spectrum length, `N`$/2$."
   ]
  },
  {
   "cell_type": "code",
   "execution_count": null,
   "id": "2da6d6f1-c872-4fe7-a713-f1797c155210",
   "metadata": {},
   "outputs": [],
   "source": [
    "# Compute DFT\n",
    "X_t = fft(x_t)\n",
    "\n",
    "# calculate the frequency\n",
    "N = len(X_t)\n",
    "n = np.arange(N)\n",
    "T = N / sr\n",
    "freq = n / T\n",
    "\n",
    "# get first half of spectrum\n",
    "freq_half = freq[:] / (N // 2)\n",
    "\n",
    "# normalise the amplitude\n",
    "X_t = X_t / N\n",
    "\n",
    "plt.stem(freq, np.abs(X_t), markerfmt=\" \")\n",
    "plt.xlabel(r\"$f$ / Hz with fs=\" + str(sr) + \"Hz\")\n",
    "plt.ylabel(r\"magnitude |X|\")\n",
    "plt.show()\n",
    "plt.stem(freq[:10], np.abs(X_t)[:10], markerfmt=\" \")\n",
    "plt.xticks(np.arange(10))\n",
    "plt.xlabel(r\"$f$ / Hz with fs=\" + str(sr) + \"Hz\")\n",
    "plt.ylabel(r\"magnitude |X|\")\n",
    "plt.show()"
   ]
  },
  {
   "cell_type": "markdown",
   "id": "046adecc-9fbd-4765-b617-a5d0ad14a73f",
   "metadata": {},
   "source": [
    "The visualized frequency DFT spectrum is symmetric. So we just need the first half of the spectrum. The second plot contains the same information on a more detailed frequency index scale. Comparing the frequency and amplitudes of the stems, we see, that we get exactly the values of the at the beginning defined signals $x_1[k]$,$x_2[k]$ and $x_3[k]$.\n",
    "\n",
    "Just for further proof let´s compute the IDFT and we obtain the signal mixture $x[k]$."
   ]
  },
  {
   "cell_type": "code",
   "execution_count": null,
   "id": "31e06fae-ef58-4471-959a-a6b3db164ed0",
   "metadata": {},
   "outputs": [],
   "source": [
    "x_t = ifft(X_t)\n",
    "\n",
    "# amplitude reconstruction\n",
    "x_t = x_t * N\n",
    "\n",
    "plt.plot(t, np.real(x_t))\n",
    "plt.grid()\n",
    "plt.xlabel(r\"index $k$\")\n",
    "plt.ylabel(r\"x[k]\")"
   ]
  },
  {
   "cell_type": "markdown",
   "id": "be5ef357-cd27-452c-a047-89aef0091489",
   "metadata": {},
   "source": [
    "## Exercise 2: IDFT as Analytic Calculus / as Linear Vector Combination"
   ]
  },
  {
   "cell_type": "markdown",
   "id": "cc9a858f-66e0-44ab-b844-362618e6e4f3",
   "metadata": {},
   "source": [
    "The discrete-time signal\n",
    "\\begin{equation}\n",
    "x[k]=-2\\cdot\\sin\\left(\\frac{2\\pi}{4}k\\right)+3\\cdot\\cos\\left(\\frac{2\\pi}{4}\\cdot2k\\right)+1\n",
    "\\hspace{5mm}\\text{for}\\,\\,0\\leq k\\leq3\n",
    "\\end{equation}\n",
    "with $k\\in\\mathbb{Z}$ is given."
   ]
  },
  {
   "cell_type": "markdown",
   "id": "36f29ddc-574c-45ae-a928-88eed1b31b94",
   "metadata": {},
   "source": [
    "**a)**\n",
    "\n",
    "Calculate the resulting values of $x[k]$ for $0\\leq k\\leq3$."
   ]
  },
  {
   "cell_type": "markdown",
   "id": "2ac0480e-0843-4fbe-a393-f8517c598165",
   "metadata": {},
   "source": [
    "**Solution**\n",
    "\n",
    "\\begin{align}\n",
    "x[0]&=-2\\cdot\\sin\\left(2\\pi\\frac{1}{4}\\cdot0\\right)+3\\cdot\\cos\\left(2\\pi\\frac{2}{4}\\cdot0\\right)+1=3+1=4\\\\\n",
    "x[1]&=-2\\cdot\\sin\\left(2\\pi\\frac{1}{4}\\cdot1\\right)+3\\cdot\\cos\\left(2\\pi\\frac{2}{4}\\cdot1\\right)+1=-2-3+1=-4\\\\\n",
    "x[2]&=-2\\cdot\\sin\\left(2\\pi\\frac{1}{4}\\cdot2\\right)+3\\cdot\\cos\\left(2\\pi\\frac{2}{4}\\cdot2\\right)+1=3+1=4\\\\\n",
    "x[3]&=-2\\cdot\\sin\\left(2\\pi\\frac{1}{4}\\cdot3\\right)+3\\cdot\\cos\\left(2\\pi\\frac{2}{4}\\cdot3\\right)+1=2-3+1=0\n",
    "\\end{align}"
   ]
  },
  {
   "cell_type": "code",
   "execution_count": null,
   "id": "3ee870eb-a5ff-4412-bc37-09abc3eae90b",
   "metadata": {},
   "outputs": [],
   "source": [
    "N = 4\n",
    "k = np.arange(N)\n",
    "x = -2 * np.sin(2 * np.pi / N * k) + 3 * np.cos(2 * np.pi / N * 2 * k) + 1\n",
    "print(\"x=\", x)"
   ]
  },
  {
   "cell_type": "markdown",
   "id": "ae0e8124-d97b-479c-816c-a3121a9d6733",
   "metadata": {},
   "source": [
    "**b)**\n",
    "\n",
    "Show analytically that the given values of $X[\\mu]$, $\\mu\\in\\mathbb{Z}$:\n",
    "\\begin{equation}\n",
    "X[\\mu=0]=4,\\quad X[\\mu=1]=4\\mathrm{j},\\quad  X[\\mu=2]=12\n",
    "\\end{equation}\n",
    "are the DFT coefficients of $x[k]$ stemming from our used DFT equation\n",
    "\\begin{equation}\n",
    "X[\\mu]=\\sum_{k=0}^{N-1}x[k]\\cdot\\mathrm{e}^{-\\mathrm{j}\\frac{2\\pi}{N}k\\mu}\n",
    "\\end{equation}\n",
    "with $N=4$.\n",
    "\n",
    "The following procedure is suggested: Set up the spectral\n",
    "coefficients $X[\\mu]$ in the form\n",
    "\n",
    "\\begin{equation}\n",
    "X[\\mu]=A[\\mu]\\cdot\\mathrm{e}^{\\mathrm{j}\\phi[\\mu]}\n",
    "\\end{equation}\n",
    "\n",
    "and specify the missing value $X[\\mu=3]$ so that the IDFT results in\n",
    "$x[k]\\in\\mathbb{R}$. Certain symmetries in the spectrum hold.\n",
    "\n",
    "Then calculate the IDFT analytically as\n",
    "\\begin{equation}\n",
    "x[k]=\\frac{1}{N}\\sum_{\\mu=0}^{N-1}X[\\mu]\\cdot\\mathrm{e}^{\\mathrm{j}\\frac{2\\pi}{N}k\\mu}\n",
    "\\end{equation}\n",
    "showing that this corresponds to the given signal $x[k]$.\n",
    "\n",
    "Also, check the results numerically. Store the DFT spectrum in `X` for future reference."
   ]
  },
  {
   "cell_type": "markdown",
   "id": "7fb6f010-242f-46ee-938a-ff2b85266ab5",
   "metadata": {},
   "source": [
    "**Solution**\n",
    "\n",
    "For manual calculus see [dft_windowing_tutorial.pdf](dft_windowing_tutorial/dft_windowing_tutorial.pdf)."
   ]
  },
  {
   "cell_type": "code",
   "execution_count": null,
   "id": "9113da37-22e6-4300-9dc6-bd25b0afd7c1",
   "metadata": {},
   "outputs": [],
   "source": [
    "mu = np.arange(N)\n",
    "W = np.exp(+1j * 2 * np.pi / N * np.outer(k, mu))  # Fourier matrix\n",
    "with np.printoptions(precision=3, suppress=True):\n",
    "    print(\"Fourier matrix W =\\n\", W)\n",
    "\n",
    "X = fft(x)\n",
    "\n",
    "# DFT as matrix mul\n",
    "X1 = np.conj(W) @ x\n",
    "\n",
    "# DFT as individual complex inner products using Fourier matrix column vectors\n",
    "X2 = np.zeros(N, dtype=\"complex\")\n",
    "for col in range(N):\n",
    "    X2[col] = np.vdot(W[:, col], x)\n",
    "\n",
    "with np.printoptions(precision=3, suppress=True):\n",
    "    print(\"X = \", X)\n",
    "    print(\"X1 == X2:\", np.allclose(X1, X2))\n",
    "    print(\"X1 == X:\", np.allclose(X1, X))"
   ]
  },
  {
   "cell_type": "markdown",
   "id": "5d91ebda-802e-4f4f-858c-d733e311df21",
   "metadata": {},
   "source": [
    "**c)**\n",
    "\n",
    "Plot the real and imaginary part as well as the magnitude and the phase of $X[\\mu]$ over $\\mu$."
   ]
  },
  {
   "cell_type": "code",
   "execution_count": null,
   "id": "e6e6c359-1521-4a35-b25c-1f09985b67b4",
   "metadata": {},
   "outputs": [],
   "source": [
    "plt.figure(figsize=(7, 4.375))\n",
    "plt.subplot(2, 2, 1)\n",
    "plt.plot(mu, X.real, \"C0o\", ms=7)\n",
    "plt.xlabel(r\"$\\mu$\")\n",
    "plt.ylabel(r\"$\\Re(X)$\")\n",
    "plt.grid(True)\n",
    "plt.subplot(2, 2, 2)\n",
    "plt.plot(mu, X.imag, \"C0o\", ms=7)\n",
    "plt.xlabel(r\"$\\mu$\")\n",
    "plt.ylabel(r\"$\\Im(X)$\")\n",
    "plt.grid(True)\n",
    "plt.subplot(2, 2, 3)\n",
    "plt.plot(mu, np.abs(X), \"C0o\", ms=7)\n",
    "plt.xlabel(r\"$\\mu$\")\n",
    "plt.ylabel(r\"$|X|$\")\n",
    "plt.grid(True)\n",
    "plt.subplot(2, 2, 4)\n",
    "plt.plot(mu, np.angle(X), \"C0o\", ms=7)\n",
    "plt.xlabel(r\"$\\mu$\")\n",
    "plt.ylabel(r\"$\\angle X$ / rad\")\n",
    "plt.grid(True)"
   ]
  },
  {
   "cell_type": "markdown",
   "id": "e2d1073d-e873-4c43-87d3-6b412fbc50c2",
   "metadata": {},
   "source": [
    "**d)**\n",
    "\n",
    "Remove the DC component in the DFT spectrum `X` and from that spectrum synthesise the signal $x_r[k]$ via IDFT.\n",
    "\n",
    "Check that the synthesised signal corresponds to\n",
    "\\begin{equation}\n",
    "x_r[k]=-2\\cdot\\sin\\left(\\frac{2\\pi}{4}k\\right)+3\\cdot\\cos\\left(\\frac{2\\pi}{4}\\cdot2k\\right)\n",
    "\\hspace{5mm}\\text{for}\\,\\,0\\leq k\\leq3\n",
    "\\end{equation}\n",
    "\n",
    "by help of a linear combination using the Fourier matrix."
   ]
  },
  {
   "cell_type": "code",
   "execution_count": null,
   "id": "d0a160b0-d161-4e48-8b89-015a2786b63c",
   "metadata": {},
   "outputs": [],
   "source": [
    "X[0] = 0  # remove DC\n",
    "\n",
    "# IDFT as matrix mul\n",
    "xr1 = 1 / N * W @ X\n",
    "\n",
    "# IDFT as linear combination of the Fourier matrix column vectors, i.e. DFT signals\n",
    "xr2 = 1 / N * (X[0] * W[:, 0] + X[1] * W[:, 1] + X[2] * W[:, 2] + X[3] * W[:, 3])\n",
    "\n",
    "xr_check = -2 * np.sin(2 * np.pi / N * k) + 3 * np.cos(2 * np.pi / N * 2 * k)\n",
    "print(np.allclose(xr1, xr_check))\n",
    "print(np.allclose(xr2, xr_check))"
   ]
  },
  {
   "cell_type": "markdown",
   "id": "9f12559f-7ab4-4043-9bca-f89c3a453e33",
   "metadata": {},
   "source": [
    "**e)**\n",
    "\n",
    "A DFT-based audio analyser shall exhibit a frequency resolution of\n",
    "$\\Delta f=0.5$ Hz for a sampling frequency $f_s=44100$ Hz using a rectangular\n",
    "window.\n",
    "\n",
    "Determine the minimum required DFT length $N$ when only lengths $N=2^M$\n",
    "($M\\in\\mathbb{N}$) are allowed.\n",
    "\n",
    "What is the resulting frequency resolution then?"
   ]
  },
  {
   "cell_type": "markdown",
   "id": "6c07d504-d273-4f68-8f05-484c7f31e81d",
   "metadata": {},
   "source": [
    "**Solution**\n",
    "\n",
    "\\begin{align}\n",
    "\\Delta f=\\frac{f_s}{N}=\\frac{f_s}{2^M}\\stackrel{!}{=}0.5\\,\\text{Hz}\\\\\n",
    "M=\\left\\lceil\\log_{2}\\left(\\frac{f_s}{\\Delta f}\\right)\\right\\rceil_{\\in\\mathbb{N}}\\\\\n",
    "=\\left\\lceil\\log_{2}\\left(\\frac{44100\\,\\text{Hz}}{0.5\\,\\text{Hz}}\\right)\\right\\rceil_{\\in\\mathbb{N}}\\\\\n",
    "=\\left\\lceil16.4285...\\right\\rceil_{\\in\\mathbb{N}}\\\\\n",
    "=17\\\\\n",
    "\\Rightarrow\\hspace{5mm} N=2^M=2^{17}=131072\n",
    "\\end{align}\n",
    "The resulting frequency resolution is thus\n",
    "\\begin{equation}\n",
    "\\Delta f=\\frac{f_s}{N}=\\frac{44100\\,\\text{Hz}}{131072}\\approx0.3365\\,\\text{Hz}.\\nonumber\n",
    "\\end{equation}"
   ]
  },
  {
   "cell_type": "code",
   "execution_count": null,
   "id": "cbbd2c26-eda4-464f-a662-865eec359fa4",
   "metadata": {},
   "outputs": [],
   "source": [
    "df = 0.5\n",
    "fs = 44100\n",
    "M = np.ceil(np.log10(fs / df) / np.log10(2))\n",
    "Ntmp = 2**M\n",
    "print(\"N =\", Ntmp.astype(int))\n",
    "print(\"df =\", fs / Ntmp.astype(int), \"Hz\")"
   ]
  },
  {
   "cell_type": "markdown",
   "id": "5b175c38-3007-46c6-bd14-7049139f3def",
   "metadata": {},
   "source": [
    "## Exercise 3: IDFT Signal Synthesis for N=8\n",
    "\n",
    "Let us synthesize a discrete-time signal by using the IDFT in matrix notation for $N=8$.\n",
    "\n",
    "The signal should contain a DC value, the first and second eigenfrequency with different amplitudes, such as\n",
    "\n",
    "\\begin{equation}\n",
    "\\mathbf{x}_\\mu = [8, 2, 4, 0, 0, 0, 0, 0]^\\text{T}\n",
    "\\end{equation}\n",
    "\n",
    "using large `X_test` in code."
   ]
  },
  {
   "cell_type": "code",
   "execution_count": null,
   "id": "2e4bd6af-1138-4a27-97d6-6049814bfd15",
   "metadata": {},
   "outputs": [],
   "source": [
    "if N == 8:\n",
    "    X_test = np.array([8, 2, 4, 0, 0, 0, 0, 0])\n",
    "    # x_test = 1/N*W@X_test  # >= Python3.5\n",
    "    x_test = 1 / N * np.matmul(W, X_test)\n",
    "\n",
    "    plt.stem(\n",
    "        k, np.real(x_test), label=\"real\", markerfmt=\"C0o\", basefmt=\"C0:\", linefmt=\"C0:\"\n",
    "    )\n",
    "    plt.stem(\n",
    "        k, np.imag(x_test), label=\"imag\", markerfmt=\"C1o\", basefmt=\"C1:\", linefmt=\"C1:\"\n",
    "    )\n",
    "    # note that connecting the samples by lines is actually wrong, we\n",
    "    # use it anyway for more visual convenience\n",
    "    plt.plot(k, np.real(x_test), \"C0o-\", lw=0.5)\n",
    "    plt.plot(k, np.imag(x_test), \"C1o-\", lw=0.5)\n",
    "    plt.xlabel(r\"sample $k$\")\n",
    "    plt.ylabel(r\"$x[k]$\")\n",
    "    plt.legend()\n",
    "    plt.grid(True)\n",
    "\n",
    "    # check if results are identical with numpy ifft package\n",
    "    print(np.allclose(ifft(X_test), x_test))\n",
    "    print(\"DC is 1 as expected: \", np.mean(x_test))"
   ]
  },
  {
   "cell_type": "markdown",
   "id": "c76a57af-cf40-4556-bb3e-a68b46d8559a",
   "metadata": {},
   "source": [
    "This is a linear combination of the Fourier matrix columns, which are the DFT eigensignals, as "
   ]
  },
  {
   "cell_type": "code",
   "execution_count": null,
   "id": "d89e0b4f-2434-453c-9cb6-004dec0539c5",
   "metadata": {},
   "outputs": [],
   "source": [
    "if N == 8:\n",
    "    x_test2 = X_test[0] * W[:, 0] + X_test[1] * W[:, 1] + X_test[2] * W[:, 2]"
   ]
  },
  {
   "cell_type": "markdown",
   "id": "d1115020-0483-4c61-a31b-92b1f2639afc",
   "metadata": {},
   "source": [
    "We don't need summing the other columns, since their DFT coefficients in `X_test` are zero.\n",
    "\n",
    "Finally, normalizing yields the IDFT."
   ]
  },
  {
   "cell_type": "code",
   "execution_count": null,
   "id": "a95c306d-7ded-48e5-bbc6-e9ed1a82d05b",
   "metadata": {},
   "outputs": [],
   "source": [
    "if N == 8:\n",
    "    x_test2 *= 1 / N\n",
    "    print(np.allclose(x_test, x_test2))  # check with result before"
   ]
  },
  {
   "cell_type": "markdown",
   "id": "9e36dd52-b7d4-4256-bb34-a5170b8aceb2",
   "metadata": {},
   "source": [
    "## Exercise 4: DFT Spectrum Analysis for N=8\n",
    "\n",
    "Now, let us calculate the DFT of the signal `x_test`. As result, we'd expect the DFT vector\n",
    "\n",
    "\\begin{equation}\n",
    "\\mathbf{x}_\\mu = [8, 2, 4, 0, 0, 0, 0, 0]^\\text{T}\n",
    "\\end{equation}\n",
    "\n",
    "that we started from."
   ]
  },
  {
   "cell_type": "code",
   "execution_count": null,
   "id": "883de72a-5c4b-46fc-b405-582ab9bfafbb",
   "metadata": {},
   "outputs": [],
   "source": [
    "if N == 8:\n",
    "    # X_test2 = np.conj(W)@x_test  # >= Python3.5\n",
    "    X_test2 = np.matmul(np.conj(W), x_test)  # DFT, i.e. analysis\n",
    "    print(np.allclose(X_test, X_test2))  # check with result before"
   ]
  },
  {
   "cell_type": "markdown",
   "id": "986a63b3-8202-40ee-b045-3159b0fb25f7",
   "metadata": {},
   "source": [
    "This looks good. It is advisable also to check against the `numpy.fft` implementation:"
   ]
  },
  {
   "cell_type": "code",
   "execution_count": null,
   "id": "fc9e049d-3fcf-4b35-94d0-42c07ba30aba",
   "metadata": {},
   "outputs": [],
   "source": [
    "if N == 8:\n",
    "    print(np.allclose(fft(x_test), X_test))"
   ]
  },
  {
   "cell_type": "markdown",
   "id": "dc0925be-75de-46de-a96e-a6e48134bff9",
   "metadata": {},
   "source": [
    "Besides different quantization errors in range $10^{-15...-16}$ (which is prominent even with 64Bit double precision calculation)\n",
    "all results produce the same output."
   ]
  },
  {
   "cell_type": "markdown",
   "id": "edeeaaa7-832d-436d-82f9-0768388edf36",
   "metadata": {},
   "source": [
    "The analysis stage for the discrete-time signal domain, i.e. the DFT\n",
    "can be reinvented by some intuition:\n",
    "How 'much' of the reference signal $\\mathbf{w}_{\\text{column i}}$\n",
    "(any column in $\\mathbf{W}$)\n",
    "is contained in the discrete-time signal $\\mathbf{x}_k$ that is to be analysed.\n",
    "\n",
    "In signal processing / statistic terms we look for the amount of correlation\n",
    "of the signals\n",
    "$\\mathbf{w}_{\\text{column i}}$ and $\\mathbf{x}_k$.\n",
    "\n",
    "In linear algebra terms we are interested in the projection of $\\mathbf{x}_k$ onto\n",
    "$\\mathbf{w}_{\\text{column i}}$, because the resulting length of this vector\n",
    "reveals the amount of correlation, which is precisely one DFT coefficient $X[\\cdot]$.\n",
    "\n",
    "The complex inner products $\\mathbf{w}_{\\text{column i}}^\\text{H} \\cdot \\mathbf{x}_k$\n",
    "reveals these searched quantities."
   ]
  },
  {
   "cell_type": "code",
   "execution_count": null,
   "id": "b127dff7-7743-412d-b97b-4bbc913ef5c8",
   "metadata": {},
   "outputs": [],
   "source": [
    "if N == 8:\n",
    "    print(np.conj(W[:, 0]) @ x_test)\n",
    "    print(np.conj(W[:, 1]) @ x_test)\n",
    "    print(np.conj(W[:, 2]) @ x_test)"
   ]
  },
  {
   "cell_type": "markdown",
   "id": "29f11fe9-504f-4eaf-96ba-5e316c86613a",
   "metadata": {},
   "source": [
    "Doing this for all columns of matrix $\\mathbf{W}$, all DFT coefficients are obtained, such as\n",
    "\n",
    "\\begin{align}\n",
    "X[\\mu=0] =& \\mathbf{w}_{\\text{column 1}}^\\text{H} \\cdot \\mathbf{x}_k\\\\\n",
    "X[\\mu=1] =& \\mathbf{w}_{\\text{column 2}}^\\text{H} \\cdot \\mathbf{x}_k\\\\\n",
    "X[\\mu=2] =& \\mathbf{w}_{\\text{column 3}}^\\text{H} \\cdot \\mathbf{x}_k\\\\\n",
    "X[\\mu=3] =& \\mathbf{w}_{\\text{column 4}}^\\text{H} \\cdot \\mathbf{x}_k\\\\\n",
    "&\\vdots\\\\\n",
    "X[\\mu=N-1] =& \\mathbf{w}_{\\text{column N}}^\\text{H} \\cdot \\mathbf{x}_k.\n",
    "\\end{align}\n",
    "\n",
    "Naturally, all operations can be merged to one single\n",
    "matrix multiplication using the conjugate transpose of $\\mathbf{W}$.\n",
    "\n",
    "\\begin{equation}\n",
    "\\mathbf{x}_\\mu = \\mathbf{W}^\\text{H} \\cdot \\mathbf{x}_k = \\mathbf{W}^* \\cdot \\mathbf{x}_k\n",
    "\\end{equation}\n",
    "\n",
    "That's what we have performed with the single liner `X_test2 = np.matmul(np.conj(W), x_test)`"
   ]
  },
  {
   "cell_type": "markdown",
   "id": "e713fb65-7637-4a4a-8bce-c10730a0cb2a",
   "metadata": {},
   "source": [
    "## Exercise 5: Plot the DFT Magnitude Spectrum\n",
    "\n",
    "We should now be familiar with the DFT and IDFT basic idea.\n",
    "\n",
    "Now, let us create a signal `x` like in [DFT Introductioin](dft_introduction.ipynb). We want to explore and learn to interpret the DFT magnitude spectrum of it. So, we'd perform a DFT first."
   ]
  },
  {
   "cell_type": "code",
   "execution_count": null,
   "id": "10ec325b-a064-4b76-a788-f0c094eaa4d9",
   "metadata": {},
   "outputs": [],
   "source": [
    "N = 2**3  # signal block length\n",
    "k = np.arange(N)  # all required sample/time indices\n",
    "A = 10  # signal amplitude\n",
    "\n",
    "mu = np.arange(N)\n",
    "\n",
    "# set up matrices\n",
    "K = np.outer(k, mu)  # get all possible entries k*mu in meaningful arrangement\n",
    "W = np.exp(+1j * 2 * np.pi / N * K)  # analysis matrix for DFT\n",
    "\n",
    "tmpmu = 2 - 1 / 2  # DFT eigenfrequency worst case\n",
    "tmpmu = 1  # DFT eigenfrequency best case\n",
    "\n",
    "x = A * np.exp(tmpmu * +1j * 2 * np.pi / N * k)"
   ]
  },
  {
   "cell_type": "code",
   "execution_count": null,
   "id": "166946d3-0a9b-4da5-9311-480ca7f82353",
   "metadata": {},
   "outputs": [],
   "source": [
    "X = fft(x)\n",
    "# print(np.allclose(np.conj(W)@x, X))  # >=Python 3.5\n",
    "print(np.allclose(np.matmul(np.conj(W), x), X))"
   ]
  },
  {
   "cell_type": "markdown",
   "id": "fb535353-0066-480a-8568-6bf9336fa30b",
   "metadata": {},
   "source": [
    "Next, let us plot the magnitude of the spectrum over $\\mu$.\n",
    "\n",
    "- We should play around with the variable `tmpmu` when defining the input signal at the very beginning of the notebook. For example we can check what happens for `tmpmu = 1`, `tmpmu = 2` and run the whole notebook to visualize the actual magnitude spectra.\n",
    "\n",
    "We should recognize the link of the 'energy' at $\\mu$ in the magnitude spectrum with the chosen `tmpmu`.\n",
    "\n",
    "- We can apply any real valued `tmpmu` for creating the input signal, for example\n",
    "    - `tmpmu = N+1`, `tmpmu = N+2`\n",
    "    - `tmpmu = 1.5`\n",
    "    \n",
    "We should explain what happens in these cases. Recall periodicity and eigenfrequencies/-signals as fundamental concepts."
   ]
  },
  {
   "cell_type": "code",
   "execution_count": null,
   "id": "cab30c33-659a-40fe-af42-f589ebc16171",
   "metadata": {},
   "outputs": [],
   "source": [
    "plt.stem(mu, np.abs(X) / N, markerfmt=\"C0o\", basefmt=\"C0:\", linefmt=\"C0:\")\n",
    "# plt.plot(mu, np.abs(X)/N, 'C0', lw=1)  # this is here a misleading plot and hence not used\n",
    "plt.xlabel(r\"DFT eigenfrequency $\\mu$\")\n",
    "plt.ylabel(r\"DFT spectrum magnitude $\\frac{|X[\\mu]|}{N}$\")\n",
    "plt.grid(True)"
   ]
  },
  {
   "cell_type": "markdown",
   "id": "ac0274fd-be54-4047-9103-c41efe07a81d",
   "metadata": {},
   "source": [
    "These exercises accompany the [dft_windowing_tutorial.pdf](dft_windowing_tutorial.pdf)"
   ]
  },
  {
   "cell_type": "markdown",
   "id": "76c1ab4b-f231-45ca-b975-bc98ad10b9ea",
   "metadata": {
    "tags": []
   },
   "source": [
    "## Exercise 6: My Own DFT / IDFT Implementation\n",
    "\n",
    "Write Python functions `X = my_dft(x)` and `x = my_idft(X)` that calculate the DFT pair\n",
    "\n",
    "\\begin{align}\n",
    "X[\\mu] = \\mathrm{DFT}_N\\{x[k]\\} = &\\sum_{k=0}^{N-1} x[k] \\, (\\mathrm{e}^{-\\mathrm{j}\\frac{2\\pi}{N}})^{k \\cdot \\mu}\n",
    "\\\\\n",
    "x[k] = \\mathrm{IDFT}_N\\{X[\\mu]\\} = \\frac{1}{N} &\\sum_{\\mu=0}^{N-1} X[\\mu] \\, (\\mathrm{e}^{+\\mathrm{j}\\frac{2\\pi}{N}})^{k \\cdot \\mu}\n",
    "\\end{align}\n",
    "without using the pre-built functions `fft()` and `ifft()`. Check validity and performance against the built-in functions, especially try large $N$. We might consider the matrix operation approach rather than a for-loop implementation, given that the $N \\times N$ matrix fits into our RAM."
   ]
  },
  {
   "cell_type": "code",
   "execution_count": null,
   "id": "e6a6e5a1-7b82-464a-b67c-28911347a875",
   "metadata": {},
   "outputs": [],
   "source": [
    "def get_fourier_matrix(N):\n",
    "    k = np.arange(N)\n",
    "    return np.exp(+1j * 2 * np.pi / N * np.outer(k, k))\n",
    "\n",
    "\n",
    "def my_dft(x):\n",
    "    N = x.size\n",
    "    return np.conj(get_fourier_matrix(N)) @ x\n",
    "\n",
    "\n",
    "def my_idft(X):\n",
    "    N = X.size\n",
    "    return 1 / N * get_fourier_matrix(N) @ X"
   ]
  },
  {
   "cell_type": "code",
   "execution_count": null,
   "id": "bc2c1c8a-0d5d-4902-9080-d800657e1cd2",
   "metadata": {},
   "outputs": [],
   "source": [
    "N = 2**8"
   ]
  },
  {
   "cell_type": "markdown",
   "id": "572eb931-a12e-4cfc-b2f1-d3c97a1987ca",
   "metadata": {},
   "source": [
    "Check `my_dft` against numpy's `fft` with numpy's `allclose`"
   ]
  },
  {
   "cell_type": "code",
   "execution_count": null,
   "id": "a6e610f4-7cf0-414a-b136-bc3736598035",
   "metadata": {},
   "outputs": [],
   "source": [
    "# create random complex valued signal\n",
    "x = np.random.randn(N) + 1j * np.random.randn(N)\n",
    "# check against numpy fft\n",
    "np.allclose(my_dft(x), fft(x))"
   ]
  },
  {
   "cell_type": "markdown",
   "id": "aa9c306d-7c43-4abd-aa18-7159ae1bce9f",
   "metadata": {},
   "source": [
    "Check `my_idft` against numpy's `ifft` with numpy's `allclose`"
   ]
  },
  {
   "cell_type": "code",
   "execution_count": null,
   "id": "da57ffce-a3bc-494e-8ee6-73ad8ca465f5",
   "metadata": {},
   "outputs": [],
   "source": [
    "# create random complex valued spectrum\n",
    "X = np.random.randn(N) + 1j * np.random.randn(N)\n",
    "# check against numpy ifft\n",
    "np.allclose(my_idft(X), ifft(X))"
   ]
  },
  {
   "cell_type": "markdown",
   "id": "26ea3913-fced-4c9d-8129-4e3e9667da0e",
   "metadata": {},
   "source": [
    "check processing time as `dur`"
   ]
  },
  {
   "cell_type": "code",
   "execution_count": null,
   "id": "f66f68ef-6edd-4503-a9b0-c4bf8868dbef",
   "metadata": {},
   "outputs": [],
   "source": [
    "N_rep = 2**8  # play around with N and N_rep to see that my_xxx() functions\n",
    "# are very slow for large N, i.e. our matrix multiplication generates very high\n",
    "# computing load compared to the FFT / IFFT algorithm used in numpy.fft package\n",
    "\n",
    "dur = timeit.timeit(\"my_dft(x)\", \"from __main__ import my_dft, x\", number=N_rep)\n",
    "print(\"my dft:\", dur)\n",
    "\n",
    "dur = timeit.timeit(\"fft(x)\", \"from __main__ import fft, x\", number=N_rep)\n",
    "print(\"numpy fft:\", dur)\n",
    "\n",
    "dur = timeit.timeit(\"my_idft(X)\", \"from __main__ import my_idft, X\", number=N_rep)\n",
    "print(\"my idft:\", dur)\n",
    "\n",
    "dur = timeit.timeit(\"ifft(X)\", \"from __main__ import ifft, X\", number=N_rep)\n",
    "print(\"numpy ifft\", dur)"
   ]
  },
  {
   "cell_type": "markdown",
   "id": "6d096723-69aa-44f7-8e70-58d35a860685",
   "metadata": {},
   "source": [
    "We see, that in practice we should better use the `fft()` and `ifft()` rourines rather than our own implementations  that exhibit comparably huge computational load."
   ]
  },
  {
   "cell_type": "markdown",
   "id": "84fa601e-e118-499f-b0d8-aca94c2810b7",
   "metadata": {},
   "source": [
    "## Exercise 7: DFT Analysis Using a Rectangular Window / DTFT Interpolation\n",
    "\n",
    "The DFT spectrum $X[\\mu]$ can used for interpolation towards the DTFT spectrum $X(\\Omega)$ with\n",
    "\n",
    "\\begin{equation}\n",
    "X(\\Omega)=\\sum_{\\mu=0}^{N-1}X[\\mu]\\cdot\\mathrm{e}^{-\\mathrm{j}\\frac{\\left(\\Omega-\\frac{2\\pi}{N}\\mu\\right)(N-1)}{2}}\\cdot\\text{psinc}_N\\left(\\Omega-\\frac{2\\pi}{N}\\mu\\right).\n",
    "\\end{equation}\n",
    "\n",
    "The interpolation kernel utilises the so-called **periodic sinc function**\n",
    "\n",
    "\\begin{align}\n",
    "\\text{psinc}_N(\\Omega)=\\begin{cases}\\frac{1}{N}\\cdot\\frac{\\sin\\left(\\frac{N}{2}\\Omega\\right)}{\\sin\\left(\\frac{1}{2}\\Omega\\right)}&\\text{for }\\Omega\\neq2\\pi m\\\\\n",
    "(-1)^{m(N-1)}&\\text{for }\\Omega=2\\pi m\\end{cases},\\,\\,m\\in\\mathbb{Z},\n",
    "\\end{align}\n",
    "\n",
    "which is also known as aliased sinc and Dirichlet function.\n",
    "This interpolation implies:\n",
    "- the DFT $X[\\mu]$ stems from a signal $x[k]$ for which periodicity of $N$ is inherent, we assume the first period at $0\\leq k\\leq N-1$ \n",
    "- the DFT spectrum is discrete and $N$ periodic\n",
    "- the DTFT $X(\\Omega)$ stems from the signal $x[k]$ for $0\\leq k\\leq N-1$, for all other $k$ is $x[k]=0$, i.e. considering only one period\n",
    "- the DTFT spectrum is continuous and $2\\pi$ periodic, which means that the signal $x[k]$ can not be periodic"
   ]
  },
  {
   "cell_type": "markdown",
   "id": "30cc5d67-94cb-43f6-a0b4-c074a356a799",
   "metadata": {},
   "source": [
    "**Task** \n",
    "\n",
    "A cosine signal $x[k]=\\cos(\\Omega k)$ with $0\\leq k \\leq N-1$ is to be analysed with the DFT using a rectangular window and assuming sampling frequency of $f_s=48$ kHz.\n",
    "\n",
    "For the parameters\n",
    "\n",
    "- $\\Omega=2\\cdot\\frac{2\\pi}{N}$, $N=8$\n",
    "- $\\Omega=2.5\\cdot\\frac{2\\pi}{N}$, $N=8$\n",
    "- $\\Omega=2\\cdot\\frac{2\\pi}{N}$, $N=9$\n",
    "- $\\Omega=2.5\\cdot\\frac{2\\pi}{N}$, $N=9$\n",
    "\n",
    "perform the following subtasks:\n",
    "\n",
    "**a)**\n",
    "\n",
    "Calculate the spectrum $X[\\mu]$ of $x[k]$ and visualise the real and\n",
    "imaginary part as well as the magnitude and the phase of $X[\\mu]$ over\n",
    "$0\\leq\\mu\\leq N-1$.\n",
    "\n",
    "**b)**\n",
    "\n",
    "Check the expected axial and point symmetries.\n",
    "\n",
    "**c)**\n",
    "\n",
    "Implement the DTFT interpolation equation above and visualise the $|X[\\mu]|$ and $|X(\\Omega)|$ over the frequency axes $\\mu$, $\\Omega$ and $f$.\n",
    "\n",
    "How and why the results are different?"
   ]
  },
  {
   "cell_type": "markdown",
   "id": "b8bbff08-6f8e-4a88-9432-9cf85d13e31a",
   "metadata": {},
   "source": [
    "**Solution**\n",
    "\n",
    "It is meaningful to code two functions for repeated calculations, the first is the DFT to DTFT interpolation, the second function creates the signal and calculates the DFT, DTFT and plots the requested graphs."
   ]
  },
  {
   "cell_type": "code",
   "execution_count": null,
   "id": "c89478e0-e61f-47be-b735-1be4ebe4f5f1",
   "metadata": {},
   "outputs": [],
   "source": [
    "def dft2dtft(X, Om):\n",
    "    # DFT spectrum X\n",
    "    # digital angular freqency Om for which DTFT shall be evaluated\n",
    "    # DTFT Xi\n",
    "    N = len(X)\n",
    "    Xi = np.zeros(len(Om), dtype=\"complex\")\n",
    "    for i, Omega in enumerate(Om):\n",
    "        for mu_dft in range(N):\n",
    "            Xi[i] += (\n",
    "                X[mu_dft]\n",
    "                * np.exp(-1j / 2 * (Omega - 2 * np.pi / N * mu_dft) * (N - 1))\n",
    "                * diric(Omega - 2 * np.pi / N * mu_dft, N)\n",
    "            )\n",
    "    return Xi"
   ]
  },
  {
   "cell_type": "code",
   "execution_count": null,
   "id": "d32db0c6-05fb-4d96-9134-dd512b0d1367",
   "metadata": {},
   "outputs": [],
   "source": [
    "def dft2dtft_playground_plot(\n",
    "    N=8, Om_sig=2, Om=np.linspace(0, 2 * np.pi, 2**8), fs=48000\n",
    "):\n",
    "    mu = np.arange(N)\n",
    "    k = mu\n",
    "    x = np.cos(Om_sig * k)  # indicated symmetry holds for real input signals!\n",
    "    dOm = 2 * np.pi / N\n",
    "    X_dft = fft(x)\n",
    "    X_dtft = dft2dtft(X_dft, Om)\n",
    "\n",
    "    plt.figure(figsize=(7, 4.375))\n",
    "    plt.subplot(2, 2, 1)\n",
    "    plt.plot(mu, X_dft.real, \"C0o\", ms=7)\n",
    "    plt.plot([N / 2, N / 2], [-N / 2, N / 2], \"C3:\")  # indicate axial symmetry\n",
    "    plt.xlim(0, N - 1)\n",
    "    plt.ylim(-N / 2, N / 2)\n",
    "    plt.xlabel(r\"$\\mu$\")\n",
    "    plt.ylabel(r\"$\\Re(X)$\")\n",
    "    plt.title(\"axial symmetry wrt red line\")\n",
    "    plt.grid(True)\n",
    "    plt.subplot(2, 2, 2)\n",
    "    plt.plot(mu, X_dft.imag, \"C0o\", ms=7)\n",
    "    plt.plot([N / 2], [0], \"C3o\")  # indicate point symmetry\n",
    "    plt.xlim(0, N - 1)\n",
    "    plt.ylim(-N / 2, N / 2)\n",
    "    plt.xlabel(r\"$\\mu$\")\n",
    "    plt.ylabel(r\"$\\Im(X)$\")\n",
    "    plt.title(\"point symmetry wrt red point\")\n",
    "    plt.grid(True)\n",
    "    plt.subplot(2, 2, 3)\n",
    "    plt.plot(mu, np.abs(X_dft), \"C0o\", ms=7)\n",
    "    plt.plot([N / 2, N / 2], [0, N / 2], \"C3:\")  # indicate axial symmetry\n",
    "    plt.xlim(0, N - 1)\n",
    "    plt.ylim(0, N / 2)\n",
    "    plt.xlabel(r\"$\\mu$\")\n",
    "    plt.ylabel(r\"$|X|$\")\n",
    "    plt.grid(True)\n",
    "    plt.subplot(2, 2, 4)\n",
    "    plt.plot(mu, np.angle(X_dft), \"C0o\", ms=7)\n",
    "    plt.plot([N / 2], [0], \"C3o\")  # indicate point symmetry\n",
    "    plt.xlim(0, N - 1)\n",
    "    plt.ylim(-np.pi, np.pi)\n",
    "    plt.xlabel(r\"$\\mu$\")\n",
    "    plt.ylabel(r\"$\\angle X$ / rad\")\n",
    "    plt.grid(True)\n",
    "\n",
    "    plt.figure(figsize=(7, 9))\n",
    "    plt.subplot(3, 1, 1)\n",
    "    plt.plot(mu, np.abs(X_dft), \"C0o\", ms=7, label=\"DFT\")\n",
    "    plt.plot(Om / dOm, np.abs(X_dtft), \"C1\", label=\"DTFT\")\n",
    "    plt.xlim(0, N)\n",
    "    plt.xlabel(r\"$\\mu$\")\n",
    "    plt.title(\"magnitude spectrum |X|\")\n",
    "    plt.legend()\n",
    "    plt.grid(True)\n",
    "    plt.subplot(3, 1, 2)\n",
    "    plt.plot(mu * dOm, np.abs(X_dft), \"C0o\", ms=7)\n",
    "    plt.plot(Om, np.abs(X_dtft), \"C1\")\n",
    "    plt.xlim(0, 2 * np.pi)\n",
    "    plt.xlabel(r\"$\\Omega$ / rad\")\n",
    "    plt.grid(True)\n",
    "    plt.subplot(3, 1, 3)\n",
    "    plt.plot(mu * fs / N, np.abs(X_dft), \"C0o\", ms=7)\n",
    "    plt.plot(Om * fs / 2 / np.pi, np.abs(X_dtft), \"C1\")\n",
    "    plt.xlim(0, fs)\n",
    "    plt.xlabel(r\"$f$ / Hz with fs=\" + str(fs / 1000) + \"kHz\")\n",
    "    plt.grid(True)"
   ]
  },
  {
   "cell_type": "code",
   "execution_count": null,
   "id": "bd87433f-3e8a-4f6c-8d74-a8fe58b9f74f",
   "metadata": {},
   "outputs": [],
   "source": [
    "N = 8\n",
    "Om_sig = 2 * 2 * np.pi / N\n",
    "dft2dtft_playground_plot(N=N, Om_sig=Om_sig)"
   ]
  },
  {
   "cell_type": "code",
   "execution_count": null,
   "id": "a139e757-bd62-4ccf-9453-e0c74bb58d21",
   "metadata": {},
   "outputs": [],
   "source": [
    "N = 9\n",
    "Om_sig = 2 * 2 * np.pi / N\n",
    "dft2dtft_playground_plot(N=N, Om_sig=Om_sig)"
   ]
  },
  {
   "cell_type": "code",
   "execution_count": null,
   "id": "83f7d07c-9008-4478-a202-ac221cea60b5",
   "metadata": {},
   "outputs": [],
   "source": [
    "N = 8\n",
    "Om_sig = 2.5 * 2 * np.pi / N\n",
    "dft2dtft_playground_plot(N=N, Om_sig=Om_sig)"
   ]
  },
  {
   "cell_type": "code",
   "execution_count": null,
   "id": "abb072c1-d52f-4869-894e-54e5efa14401",
   "metadata": {},
   "outputs": [],
   "source": [
    "N = 9\n",
    "Om_sig = 2.5 * 2 * np.pi / N\n",
    "dft2dtft_playground_plot(N=N, Om_sig=Om_sig)"
   ]
  },
  {
   "cell_type": "markdown",
   "id": "83a18210-6134-4bd6-9d96-6defc760676e",
   "metadata": {},
   "source": [
    "## Exercise 8: DFT / DTFT of an Finite Impulse Response (FIR)"
   ]
  },
  {
   "cell_type": "markdown",
   "id": "20bfcc8f-6da7-4f0b-827a-0de49e58ec7d",
   "metadata": {},
   "source": [
    "The finite length impulse response (FIR) $h[k]$ of an LTI system is given\n",
    "as\n",
    "\n",
    "\\begin{equation}\n",
    "h[k]=\\frac{1}{8}\\cdot\\left(11 \\delta[k]-5 \\delta[k-1]+7 \\delta[k-2]-9 \\delta[k-3]\\right).\n",
    "\\end{equation}\n",
    "\n",
    "Obviously, the LTI system is non-recursive.\n",
    "\n",
    "The magnitude and phase spectrum is to be evaluated from\n",
    "- DFT\n",
    "- DTFT\n",
    "- DFT of zerpadded impulse response\n",
    "\n",
    "Discuss the different approaches."
   ]
  },
  {
   "cell_type": "code",
   "execution_count": null,
   "id": "c931c7df-23c0-4f97-a954-6bd0875af156",
   "metadata": {},
   "outputs": [],
   "source": [
    "h = np.array([11, -5, 7, -9]) / 8  # FIR\n",
    "\n",
    "# DFT\n",
    "Nh = h.size  # length of FIR\n",
    "H_dft = fft(h)  # DFT of FIR\n",
    "mu = np.arange(Nh)  # DFT frequency vector mu\n",
    "\n",
    "with np.printoptions(precision=3, suppress=True):\n",
    "    print(\"at DFT frequencies:\")\n",
    "    print(\"level\", 20 * np.log10(np.abs(H_dft)), \"dB\")\n",
    "    print(\"phase\", np.angle(H_dft) * 180 / np.pi, \"deg\")\n",
    "\n",
    "# interpolation towards DTFT\n",
    "NOm = 2**8  # DTFT frequencies to be plotted\n",
    "dOm = 2 * np.pi / NOm  # resolution\n",
    "Om = np.arange(NOm) * dOm\n",
    "H_dtft = dft2dtft(fft(h), Om)\n",
    "\n",
    "# interpolation via zeropadding and DFT\n",
    "hz = np.zeros(NOm)  # zero signal\n",
    "hz[0:4] = h  # insert h yields zeropadded FIR in hz\n",
    "Hz_dft = fft(hz)  # DFT of zeropadded FIR\n",
    "\n",
    "plt.figure(figsize=(7, 4.375))\n",
    "plt.subplot(2, 1, 1)\n",
    "plt.plot(mu * 2 * np.pi / Nh, np.abs(H_dft), \"C0o\", label=r\"DFT of $h[k]$\")\n",
    "plt.plot(Om, np.abs(H_dtft), \"C1\", label=r\"DTFT of $h[k]$\")\n",
    "plt.plot(Om, np.abs(Hz_dft), \"C3-.\", label=r\"DFT of zeropadded IR $h_z[k]$\")\n",
    "plt.xlim(0, 2 * np.pi)\n",
    "plt.ylim(0)\n",
    "# plt.xlabel(r'$\\Omega$ / rad')\n",
    "plt.ylabel(r\"magnitude |H|\")\n",
    "plt.legend()\n",
    "plt.grid(True)\n",
    "plt.subplot(2, 1, 2)\n",
    "plt.plot(\n",
    "    mu * 2 * np.pi / Nh, np.angle(H_dft) * 180 / np.pi, \"C0o\", label=r\"DFT of $h[k]$\"\n",
    ")\n",
    "plt.plot(Om, np.angle(H_dtft) * 180 / np.pi, \"C1\", label=r\"DTFT of $h[k]$\")\n",
    "plt.plot(\n",
    "    Om, np.angle(Hz_dft) * 180 / np.pi, \"C3-.\", label=r\"DFT of zeropadded IR $h_z[k]$\"\n",
    ")\n",
    "plt.xlim(0, 2 * np.pi)\n",
    "plt.xlabel(r\"$\\Omega$ / rad\")\n",
    "plt.ylabel(r\"phase $\\angle H$ in deg\")\n",
    "plt.grid(True)"
   ]
  },
  {
   "cell_type": "markdown",
   "id": "b356fc71-aa95-4f07-a56d-4ea847f61661",
   "metadata": {},
   "source": [
    "**Copyright**\n",
    "\n",
    "The notebooks are provided as [Open Educational Resources](https://en.wikipedia.org/wiki/Open_educational_resources). Feel free to use the notebooks for your own purposes. The text is licensed under [Creative Commons Attribution 4.0](https://creativecommons.org/licenses/by/4.0/), the code of the IPython examples under the [MIT license](https://opensource.org/licenses/MIT). Please attribute the work as follows: *Frank Schultz, Digital Signal Processing - A Tutorial Featuring Computational Examples* with the URL https://github.com/spatialaudio/digital-signal-processing-exercises"
   ]
  }
 ],
 "metadata": {
  "kernelspec": {
   "display_name": "Python 3 (ipykernel)",
   "language": "python",
   "name": "python3"
  },
  "language_info": {
   "codemirror_mode": {
    "name": "ipython",
    "version": 3
   },
   "file_extension": ".py",
   "mimetype": "text/x-python",
   "name": "python",
   "nbconvert_exporter": "python",
   "pygments_lexer": "ipython3",
   "version": "3.9.12"
  }
 },
 "nbformat": 4,
 "nbformat_minor": 5
}
