{
 "cells": [
  {
   "cell_type": "markdown",
   "id": "58ba3d8e-57e0-4bfa-93bd-d4db350552f9",
   "metadata": {
    "tags": []
   },
   "source": [
    "Sascha Spors,\n",
    "Professorship Signal Theory and Digital Signal Processing,\n",
    "Institute of Communications Engineering (INT),\n",
    "Faculty of Computer Science and Electrical Engineering (IEF),\n",
    "University of Rostock,\n",
    "Germany\n",
    "\n",
    "# Tutorial Digital Signal Processing\n",
    "\n",
    "**DFT Fundamentals**,\n",
    "Winter Semester 2021/22 (Course #24505)\n",
    "\n",
    "- lecture: https://github.com/spatialaudio/digital-signal-processing-lecture\n",
    "- tutorial: https://github.com/spatialaudio/digital-signal-processing-exercises\n",
    "\n",
    "Feel free to contact lecturer frank.schultz@uni-rostock.de"
   ]
  },
  {
   "cell_type": "code",
   "execution_count": null,
   "id": "e3fea7a4-1969-46da-816c-44c507dd5e50",
   "metadata": {},
   "outputs": [],
   "source": [
    "import numpy as np\n",
    "import matplotlib.pyplot as plt\n",
    "from numpy.linalg import inv\n",
    "from numpy.fft import fft, ifft\n",
    "#from scipy.fft import fft, ifft"
   ]
  },
  {
   "cell_type": "markdown",
   "id": "84f98615-9842-4a3b-85db-8cc1bc6f46ec",
   "metadata": {},
   "source": [
    "Sascha Spors,\n",
    "Professorship Signal Theory and Digital Signal Processing,\n",
    "Institute of Communications Engineering (INT),\n",
    "Faculty of Computer Science and Electrical Engineering (IEF),\n",
    "University of Rostock,\n",
    "Germany\n",
    "\n",
    "# Tutorial Digital Signal Processing\n",
    "\n",
    "**DFT Fundamentals**,\n",
    "Winter Semester 2021/22 (Course #24505)\n",
    "\n",
    "- lecture: https://github.com/spatialaudio/digital-signal-processing-lecture\n",
    "- tutorial: https://github.com/spatialaudio/digital-signal-processing-exercises\n",
    "\n",
    "Feel free to contact lecturer frank.schultz@uni-rostock.de# Discrete Fourier Transform (DFT)"
   ]
  },
  {
   "cell_type": "markdown",
   "id": "33ba8048-1561-47cb-a913-b9c281f769c8",
   "metadata": {},
   "source": [
    "## Input Signal\n",
    "\n",
    "Let us first define a **complex-valued signal** $x[k]$ of a certain block length $N$ ranging from $0\\leq k\\leq N-1$.\n",
    "\n",
    "The variable `tmpmu` defines the frequency of the signal. We will see later how this is connected to the DFT.\n",
    "For now on, leave it with `tmpmu=1`. This results in exactly one period of cosine and sine building the complex signal. If `tmpmu=2` we get exactly two periods of cos/sin. We'll get get an idea of `tmpmu`..."
   ]
  },
  {
   "cell_type": "code",
   "execution_count": null,
   "id": "e924db4b-13c3-48bd-a4d2-455e0e688ff2",
   "metadata": {},
   "outputs": [],
   "source": [
    "N = 2**3  # signal block length\n",
    "k = np.arange(N)  # all required sample/time indices\n",
    "A = 10  # signal amplitude\n",
    "\n",
    "tmpmu = 2-1/2  # DFT eigenfrequency worst case\n",
    "tmpmu = 1  # DFT eigenfrequency best case\n",
    "\n",
    "x = A * np.exp(tmpmu * +1j*2*np.pi/N * k)\n",
    "\n",
    "# plot\n",
    "plt.stem(k, np.real(x), markerfmt='C0o',\n",
    "         basefmt='C0:', linefmt='C0:', label='real')\n",
    "plt.stem(k, np.imag(x), markerfmt='C1o',\n",
    "         basefmt='C1:', linefmt='C1:', label='imag')\n",
    "# note that connecting the samples by lines is actually wrong, we\n",
    "# use it anyway for more visual convenience:\n",
    "plt.plot(k, np.real(x), 'C0-', lw=0.5)\n",
    "plt.plot(k, np.imag(x), 'C1-', lw=0.5)\n",
    "plt.xlabel(r'sample $k$')\n",
    "plt.ylabel(r'complex-valued input signal $x[k]$')\n",
    "plt.legend()\n",
    "plt.grid(True)"
   ]
  },
  {
   "cell_type": "markdown",
   "id": "b36ed618-7697-4ff1-8ec9-ceaf2b4d2bfb",
   "metadata": {},
   "source": [
    "We will now perform an DFT of $x[k]$ since we are interested in the frequency spectrum of it.\n",
    "\n",
    "## DFT Definition\n",
    "\n",
    "The discrete Fourier transform pair for a discrete-time signal $x[k]$ with sample index $k$ and the corresponding DFT spectrum $X[\\mu]$ with frequency index $\\mu$ is given as \n",
    "\\begin{align}\n",
    "\\text{DFT}: X[\\mu]=&\\sum_{k=0}^{N-1}x[k]\\cdot\\mathrm{e}^{-\\mathrm{j}\\frac{2\\pi}{N}k\\mu}\\\\\n",
    "\\text{IDFT}: x[k]=\\frac{1}{N}&\\sum_{\\mu=0}^{N-1}X[\\mu]\\cdot\\mathrm{e}^{+\\mathrm{j}\\frac{2\\pi}{N}k\\mu}\n",
    "\\end{align}\n",
    "\n",
    "Note the sign reversal in the exp()-function and the $1/N$ normalization in the IDFT. This convention is used by the majority of DSP text books and also in Python's `numpy.fft.fft()`, `numpy.fft.ifft()` and Matlab's `fft()`, `ifft()` routines."
   ]
  },
  {
   "cell_type": "markdown",
   "id": "e16abf54-f33e-4649-af0f-89fa1dca4e8f",
   "metadata": {},
   "source": [
    "## DFT and IDFT with For-Loops\n",
    "\n",
    "We are now going to implement the DFT and IDFT with for-loop handling. While this might be helpful to validate  algorithms in its initial development phase, this should be avoided for practical used code in the field: for-loops are typically slow and very often more complicated to read than appropriate set up matrices and vectors. Especially for very large $N$ the computation time is very long.\n",
    "\n",
    "Anyway, the for-loop concept is: the DFT can be implemented with an outer for loop iterating over $\\mu$ and an inner for loop summing over all $k$ for a specific $\\mu$.\n",
    "\n",
    "We use variable with _ subscript here, in order to save nice variable names for the matrix based calculation."
   ]
  },
  {
   "cell_type": "code",
   "execution_count": null,
   "id": "f3c9669c-585e-4c0d-a30a-0b5f3bf910cc",
   "metadata": {},
   "outputs": [],
   "source": [
    "# DFT with for-loop:\n",
    "X_ = np.zeros((N, 1), dtype=complex)  # alloc RAM, init with zeros\n",
    "for mu_ in range(N):  # do for all DFT frequency indices\n",
    "    for k_ in range(N):  # do for all sample indices\n",
    "        X_[mu_] += x[k_] * np.exp(-1j*2*np.pi/N*k_*mu_)"
   ]
  },
  {
   "cell_type": "markdown",
   "id": "86951b5c-4d33-4250-924c-dcf6105f5e80",
   "metadata": {},
   "source": [
    "IDFT with outer and inner looping reads as follows."
   ]
  },
  {
   "cell_type": "code",
   "execution_count": null,
   "id": "b51fe718-09b8-45c5-93b2-7b43a0ebd2bd",
   "metadata": {},
   "outputs": [],
   "source": [
    "# IDFT with for-loop:\n",
    "x_ = np.zeros((N, 1), dtype=complex)  # alloc RAM, init with zeros\n",
    "for k_ in range(N):\n",
    "    for mu_ in range(N):\n",
    "        x_[k_] += X_[mu_] * np.exp(+1j*2*np.pi/N*k_*mu_)\n",
    "x_ *= 1/N  # normalization in the IDFT stage"
   ]
  },
  {
   "cell_type": "markdown",
   "id": "83cfba8a-6ee8-479b-8ba1-480986ea3442",
   "metadata": {},
   "source": [
    "Besides exchanged variables, main differences are sign reversal in exp() and the $1/N$ normalization. This is expected due to the DFT/IDFT equation pair given above."
   ]
  },
  {
   "cell_type": "markdown",
   "id": "5d994e00-676e-4b67-b09b-e45db12a44ad",
   "metadata": {},
   "source": [
    "## DFT and IDFT with Matrix Multiplication\n",
    "\n",
    "Now we do a little better: We should think of the DFT/IDFT in terms of a matrix operation setting up a set of linear equations.\n",
    "\n",
    "For that we define a column vector containing the samples of the discrete-time signal $x[k]$\n",
    "\\begin{equation}\n",
    "\\mathbf{x}_k = (x[k=0], x[k=1], x[k=2], \\dots , x[k=N-1])^\\mathrm{T}\n",
    "\\end{equation}\n",
    "\n",
    "and a column vector containing the DFT coefficients $X[\\mu]$\n",
    "\n",
    "\\begin{equation}\n",
    "\\mathbf{x}_\\mu = (X[\\mu=0], X[\\mu=1], X[\\mu=2], \\dots, X[\\mu=N-1])^\\mathrm{T}\n",
    "\\end{equation}\n",
    "\n",
    "Then, the matrix operations\n",
    "\n",
    "\\begin{align}\n",
    "\\text{DFT:   } & \\mathbf{x}_\\mu = \\mathbf{W}^* \\mathbf{x}_k\\\\\n",
    "\\text{IDFT:   } & \\mathbf{x}_k = \\frac{1}{N} \\mathbf{W} \\mathbf{x}_\\mu\n",
    "\\end{align}\n",
    "\n",
    "hold.\n",
    "\n",
    "$()^\\mathrm{T}$ is the transpose, $()^*$ is the conjugate complex.\n"
   ]
  },
  {
   "cell_type": "markdown",
   "id": "f9618795-47f2-4b70-87f9-c6b65104b62c",
   "metadata": {},
   "source": [
    "The $N\\times N$ Fourier matrix is defined as (element-wise operation $\\odot$)\n",
    "\\begin{equation}\n",
    "\\mathbf{W} = \\mathrm{e}^{+\\mathrm{j}\\frac{2\\pi}{N} \\odot \\mathbf{K}}\n",
    "\\end{equation}\n",
    "using the so called twiddle factor (note that the sign in the exp() is our convention)\n",
    "\\begin{equation}\n",
    "W_N = \\mathrm{e}^{+\\mathrm{j}\\frac{2\\pi}{N}}\n",
    "\\end{equation}\n",
    "and the outer product\n",
    "\\begin{equation}\n",
    "\\mathbf{K} = \n",
    "\\begin{bmatrix}\n",
    "0\\\\\n",
    "1\\\\\n",
    "2\\\\\n",
    "\\vdots\\\\\n",
    "N-1\n",
    "\\end{bmatrix}\n",
    "\\cdot\n",
    "\\begin{bmatrix}\n",
    "0 & 1 & 2 & \\cdots & N-1\n",
    "\\end{bmatrix}\n",
    "\\end{equation}\n",
    "containing all possible products $k\\,\\mu$ in a suitable arrangement.\n",
    "\n",
    "For the simple case $N=4$ these matrices are\n",
    "\\begin{align}\n",
    "\\mathbf{K} = \\begin{bmatrix}\n",
    "0 & 0 & 0 & 0\\\\\n",
    "0 & 1 & 2 & 3\\\\\n",
    "0 & 2 & 4 & 6\\\\\n",
    "0 & 3 & 6 & 9\n",
    "\\end{bmatrix}\n",
    "\\rightarrow\n",
    "\\mathbf{W} = \\begin{bmatrix}\n",
    "1 & 1 & 1 & 1\\\\\n",
    "1 & +\\mathrm{j} & -1 & -\\mathrm{j}\\\\\n",
    "1 & -1 & 1 & -1\\\\\n",
    "1 & -\\mathrm{j} & -1 & +\\mathrm{j}\n",
    "\\end{bmatrix}\n",
    "\\end{align}"
   ]
  },
  {
   "cell_type": "code",
   "execution_count": null,
   "id": "a47eb823-32e7-4e73-a09a-52b958dce7b1",
   "metadata": {},
   "outputs": [],
   "source": [
    "# k = np.arange(N)  # all required sample/time indices, already defined above\n",
    "\n",
    "# all required DFT frequency indices, actually same entries like in k\n",
    "mu = np.arange(N)\n",
    "\n",
    "# set up matrices\n",
    "K = np.outer(k, mu)  # get all possible entries k*mu in meaningful arrangement\n",
    "W = np.exp(+1j * 2*np.pi/N * K)  # analysis matrix for DFT"
   ]
  },
  {
   "cell_type": "code",
   "execution_count": null,
   "id": "75d5acb3-32bd-47a9-b0c9-c7c34d974e8e",
   "metadata": {},
   "outputs": [],
   "source": [
    "# visualize the content of the Fourier matrix\n",
    "# we've already set up (use other N if desired):\n",
    "# N = 8\n",
    "# k = np.arange(N)\n",
    "# mu = np.arange(N)\n",
    "# W = np.exp(+1j*2*np.pi/N*np.outer(k, mu))  # set up Fourier matrix\n",
    "\n",
    "fig, ax = plt.subplots(1, N)\n",
    "fig.set_size_inches(6, 6)\n",
    "fig.suptitle(\n",
    "    r'Fourier Matrix for $N=$%d, blue: $\\Re(\\mathrm{e}^{+\\mathrm{j} \\frac{2\\pi}{N} \\mu k})$, orange: $\\Im(\\mathrm{e}^{+\\mathrm{j} \\frac{2\\pi}{N} \\mu k})$' % N)\n",
    "\n",
    "for tmp in range(N):\n",
    "    ax[tmp].set_facecolor('lavender')\n",
    "    ax[tmp].plot(W[:, tmp].real, k, 'C0o-', ms=7, lw=0.5)\n",
    "    ax[tmp].plot(W[:, tmp].imag, k, 'C1o-.', ms=7, lw=0.5)\n",
    "    ax[tmp].set_ylim(N-1, 0)\n",
    "    ax[tmp].set_xlim(-5/4, +5/4)\n",
    "    if tmp == 0:\n",
    "        ax[tmp].set_yticks(np.arange(0, N))\n",
    "        ax[tmp].set_xticks(np.arange(-1, 1+1, 1))\n",
    "        ax[tmp].set_ylabel(r'$\\longleftarrow k$')\n",
    "    else:\n",
    "        ax[tmp].set_yticks([], minor=False)\n",
    "        ax[tmp].set_xticks([], minor=False)\n",
    "    ax[tmp].set_title(r'$\\mu=$%d' % tmp)\n",
    "fig.tight_layout()\n",
    "fig.subplots_adjust(top=0.91)\n",
    "\n",
    "fig.savefig('fourier_matrix.png', dpi=300)\n",
    "\n",
    "# TBD: row version for analysis"
   ]
  },
  {
   "cell_type": "markdown",
   "id": "8204c13c-1c8f-4678-8e19-c0c41c15ffa3",
   "metadata": {},
   "source": [
    "## Fourier Matrix Properties\n",
    "\n",
    "The DFT and IDFT basically solve two sets of linear equations, that are linked as forward and inverse problem.\n",
    "\n",
    "This is revealed with the important property of the Fourier matrix\n",
    "\n",
    "\\begin{equation}\n",
    "\\mathbf{W}^{-1}\n",
    "= \\frac{\\mathbf{W}^\\mathrm{H}}{N}\n",
    "= \\frac{\\mathbf{W}^\\mathrm{*}}{N},\n",
    "\\end{equation}\n",
    "\n",
    "the latter holds since the matrix is symmetric.\n",
    "\n",
    "Thus, we see that by our convention, the DFT is the inverse problem (signal analysis) and the IDFT is the forward problem (signal synthesis)\n",
    "\n",
    "\\begin{align}\n",
    "\\text{DFT:   } & \\mathbf{x}_\\mu = \\mathbf{W}^* \\mathbf{x}_k \\rightarrow \\mathbf{x}_\\mu = N \\mathbf{W}^{-1} \\, \\mathbf{x}_k\\\\\n",
    "\\text{IDFT:   } & \\mathbf{x}_k = \\frac{1}{N} \\mathbf{W} \\mathbf{x}_\\mu.\n",
    "\\end{align}\n",
    "\n",
    "The occurrence of the $N$, $1/N$ factor is due to the prevailing convention in signal processing literature.\n",
    "\n",
    "If the matrix is normalised as $\\frac{\\mathbf{W}}{\\sqrt{N}}$, a so called unitary matrix results, for which the \n",
    "important property\n",
    "\\begin{equation}\n",
    "(\\frac{\\mathbf{W}}{\\sqrt{N}})^\\mathrm{H} \\, (\\frac{\\mathbf{W}}{\\sqrt{N}}) = \\mathbf{I} =\n",
    "(\\frac{\\mathbf{W}}{\\sqrt{N}})^{-1} \\, (\\frac{\\mathbf{W}}{\\sqrt{N}})\n",
    "\\end{equation}\n",
    "holds, i.e. the complex-conjugate, transpose is equal to the inverse\n",
    "$(\\frac{\\mathbf{W}}{\\sqrt{N}})^\\mathrm{H} = (\\frac{\\mathbf{W}}{\\sqrt{N}})^{-1}$\n",
    "and due to the matrix symmetry also\n",
    "$(\\frac{\\mathbf{W}}{\\sqrt{N}})^* =\n",
    "(\\frac{\\mathbf{W}}{\\sqrt{N}})^{-1}$\n",
    "is valid.\n",
    "\n",
    "This tells that the matrix $\\frac{\\mathbf{W}}{\\sqrt{N}}$ is **orthonormal**, i.e. the matrix spans a orthonormal vector basis (the best what we can get in linear algebra world to work with) of $N$ normalized DFT eigensignals.\n",
    "\n",
    "So, DFT and IDFT is transforming vectors into other vectors using the vector basis of the Fourier matrix.\n"
   ]
  },
  {
   "cell_type": "markdown",
   "id": "7a26f220-4da9-4dcf-9aa5-af56c4a2f115",
   "metadata": {},
   "source": [
    "## Check DFT Eigensignals and -Frequencies\n",
    "\n",
    "The columns of the Fourier matrix $\\mathbf{W}$ contain the eigensignals of the DFT. These are\n",
    "\\begin{align}\n",
    "w_\\mu[k] = \\cos(\\frac{2\\pi}{N} k \\mu) + \\mathrm{j} \\sin(\\frac{2\\pi}{N} k \\mu)\n",
    "\\end{align}\n",
    "since we have intentionally set up the matrix this way.\n",
    "\n",
    "The plot below shows the eigensignal for $\\mu=1$, which fits again one signal period in the block length $N$.\n",
    "For $\\mu=2$ we obtain two periods in one block.\n",
    "\n",
    "The eigensignals for $0\\leq \\mu \\leq N-1$ therefore exhibit a certain digital frequency, the so called DFT eigenfrequencies.\n",
    "\n",
    "What eigensignal corresponds to $\\mu=0$?..."
   ]
  },
  {
   "cell_type": "code",
   "execution_count": null,
   "id": "ce0f5ad4-6ca6-4fa2-9649-110d4203c143",
   "metadata": {},
   "outputs": [],
   "source": [
    "tmpmu = 1  # column index\n",
    "\n",
    "plt.stem(k, np.real(W[:, tmpmu]), label='real',\n",
    "         markerfmt='C0o', basefmt='C0:', linefmt='C0:')\n",
    "plt.stem(k, np.imag(W[:, tmpmu]), label='imag',\n",
    "         markerfmt='C1o', basefmt='C1:', linefmt='C1:')\n",
    "# note that connecting the samples by lines is actually wrong, we\n",
    "# use it anyway for more visual convenience\n",
    "plt.plot(k, np.real(W[:, tmpmu]), 'C0-', lw=0.5)\n",
    "plt.plot(k, np.imag(W[:, tmpmu]), 'C1-', lw=0.5)\n",
    "plt.xlabel(r'sample $k$')\n",
    "plt.ylabel(r'DFT eigensignal = '+str(tmpmu+1)+'. column of $\\mathbf{W}$')\n",
    "plt.legend()\n",
    "plt.grid(True)"
   ]
  },
  {
   "cell_type": "markdown",
   "id": "2814c074-5166-431a-bd36-cfc2f6ba545d",
   "metadata": {},
   "source": [
    "The nice thing about the chosen eigenfrequencies, is that the eigensignals are **orthogonal**.\n",
    "\n",
    "This choice of the vector basis is on purpose and one of the most important ones in linear algebra and signal processing.\n",
    "\n",
    "We might for example check orthogonality with the **complex** inner product of some matrix columns."
   ]
  },
  {
   "cell_type": "code",
   "execution_count": null,
   "id": "ae001ad0-2c02-4193-a0b5-51a36fbf32ba",
   "metadata": {},
   "outputs": [],
   "source": [
    "np.dot(np.conj(W[:, 0]), W[:, 0])  # same eigensignal, same eigenfrequency\n",
    "# np.vdot(W[:,0],W[:,0])  # this is the suitable numpy function"
   ]
  },
  {
   "cell_type": "code",
   "execution_count": null,
   "id": "f9ecc2e7-0ca6-472d-b3bd-3f2832000782",
   "metadata": {},
   "outputs": [],
   "source": [
    "np.dot(np.conj(W[:, 0]), W[:, 1])  # different eigensignals\n",
    "# np.vdot(W[:,0],W[:,1])  # this is the suitable numpy function\n",
    "# result should be zero, with numerical precision close to zero:"
   ]
  },
  {
   "cell_type": "markdown",
   "id": "40ee699c-02f0-4936-b8e3-ed87fe3dd621",
   "metadata": {},
   "source": [
    "## Initial Example: IDFT Signal Synthesis for N=8\n",
    "\n",
    "Let us synthesize a discrete-time signal by using the IDFT in matrix notation for $N=8$.\n",
    "\n",
    "The signal should contain a DC value, the first and second eigenfrequency with different amplitudes, such as\n",
    "\n",
    "\\begin{equation}\n",
    "\\mathbf{x}_\\mu = [8, 2, 4, 0, 0, 0, 0, 0]^\\text{T}\n",
    "\\end{equation}\n",
    "\n",
    "using large `X_test` in code."
   ]
  },
  {
   "cell_type": "code",
   "execution_count": null,
   "id": "55c75e9a-eb6a-4f30-a276-35db0533d673",
   "metadata": {},
   "outputs": [],
   "source": [
    "if N == 8:\n",
    "    X_test = np.array([8, 2, 4, 0, 0, 0, 0, 0])\n",
    "    # x_test = 1/N*W@X_test  # >= Python3.5\n",
    "    x_test = 1/N * np.matmul(W, X_test)\n",
    "\n",
    "    plt.stem(k, np.real(x_test), label='real',\n",
    "             markerfmt='C0o', basefmt='C0:', linefmt='C0:')\n",
    "    plt.stem(k, np.imag(x_test), label='imag',\n",
    "             markerfmt='C1o', basefmt='C1:', linefmt='C1:')    \n",
    "    # note that connecting the samples by lines is actually wrong, we\n",
    "    # use it anyway for more visual convenience\n",
    "    plt.plot(k, np.real(x_test), 'C0o-', lw=0.5)\n",
    "    plt.plot(k, np.imag(x_test), 'C1o-', lw=0.5)\n",
    "    plt.xlabel(r'sample $k$')\n",
    "    plt.ylabel(r'$x[k]$')\n",
    "    plt.legend()\n",
    "    plt.grid(True)\n",
    "\n",
    "    # check if results are identical with numpy ifft package\n",
    "    print(np.allclose(ifft(X_test), x_test))\n",
    "    print('DC is 1 as expected: ', np.mean(x_test))"
   ]
  },
  {
   "cell_type": "markdown",
   "id": "11858c80-e7a2-4f1b-8ae3-6db298068fc2",
   "metadata": {},
   "source": [
    "This is a linear combination of the Fourier matrix columns, which are the DFT eigensignals, as "
   ]
  },
  {
   "cell_type": "code",
   "execution_count": null,
   "id": "966ed778-2655-4e73-876b-209348ba315d",
   "metadata": {},
   "outputs": [],
   "source": [
    "if N == 8:\n",
    "    x_test2 = X_test[0] * W[:, 0] + X_test[1] * W[:, 1] + X_test[2] * W[:, 2]"
   ]
  },
  {
   "cell_type": "markdown",
   "id": "30835ba4-96f2-407a-a05b-a86176a360f5",
   "metadata": {},
   "source": [
    "We don't need summing the other columns, since their DFT coefficients in `X_test` are zero.\n",
    "\n",
    "Finally, normalizing yields the IDFT."
   ]
  },
  {
   "cell_type": "code",
   "execution_count": null,
   "id": "838195bf-3d0f-4046-9285-5b26eb6a3ffe",
   "metadata": {},
   "outputs": [],
   "source": [
    "if N == 8:\n",
    "    x_test2 *= 1/N\n",
    "    print(np.allclose(x_test, x_test2))  # check with result before"
   ]
  },
  {
   "cell_type": "markdown",
   "id": "7820ba53-0a71-4ca3-b775-44bc82f0cbba",
   "metadata": {},
   "source": [
    "## Initial Example: DFT Spectrum Analysis for N=8\n",
    "\n",
    "Now, let us calculate the DFT of the signal `x_test`. As result, we'd expect the DFT vector\n",
    "\n",
    "\\begin{equation}\n",
    "\\mathbf{x}_\\mu = [8, 2, 4, 0, 0, 0, 0, 0]^\\text{T}\n",
    "\\end{equation}\n",
    "\n",
    "that we started from."
   ]
  },
  {
   "cell_type": "code",
   "execution_count": null,
   "id": "fd0fd0e1-fcc4-4dba-a519-1b90b81b3b2a",
   "metadata": {},
   "outputs": [],
   "source": [
    "if N == 8:\n",
    "    # X_test2 = np.conj(W)@x_test  # >= Python3.5\n",
    "    X_test2 = np.matmul(np.conj(W), x_test)  # DFT, i.e. analysis\n",
    "    print(np.allclose(X_test, X_test2))  # check with result before"
   ]
  },
  {
   "cell_type": "markdown",
   "id": "02c39155-4020-4641-8be8-f0af9ba34739",
   "metadata": {},
   "source": [
    "This looks good. It is advisable also to check against the `numpy.fft` implementation:"
   ]
  },
  {
   "cell_type": "code",
   "execution_count": null,
   "id": "c2df3377-2c2d-479a-9eef-564719960af0",
   "metadata": {},
   "outputs": [],
   "source": [
    "if N == 8:\n",
    "    print(np.allclose(fft(x_test), X_test))"
   ]
  },
  {
   "cell_type": "markdown",
   "id": "30ce6def-c0c1-4a49-b13d-6a241c450d43",
   "metadata": {},
   "source": [
    "Besides different quantization errors in range $10^{-15...-16}$ (which is prominent even with 64Bit double precision calculation)\n",
    "all results produce the same output."
   ]
  },
  {
   "cell_type": "markdown",
   "id": "1abe32da-56a6-4a1a-bcf8-4abe7a7f8b63",
   "metadata": {},
   "source": [
    "The analysis stage for the discrete-time signal domain, i.e. the DFT\n",
    "can be reinvented by some intuition:\n",
    "How 'much' of the reference signal $\\mathbf{w}_{\\text{column i}}$\n",
    "(any column in $\\mathbf{W}$)\n",
    "is contained in the discrete-time signal $\\mathbf{x}_k$ that is to be analysed.\n",
    "\n",
    "In signal processing / statistic terms we look for the amount of correlation\n",
    "of the signals\n",
    "$\\mathbf{w}_{\\text{column i}}$ and $\\mathbf{x}_k$.\n",
    "\n",
    "In linear algebra terms we are interested in the projection of $\\mathbf{x}_k$ onto\n",
    "$\\mathbf{w}_{\\text{column i}}$, because the resulting length of this vector\n",
    "reveals the amount of correlation, which is precisely one DFT coefficient $X[\\cdot]$.\n",
    "\n",
    "The complex inner products $\\mathbf{w}_{\\text{column i}}^\\text{H} \\cdot \\mathbf{x}_k$\n",
    "reveals these searched quantities."
   ]
  },
  {
   "cell_type": "code",
   "execution_count": null,
   "id": "bd7fe0ba-ae7b-4438-a610-e0b5aa234f5d",
   "metadata": {},
   "outputs": [],
   "source": [
    "if N == 8:\n",
    "    print(np.conj(W[:, 0])@x_test)\n",
    "    print(np.conj(W[:, 1])@x_test)\n",
    "    print(np.conj(W[:, 2])@x_test)"
   ]
  },
  {
   "cell_type": "markdown",
   "id": "18fa769c-12ff-4bc9-9341-b4faece8049b",
   "metadata": {},
   "source": [
    "Doing this for all columns of matrix $\\mathbf{W}$, all DFT coefficients are obtained, such as\n",
    "\n",
    "\\begin{align}\n",
    "X[\\mu=0] =& \\mathbf{w}_{\\text{column 1}}^\\text{H} \\cdot \\mathbf{x}_k\\\\\n",
    "X[\\mu=1] =& \\mathbf{w}_{\\text{column 2}}^\\text{H} \\cdot \\mathbf{x}_k\\\\\n",
    "X[\\mu=2] =& \\mathbf{w}_{\\text{column 3}}^\\text{H} \\cdot \\mathbf{x}_k\\\\\n",
    "X[\\mu=3] =& \\mathbf{w}_{\\text{column 4}}^\\text{H} \\cdot \\mathbf{x}_k\\\\\n",
    "&\\vdots\\\\\n",
    "X[\\mu=N-1] =& \\mathbf{w}_{\\text{column N}}^\\text{H} \\cdot \\mathbf{x}_k.\n",
    "\\end{align}\n",
    "\n",
    "Naturally, all operations can be merged to one single\n",
    "matrix multiplication using the conjugate transpose of $\\mathbf{W}$.\n",
    "\n",
    "\\begin{equation}\n",
    "\\mathbf{x}_\\mu = \\mathbf{W}^\\text{H} \\cdot \\mathbf{x}_k = \\mathbf{W}^* \\cdot \\mathbf{x}_k\n",
    "\\end{equation}\n",
    "\n",
    "That's what we have performed with the single liner `X_test2 = np.matmul(np.conj(W), x_test)`"
   ]
  },
  {
   "cell_type": "markdown",
   "id": "dc36f65b-3d39-4ec6-9cf2-97afe8600359",
   "metadata": {},
   "source": [
    "## Example: Plot the DFT Magnitude Spectrum\n",
    "\n",
    "We should now be familiar with the DFT and IDFT basic idea.\n",
    "\n",
    "Now, let us **return to our initially created signal** `x` at the very beginning of this notebook. We want to explore and learn to interpret the DFT magnitude spectrum of it. So, we'd perform a DFT first."
   ]
  },
  {
   "cell_type": "code",
   "execution_count": null,
   "id": "3580e90d-a537-480c-a49c-d9bdef9dc425",
   "metadata": {},
   "outputs": [],
   "source": [
    "X = fft(x)\n",
    "# print(np.allclose(np.conj(W)@x, X))  # >=Python 3.5\n",
    "print(np.allclose(np.matmul(np.conj(W), x), X))"
   ]
  },
  {
   "cell_type": "markdown",
   "id": "0b3c9d41-fa08-4334-833f-6010fef8a6ca",
   "metadata": {},
   "source": [
    "Next, let us plot the magnitude of the spectrum over $\\mu$.\n",
    "\n",
    "- We should play around with the variable `tmpmu` when defining the input signal at the very beginning of the notebook. For example we can check what happens for `tmpmu = 1`, `tmpmu = 2` and run the whole notebook to visualize the actual magnitude spectra.\n",
    "\n",
    "We should recognize the link of the 'energy' at $\\mu$ in the magnitude spectrum with the chosen `tmpmu`.\n",
    "\n",
    "- We can apply any real valued `tmpmu` for creating the input signal, for example\n",
    "    - `tmpmu = N+1`, `tmpmu = N+2`\n",
    "    - `tmpmu = 1.5`\n",
    "    \n",
    "We should explain what happens in these cases. Recall periodicity and eigenfrequencies/-signals as fundamental concepts."
   ]
  },
  {
   "cell_type": "code",
   "execution_count": null,
   "id": "6b36f483-4917-4740-9073-5eee63178dea",
   "metadata": {},
   "outputs": [],
   "source": [
    "plt.stem(mu, np.abs(X)/N, markerfmt='C0o', basefmt='C0:', linefmt='C0:')\n",
    "# plt.plot(mu, np.abs(X)/N, 'C0', lw=1)  # this is here a misleading plot and hence not used\n",
    "plt.xlabel(r'DFT eigenfrequency $\\mu$')\n",
    "plt.ylabel(r'DFT spectrum magnitude $\\frac{|X[\\mu]|}{N}$')\n",
    "plt.grid(True)"
   ]
  },
  {
   "cell_type": "markdown",
   "id": "2039a520-1480-424a-a13d-11c781e557bc",
   "metadata": {},
   "source": [
    "**Copyright**\n",
    "\n",
    "The notebooks are provided as [Open Educational Resources](https://en.wikipedia.org/wiki/Open_educational_resources). Feel free to use the notebooks for your own purposes. The text is licensed under [Creative Commons Attribution 4.0](https://creativecommons.org/licenses/by/4.0/), the code of the IPython examples under the [MIT license](https://opensource.org/licenses/MIT). Please attribute the work as follows: *Frank Schultz, Digital Signal Processing - A Tutorial Featuring Computational Examples* with the URL https://github.com/spatialaudio/digital-signal-processing-exercises"
   ]
  },
  {
   "cell_type": "code",
   "execution_count": null,
   "id": "8c8fbb5d-3f31-4390-bf38-3638553054a8",
   "metadata": {},
   "outputs": [],
   "source": []
  },
  {
   "cell_type": "markdown",
   "id": "628e3fc0-150d-48fc-878a-b9f2cd9b8a54",
   "metadata": {},
   "source": [
    "Sascha Spors,\n",
    "Professorship Signal Theory and Digital Signal Processing,\n",
    "Institute of Communications Engineering (INT),\n",
    "Faculty of Computer Science and Electrical Engineering (IEF),\n",
    "University of Rostock,\n",
    "Germany\n",
    "\n",
    "# Tutorial Digital Signal Processing\n",
    "\n",
    "**DFT Fundamentals**,\n",
    "Winter Semester 2021/22 (Course #24505)\n",
    "\n",
    "- lecture: https://github.com/spatialaudio/digital-signal-processing-lecture\n",
    "- tutorial: https://github.com/spatialaudio/digital-signal-processing-exercises\n",
    "\n",
    "Feel free to contact lecturer frank.schultz@uni-rostock.de"
   ]
  },
  {
   "cell_type": "code",
   "execution_count": null,
   "id": "b0bc0c7b-0a03-48ab-ab19-14911eb79eef",
   "metadata": {},
   "outputs": [],
   "source": [
    "import numpy as np\n",
    "import matplotlib.pyplot as plt\n",
    "from numpy.fft import fft, ifft\n",
    "#from scipy.fft import fft, ifft\n",
    "from scipy.special import diric\n",
    "\n",
    "\n",
    "def dft2dtft(X, Om):  # from dft_to_dtft_interpolation.ipynb\n",
    "    N = len(X)\n",
    "    Xi = np.zeros(len(Om), dtype='complex')\n",
    "    for i, Omega in enumerate(Om):\n",
    "        for mu_dft in range(N):\n",
    "            Xi[i] += X[mu_dft] *\\\n",
    "                np.exp(-1j/2*(Omega - 2*np.pi/N*mu_dft)*(N-1)) *\\\n",
    "                diric(Omega - 2*np.pi/N*mu_dft, N)\n",
    "    return Xi\n",
    "\n",
    "\n",
    "width = 10\n",
    "height = 10/16 * width\n",
    "figsize = (width, height)"
   ]
  },
  {
   "cell_type": "markdown",
   "id": "b4ade05b-bfc7-4b91-83f3-68d7354fc18b",
   "metadata": {},
   "source": [
    "# Calculate DFT / DTFT"
   ]
  },
  {
   "cell_type": "code",
   "execution_count": null,
   "id": "8d4d1131-e213-4167-a50b-8da6e8ba6e2f",
   "metadata": {},
   "outputs": [],
   "source": [
    "# DFT stuff\n",
    "N = 16  # DFT block size\n",
    "\n",
    "k = np.arange(N)  # time index\n",
    "mu = np.arange(N)  # frequency index for DFT\n",
    "dOm = 2*np.pi / N  # DFT's Omega resolution\n",
    "twiddle = np.exp(+1j*dOm)  # basis twiddle factor\n",
    "# 1/np.sqrt(N) yields an orthonormal!!! Fourier matrix:\n",
    "W = (twiddle**np.outer(k, k)) / np.sqrt(N)\n",
    "\n",
    "# create signal\n",
    "\n",
    "# frequency scale factor in term sof DFT's dOm:\n",
    "mu_x = 1.0  # best case = is a DFT eigensignal\n",
    "# mu_x = 1.5  # worst case -> between two DFT eigensignals\n",
    "\n",
    "tmp = np.exp(+1j*dOm*k * mu_x) / np.sqrt(N)\n",
    "x = tmp  # complex signal\n",
    "# x = tmp.real  # real signal-> cosine\n",
    "# x = tmp.imag  # real signal-> sine\n",
    "\n",
    "# calc DFT\n",
    "X = W.conj() @ x\n",
    "# X_tmp = fft(x) * 1/np.sqrt(N)  # needs 1/np.sqrt(N) to be consistent with above defined W!!!\n",
    "# print(np.allclose(X, X_tmp))\n",
    "\n",
    "# calc IDFT\n",
    "x_tmp = W @ X\n",
    "print('x = IDFT(DFT(x)): ', np.allclose(x, x_tmp))\n",
    "# x_tmp = ifft(X) * np.sqrt(N)  # needs 1/np.sqrt(N) to be consistent with above defined W!!!\n",
    "# print(np.allclose(x, x_tmp))\n",
    "\n",
    "# calc DFT -> DTFT interpolation\n",
    "N_dtft = 2**10  # number of frequencies along unit circle at which DTFT values are calc\n",
    "Om_dtft = np.arange(N_dtft) * 2*np.pi/N_dtft  # set up frequency vector\n",
    "X_dtft = dft2dtft(X, Om_dtft)  # perform interp"
   ]
  },
  {
   "cell_type": "markdown",
   "id": "9e8e1c42-6453-4d4e-9e6b-e486df8e74a2",
   "metadata": {},
   "source": [
    "# Signal Model Corresponding to DFT\n",
    "\n",
    "- both, the signal and the DFT spectrum are periodic in $N$\n",
    "- both, the signal and the DFT spectrum are discrete signals"
   ]
  },
  {
   "cell_type": "markdown",
   "id": "5b4a73ee-6082-4779-b45f-369714467cb7",
   "metadata": {},
   "source": [
    "## Plot Real/Imaginary Parts of Signal and DFT Spectrum"
   ]
  },
  {
   "cell_type": "code",
   "execution_count": null,
   "id": "a8190032-1f8b-4956-898a-906c7e4483dd",
   "metadata": {},
   "outputs": [],
   "source": [
    "fig, ax = plt.subplots(nrows=2, ncols=2, figsize=figsize)\n",
    "ax[0, 0].stem(k, x.real, basefmt='C0:', linefmt='C0:', markerfmt='C0o')\n",
    "ax[1, 0].stem(k, x.imag, basefmt='C1:', linefmt='C1:', markerfmt='C1o')\n",
    "ax[0, 1].stem(mu, X.real, basefmt='C0:', linefmt='C0:', markerfmt='C0o')\n",
    "ax[1, 1].stem(mu, X.imag, basefmt='C1:', linefmt='C1:', markerfmt='C1o')\n",
    "for i in range(2):\n",
    "    ax[i, 0].set_xticks(np.arange(N))\n",
    "    ax[i, 1].set_xticks(np.arange(N))\n",
    "    ax[i, 0].set_ylim(-1/np.sqrt(N), +1/np.sqrt(N))\n",
    "    ax[i, 1].set_ylim(-1, +1)\n",
    "    ax[i, 0].grid(True, color='lightgray')\n",
    "    ax[i, 1].grid(True, color='lightgray')\n",
    "ax[0, 0].set_title(r'periodic signal,  $\\Re\\{x[k]\\}$')\n",
    "ax[1, 0].set_title(r'$\\Im\\{x[k]\\}$')\n",
    "ax[0, 1].set_title(r'periodic, discrete DFT spectrum, $\\Re\\{X[\\mu]\\}$')\n",
    "ax[1, 1].set_title(r'$\\Im\\{X[\\mu]\\}$')\n",
    "ax[1, 0].set_xlabel(r'$k$')\n",
    "ax[1, 1].set_xlabel(r'$\\mu$');"
   ]
  },
  {
   "cell_type": "markdown",
   "id": "64c897a2-478e-48bd-b53f-58d57b4a9346",
   "metadata": {},
   "source": [
    "## Plot Real/Imaginary Parts of Signal and Magnitude/Phase of DFT Spectrum"
   ]
  },
  {
   "cell_type": "code",
   "execution_count": null,
   "id": "d52cb24c-2a32-4e06-93b4-20bf33f5f7b5",
   "metadata": {},
   "outputs": [],
   "source": [
    "fig, ax = plt.subplots(nrows=2, ncols=2, figsize=figsize)\n",
    "ax[0, 0].stem(k, x.real, basefmt='C0:', linefmt='C0:', markerfmt='C0o')\n",
    "ax[1, 0].stem(k, x.imag, basefmt='C1:', linefmt='C1:', markerfmt='C1o')\n",
    "ax[0, 1].stem(mu, np.abs(X), basefmt='C0:', linefmt='C0:', markerfmt='C0o')\n",
    "ax[1, 1].stem(mu, np.angle(X), basefmt='C1:', linefmt='C1:', markerfmt='C1o')\n",
    "for i in range(2):\n",
    "    ax[i, 0].set_xticks(np.arange(N))\n",
    "    ax[i, 1].set_xticks(np.arange(N))\n",
    "    ax[i, 0].set_ylim(-1/np.sqrt(N), +1/np.sqrt(N))\n",
    "    ax[i, 0].grid(True, color='lightgray')\n",
    "    ax[i, 1].grid(True, color='lightgray')\n",
    "ax[0, 1].set_ylim(-1, +1)\n",
    "ax[1, 1].set_ylim(-np.pi, +np.pi)\n",
    "ax[0, 0].set_title(r'periodic signal,  $\\Re\\{x[k]\\}$')\n",
    "ax[1, 0].set_title(r'$\\Im\\{x[k]\\}$')\n",
    "ax[0, 1].set_title(r'periodic, discrete DFT spectrum, $|X[\\mu]|$')\n",
    "ax[1, 1].set_title(r'$\\arg(X[\\mu])$ in rad')\n",
    "ax[1, 0].set_xlabel(r'$k$')\n",
    "ax[1, 1].set_xlabel(r'$\\mu$');"
   ]
  },
  {
   "cell_type": "markdown",
   "id": "5f55bd25-555f-42cf-b957-06545efb0e84",
   "metadata": {},
   "source": [
    "# Signal Model Corresponding to DTFT\n",
    "\n",
    "- the signal $x[k]$ is zero for $k<0$ and $k>N-1$, thus **non-periodic**\n",
    "- the signal is discrete\n",
    "- the DTFT spectrum is periodic in $2\\pi$\n",
    "- the DTFT spectrum is continous"
   ]
  },
  {
   "cell_type": "markdown",
   "id": "a156352e-7af9-4ecb-ab01-61da677b5254",
   "metadata": {},
   "source": [
    "## Plot Real/Imaginary Parts of Signal and DTFT Spectrum"
   ]
  },
  {
   "cell_type": "code",
   "execution_count": null,
   "id": "84714076-c688-4bc5-9061-a8f50eb7f4b9",
   "metadata": {},
   "outputs": [],
   "source": [
    "fig, ax = plt.subplots(nrows=2, ncols=2, figsize=figsize)\n",
    "ax[0, 0].stem(k, x.real, basefmt='C0:', linefmt='C0:', markerfmt='C0o')\n",
    "ax[1, 0].stem(k, x.imag, basefmt='C1:', linefmt='C1:', markerfmt='C1o')\n",
    "ax[0, 1].stem((mu*dOm)/dOm, X.real, basefmt='C0:', linefmt='C0:', markerfmt='C4.')\n",
    "ax[1, 1].stem((mu*dOm)/dOm, X.imag, basefmt='C1:', linefmt='C1:', markerfmt='C3.')\n",
    "ax[0, 1].plot(Om_dtft/dOm, X_dtft.real, 'C0')\n",
    "ax[1, 1].plot(Om_dtft/dOm, X_dtft.imag, 'C1')\n",
    "for i in range(2):\n",
    "    ax[i, 1].set_xlim((0, N))\n",
    "    ax[i, 0].set_xticks(np.arange(N))\n",
    "    ax[i, 1].set_xticks(np.arange(N))\n",
    "    ax[i, 0].set_ylim(-1/np.sqrt(N), +1/np.sqrt(N))\n",
    "    ax[i, 1].set_ylim(-1, +1)\n",
    "    ax[i, 0].grid(True, color='lightgray')\n",
    "    ax[i, 1].grid(True, color='lightgray')\n",
    "ax[0, 0].set_title(r'non-periodic signal (zero outside), $\\Re\\{x[k]\\}$')\n",
    "ax[1, 0].set_title(r'$\\Im\\{x[k]\\}$')\n",
    "ax[0, 1].set_title(r'periodic, continuous DTFT spectrum, $\\Re\\{X(\\Omega)\\}$')\n",
    "ax[1, 1].set_title(r'$\\Im\\{X(\\Omega)\\}$')\n",
    "ax[1, 0].set_xlabel(r'$k$')\n",
    "ax[1, 1].set_xlabel(r'$\\Omega / (\\frac{2 \\pi}{N})$')\n",
    "ax[0, 1].text(1, -0.7, 'dots represent the DFT coefficients');"
   ]
  },
  {
   "cell_type": "markdown",
   "id": "db0e5e90-c12a-4c2e-b891-b598ef34d252",
   "metadata": {},
   "source": [
    "## Plot Real/Imaginary Parts of Signal and Magnitude/Phase of DTFT Spectrum"
   ]
  },
  {
   "cell_type": "code",
   "execution_count": null,
   "id": "133db3f9-e2bc-496b-9f5a-507fb0ded958",
   "metadata": {},
   "outputs": [],
   "source": [
    "fig, ax = plt.subplots(nrows=2, ncols=2, figsize=figsize)\n",
    "ax[0, 0].stem(k, x.real, basefmt='C0:', linefmt='C0:', markerfmt='C0o')\n",
    "ax[1, 0].stem(k, x.imag, basefmt='C1:', linefmt='C1:', markerfmt='C1o')\n",
    "ax[0, 1].stem((mu*dOm)/dOm, np.abs(X), basefmt='C0:', linefmt='C0:', markerfmt='C4.')\n",
    "ax[1, 1].stem((mu*dOm)/dOm, np.angle(X), basefmt='C1:', linefmt='C1:', markerfmt='C3.')\n",
    "ax[0, 1].plot(Om_dtft/dOm, np.abs(X_dtft), 'C0')\n",
    "ax[1, 1].plot(Om_dtft/dOm, np.angle(X_dtft), 'C1')\n",
    "for i in range(2):\n",
    "    ax[i, 1].set_xlim((0, N))\n",
    "    ax[i, 0].set_xticks(np.arange(N))\n",
    "    ax[i, 1].set_xticks(np.arange(N))\n",
    "    ax[i, 0].set_ylim(-1/np.sqrt(N), +1/np.sqrt(N))\n",
    "    ax[i, 0].grid(True, color='lightgray')\n",
    "    ax[i, 1].grid(True, color='lightgray')\n",
    "ax[0, 1].set_ylim(-1, +1)\n",
    "ax[1, 1].set_ylim(-np.pi, +np.pi)\n",
    "ax[0, 0].set_title(r'non-periodic signal (zero outside), $\\Re\\{x[k]\\}$')\n",
    "ax[1, 0].set_title(r'$\\Im\\{x[k]\\}$')\n",
    "ax[0, 1].set_title(r'periodic, continuous DTFT spectrum, $|X(\\Omega)|$')\n",
    "ax[1, 1].set_title(r'$arg(X(\\Omega))$ in rad')\n",
    "ax[1, 0].set_xlabel(r'$k$')\n",
    "ax[1, 1].set_xlabel(r'$\\Omega / (\\frac{2 \\pi}{N})$')\n",
    "ax[0, 1].text(1, -0.7, 'dots represent the DFT coefficients');"
   ]
  },
  {
   "cell_type": "markdown",
   "id": "2a7efe70-da54-49da-a3a2-66e06b57a846",
   "metadata": {},
   "source": [
    "**Copyright**\n",
    "\n",
    "The notebooks are provided as [Open Educational Resources](https://en.wikipedia.org/wiki/Open_educational_resources). Feel free to use the notebooks for your own purposes. The text is licensed under [Creative Commons Attribution 4.0](https://creativecommons.org/licenses/by/4.0/), the code of the IPython examples under the [MIT license](https://opensource.org/licenses/MIT). Please attribute the work as follows: *Frank Schultz, Digital Signal Processing - A Tutorial Featuring Computational Examples* with the URL https://github.com/spatialaudio/digital-signal-processing-exercises"
   ]
  },
  {
   "cell_type": "code",
   "execution_count": null,
   "id": "4a67979c-7078-4d4e-8250-b74d6fb1352f",
   "metadata": {},
   "outputs": [],
   "source": []
  },
  {
   "cell_type": "code",
   "execution_count": null,
   "id": "7777b9c2-661b-465d-a95e-cd79bd79e96c",
   "metadata": {},
   "outputs": [],
   "source": []
  },
  {
   "cell_type": "markdown",
   "id": "800bfe54-7b6e-45cc-bd5e-ec04c2be8521",
   "metadata": {
    "tags": []
   },
   "source": [
    "Sascha Spors,\n",
    "Professorship Signal Theory and Digital Signal Processing,\n",
    "Institute of Communications Engineering (INT),\n",
    "Faculty of Computer Science and Electrical Engineering (IEF),\n",
    "University of Rostock,\n",
    "Germany\n",
    "\n",
    "# Tutorial Digital Signal Processing\n",
    "\n",
    "**DFT to DTFT Interpolation with the Periodic Sinc Function**,\n",
    "Winter Semester 2021/22 (Course #24505)\n",
    "\n",
    "- lecture: https://github.com/spatialaudio/digital-signal-processing-lecture\n",
    "- tutorial: https://github.com/spatialaudio/digital-signal-processing-exercises\n",
    "\n",
    "Feel free to contact lecturer frank.schultz@uni-rostock.de\n"
   ]
  },
  {
   "cell_type": "code",
   "execution_count": null,
   "id": "802e23c5-a3b7-485f-b9cf-0abcd0c1a61c",
   "metadata": {},
   "outputs": [],
   "source": [
    "import numpy as np\n",
    "from matplotlib import pyplot as plt\n",
    "from matplotlib.patches import Rectangle\n",
    "from numpy.fft import fft, ifft\n",
    "#from scipy.fft import fft, ifft\n",
    "from scipy.special import diric"
   ]
  },
  {
   "cell_type": "markdown",
   "id": "cbd3031a-c204-4c01-b0f9-0cbb0553b8c2",
   "metadata": {},
   "source": [
    "# Sampling of DTFT towards DFT \n",
    "\n",
    "We should create a signal and the corresponding DTFT spectrum for which we have analytical expressions.\n",
    "\n",
    "We can use the exact Hamming window from the tutorial (see Ch. 1.8.4) found at https://github.com/spatialaudio/digital-signal-processing-exercises/blob/master/dft/dft_windowing_tutorial/dft_windowing_tutorial.pdf"
   ]
  },
  {
   "cell_type": "code",
   "execution_count": null,
   "id": "34efc1ff-4d98-4d1b-9baf-eb7ed91cc78c",
   "metadata": {},
   "outputs": [],
   "source": [
    "N_DTFT = 2**3\n",
    "beta = 21/25  # exact Hamming coeff, see\n",
    "k_DTFT = np.arange(N_DTFT)\n",
    "x_DTFT = 1 - beta * np.cos(2*np.pi/N_DTFT*(k_DTFT+1/2))\n",
    "Omega_DTFT = np.arange(-4*np.pi, +4*np.pi, np.pi/2**6)\n",
    "X_DTFT = np.exp(-1j*Omega_DTFT*(N_DTFT-1)/2)*(N_DTFT*diric(Omega_DTFT, N_DTFT) + beta/2 *\n",
    "                                              N_DTFT*diric(Omega_DTFT-2*np.pi/N_DTFT, N_DTFT) + beta/2 *\n",
    "                                              N_DTFT*diric(Omega_DTFT+2*np.pi/N_DTFT, N_DTFT))"
   ]
  },
  {
   "cell_type": "markdown",
   "id": "1702fef6-3d1a-4a02-a505-a4626cc74347",
   "metadata": {},
   "source": [
    "We can zeropad the signal before the DFT. We do this manually, to make sure that we are aware of this concept."
   ]
  },
  {
   "cell_type": "code",
   "execution_count": null,
   "id": "d9e05a32-8066-4998-9f81-0002d2fd8753",
   "metadata": {},
   "outputs": [],
   "source": [
    "# how many samples should be used for zeropadding of the x_DTFT signal\n",
    "# if 0 then the signal has length of N_DTFT, so N_DTFT==N_DFT\n",
    "Nzeropad = 5  \n",
    "\n",
    "x_DFT = np.concatenate([x_DTFT, np.zeros(Nzeropad)])"
   ]
  },
  {
   "cell_type": "markdown",
   "id": "500be1ba-0a01-4496-8e9c-3cc85d6f5229",
   "metadata": {},
   "source": [
    "Then we perform the DFT and calculate at which frequencies $\\Omega_\\mu$ the DFT coefficients occur:"
   ]
  },
  {
   "cell_type": "code",
   "execution_count": null,
   "id": "ade01c09-12cb-4129-be30-85c15684d9b7",
   "metadata": {},
   "outputs": [],
   "source": [
    "# calculate the DFT of the zeropadded signal\n",
    "N_DFT = x_DFT.size\n",
    "#print('DFT size check must be zero:', N_DFT - N_DTFT - Nzeropad)\n",
    "print('DFT block size:', N_DFT)\n",
    "k_DFT = np.arange(N_DFT)\n",
    "X_DFT = fft(x_DFT)\n",
    "Omega_DFT = np.arange(N_DFT) * 2*np.pi/N_DFT"
   ]
  },
  {
   "cell_type": "markdown",
   "id": "a7afa02a-ca07-45fd-960e-df186b3bf251",
   "metadata": {},
   "source": [
    "By plotting the spectrum of the DTFT and the DFT, we see that the DFT coefficients exactly correspond to DTFT values at specific frequencies. This is due to the inherent sampling process, where we **sample the DTFT spectrum** to **precisely obtain the DFT coefficients**. Detailed derivation can be found in the [DFT tutorial in Ch. 1.7](https://github.com/spatialaudio/digital-signal-processing-exercises/blob/master/dft/dft_windowing_tutorial/dft_windowing_tutorial.pdf) \n",
    "\n",
    "**Sampling in one domain** (here the spectrum) corresponds to **'make it periodic' in the other domain** (here the discrete-time signal). The single window function that corresponds to the DTFT spectrum (blue) is thus repeated over and over again (orange), which is required for the DFT's periodicity characteristic. Its periodicity is determined by the DFT size and not necessarily equal to `N_DTFT`.\n",
    "\n",
    "Very **large zeropadding** can be used to obtain many spectral samples and by that a very good **approximation of the DTFT** spectrum **without** using **explicit interpolation** between the DFT coefficients. This is often used in practice, very conveniently by calling `fft(x, N)` where `N` is larger than length of `x`. Note however, that by doing so, we do not increase the spectral resolution and we also do not enhance the capability for spectral discrimination. We gain **no new information by oversampling**.\n",
    "\n",
    "Note that `N_DTFT=N_DFT` (no zeropadding) is the case of **critical sampling**."
   ]
  },
  {
   "cell_type": "code",
   "execution_count": null,
   "id": "34dcec2f-dfa6-4133-a08a-77091a15d482",
   "metadata": {},
   "outputs": [],
   "source": [
    "plt.figure(figsize=(10, 16))\n",
    "ax = plt.subplot(5, 1, 1)\n",
    "plt.plot(Omega_DTFT/np.pi, np.real(X_DTFT), label='DTFT')\n",
    "plt.plot(Omega_DFT/np.pi, np.real(X_DFT), 'C3o', ms=3, label='DFT')\n",
    "plt.plot((Omega_DFT-2*np.pi)/np.pi, np.real(X_DFT), 'C3o', ms=3)\n",
    "plt.plot((Omega_DFT-4*np.pi)/np.pi, np.real(X_DFT), 'C3o', ms=3)\n",
    "plt.plot((Omega_DFT+2*np.pi)/np.pi, np.real(X_DFT), 'C3o', ms=3)\n",
    "plt.xlim(-4, 4)\n",
    "plt.xlabel(r'$\\Omega / \\pi$')\n",
    "plt.ylabel(r'spectrum, real part')\n",
    "plt.legend(loc='upper left')\n",
    "rect = plt.Rectangle((0, -3.5), 2, 12, facecolor='lightgrey')\n",
    "ax.add_patch(rect)\n",
    "plt.text(0.5, 6, '1st period')\n",
    "\n",
    "plt.subplot(5, 1, 2)\n",
    "ax = plt.plot(Omega_DTFT/np.pi, np.imag(X_DTFT))\n",
    "plt.plot(Omega_DFT/np.pi, np.imag(X_DFT), 'C3o', ms=3)\n",
    "plt.plot((Omega_DFT-2*np.pi)/np.pi, np.imag(X_DFT), 'C3o', ms=3)\n",
    "plt.plot((Omega_DFT-4*np.pi)/np.pi, np.imag(X_DFT), 'C3o', ms=3)\n",
    "plt.plot((Omega_DFT+2*np.pi)/np.pi, np.imag(X_DFT), 'C3o', ms=3)\n",
    "plt.xlim(-4, 4)\n",
    "plt.xlabel(r'$\\Omega / \\pi$')\n",
    "plt.ylabel(r'spectrum, imaginary part')\n",
    "\n",
    "plt.subplot(5, 1, 3)\n",
    "ax = plt.plot(Omega_DTFT/np.pi, np.abs(X_DTFT))\n",
    "plt.plot(Omega_DFT/np.pi, np.abs(X_DFT), 'C3o', ms=3)\n",
    "plt.plot((Omega_DFT-2*np.pi)/np.pi, np.abs(X_DFT), 'C3o', ms=3)\n",
    "plt.plot((Omega_DFT-4*np.pi)/np.pi, np.abs(X_DFT), 'C3o', ms=3)\n",
    "plt.plot((Omega_DFT+2*np.pi)/np.pi, np.abs(X_DFT), 'C3o', ms=3)\n",
    "plt.xlim(-4, 4)\n",
    "plt.xlabel(r'$\\Omega / \\pi$')\n",
    "plt.ylabel(r'spectrum, magnitude')\n",
    "\n",
    "plt.subplot(5, 1, 4)\n",
    "plt.stem(k_DTFT, x_DTFT, basefmt='C0:', linefmt='C0:', markerfmt='C0o',\n",
    "         label='DTFT (non-periodic, length = '+str(N_DTFT)+' samples')\n",
    "plt.stem(k_DTFT-N_DTFT, x_DTFT*0, basefmt='C0:',\n",
    "         linefmt='C0:', markerfmt='C0o')\n",
    "plt.stem(k_DTFT+N_DTFT, x_DTFT*0, basefmt='C0:',\n",
    "         linefmt='C0:', markerfmt='C0o')\n",
    "plt.xlabel(r'$k$')\n",
    "plt.ylabel(r'$x_{DTFT}[k]$')\n",
    "plt.legend(loc='upper left')\n",
    "\n",
    "plt.subplot(5, 1, 5)\n",
    "plt.stem(k_DFT, x_DFT, basefmt='C3:', linefmt='C3:', markerfmt='C3o',\n",
    "         label='DFT (periodicity = '+str(N_DFT)+' samples')\n",
    "plt.stem(k_DFT-N_DFT, x_DFT, basefmt='C3:', linefmt='C3:', markerfmt='C3o')\n",
    "plt.stem(k_DFT+N_DFT, x_DFT, basefmt='C3:', linefmt='C3:', markerfmt='C3o')\n",
    "plt.xlabel(r'$k$')\n",
    "plt.ylabel(r'$x_{DFT}[k]$')\n",
    "plt.legend(loc='upper left');"
   ]
  },
  {
   "cell_type": "markdown",
   "id": "93d00e0c-3787-4d51-ab19-8652bb61f182",
   "metadata": {},
   "source": [
    "**Copyright**\n",
    "\n",
    "The notebooks are provided as [Open Educational Resources](https://en.wikipedia.org/wiki/Open_educational_resources). Feel free to use the notebooks for your own purposes. The text is licensed under [Creative Commons Attribution 4.0](https://creativecommons.org/licenses/by/4.0/), the code of the IPython examples under the [MIT license](https://opensource.org/licenses/MIT). Please attribute the work as follows: *Frank Schultz, Digital Signal Processing - A Tutorial Featuring Computational Examples* with the URL https://github.com/spatialaudio/digital-signal-processing-exercises"
   ]
  },
  {
   "cell_type": "code",
   "execution_count": null,
   "id": "0d2e4499-3429-471e-a652-15f9f371ea30",
   "metadata": {},
   "outputs": [],
   "source": []
  },
  {
   "cell_type": "code",
   "execution_count": null,
   "id": "a6385783-a3e4-4315-ac15-38d7ac081930",
   "metadata": {},
   "outputs": [],
   "source": []
  },
  {
   "cell_type": "markdown",
   "id": "404205ef-aad3-48e1-a162-49af418b5a51",
   "metadata": {
    "tags": []
   },
   "source": [
    "Sascha Spors,\n",
    "Professorship Signal Theory and Digital Signal Processing,\n",
    "Institute of Communications Engineering (INT),\n",
    "Faculty of Computer Science and Electrical Engineering (IEF),\n",
    "University of Rostock,\n",
    "Germany\n",
    "\n",
    "# Tutorial Digital Signal Processing\n",
    "\n",
    "**DFT to DTFT Interpolation with the Periodic Sinc Function**,\n",
    "Winter Semester 2021/22 (Course #24505)\n",
    "\n",
    "- lecture: https://github.com/spatialaudio/digital-signal-processing-lecture\n",
    "- tutorial: https://github.com/spatialaudio/digital-signal-processing-exercises\n",
    "\n",
    "Feel free to contact lecturer frank.schultz@uni-rostock.de\n"
   ]
  },
  {
   "cell_type": "code",
   "execution_count": null,
   "id": "8758bce7-b73f-44b5-b43a-25474364fa7f",
   "metadata": {},
   "outputs": [],
   "source": [
    "import numpy as np\n",
    "from matplotlib import pyplot as plt\n",
    "from numpy.fft import fft, ifft\n",
    "#from scipy.fft import fft, ifft\n",
    "from scipy.special import diric"
   ]
  },
  {
   "cell_type": "markdown",
   "id": "85637946-f536-4261-a3a2-cc7cb3cee763",
   "metadata": {},
   "source": [
    "# DFT to DTFT Interpolation with the Periodic Sinc Function\n",
    "\n",
    "The DFT spectrum $X[\\mu]$ can be interpolated towards the DTFT spectrum $X(\\Omega)$ with\n",
    "\n",
    "\\begin{equation}\n",
    "X(\\Omega)=\\sum_{\\mu=0}^{N-1}X[\\mu]\\cdot\\mathrm{e}^{-\\mathrm{j}\\frac{\\left(\\Omega-\\frac{2\\pi}{N}\\mu\\right)(N-1)}{2}}\\cdot\\text{psinc}_N\\left(\\Omega-\\frac{2\\pi}{N}\\mu\\right).\n",
    "\\end{equation}\n",
    "\n",
    "This interpolation implies:\n",
    "- the DFT $X[\\mu]$ stems from a signal $x[k]$ for which periodicity of $N$ is inherent, we assume the first period at $0\\leq k\\leq N-1$ \n",
    "- the DFT spectrum is discrete and $N$ periodic\n",
    "- the DTFT spectrum stems from the signal $x[k]$ for $0\\leq k\\leq N-1$, for all other $k$ is $x[k]=0$, i.e. considering only one period\n",
    "- the DTFT spectrum is continuous and $2\\pi$ periodic, which means that the signal $x[k]$ can not be periodic\n",
    "\n",
    "The interpolation kernel utilises the so-called **periodic sinc function**\n",
    "\n",
    "\\begin{align}\n",
    "\\text{psinc}_N(\\Omega)=\\begin{cases}\\frac{1}{N}\\cdot\\frac{\\sin\\left(\\frac{N}{2}\\Omega\\right)}{\\sin\\left(\\frac{1}{2}\\Omega\\right)}&\\text{for }\\Omega\\neq2\\pi m\\\\\n",
    "(-1)^{m(N-1)}&\\text{for }\\Omega=2\\pi m\\end{cases},\\,\\,m\\in\\mathbb{Z},\n",
    "\\end{align}\n",
    "\n",
    "which is also known as aliased sinc and Dirichlet function.\n",
    "\n",
    "Below, we give an example graph for $\\text{psinc}_N(\\Omega)$.\n",
    "Note that the orange dots indicate the DFT eigenfrequencies."
   ]
  },
  {
   "cell_type": "code",
   "execution_count": null,
   "id": "682eb321-5899-4dc9-bf92-e6615540418a",
   "metadata": {},
   "outputs": [],
   "source": [
    "def dft2dtft(X, W):\n",
    "    N = len(X)\n",
    "    Xi = np.zeros(len(W), dtype='complex')\n",
    "    for i, Omega in enumerate(W):\n",
    "        for mu_dft in range(N):\n",
    "            Xi[i] += X[mu_dft] *\\\n",
    "                np.exp(-1j/2*(Omega - 2*np.pi/N*mu_dft)*(N-1)) *\\\n",
    "                diric(Omega - 2*np.pi/N*mu_dft, N)\n",
    "    return Xi"
   ]
  },
  {
   "cell_type": "code",
   "execution_count": null,
   "id": "207dba72-07c0-47c4-a53c-56ec23981bb7",
   "metadata": {},
   "outputs": [],
   "source": [
    "K = 3\n",
    "N_DFT = 2**K\n",
    "Omega_DFT = np.arange(-2*N_DFT, 2*N_DFT) * 2*np.pi/N_DFT\n",
    "N = 2**(K+4)\n",
    "Omega = np.arange(-2*N, 2*N) * 2*np.pi/N\n",
    "psinc_DFT = diric(Omega_DFT, N_DFT)\n",
    "psinc = diric(Omega, N_DFT)\n",
    "\n",
    "plt.plot(Omega, psinc, label='psinc function')\n",
    "plt.plot(Omega_DFT, psinc_DFT, 'o', label='DFT bins')\n",
    "plt.xlim(-4*np.pi, 4*np.pi)\n",
    "plt.xticks(np.arange(-4, 5, 1)*np.pi)\n",
    "plt.xlabel(r'$\\Omega$')\n",
    "plt.ylabel(r'psinc($\\Omega$)')\n",
    "plt.title('psinc for '+str(N_DFT)+'-point DFT')\n",
    "plt.legend()\n",
    "plt.grid(True)"
   ]
  },
  {
   "cell_type": "markdown",
   "id": "04ad919f-9641-48e2-bb67-a465b1207d50",
   "metadata": {},
   "source": [
    "## Task: DFT Analysis Using a Rectangular Window\n",
    "\n",
    "A complex signal\n",
    "\n",
    "- $x[k]=\\mathrm{exp}(\\mathrm{j}(\\Omega k + \\frac{\\pi}{\\pi}))$ with\n",
    "- $\\Omega=4\\cdot\\frac{2\\pi}{N}$, \n",
    "- $N=8$\n",
    "\n",
    "is to be analysed with the DFT \n",
    "\\begin{align}\n",
    "X[\\mu]=\\sum_{k=0}^{N-1}x[k]\\cdot\\mathrm{e}^{-\\mathrm{j}\\frac{2\\pi}{N}k\\mu}\n",
    "\\end{align}\n",
    "for $0\\leq k \\leq N-1$.\n",
    "\n",
    "Furthermore, assume that $x[k]$ results from continuous-time signal $x(t)$ using sampling frequency of $f_s=10$ Hz.\n",
    "\n",
    "1. Plot the discrete-time signals that correspond to the DFT and the DTFT spectrum.\n",
    "\n",
    "2. Calculate the DFT spectrum $X[\\mu]$ of $x[k]$ and visualise the real and imaginary part as well as the magnitude and the phase of $X[\\mu]$ over $0\\leq\\mu\\leq N-1$.\n",
    "\n",
    "3. Implement the above mentioned interpolation towards the DTFT and visualise the resulting magnitude spectra $|X[\\mu]|$, $|X(\\Omega)|$ over frequency axes $\\mu$, $\\Omega$ as well as the physical frequency $f$."
   ]
  },
  {
   "cell_type": "markdown",
   "id": "922ce4e0-9ba5-4e75-bb32-ae54a54c1bc1",
   "metadata": {},
   "source": [
    "## Task 1: Generate Signal and Plot"
   ]
  },
  {
   "cell_type": "code",
   "execution_count": null,
   "id": "6685b028-792b-4305-b2a9-0bf089278eb9",
   "metadata": {},
   "outputs": [],
   "source": [
    "N = 8\n",
    "\n",
    "Om = 4 * 2*np.pi/N  # play with the factor 4\n",
    "\n",
    "k = np.arange(N)\n",
    "x = np.exp(1j*(Om*k+1))  # pi/pi=1\n",
    "\n",
    "koffs = [-2, -1, 1, 2]\n",
    "plt.subplot(2, 1, 1)\n",
    "plt.plot(k, x.real, 'C0o-', label='real', ms=5)\n",
    "plt.plot(k, x.imag, 'C1o-', label='imag', ms=5)\n",
    "# the DFT spectrum corresponds to a periodic signal of period N\n",
    "# we exemplarily indicate this\n",
    "for koffsi in koffs:\n",
    "    plt.plot(k+koffsi*N, x.real, 'C0o-', ms=3)\n",
    "    plt.plot(k+koffsi*N, x.imag, 'C1o-', ms=3)\n",
    "plt.xlim(koffs[0]*N, koffs[-1]*N+N-1)\n",
    "plt.xlabel(r'$k$')\n",
    "plt.ylabel(r'$x_\\mathrm{DFT}[k]$')\n",
    "plt.legend()\n",
    "plt.grid(True)\n",
    "plt.subplot(2, 1, 2)\n",
    "plt.plot(k, x.real, 'C0o-', ms=5)\n",
    "plt.plot(k, x.imag, 'C1o-', ms=5)\n",
    "# the DTFT spectrum corresponds to singular event of length N for k=0...N-1\n",
    "# we exemplarily indicate this\n",
    "for koffsi in koffs:\n",
    "    plt.plot(k+koffsi*N, 0*x.real, 'C0o-', ms=3)\n",
    "    plt.plot(k+koffsi*N, 0*x.imag, 'C1o-', ms=3)\n",
    "plt.xlim(koffs[0]*N, koffs[-1]*N+N-1)\n",
    "plt.xlabel(r'$k$')\n",
    "plt.ylabel(r'$x_\\mathrm{DTFT}[k]$')\n",
    "plt.grid(True)"
   ]
  },
  {
   "cell_type": "markdown",
   "id": "b871c251-0d7d-4c3e-951d-cd1d6759a32a",
   "metadata": {},
   "source": [
    "## Task 2: DFT and Plot"
   ]
  },
  {
   "cell_type": "code",
   "execution_count": null,
   "id": "45a982d6-6bbf-482c-8dc4-18d4f9271c8c",
   "metadata": {},
   "outputs": [],
   "source": [
    "mu = np.arange(N)\n",
    "w = np.ones(N)\n",
    "\n",
    "# optional playground for windowing\n",
    "# see dft_windowing_tutorial.pdf for the equations of these windows\n",
    "# note that the scipy.signal.windows with same name behave different !\n",
    "# thus standardised names does NOT imply standardised characteristics\n",
    "if False:\n",
    "    # Hann, two unused zeros\n",
    "    w = (1 - np.cos(2*np.pi/N*(k+1/2))) / 2 \n",
    "    # Hamming, put notch into first sidelobe, thus all zeros used\n",
    "    w = 0.54 - 0.46 * np.cos(2*np.pi/N*(k+1/2))\n",
    "\n",
    "X = fft(x*w)"
   ]
  },
  {
   "cell_type": "code",
   "execution_count": null,
   "id": "062efa4b-0cf9-4f19-8ab4-d8df665010d8",
   "metadata": {},
   "outputs": [],
   "source": [
    "plt.figure(figsize=(8, 4))\n",
    "\n",
    "plt.subplot(2, 2, 1)\n",
    "plt.plot(mu, np.real(X), 'o')\n",
    "plt.xlim(0, N-1)\n",
    "plt.xlabel(r'$\\mu$')\n",
    "plt.ylabel(r'$\\Re(X[\\mu])$')\n",
    "plt.grid(True)\n",
    "\n",
    "plt.subplot(2, 2, 2)\n",
    "plt.plot(mu, np.imag(X), 'o')\n",
    "plt.xlim(0, N-1)\n",
    "plt.xlabel(r'$\\mu$')\n",
    "plt.ylabel(r'$\\Im(X[\\mu])$')\n",
    "plt.grid(True)\n",
    "\n",
    "plt.subplot(2, 2, 3)\n",
    "plt.plot(mu, np.abs(X), 'o')\n",
    "plt.xlim(0, N-1)\n",
    "plt.xlabel(r'$\\mu$')\n",
    "plt.ylabel(r'$|X[\\mu]|$')\n",
    "plt.grid(True)\n",
    "\n",
    "# note that only the phase at mu=4 is a meaningful result (=1)\n",
    "# all other values are due to numerical noise / trash\n",
    "# since Re and Im are approx zero at these mu\n",
    "plt.subplot(2, 2, 4)\n",
    "plt.plot(mu, np.angle(X), 'o')\n",
    "plt.xlim(0, N-1)\n",
    "plt.xlabel(r'$\\mu$')\n",
    "plt.ylabel(r'$\\angle X[\\mu]$')\n",
    "plt.grid(True)"
   ]
  },
  {
   "cell_type": "markdown",
   "id": "dd7928f0-f1a7-48fa-9c55-3348aad031dd",
   "metadata": {},
   "source": [
    "## Task 3: DFT -> DTFT Interpolation, Plot"
   ]
  },
  {
   "cell_type": "code",
   "execution_count": null,
   "id": "17052461-d10d-4851-a1e1-9e9154e96940",
   "metadata": {},
   "outputs": [],
   "source": [
    "fs = 10\n",
    "Ni = 2**8\n",
    "W = np.arange(Ni) * 2*np.pi/Ni  # Omega for which to interpolate to DTFT\n",
    "f = W / (2*np.pi) * fs  # physical frequency based on W using fs\n",
    "mui = W / (2*np.pi) * N  # frequency vector normalized to integer frequencies\n",
    "Xi = dft2dtft(X, W)  # DTFT interpolation from DFT\n",
    "\n",
    "plt.figure(figsize=(10, 10))\n",
    "\n",
    "plt.subplot(3, 2, 1)\n",
    "plt.plot(mu, np.abs(X), 'C0o', label='DFT')\n",
    "plt.plot(mui, np.abs(Xi), 'C1-', label='DTFT')\n",
    "plt.xlabel(r'$\\mu$')\n",
    "plt.ylabel('|X|')\n",
    "plt.legend()\n",
    "plt.grid(True)\n",
    "\n",
    "plt.subplot(3, 2, 2)\n",
    "plt.plot(mu, 20*np.log10(np.abs(X)), 'C0o', label='DFT')\n",
    "plt.plot(mui, 20*np.log10(np.abs(Xi)), 'C1-', label='DTFT')\n",
    "plt.ylim(-100, 20)\n",
    "plt.xlabel(r'$\\mu$')\n",
    "plt.ylabel('20lg|X| / dB')\n",
    "plt.grid(True)\n",
    "\n",
    "plt.subplot(3, 2, 3)\n",
    "plt.plot(2*np.pi/N*mu, np.abs(X), 'C0o', label='DFT')\n",
    "plt.plot(W, np.abs(Xi), 'C1-', label='DTFT')\n",
    "plt.xlabel(r'$\\Omega$')\n",
    "plt.ylabel('|X|')\n",
    "plt.grid(True)\n",
    "\n",
    "plt.subplot(3, 2, 4)\n",
    "plt.plot(2*np.pi/N*mu, 20*np.log10(np.abs(X)), 'C0o', label='DFT')\n",
    "plt.plot(W, 20*np.log10(np.abs(Xi)), 'C1-', label='DTFT')\n",
    "plt.ylim(-100, 20)\n",
    "plt.xlabel(r'$\\Omega$')\n",
    "plt.ylabel('20lg|X| / dB')\n",
    "plt.grid(True)\n",
    "\n",
    "plt.subplot(3, 2, 5)\n",
    "plt.plot(mu*fs/N, np.abs(X), 'C0o', label='DFT')\n",
    "plt.plot(f, np.abs(Xi), 'C1-', label='DTFT')\n",
    "plt.xlabel(r'f / Hz')\n",
    "plt.ylabel('|X|')\n",
    "plt.grid(True)\n",
    "\n",
    "plt.subplot(3, 2, 6)\n",
    "plt.plot(mu*fs/N, 20*np.log10(np.abs(X)), 'C0o', label='DFT')\n",
    "plt.plot(f, 20*np.log10(np.abs(Xi)), 'C1-', label='DTFT')\n",
    "plt.ylim(-100, 20)\n",
    "plt.xlabel(r'f / Hz')\n",
    "plt.ylabel('20lg|X| / dB')\n",
    "plt.grid(True)"
   ]
  },
  {
   "cell_type": "markdown",
   "id": "b24c1f7e-91cb-4f6e-a807-9ab20e3a6fb3",
   "metadata": {},
   "source": [
    "We observe that 7 of 8 DFT coeefficients are precisely zero, and only $|X[\\mu=4]|=8$. This is intentional and is expected for the chosen signal that oscillates with exactly a DFT eigenfrequency, here half of the sampling frequency.\n",
    "\n",
    "The code above allows for two more playgrounds:\n",
    "\n",
    "- We might change $\\Omega=1\\cdot\\frac{2\\pi}{N}$, $\\Omega=2\\cdot\\frac{2\\pi}{N}$, $\\Omega=3\\cdot\\frac{2\\pi}{N}$\n",
    "and observe how the spectrum moves around the frequency axis, however the shape is preserved.\n",
    "The main lobe precisely corresponds to the chosen $\\mu$.\n",
    "\n",
    "- We might change $\\Omega=1.5\\cdot\\frac{2\\pi}{N}$, $\\Omega=2.5\\cdot\\frac{2\\pi}{N}$, $\\Omega=3.5\\cdot\\frac{2\\pi}{N}$\n",
    "and observe that - since these frequencies are **no** DFT eigenfrequencies - now all DFT coefficients exhibit energy. This suggests frequencies in the signal which are actually not there, but originate from cutting the signal to the chosen block size $N$. The effect is known as **leakage effect**.\n",
    "\n",
    "- In task 2 we might optionally apply a window to the signal. The plots for task 3 then reveal how the leakage effect is reduced but the main lobe gets broader.\n",
    "Since we have chosen a mono-frequent, complex oscillation as input signal to the DFT / DTFT, the actual window spectrum can be directly seen in the plots."
   ]
  },
  {
   "cell_type": "markdown",
   "id": "6ee1ec09-2d34-40c1-b593-182c22c18a4a",
   "metadata": {},
   "source": [
    "**Copyright**\n",
    "\n",
    "The notebooks are provided as [Open Educational Resources](https://en.wikipedia.org/wiki/Open_educational_resources). Feel free to use the notebooks for your own purposes. The text is licensed under [Creative Commons Attribution 4.0](https://creativecommons.org/licenses/by/4.0/), the code of the IPython examples under the [MIT license](https://opensource.org/licenses/MIT). Please attribute the work as follows: *Frank Schultz, Digital Signal Processing - A Tutorial Featuring Computational Examples* with the URL https://github.com/spatialaudio/digital-signal-processing-exercises"
   ]
  },
  {
   "cell_type": "code",
   "execution_count": null,
   "id": "0709f464-304d-45b1-aafb-1537be86e1af",
   "metadata": {},
   "outputs": [],
   "source": []
  },
  {
   "cell_type": "markdown",
   "id": "02d6dc80-14e6-4fca-a09b-5592219bc1e7",
   "metadata": {
    "tags": []
   },
   "source": [
    "Sascha Spors,\n",
    "Professorship Signal Theory and Digital Signal Processing,\n",
    "Institute of Communications Engineering (INT),\n",
    "Faculty of Computer Science and Electrical Engineering (IEF),\n",
    "University of Rostock,\n",
    "Germany\n",
    "\n",
    "# Tutorial Digital Signal Processing\n",
    "\n",
    "**DFT and Windowing**,\n",
    "Winter Semester 2021/22 (Course #24505)\n",
    "\n",
    "- lecture: https://github.com/spatialaudio/digital-signal-processing-lecture\n",
    "- tutorial: https://github.com/spatialaudio/digital-signal-processing-exercises\n",
    "\n",
    "Feel free to contact lecturer frank.schultz@uni-rostock.de"
   ]
  },
  {
   "cell_type": "code",
   "execution_count": null,
   "id": "9bedf231-33d5-419b-b43c-5e1de7baa541",
   "metadata": {},
   "outputs": [],
   "source": [
    "import numpy as np\n",
    "import matplotlib.pyplot as plt\n",
    "from numpy.fft import fft, ifft, fftshift\n",
    "#from scipy.fft import fft, ifft, fftshift\n",
    "from scipy.signal.windows import hann, flattop"
   ]
  },
  {
   "cell_type": "markdown",
   "id": "ecd12342-841f-450f-a59c-b904b54f7956",
   "metadata": {},
   "source": [
    "## Task a)\n",
    "\n",
    "Generate two sine signals of $f_1=200$ Hz and $f_2=200.25$ Hz and amplitude $|x[k]|_\\text{max}=1$ for the sampling frequency $f_s=800$ Hz in the range of $0\\leq k<N=1600$."
   ]
  },
  {
   "cell_type": "code",
   "execution_count": null,
   "id": "14211459-d74e-49da-9a56-8df188e32de8",
   "metadata": {},
   "outputs": [],
   "source": [
    "# a)\n",
    "f1 = 200  # Hz\n",
    "f2 = 200.25  # Hz\n",
    "fs = 800  # Hz\n",
    "N = 1600\n",
    "k = np.arange(N)\n",
    "x1 = np.sin(2*np.pi*f1/fs*k)\n",
    "x2 = np.sin(2*np.pi*f2/fs*k)"
   ]
  },
  {
   "cell_type": "markdown",
   "id": "b1ea4da6-5f99-4eae-a062-8fbb3ab69bf0",
   "metadata": {},
   "source": [
    "## Task b) \n",
    "\n",
    "Generate\n",
    "- a rectangular window, \n",
    "- a Hann window and\n",
    "- a flat top window\n",
    "\n",
    "with the same lengths as the sine signals. Note: we analyze signals, so we use `sym=False` (periodic window) rather than `sym=True` (symmetric window, used for FIR filter design). Plot the obtained window signals over $k$."
   ]
  },
  {
   "cell_type": "code",
   "execution_count": null,
   "id": "9cb403e1-1264-42ee-99d4-9d4a2a3c3fc9",
   "metadata": {},
   "outputs": [],
   "source": [
    "# b)\n",
    "wrect = np.ones(N)\n",
    "whann = hann(N, sym=False)\n",
    "wflattop = flattop(N, sym=False)\n",
    "plt.plot(wrect, 'C0o-', ms=3, label='rect')\n",
    "plt.plot(whann, 'C1o-', ms=3, label='hann')\n",
    "plt.plot(wflattop, 'C2o-', ms=3, label='flattop')\n",
    "plt.xlabel(r'$k$')\n",
    "plt.ylabel(r'window $w[k]$')\n",
    "plt.xlim(0, N)\n",
    "plt.legend()\n",
    "plt.grid(True)"
   ]
  },
  {
   "cell_type": "markdown",
   "id": "a76434e3-42ec-4518-92c8-d51d3083eee0",
   "metadata": {},
   "source": [
    "## Task c)\n",
    "\n",
    " Window both sine signals `x1` and `x2` with the three windows and calculate the corresponding DFT spectra using FFT algorithm either from `numpy.fft` or from `scipy.fft` package."
   ]
  },
  {
   "cell_type": "code",
   "execution_count": null,
   "id": "fe3bc552-1bfc-4567-83dd-b295d3008058",
   "metadata": {},
   "outputs": [],
   "source": [
    "# c)\n",
    "X1wrect = fft(x1)\n",
    "X2wrect = fft(x2)\n",
    "\n",
    "X1whann = fft(x1*whann)\n",
    "X2whann = fft(x2*whann)\n",
    "\n",
    "X1wflattop = fft(x1*wflattop)\n",
    "X2wflattop = fft(x2*wflattop)"
   ]
  },
  {
   "cell_type": "markdown",
   "id": "83827284-019b-4abe-9fb3-7f00ec8e22cb",
   "metadata": {},
   "source": [
    "## Task d)\n",
    "\n",
    "Plot the **normalized** level of the DFT spectra in between 175 Hz and 225 Hz and -50 and 0 dB.\n",
    "\n",
    "Note that we are dealing with analysis of sine signals, so a convenient **normalization** should be applied for the shown level. This can be achieved by making the result independent from the chosen DFT length $N$. Furthermore, considering negative and positive frequency bins, multiplying with 2 yields normalization to sine signal amplitudes. Since the frequency bin for 0 Hz and (if $N$ is even) for $f_s/2$ exists only once, multiplication with 2 is not required for these bins."
   ]
  },
  {
   "cell_type": "markdown",
   "id": "5a0fb4c4-93a0-4b12-9e0b-5352273b3ce6",
   "metadata": {},
   "source": [
    "### Preparations for solution\n",
    "\n",
    "It is meaningful to define a function that returns the level of DFT in term of sine signal normalization.\n",
    "\n",
    "Furthermore, the DFT frequency vector should be set up."
   ]
  },
  {
   "cell_type": "code",
   "execution_count": null,
   "id": "551a9342-79c5-4d7c-b53d-c9020d4b9dbc",
   "metadata": {},
   "outputs": [],
   "source": [
    "# this handling is working for N even and odd:\n",
    "def fft2db(X):\n",
    "    N = X.size\n",
    "    Xtmp = 2/N * X  # independent of N, norm for sine amplitudes\n",
    "    Xtmp[0] *= 1/2  # bin for f=0 Hz is existing only once, so cancel *2 from above\n",
    "    if N % 2 == 0:  # fs/2 is included as a bin\n",
    "        # fs/2 bin is existing only once, so cancel *2 from above\n",
    "        Xtmp[N//2] = Xtmp[N//2] / 2\n",
    "    return 20*np.log10(np.abs(Xtmp))  # in dB\n",
    "\n",
    "\n",
    "# setup of frequency vector this way is independent of N even/odd:\n",
    "df = fs/N\n",
    "f = np.arange(N)*df"
   ]
  },
  {
   "cell_type": "markdown",
   "id": "13533fec-5074-4a9b-9747-3e2f7a5af456",
   "metadata": {},
   "source": [
    "The proposed handling is independent of N odd/even and returns the whole DFT spectrum. Since we normalized for physical sine frequencies, only the part from 0 Hz to fs/2 is valid.\n",
    "So, make sure that spectrum returned from fft2db is only plotted up to fs/2.\n",
    "\n",
    "### Solution"
   ]
  },
  {
   "cell_type": "code",
   "execution_count": null,
   "id": "2498788d-60a9-4f31-926a-bda68fc28d04",
   "metadata": {},
   "outputs": [],
   "source": [
    "plt.figure(figsize=(16/1.5, 10/1.5))\n",
    "plt.subplot(3, 1, 1)\n",
    "plt.plot(f, fft2db(X1wrect), 'C0o-', ms=3, label='best case rect')\n",
    "plt.plot(f, fft2db(X2wrect), 'C3o-', ms=3, label='worst case rect')\n",
    "plt.xlim(175, 225)\n",
    "plt.ylim(-60, 0)\n",
    "plt.xticks(np.arange(175, 230, 5))\n",
    "plt.yticks(np.arange(-60, 10, 10))\n",
    "plt.legend()\n",
    "#plt.xlabel('f / Hz')\n",
    "plt.ylabel('A / dB')\n",
    "plt.grid(True)\n",
    "\n",
    "plt.subplot(3, 1, 2)\n",
    "plt.plot(f, fft2db(X1whann), 'C0o-', ms=3, label='best case hann')\n",
    "plt.plot(f, fft2db(X2whann), 'C3o-', ms=3, label='worst case hann')\n",
    "plt.xlim(175, 225)\n",
    "plt.ylim(-60, 0)\n",
    "plt.xticks(np.arange(175, 230, 5))\n",
    "plt.yticks(np.arange(-60, 10, 10))\n",
    "plt.legend()\n",
    "#plt.xlabel('f / Hz')\n",
    "plt.ylabel('A / dB')\n",
    "plt.grid(True)\n",
    "\n",
    "plt.subplot(3, 1, 3)\n",
    "plt.plot(f, fft2db(X1wflattop), 'C0o-', ms=3, label='best case flattop')\n",
    "plt.plot(f, fft2db(X2wflattop), 'C3o-', ms=3, label='worst case flattop')\n",
    "plt.xlim(175, 225)\n",
    "plt.ylim(-60, 0)\n",
    "plt.xticks(np.arange(175, 230, 5))\n",
    "plt.yticks(np.arange(-60, 10, 10))\n",
    "plt.legend()\n",
    "plt.xlabel('f / Hz')\n",
    "plt.ylabel('A / dB')\n",
    "plt.grid(True)"
   ]
  },
  {
   "cell_type": "markdown",
   "id": "3bb71fcd-0497-41ff-9d24-ceb78b943633",
   "metadata": {},
   "source": [
    "## Task e)\n",
    "Plot the level of the window DTFT spectra normalized to their mainlobe maximum for $-\\pi \\leq \\Omega \\leq \\pi$ and -120 dB to 0 dB. Use zero-padding or the formulas for interpolation towards the DTFT to achieve a sufficiently high resolution of the spectra. To inspect the mainlobe in detail spectra might be plotted within the range $-\\pi/100 \\leq \\Omega \\leq \\pi/100$ as well."
   ]
  },
  {
   "cell_type": "markdown",
   "id": "342ecf7f-7197-4492-afdb-80df3074d47e",
   "metadata": {},
   "source": [
    "### Preparations for solution\n",
    "\n",
    "It is again meaningful to define a function that returns the quasi-DTFT and the evaluated digital frequencies.\n",
    "Here is a proposal using zeropadding (to obtain DTFT-like frequency resolution) and fftshift (to bring mainlobe into the middle of numpy array), which then requires $\\Omega$ from $-\\pi$ to $\\pi$. "
   ]
  },
  {
   "cell_type": "code",
   "execution_count": null,
   "id": "d34aa279-8582-4077-98d7-dd3528129c28",
   "metadata": {},
   "outputs": [],
   "source": [
    "def winDTFTdB(w):\n",
    "    N = w.size  # get window length\n",
    "    Nz = 100*N  # zeropadding length\n",
    "    W = np.zeros(Nz)  # allocate RAM\n",
    "    W[0:N] = w  # insert window\n",
    "    W = np.abs(fftshift(fft(W)))  # fft, fftshift and magnitude\n",
    "    W /= np.max(W)  # normalize to maximum, i.e. the mainlobe maximum here\n",
    "    W = 20*np.log10(W)  # get level in dB\n",
    "    # get appropriate digital frequencies\n",
    "    Omega = 2*np.pi/Nz*np.arange(Nz) - np.pi  # also shifted\n",
    "    return Omega, W"
   ]
  },
  {
   "cell_type": "code",
   "execution_count": null,
   "id": "4313e8aa-32fb-4ee1-9831-ecb485a7ca40",
   "metadata": {},
   "outputs": [],
   "source": [
    "plt.plot([-np.pi, +np.pi], [-3.01, -3.01], 'gray')  # mainlobe bandwidth\n",
    "plt.plot([-np.pi, +np.pi], [-13.3, -13.3], 'gray')  # rect max sidelobe\n",
    "plt.plot([-np.pi, +np.pi], [-31.5, -31.5], 'gray')  # hann max sidelobe\n",
    "plt.plot([-np.pi, +np.pi], [-93.6, -93.6], 'gray')  # flattop max sidelobe\n",
    "Omega, W = winDTFTdB(wrect)\n",
    "plt.plot(Omega, W, label='rect')\n",
    "Omega, W = winDTFTdB(whann)\n",
    "plt.plot(Omega, W, label='hann')\n",
    "Omega, W = winDTFTdB(wflattop)\n",
    "plt.plot(Omega, W, label='flattop')\n",
    "plt.xlim(-np.pi, np.pi)\n",
    "plt.ylim(-120, 10)\n",
    "\n",
    "plt.xlim(-np.pi/100, np.pi/100)  # zoom into mainlobe\n",
    "\n",
    "plt.xlabel(r'$\\Omega$')\n",
    "plt.ylabel(r'|W($\\Omega$)| / dB')\n",
    "plt.legend()\n",
    "plt.grid(True)"
   ]
  },
  {
   "cell_type": "markdown",
   "id": "0556088a-df9f-4db4-8c5e-2d33e3814398",
   "metadata": {},
   "source": [
    "## Task f)\n",
    "\n",
    "Interpret the results of d) with the help of e) regarding the best and worst case for the different windows. Why do the results for the signals with frequencies $f_1$ and $f_2$ differ?\n",
    "\n",
    "This is the key question of the windowing concept. Check the DFT/window script for possible explanations."
   ]
  },
  {
   "cell_type": "markdown",
   "id": "cc1ce1af-c562-4d20-bcd6-017e23f903b9",
   "metadata": {},
   "source": [
    "## Task g)\n",
    "\n",
    "1. Determine the width of the main lobe (at the -3.01 dB cut frequencies) in terms of physical frequency and digital frequency.\n",
    "\n",
    "2. Determine the attenuation of the highest side lobe from the window spectra.\n",
    "\n",
    "For 1. The mainlobe bandwidth can be computed comparably easy, assumed that zeropadding resolution is high enough. Just find that Omega, for which W gets larger than -3 dB. Starting from Omega=-pi, one can not miss it. Then doubling the found value gives the bandwidth."
   ]
  },
  {
   "cell_type": "code",
   "execution_count": null,
   "id": "57769118-73a3-409e-9ba3-3317c4be4dd4",
   "metadata": {},
   "outputs": [],
   "source": [
    "Omega, W = winDTFTdB(wrect)\n",
    "BW = Omega[W >= -3.01]\n",
    "print('rect window mainlobe bandwidth is',\n",
    "      (-BW[0]*2)*fs/(2*np.pi), 'Hz,', (-BW[0]*2), 'rad')\n",
    "\n",
    "Omega, W = winDTFTdB(whann)\n",
    "BW = Omega[W >= -3.01]\n",
    "print('hann window mainlobe bandwidth is',\n",
    "      (-BW[0]*2)*fs/(2*np.pi), 'Hz,', (-BW[0]*2), 'rad')\n",
    "\n",
    "Omega, W = winDTFTdB(wflattop)\n",
    "BW = Omega[W >= -3.01]\n",
    "print('flattop window mainlobe bandwidth is',\n",
    "      (-BW[0]*2)*fs/(2*np.pi), 'Hz,', (-BW[0]*2), 'rad')"
   ]
  },
  {
   "cell_type": "markdown",
   "id": "d9762443-812f-42b3-9705-c6a42a00de65",
   "metadata": {},
   "source": [
    "For 2. This is a little bit more tricky, since you should find it starting from the mainlobe, falling into the first zero and then find the maximum level of the sidelobes. Think about how to compute this elegantly.\n",
    "\n",
    "The plot above for task e) indicated the sidelobe levels with gray lines. You'll find that maximum sidelobe level is -13.3 dB for rectangular (always equal to first sidelobe), -31.5 dB for Hann (always equal to first sidelobe), -93.6 dB for Flattop window compared to the 0dB mainlobe maximum."
   ]
  },
  {
   "cell_type": "markdown",
   "id": "176e91e1-3f3a-4179-a243-b8a09fca02b1",
   "metadata": {},
   "source": [
    "## Task h)\n",
    "\n",
    "Explain for which signal analysis task the rectangular window and the flat top window should be used.\n",
    "\n",
    "- Rectangular has good frequency resolution (most narrow mainlobe), but bad sidelobe suppression, thus deviations from DFT eigenfrequencies lead to large estimation errors of the spectrum's magnitude. This window exhibits the largest leakage effect but best frequency resolution.\n",
    "\n",
    "- Flattop has bad frequency resolution (wide mainlobe), but good sidelobe suppression, thus deviations from DFT eigenfrequencies lead to small estimation errors of the spectrum's magnitude. This window has very low leakgave effect but very bad frequency resolution.\n",
    "\n",
    "So, use a rectangular window if frequency resolution must be very high, use a flattop window if magnitude estimation error must be small.\n"
   ]
  },
  {
   "cell_type": "markdown",
   "id": "77971911-e50c-45be-a01c-fd60148fb7f7",
   "metadata": {},
   "source": [
    "## Task i)\n",
    "\n",
    "Do some research on your own: Which advantages exhibit the Kaiser-Bessel and the Dolph-Chebyshev windows compared to the so far used windows here?\n",
    "\n",
    "The Kaiser-Bessel and the Dolph-Chebyshev window are members of the so called parametric windows family.\n",
    "See the Jupyter notebook [parametric_windows.ipynb](parametric_windows.ipynb) for details.\n",
    "We have seen that mainlobe width and sidelobe suppression is always a trade-off. The rect, hann and flattop window are so called non-parametric windows only having window length $N$ as parameter and by that exhibit a certain, fixed mainlobe/sidelobe trade-off by design.\n",
    "\n",
    "Parametric windows, besides length $N$ (which is often fixed due to measurement constraints), allow to change at least one more parameter, which precisely varies the trade-off between mainlobe width and sidelobe suppression. The specific trade-off characteristic follows a certain design criterion.\n",
    "For example the Dolph-Chebyshev window asks for equal desired sidelobe level, whereas the Kaiser-Bessel asks for mainlobe energy concentration for a desired bandwidth. "
   ]
  },
  {
   "cell_type": "markdown",
   "id": "7169f175-5e67-4135-b1bd-215ac4771e7a",
   "metadata": {},
   "source": [
    "**Copyright**\n",
    "\n",
    "The notebooks are provided as [Open Educational Resources](https://en.wikipedia.org/wiki/Open_educational_resources). Feel free to use the notebooks for your own purposes. The text is licensed under [Creative Commons Attribution 4.0](https://creativecommons.org/licenses/by/4.0/), the code of the IPython examples under the [MIT license](https://opensource.org/licenses/MIT). Please attribute the work as follows: *Frank Schultz, Digital Signal Processing - A Tutorial Featuring Computational Examples* with the URL https://github.com/spatialaudio/digital-signal-processing-exercises"
   ]
  },
  {
   "cell_type": "code",
   "execution_count": null,
   "id": "df2c1f55-5e45-4c41-83e0-debccb1586f4",
   "metadata": {},
   "outputs": [],
   "source": []
  },
  {
   "cell_type": "markdown",
   "id": "0f45ed53-64eb-4f88-a1ab-28264180c3b1",
   "metadata": {},
   "source": [
    "Sascha Spors,\n",
    "Professorship Signal Theory and Digital Signal Processing,\n",
    "Institute of Communications Engineering (INT),\n",
    "Faculty of Computer Science and Electrical Engineering (IEF),\n",
    "University of Rostock,\n",
    "Germany\n",
    "\n",
    "# Tutorial Digital Signal Processing\n",
    "\n",
    "**DFT/DTFT and Windowing for Superposition of 2 Complex Exponential Signals**,\n",
    "Winter Semester 2021/22 (Course #24505)\n",
    "\n",
    "- lecture: https://github.com/spatialaudio/digital-signal-processing-lecture\n",
    "- tutorial: https://github.com/spatialaudio/digital-signal-processing-exercises\n",
    "\n",
    "Feel free to contact lecturer frank.schultz@uni-rostock.de"
   ]
  },
  {
   "cell_type": "markdown",
   "id": "e1153820-02f7-4523-a553-518ceef765b8",
   "metadata": {},
   "source": [
    "# DTFT for Windowing\n",
    "\n",
    "The signal $x[k]$ over time index $k$ is being windowed by $w[k]$, for which the corresponding **circular convolution** holds in DTFT domain\n",
    "\n",
    "\\begin{equation}\n",
    "x[k] \\cdot w[k] \\circ-\\bullet \\frac{1}{2\\pi} X(\\Omega) \\circledast_{2\\pi} W(\\Omega)\n",
    "\\end{equation}\n",
    "\n",
    "Typically for the window function we choose non-zero values in $w[k]$ for $0 \\leq k \\leq N-1$ and $w[k]=0$ elsewhere.\n",
    "\n",
    "Thus, we deal with a length $N$ signal that is non-zero at $0 \\leq k \\leq N-1$.\n",
    "We can apply an $N$ DFT onto this signal $x_w[k] = x[0 \\leq k \\leq N-1] \\cdot w[0 \\leq k \\leq N-1]$ to obtain its DFT spectrum $X_w[\\mu]$ with the baseband $0\\leq\\mu\\leq N-1$.\n",
    "\n",
    "We are allowed to interpolate the DTFT spectrum from the DFT spectrum, (only) if we assume that $x_w[k]$ is a single occurring sequence, but is not periodic in $N$."
   ]
  },
  {
   "cell_type": "markdown",
   "id": "056bf124-8d8c-4972-b467-f5f0d563fb48",
   "metadata": {},
   "source": [
    "## Special Case: Complex Exponential\n",
    "\n",
    "For a certain frequency $\\Omega_1$ we can invent a simple complex exponential signal\n",
    "\n",
    "\\begin{equation}\n",
    "x_1[k] = \\mathrm{e}^{+\\mathrm{j} \\Omega_1 k} \\circ-\\bullet \\bot\\bot\\bot (\\frac{\\Omega-\\Omega_1}{2\\pi})\n",
    "\\end{equation}\n",
    "\n",
    "For certain window / DFT length $N$, the $\\Omega_1 = \\frac{2\\pi}{N} \\cdot \\mu$ for $0\\leq\\mu\\leq N-1$ correspond to the DFT eigenfrequencies in the spectrum baseband. On the other hand, if $\\mu$ is rather non-integer, the frequency is between two DFT eigenfrequencies.\n",
    "\n",
    "Since the complex exponential signal exhibits a Dirac comb in DTFT domain, the above circular convolution for the windowing process is very convenient to discuss:\n",
    "\n",
    "The Dirac is the neutral element of the convolution.\n",
    "Thus, to analyze the spectrum of $x_1[k]$ (actually its windowed part) we just need to interpret the DTFT spectrum $W(\\Omega-\\Omega_1)$, i.e. the window spectrum that is circular shifted along frequency axis."
   ]
  },
  {
   "cell_type": "markdown",
   "id": "4252e719-de5e-4181-82de-ed4c2f2a7cbf",
   "metadata": {},
   "source": [
    "## Special Case: Superposition of Two Complex Exponentials\n",
    "\n",
    "In case of two complex exponentials\n",
    "\n",
    "\\begin{equation}\n",
    "x_1[k] = \\mathrm{e}^{+\\mathrm{j} \\Omega_1 k} \\circ-\\bullet \\bot\\bot\\bot (\\frac{\\Omega-\\Omega_1}{2\\pi})\n",
    "\\end{equation}\n",
    "\n",
    "\\begin{equation}\n",
    "x_2[k] = \\mathrm{e}^{+\\mathrm{j} \\Omega_2 k} \\circ-\\bullet \\bot\\bot\\bot (\\frac{\\Omega-\\Omega_2}{2\\pi})\n",
    "\\end{equation}\n",
    "\n",
    "the superposition of these signals and windowing yields\n",
    "\n",
    "\\begin{equation}\n",
    "w[k] \\cdot (x_1[k] + x_2[k]) \\circ-\\bullet W(\\Omega-\\Omega_1) + W(\\Omega-\\Omega_2)\n",
    "\\end{equation}\n",
    "\n",
    "To discuss the spectral characteristics of $x_1[k] + x_2[k]$ we need to interpret the **complex-valued** superposition\n",
    "of the two spectra $W(\\Omega-\\Omega_1)$ and $W(\\Omega-\\Omega_2)$.\n",
    "If we can handle this simple case, we have a better understanding for real world signal applications."
   ]
  },
  {
   "cell_type": "markdown",
   "id": "3bc168c4-9fd3-49e8-8087-da968dbdaad6",
   "metadata": {},
   "source": [
    "First, let's define a convenient plotting routine."
   ]
  },
  {
   "cell_type": "code",
   "execution_count": null,
   "id": "3b4ac540-85ed-439d-8144-10d0ad90d47e",
   "metadata": {},
   "outputs": [],
   "source": [
    "import numpy as np\n",
    "import matplotlib.pyplot as plt\n",
    "from numpy.fft import fft, ifft, fftshift\n",
    "#from scipy.fft import fft, ifft, fftshift\n",
    "from scipy.signal.windows import kaiser\n",
    "\n",
    "\n",
    "def plot_dft_dtft():  # TBD: proper scaling between DFT and DTFT !!!\n",
    "    X1, X2 = fft(x1), fft(x2)\n",
    "    x = x1 + x2\n",
    "    X = fft(x)  # == fft(x1) + fft(x2) due to linearity\n",
    "\n",
    "    # zeropadding to obtain a DTFT-like frequency resolution:\n",
    "    Nz = 2**4 * N  # appropriate higher resolution such that curves are smooth\n",
    "    muz = np.arange(Nz)\n",
    "    x1z, x2z = np.zeros(Nz, dtype='complex'), np.zeros(Nz, dtype='complex')\n",
    "    x1z[0:N], x2z[0:N] = x1, x2\n",
    "    X1z, X2z = fft(x1z), fft(x2z)\n",
    "    xz = x1z + x2z\n",
    "    Xz = fft(xz)\n",
    "\n",
    "    plt.figure(figsize=(6, 6))\n",
    "    plt.subplot(2, 1, 1)\n",
    "    plt.stem(mu, np.abs(X1), basefmt='C0:', linefmt='C0:', markerfmt='C0o',\n",
    "             label=r'DFT $|X_1[\\mu]|$')\n",
    "    plt.stem(mu, np.abs(X2), basefmt='C1:', linefmt='C1:', markerfmt='C1o',\n",
    "             label=r'DFT $|X_2[\\mu]|$')\n",
    "    plt.plot(muz / Nz * N, np.abs(X1z), 'C0',\n",
    "             label=r'DTFT $|X_1(\\Omega)|$')\n",
    "    plt.plot(muz / Nz * N, np.abs(X2z), 'C1',\n",
    "             label=r'DTFT $|X_2(\\Omega)|$')\n",
    "\n",
    "    plt.xlim(0, N)\n",
    "    plt.xlabel(r'DFT frequency index $\\mu$')\n",
    "    plt.ylabel(r'Magnitude (also absolute value)')\n",
    "    plt.legend()\n",
    "    plt.grid(True)\n",
    "\n",
    "    plt.subplot(2, 1, 2)\n",
    "    plt.stem(mu / N * 2 * np.pi, np.abs(X),\n",
    "             basefmt='C0:', linefmt='C0:', markerfmt='C0o',\n",
    "             label=r'DFT $|X_1[\\mu]+X_2[\\mu]|$')\n",
    "    plt.plot(muz / Nz * 2 * np.pi, np.abs(Xz), 'C0',\n",
    "             label=r'DTFT $|X_1(\\Omega) + X_2(\\Omega)|$')\n",
    "    # due to linearity of convolution and Fourier transforms the same results\n",
    "    # are obtained via:\n",
    "    plt.stem(mu / N * 2 * np.pi, np.abs(X1+X2),\n",
    "             basefmt='C7:', linefmt='C7:', markerfmt='C7.')\n",
    "    plt.plot(muz / Nz * 2 * np.pi, np.abs(X1z+X2z), 'C7:')\n",
    "\n",
    "    plt.xlim(0, 2*np.pi)\n",
    "    plt.xlabel(r'DTFT frequency $\\Omega$')\n",
    "    plt.ylabel(r'Magnitude (also modulus)')\n",
    "    plt.legend()\n",
    "    plt.grid(True)"
   ]
  },
  {
   "cell_type": "markdown",
   "id": "82a337bc-2896-42fe-9e0a-ed1035ec0c47",
   "metadata": {},
   "source": [
    "Then, we should define a certain (rather small) DFT length $N$. "
   ]
  },
  {
   "cell_type": "code",
   "execution_count": null,
   "id": "1b5c69a0-7d47-491a-a672-7a58060cb0c1",
   "metadata": {},
   "outputs": [],
   "source": [
    "# signal & DFT parameter\n",
    "N = 2**4\n",
    "k, mu = np.arange(N), np.arange(N)"
   ]
  },
  {
   "cell_type": "markdown",
   "id": "8f01c7a3-4a92-4736-ac47-01a406d34ab8",
   "metadata": {},
   "source": [
    "Note that the scaling of DTFT is aligned to the DFT data for better visual cues.\n",
    "We should clarify this even more in future.\n",
    "\n",
    "In the upcoming examples, we always have two plots\n",
    "- the upper graph over DFT frequency index $\\mu$ shows the two magnitude DTFT spectra of $W(\\Omega-\\Omega_1)$, $W(\\Omega-\\Omega_2)$ and there corresponding DFT spectra (dots)\n",
    "- the lower plots over DTFT frequency $\\Omega$ shows the DTFT / DFT spectrum of the signal / spectrum superposition\n",
    "\n",
    "Thus, in the upper plot we see how two Dirac impulses are smeared by the window spectrum. We can study the characteristics of\n",
    "- the so called mainlobe (the shape around the spectrum's maximum) and\n",
    "- the so called sidelobes (the shapes that are followed by the mainlobe)\n",
    "- number of zeros (for optimum windows we have $N-1$ zeros in the DTFT spectrum). Note that $\\Omega=0=2\\pi$ is the same zero, due to periodicity.\n",
    "- number of non-zeros coefficients in DFT\n",
    "\n",
    "In the lower plot we see how the superposition of the two signals affects the resulting spectrum.\n",
    "- Do we obtain a separate mainlobes for the two frequencies?\n",
    "- Or do we obtain a rather broad single mainlobe, not able to tell that the signal is built from two frequencies?\n",
    "- Do we have zeros in the spectrum?\n",
    "- How about the sidelobe magnitude and the decay of the sidelobes?"
   ]
  },
  {
   "cell_type": "markdown",
   "id": "d9a750f4-4aed-414a-b94b-5ffd664c357b",
   "metadata": {},
   "source": [
    "# Rectangular Window"
   ]
  },
  {
   "cell_type": "code",
   "execution_count": null,
   "id": "5eeeb72d-f259-487d-8730-972ecf5dec16",
   "metadata": {},
   "outputs": [],
   "source": [
    "# superposition of 2 complex exponential signals\n",
    "mu1, mu2 = 6, 8  # we choose two DFT eigenfrequencies here\n",
    "x1, x2 = 1*np.exp(1j * 2*np.pi/N * k*mu1), 1*np.exp(1j * 2*np.pi/N * k*mu2)\n",
    "plot_dft_dtft()  # we see two separate main lobes\n",
    "# the rectangular window has most narrow mainlobe width but at the price of\n",
    "# highest sidelobes amplitude and slow(est?) sidelobe decay"
   ]
  },
  {
   "cell_type": "code",
   "execution_count": null,
   "id": "11f80425-b604-4551-8722-81ed4722147c",
   "metadata": {},
   "outputs": [],
   "source": [
    "# superposition of 2 complex exponential signals\n",
    "mu1, mu2 = 6, 7\n",
    "x1, x2 = 1*np.exp(1j * 2*np.pi/N * k*mu1), 1*np.exp(1j * 2*np.pi/N * k*mu2)\n",
    "plot_dft_dtft()  # we still see two separate main lobes\n",
    "# mainlobes are now direct neighbours w.r.t. the DFT bins\n",
    "# maximum of X1[mu] corresponds to a zero in X2[mu] and vice versa\n",
    "\n",
    "# What happens if we put these signal frequencies even closer?\n",
    "# Let's have a look at the next plot."
   ]
  },
  {
   "cell_type": "code",
   "execution_count": null,
   "id": "52d630ef-9b45-4420-b9ad-ef96c51891fb",
   "metadata": {},
   "outputs": [],
   "source": [
    "# superposition of 2 complex exponential signals\n",
    "mu1, mu2 = 6, 6.5\n",
    "x1, x2 = 1*np.exp(1j * 2*np.pi/N * k*mu1), 1*np.exp(1j * 2*np.pi/N * k*mu2)\n",
    "plot_dft_dtft()  # the two signal frequencies cannot longer clearly\n",
    "# detected, since # their individual spectra smear into one single main lobe\n",
    "\n",
    "# the orange spectrum (mu=6.5) is the worst case w.r.t. leakage effect, there\n",
    "# all DFT coefficients have energy and thus suggest a multi-frequency\n",
    "# signal. We know that this is only a single frequency signal, which was\n",
    "# however very unfortunate cutted to fit in the chosen DFT length"
   ]
  },
  {
   "cell_type": "markdown",
   "id": "e604e9da-d933-422d-94fd-eb250e947b49",
   "metadata": {},
   "source": [
    "# Kaiser-Bessel Window"
   ]
  },
  {
   "cell_type": "code",
   "execution_count": null,
   "id": "24df83b2-23e9-4d92-893b-b68890a028ab",
   "metadata": {},
   "outputs": [],
   "source": [
    "# signal & DFT parameter\n",
    "N = 2**4\n",
    "k, mu = np.arange(N), np.arange(N)\n",
    "\n",
    "# window\n",
    "w = kaiser(N, beta=3, sym=False)  # beta = 0 is rect window\n",
    "\n",
    "# superposition of 2 complex exponential signals\n",
    "# with non-rectangular windowing to reduce leakage effect\n",
    "mu1, mu2 = 6, 8\n",
    "x1, x2 = 1*w*np.exp(1j * 2*np.pi/N * k*mu1), 1*w*np.exp(1j * 2*np.pi/N * k*mu2)\n",
    "\n",
    "plot_dft_dtft()\n",
    "# with this window and window parametrization we are able to reduce the\n",
    "# leakage effect, the two mainlobes are separated, but the valley between\n",
    "# the two mainlobes has comparably large amplitude, it would be nice to have\n",
    "# the two mainlobes better separated. We can do this by decreasing beta.\n",
    "# Question: to what price?\n",
    "\n",
    "# play around with beta = 0...3 and check the mainlobe width and sidelobe height\n",
    "# ensure that beta=0 is identical with the rect window (this is a nice feature\n",
    "# of the Kaiser-Bessel window)\n",
    "# we can apply amplitude 0 to one of the signals just to see the spectrum\n",
    "# of a single signal"
   ]
  },
  {
   "cell_type": "code",
   "execution_count": null,
   "id": "ee009c19-0c2a-4e0a-a252-3e9ef6b29508",
   "metadata": {},
   "outputs": [],
   "source": [
    "# signal & DFT parameter\n",
    "N = 2**4\n",
    "k, mu = np.arange(N), np.arange(N)\n",
    "\n",
    "# window\n",
    "w = kaiser(N, beta=7, sym=False)  # beta = 0 is rect window\n",
    "\n",
    "# superposition of 2 complex exponential signals\n",
    "# with non-rectangular windowing to reduce leakage effect\n",
    "mu1, mu2 = 6, 8\n",
    "x1, x2 = 1*w*np.exp(1j * 2*np.pi/N * k*mu1), 1*w*np.exp(1j * 2*np.pi/N * k*mu2)\n",
    "\n",
    "plot_dft_dtft()\n",
    "# with this window and window parametrization we are able to reduce the\n",
    "# leakage effect even more, however now we broadend the two mainlobes in the\n",
    "# upper plot\n",
    "# such that they smear to one single mainlobe in the lower picture\n",
    "# again this is always the general trade-off of windowing:\n",
    "# broader mainlobe == smaller sidelobes but at a price of less frequency\n",
    "# sensitivity "
   ]
  },
  {
   "cell_type": "markdown",
   "id": "8ced4c4e-7daf-40e1-8dca-adf44d0f0dcd",
   "metadata": {},
   "source": [
    "**Copyright**\n",
    "\n",
    "The notebooks are provided as [Open Educational Resources](https://en.wikipedia.org/wiki/Open_educational_resources). Feel free to use the notebooks for your own purposes. The text is licensed under [Creative Commons Attribution 4.0](https://creativecommons.org/licenses/by/4.0/), the code of the IPython examples under the [MIT license](https://opensource.org/licenses/MIT). Please attribute the work as follows: *Frank Schultz, Digital Signal Processing - A Tutorial Featuring Computational Examples* with the URL https://github.com/spatialaudio/digital-signal-processing-exercises"
   ]
  },
  {
   "cell_type": "code",
   "execution_count": null,
   "id": "8237280b-a942-4ffe-bf76-ae7e95324984",
   "metadata": {},
   "outputs": [],
   "source": []
  },
  {
   "cell_type": "markdown",
   "id": "27c121cf-1b23-4cb8-a493-db19de616a2c",
   "metadata": {},
   "source": [
    "Sascha Spors,\n",
    "Professorship Signal Theory and Digital Signal Processing,\n",
    "Institute of Communications Engineering (INT),\n",
    "Faculty of Computer Science and Electrical Engineering (IEF),\n",
    "University of Rostock,\n",
    "Germany\n",
    "\n",
    "# Tutorial Digital Signal Processing\n",
    "\n",
    "**Pole/Zeros Plots of Window Functions**,\n",
    "Winter Semester 2021/22 (Course #24505)\n",
    "\n",
    "- lecture: https://github.com/spatialaudio/digital-signal-processing-lecture\n",
    "- tutorial: https://github.com/spatialaudio/digital-signal-processing-exercises\n",
    "\n",
    "Feel free to contact lecturer frank.schultz@uni-rostock.de"
   ]
  },
  {
   "cell_type": "code",
   "execution_count": null,
   "id": "029933d0-c187-40df-87ad-a35a1fd9b1d4",
   "metadata": {},
   "outputs": [],
   "source": [
    "import numpy as np\n",
    "from matplotlib import pyplot as plt\n",
    "from matplotlib.patches import Circle\n",
    "from scipy.signal import tf2zpk\n",
    "from scipy.signal.windows import hann, hamming, chebwin, dpss, kaiser\n",
    "from numpy.fft import fft, fftshift, ifft "
   ]
  },
  {
   "cell_type": "code",
   "execution_count": null,
   "id": "a68f788d-90a9-46b7-b3b2-112f1a8994df",
   "metadata": {},
   "outputs": [],
   "source": [
    "def zplane_plot(z, p, k, title_str):\n",
    "    \"\"\"Plot pole/zero/gain plot of discrete-time, linear-time-invariant system.\n",
    "\n",
    "    Note that the for-loop handling might be not very efficient\n",
    "    for very long FIRs\n",
    "\n",
    "    z...array of zeros in z-plane\n",
    "    p...array of poles in z-zplane\n",
    "    k...gain factor\n",
    "\n",
    "    taken from own work\n",
    "    URL = ('https://github.com/spatialaudio/signals-and-systems-exercises/'\n",
    "           'blob/master/sig_sys_tools.py')\n",
    "\n",
    "    currently we don't use the ax input parameter, we rather just plot\n",
    "    in hope for getting an appropriate place for it from the calling function\n",
    "    \"\"\"\n",
    "    # draw unit circle\n",
    "    Nf = 2**7\n",
    "    Om = np.arange(Nf) * 2*np.pi/Nf\n",
    "    plt.plot(np.cos(Om), np.sin(Om), 'C7')\n",
    "\n",
    "    try:  # TBD: check if this pole is compensated by a zero\n",
    "        circle = Circle((0, 0), radius=np.max(np.abs(p)),\n",
    "                        color='C7', alpha=0.15)\n",
    "        plt.gcf().gca().add_artist(circle)\n",
    "    except ValueError:\n",
    "        print('no pole at all, ROC is whole z-plane')\n",
    "\n",
    "    zu, zc = np.unique(z, return_counts=True)  # find and count unique zeros\n",
    "    for zui, zci in zip(zu, zc):  # plot them individually\n",
    "        plt.plot(np.real(zui), np.imag(zui), ms=7,\n",
    "                 color='C0', marker='o', fillstyle='none')\n",
    "        if zci > 1:  # if multiple zeros exist then indicate the count\n",
    "            plt.text(np.real(zui), np.imag(zui), zci)\n",
    "\n",
    "    pu, pc = np.unique(p, return_counts=True)  # find and count unique poles\n",
    "    for pui, pci in zip(pu, pc):  # plot them individually\n",
    "        plt.plot(np.real(pui), np.imag(pui), ms=7,\n",
    "                 color='C3', marker='x')\n",
    "        if pci > 1:  # if multiple poles exist then indicate the count\n",
    "            plt.text(np.real(pui), np.imag(pui), pci)\n",
    "\n",
    "    plt.text(0, +1, 'k=%f' % k)\n",
    "    plt.text(0, -1, 'ROC for causal: white')\n",
    "    plt.axis('square')\n",
    "    # plt.axis([-2, 2, -2, 2])\n",
    "    plt.xlabel(r'$\\Re\\{z\\}$')\n",
    "    plt.ylabel(r'$\\Im\\{z\\}$')\n",
    "    plt.title(title_str)\n",
    "    plt.grid(True)\n",
    "    \n",
    "def freq_resp(w, label_str, Nz=2**10):\n",
    "    Omega = 2*np.pi/Nz*np.arange(Nz)\n",
    "    W = np.zeros(Nz)\n",
    "    W[0:N] = w\n",
    "    W = fftshift(fft(W))\n",
    "    W /= np.max(np.abs(W))\n",
    "    W = np.abs(W)\n",
    "    W[W < 10**(-100/20)] = 10**(-100/20)  # avoid log10(0)\n",
    "    fig = plt.figure()\n",
    "    ax1 = fig.add_subplot(111)\n",
    "    ax2 = ax1.twiny()\n",
    "    ax1.plot(Omega/np.pi*180-180, 20*np.log10(W), label=label_str)\n",
    "    ax1.set_xlabel(r'$\\Omega$ / deg')\n",
    "    ax1.set_ylabel(r'normalized $|W(\\Omega)|$')\n",
    "    ax1.set_xticks(np.angle(z)*180/np.pi)\n",
    "    ax1.set_yticks(np.arange(-100, 10, 10))\n",
    "    ax1.set_xlim(-180, 180)\n",
    "    ax1.set_ylim(-100, 0)\n",
    "    ax1.legend()\n",
    "    ax1.grid(True, which='both')\n",
    "    ax2.plot(Omega-np.pi, 20*np.log10(W))\n",
    "    ax2.set_xlabel(r'$\\Omega$ / rad')\n",
    "    ax2.set_xlim(-np.pi, np.pi);"
   ]
  },
  {
   "cell_type": "code",
   "execution_count": null,
   "id": "e6cf836d-b804-41c2-9e04-28bb3fd86f5a",
   "metadata": {},
   "outputs": [],
   "source": [
    "N = 8  # length of window"
   ]
  },
  {
   "cell_type": "code",
   "execution_count": null,
   "id": "a40cbe27-ad04-480a-83da-ed25b84684fb",
   "metadata": {},
   "outputs": [],
   "source": [
    "# don't change, this is needed below repeatedly:\n",
    "k = np.arange(N)\n",
    "a = np.zeros(N)\n",
    "a[0] = 1"
   ]
  },
  {
   "cell_type": "markdown",
   "id": "a72cf04d-a75a-477c-8f56-c869fa43daae",
   "metadata": {},
   "source": [
    "For a length $N$ window $w[k]$ with \n",
    "- $w[k]=0$ if $k<0$ and $k>N-1$\n",
    "\n",
    "we have the z-transform of the window / finite length sequence\n",
    "\n",
    "\\begin{equation}\n",
    "W(z) = \\sum_{k=0}^{N-1} w[k] z^{-k} = w[0] + w[1] z^{-1} + w[2] z^{-2} + ... + w[N-1] z^{-(N-1)}\n",
    "\\end{equation}\n",
    "\n",
    "We can rewrite \n",
    "\n",
    "\\begin{equation}\n",
    "W(z) = \\frac{w[0] z^{N-1} + w[1] z^{N-2} + w[2] z^{N-3} + ... + w[N-1]}{z^{N-1}}\n",
    "\\end{equation}\n",
    "\n",
    "- This rational function has $N-1$ poles in the origin, i.e. $z=0$\n",
    "- Furthermore, it has $N-1$ zeros somewhere in the complex z-plane\n",
    "\n",
    "For real valued $w[k]$ the zeros are either complex conjugate or real-valued (they lie on the real axis in the z-plane).\n",
    "\n",
    "For the windowing process we are interested in the DTFT spectrum, which can be obtained when evaluating $W(z)$ along the unit circle, thus as\n",
    "\n",
    "\\begin{equation}\n",
    "W(\\Omega) = W(z)\\big|_{z=\\mathrm{e}^{\\mathrm{j}\\Omega}}\n",
    "\\end{equation}\n",
    "\n",
    "Window design is about meaningful, if not to say clever, positioning of $N-1$ zeros, such that a desired trade-off\n",
    "between **mainlobe width** and **sidelobe magnitude** / **sidelobe decay rate** is achieved.\n",
    "Naturally, this design task has many, many solutions. Some of them are more meaningful than others, which is why they\n",
    "were published as special window designs over the last decades.\n",
    "\n",
    "For windowing we actually always aim at very low sidelobes. Thus all potential zeros of $W(z)$ should used as best as possible: putting them exactly onto the unit circle the impact is largest in the DTFT spectrum, since notches are realized. Windows that follow this design rule, are commonly termed optimum windows. The design constraints for the trade-off then tell us where exactly to put these zeros on the unit circle."
   ]
  },
  {
   "cell_type": "markdown",
   "id": "69436ba0-263b-44be-bee9-902b24997356",
   "metadata": {},
   "source": [
    "In the examples below we discuss very simple cases for rather small $N$.\n",
    "\n",
    "**Example 1**\n",
    "\n",
    "Although, is has worst leakage effect, the rectangular window is actually an optimum window. The design criterion is simply: provide the most narrow main lobe that is possible for $N$. The price you pay is the highest sidelobe magnitude and very slow sidelobe decay rate.\n",
    "\n",
    "**Example 2**\n",
    "\n",
    "This is a! symmetric Hann window (in older literature misnamed as Hanning window, don't do this anymore!). We see that two zeros are real valued and not on the unit circle. They don't shape the window spectrum in optimum manner.\n",
    "\n",
    "Note that for didactical convenience we use a symmetric window here. For practical spectral analysis we rather should use the flag `sym=False` for scipy windows.\n",
    "\n",
    "**Example 3**\n",
    "\n",
    "Idea of Hamming window:\n",
    "- taking the above Hann window and moving the two zeros onto the unit circle (they must be conjugate complex).\n",
    "- position of zeros such that they put a notch at the two sidelobes of the Hann window left and right of the main lobe\n",
    "\n",
    "Mainlobe shape remains, sidelobe magnitude is overall reduced compared to the Hann window."
   ]
  },
  {
   "cell_type": "markdown",
   "id": "3cb29b2f-33a5-4fda-ad6b-607342efd826",
   "metadata": {},
   "source": [
    "## Rectangular Window"
   ]
  },
  {
   "cell_type": "code",
   "execution_count": null,
   "id": "944d2192-b0c9-4335-abd7-1b837e85c096",
   "metadata": {},
   "outputs": [],
   "source": [
    "w = np.ones(N)\n",
    "[z, p, gain] = tf2zpk(w, a)\n",
    "# zeros\n",
    "print('zeros: angle in deg', np.angle(z)*180/np.pi)\n",
    "print('zeros: abs', np.abs(z))\n",
    "# zeros are equiangularly aligned on! the unit circle"
   ]
  },
  {
   "cell_type": "code",
   "execution_count": null,
   "id": "b5791b2f-24da-4b5c-9e2e-8612b6c06e29",
   "metadata": {},
   "outputs": [],
   "source": [
    "zplane_plot(z, p, gain, 'Rect')"
   ]
  },
  {
   "cell_type": "code",
   "execution_count": null,
   "id": "9bce93ec-f5eb-4b43-b7a7-dcc8859754c3",
   "metadata": {},
   "outputs": [],
   "source": [
    "freq_resp(w, 'Rect')"
   ]
  },
  {
   "cell_type": "markdown",
   "id": "c0678527-ac26-4cb4-9c02-877b8055ff17",
   "metadata": {},
   "source": [
    "## Symmetric Hann Window"
   ]
  },
  {
   "cell_type": "code",
   "execution_count": null,
   "id": "79f09003-5892-4964-b95b-592ce15e2b93",
   "metadata": {},
   "outputs": [],
   "source": [
    "# a symmetric Hann window, two zeros are not used on! the unit circle\n",
    "w = (1 - np.cos(2*np.pi/N*(k+1/2))) / 2\n",
    "print('my hann:', w)\n",
    "[z, p, gain] = tf2zpk(w, a)"
   ]
  },
  {
   "cell_type": "code",
   "execution_count": null,
   "id": "d657bced-67df-45b5-bfbc-e065f1d91be0",
   "metadata": {},
   "outputs": [],
   "source": [
    "# Note that our Hann window above differs from the numpy/scipy definitions:\n",
    "# our window does start and end with a non-zero coefficient, while numpy/scipy\n",
    "# versions start/end with zeros effectively using two samples less for\n",
    "# signal analysis/filter design\n",
    "w_tmpn = np.hanning(N)  # numpy, note: 'hanning' is an old naming to be avoided\n",
    "w_tmps = hann(N)  # scipy version\n",
    "w_tmp = 0.5 - 0.5 * np.cos(2*np.pi/(N-1)*(k))  # manual version\n",
    "print('numpy == scipy?', np.allclose(w_tmpn, w_tmps))\n",
    "print('equal to manual?', np.allclose(w_tmpn, w_tmp))\n",
    "print('numpy/scipy hann:', w_tmp)"
   ]
  },
  {
   "cell_type": "code",
   "execution_count": null,
   "id": "2cc8f519-24bc-41f7-a84e-67802eaf6123",
   "metadata": {},
   "outputs": [],
   "source": [
    "# zeros\n",
    "print('zeros: angle in deg', np.angle(z)*180/np.pi)\n",
    "print('zeros: abs', np.abs(z))"
   ]
  },
  {
   "cell_type": "code",
   "execution_count": null,
   "id": "deed79f8-1796-40da-97f4-2c91b0dc7399",
   "metadata": {},
   "outputs": [],
   "source": [
    "zplane_plot(z, p, gain, 'Hann')"
   ]
  },
  {
   "cell_type": "code",
   "execution_count": null,
   "id": "e062f183-3837-4931-94b2-b1b0ba8ae4e9",
   "metadata": {},
   "outputs": [],
   "source": [
    "freq_resp(w, 'Hann')"
   ]
  },
  {
   "cell_type": "markdown",
   "id": "61b43ee2-07a8-4842-a336-113396b3867c",
   "metadata": {},
   "source": [
    "We have two zeros that are **not** on the unit circle. If we put them **onto** the unit circle their influence with regard the DTFT (i.e. the frequency response) can be made stronger. By that we can optimize the window, for example to attenuate a certain sidelobe. This idea is pursued by the Hamming window, which is shown next."
   ]
  },
  {
   "cell_type": "markdown",
   "id": "bc357cd6-db65-4e6e-b16b-d6684880b969",
   "metadata": {},
   "source": [
    "## Symmetric Hamming Window"
   ]
  },
  {
   "cell_type": "code",
   "execution_count": null,
   "id": "554011fd-bed1-497d-ba4a-b9d6d42c62f5",
   "metadata": {},
   "outputs": [],
   "source": [
    "# a symmetric Hamming window\n",
    "# we put notches into the two sidelobes 'left/right' of the main lobe\n",
    "# of the above defined symmetric Hann window,\n",
    "# thus here all zeros are used on! the unit circle\n",
    "# which improves side lobe attenuation\n",
    "w = 0.54 - 0.46 * np.cos(2*np.pi/N*(k+1/2))\n",
    "print('my hamming:', w)\n",
    "[z, p, gain] = tf2zpk(w, a)"
   ]
  },
  {
   "cell_type": "code",
   "execution_count": null,
   "id": "b9396d7a-b2b1-4a28-b0c8-6c69b47e47ed",
   "metadata": {},
   "outputs": [],
   "source": [
    "# Note that our Hamming window above differs from the numpy/scipy definitions\n",
    "w_tmpn = np.hamming(N)\n",
    "w_tmps = hamming(N)\n",
    "w_tmp = 0.54 - 0.46 * np.cos(2*np.pi/(N-1)*(k))\n",
    "print('numpy == scipy?', np.allclose(w_tmpn, w_tmps))\n",
    "print('equal to manual?', np.allclose(w_tmpn, w_tmp))\n",
    "print('numpy/scipy hamming:', w_tmp)"
   ]
  },
  {
   "cell_type": "code",
   "execution_count": null,
   "id": "195f1514-1e3d-48cf-a344-9d567735bbd8",
   "metadata": {},
   "outputs": [],
   "source": [
    "# +-112.03298762 is approx +-(90 + 135) / 2\n",
    "# this is the angle of the first side lobe\n",
    "print('zeros-> angle in deg:', np.angle(z)*180/np.pi)\n",
    "# so put a zero in the middle of the 'first/last' two zeros\n",
    "# now all zeros are on! the unit circle, leading to an optimum design\n",
    "\n",
    "# zeros\n",
    "print('zeros: angle in deg', np.angle(z)*180/np.pi)\n",
    "print('zeros: abs', np.abs(z))\n",
    "# all zeros on! the unit circle (since all np.abs(z) == 1) "
   ]
  },
  {
   "cell_type": "code",
   "execution_count": null,
   "id": "e2ce42eb-efb7-4341-a60a-f4300e953e10",
   "metadata": {},
   "outputs": [],
   "source": [
    "zplane_plot(z, p, gain, 'Hamming')"
   ]
  },
  {
   "cell_type": "code",
   "execution_count": null,
   "id": "1db72a4d-0c47-4fd0-8018-40ede3e01376",
   "metadata": {},
   "outputs": [],
   "source": [
    "freq_resp(w, 'Hamming')"
   ]
  },
  {
   "cell_type": "markdown",
   "id": "a71f1eb5-6f88-4806-9ecf-e9be0e853cbc",
   "metadata": {},
   "source": [
    "**Copyright**\n",
    "\n",
    "The notebooks are provided as [Open Educational Resources](https://en.wikipedia.org/wiki/Open_educational_resources). Feel free to use the notebooks for your own purposes. The text is licensed under [Creative Commons Attribution 4.0](https://creativecommons.org/licenses/by/4.0/), the code of the IPython examples under the [MIT license](https://opensource.org/licenses/MIT). Please attribute the work as follows: *Frank Schultz, Digital Signal Processing - A Tutorial Featuring Computational Examples* with the URL https://github.com/spatialaudio/digital-signal-processing-exercises"
   ]
  },
  {
   "cell_type": "code",
   "execution_count": null,
   "id": "21e8c1db-5d2d-4eaa-a7dd-611f33fabeb9",
   "metadata": {},
   "outputs": [],
   "source": []
  },
  {
   "cell_type": "markdown",
   "id": "5668d2ad-10e4-4c5d-bc1b-18b559016ae6",
   "metadata": {
    "jp-MarkdownHeadingCollapsed": true,
    "tags": []
   },
   "source": [
    "Sascha Spors,\n",
    "Professorship Signal Theory and Digital Signal Processing,\n",
    "Institute of Communications Engineering (INT),\n",
    "Faculty of Computer Science and Electrical Engineering (IEF),\n",
    "University of Rostock,\n",
    "Germany\n",
    "\n",
    "# Tutorial Digital Signal Processing\n",
    "\n",
    "**Parametric Windows: Dolph-Chebyshev, Slepian and Kaiser-Bessel Window**,\n",
    "Winter Semester 2021/22 (Course #24505)\n",
    "\n",
    "- lecture: https://github.com/spatialaudio/digital-signal-processing-lecture\n",
    "- tutorial: https://github.com/spatialaudio/digital-signal-processing-exercises\n",
    "\n",
    "Feel free to contact lecturer frank.schultz@uni-rostock.de"
   ]
  },
  {
   "cell_type": "markdown",
   "id": "2ac43f05-dc59-4c33-9fca-f3e39cf01170",
   "metadata": {},
   "source": [
    "# Parametric Windows: Dolph-Chebyshev, Slepian, Kaiser-Bessel Window\n",
    "\n",
    "There are numerous window types, all developed for special requirements.\n",
    "In the initial [DFT & Windowing](dft_windowing.ipynb) exercise and the detailed [DFT tutorial](dft_windowing_tutorial/dft_windowing_tutorial.pdf) we have learned about two very simple computable and very often used **non-parametric** windows, the Hann and the Hamming window.\n",
    "Non-parametric means that by desired window length $M$, the window and its DTFT spectrum are fully determined.\n",
    "In other words, if another spectral characteristics - very often we need higher spectral resolution - is asked for, then the only variable to change is $M$.\n",
    "\n",
    "The **Hann** window is **not optimal**, since it does not use two of its potential zeros to shape the sidelobes of its DTFT spectrum.\n",
    "The Hamming window introduces two additional zeros to the Hann window to reduce the level of the first sidelobe.\n",
    "Note that the Hann window is still often used nowadays, not due to its non-optimum spectrum, but rather due to its simple calculation of the window signal $w[k]$ requiring only a cosine and weight of $1/2$.\n",
    "\n",
    "So called **parametric** windows have additional parameters, that allow to meet certain constraints for a given overall design criterion.\n",
    "Two of the most prominent - in fact with these we probably can manage the majority of windowing applications - are the **Dolph-Chebyshev** and the **Kaiser-Bessel** window.\n",
    "These are optimum window designs.\n",
    "The Kaiser-Bessel window itself can be considered as an approximation of the so called **discrete prolate spheroidal sequences** (DPSS, aka Slepian) window.\n",
    "\n",
    "We will discuss these windows below in terms of their design criteria and the resulting additional parameter that can be set up to meet a desired constraint.\n",
    "TBD..."
   ]
  },
  {
   "cell_type": "code",
   "execution_count": null,
   "id": "5aaa0535-b990-4271-a1da-7d0809f81ea0",
   "metadata": {},
   "outputs": [],
   "source": [
    "import numpy as np\n",
    "import matplotlib.pyplot as plt\n",
    "from matplotlib.patches import Circle\n",
    "from numpy.fft import fft, fftshift, ifft \n",
    "#from scipy.fft import fft, fftshift, ifft\n",
    "from scipy.signal.windows import chebwin, kaiser, dpss\n",
    "from scipy.signal import tf2zpk"
   ]
  },
  {
   "cell_type": "markdown",
   "id": "765ab2c8-e796-4156-ada6-a476142c138a",
   "metadata": {},
   "source": [
    "## Dolph-Chebyshev Window"
   ]
  },
  {
   "cell_type": "code",
   "execution_count": null,
   "id": "375a9ece-14ed-418b-9425-dc6d8517121c",
   "metadata": {},
   "outputs": [],
   "source": [
    "# parameter for the window\n",
    "M = 64  # window length\n",
    "SidelobeAttenuation = 50  # in dB"
   ]
  },
  {
   "cell_type": "code",
   "execution_count": null,
   "id": "80f1a8fe-e189-4bb4-adcf-b9f130f6e0ac",
   "metadata": {},
   "outputs": [],
   "source": [
    "w = chebwin(M, at=SidelobeAttenuation, sym=True)\n",
    "# note on the code from:\n",
    "# https://github.com/scipy/scipy/blob/v0.19.0/scipy/signal/windows.py#L1293-L1416\n",
    "#\n",
    "# The tricky part here is that the analytic equations given in most textbooks\n",
    "# such as e.g. R.G. Lyons (2011): \"Understanding Digital Signal Processing\",\n",
    "# Prentice Hall, Upper Saddle River, 3rd ed., eq. (5.17)\n",
    "# cannot be straightforwardly implemented due to numerical issues\n",
    "# however, certain parts of the equation can be identified as Chebyshev polynomials\n",
    "# (the window has its name from there) for which relations can be utilized.\n",
    "# This is done in the scipy code for p[x < -1], p[np.abs(x) <= 1]"
   ]
  },
  {
   "cell_type": "code",
   "execution_count": null,
   "id": "4925d8e4-9e1d-4ecc-a576-8d1e00039650",
   "metadata": {},
   "outputs": [],
   "source": [
    "plt.plot(w, 'C0o-', ms=5)\n",
    "plt.xlabel(r'sample $k$')\n",
    "plt.ylabel(r'$w[k]$')\n",
    "plt.title('Dolph-Chebyshev window')\n",
    "plt.grid(True)"
   ]
  },
  {
   "cell_type": "code",
   "execution_count": null,
   "id": "01ba3944-2a3a-41b9-b8cc-12a0b42d70a8",
   "metadata": {},
   "outputs": [],
   "source": [
    "Nz = 2**16  # zeropadding of window -> quasi-cont resolution of W for DTFT\n",
    "Omega = 2*np.pi/Nz * np.arange(Nz)\n",
    "wz = np.zeros(Nz)\n",
    "wz[0:M] = w\n",
    "Wz = fft(wz)\n",
    "Wzmax = np.max(20*np.log10(np.abs(Wz)))\n",
    "plt.plot(Omega, 20*np.log10(np.abs(Wz))-Wzmax, 'k')\n",
    "plt.plot(Omega-np.pi, 20*np.log10(np.abs(fftshift(Wz)))-Wzmax, 'C0')\n",
    "plt.plot([np.pi, np.pi], [-120, 10], 'C7')\n",
    "plt.plot([-np.pi, 2*np.pi], [-50, -50], 'dimgray')\n",
    "plt.xlabel(r'$\\Omega$ / rad')\n",
    "plt.ylabel(r'$20 \\log_{10}|W(\\Omega)|$ in dB')\n",
    "plt.xlim(-np.pi, 2*np.pi)\n",
    "plt.ylim(-100, 10)\n",
    "plt.yticks(np.arange(-100,10,10))\n",
    "plt.title('DTFT Spectrum of Dolph-Chebyshev Window with %d Zeros' %(M-1))\n",
    "plt.grid(True)"
   ]
  },
  {
   "cell_type": "markdown",
   "id": "2314ef66-9f60-4fd1-9b80-435d880240ce",
   "metadata": {},
   "source": [
    "We might figure out the design criterion of the Dolph-Chebyshev by ourselves, when inspecting the DTFT spectrum of it.\n",
    "Hint: How is the additional parameter linked to the DTFT spectrum.\n",
    "Vary `M` and `SidelobeAttenuation` and check for changes.\n",
    "For small `M` (to make analysis convenient) check how the zeros are placed in the spectrum to meet the design criterion."
   ]
  },
  {
   "cell_type": "markdown",
   "id": "a637c3a4-958d-4dd0-ab86-b16e3a24174a",
   "metadata": {},
   "source": [
    "## DPSS Window aka Slepian Window\n",
    "\n",
    "The design criterion of the **Slepian** (also named **discrete prolate spheroidal sequences** or **digital prolate spheroidal sequences** (DPSS)) window is **maximum energy** concentration in the **main lobe** for a given mainlobe **bandwidth**.\n",
    "Actually, this is what we typically ask for signal analysis, if no other specific constraints about the sidelobes positions and there levels are requested.\n",
    "\n",
    "Recall, that the DTFT spectrum for the 'ideal world' window is the Dirac impulse (steming from the practically not feasible infinite rectangular window), so mainlobe energy concentration seems to be a very good approach to get close to it.\n",
    "\n",
    "See\n",
    "\n",
    "- Surendra Prasad (1982): \"On an Index for Array Optimization and the Discrete Prolate Spheroidal Functions.\" In:\n",
    "IEEE Transactions on Antennas and Propagation, vol. AP-30, no. 5, pg. 1021-1023, [DOI: 10.1109/TAP.1982.1142900](https://doi.org/10.1109/TAP.1982.1142900)\n",
    "\n",
    "- Michael Möser (1988): \"Analyse und Synthese akustischer Spektren.\", Springer, Berlin, Kap. 3.2.2, [DOI: 10.1007/978-3-642-93374-5](https://doi.org/10.1007/978-3-642-93374-5)\n",
    "\n",
    "- Julius O. Smith (2011): Spectral Audio Signal Processing, online lecture of CCRMA, Stanford University, https://ccrma.stanford.edu/~jos/sasp/Slepian_DPSS_Window.html\n",
    "\n",
    "\n",
    "for treatments how to derive the Slepian window.\n",
    "\n",
    "Challenging question:\n",
    "What window type results if we ask the Slepian window to produce mainlobe bandwidth $\\rightarrow 0$?\n",
    "Implement a test case to approach the answer. "
   ]
  },
  {
   "cell_type": "code",
   "execution_count": null,
   "id": "7e4a5e30-3eab-40c6-8994-9c6a1fcdae47",
   "metadata": {},
   "outputs": [],
   "source": [
    "# parameter for the window\n",
    "M = 64  # window length\n",
    "bw = 2*np.pi/45  # -3dB bandwidth of the main lobe in terms of digital frequency\n",
    "# empirically found for the specific window length\n",
    "NW = bw * M/4"
   ]
  },
  {
   "cell_type": "markdown",
   "id": "033269cf-5dfd-4bd2-ab35-0819171d8cb1",
   "metadata": {},
   "source": [
    "For the chosen example, this Slepian window has (i) the same window length and (ii) the first sidelobe is at about -50 dB like the Dolph-Chebyshev window above."
   ]
  },
  {
   "cell_type": "code",
   "execution_count": null,
   "id": "eba457bb-63b9-48d0-bae4-9431d2f4bc19",
   "metadata": {},
   "outputs": [],
   "source": [
    "w = dpss(M, NW, sym=True)  # https://docs.scipy.org/doc/scipy-1.7.1/reference/generated/scipy.signal.windows.dpss.html\n",
    "plt.plot(w, 'C0o-', ms=5)\n",
    "plt.xlabel(r'sample $k$')\n",
    "plt.ylabel(r'$w[k]$')\n",
    "plt.title('Slepian window')\n",
    "plt.grid(True)"
   ]
  },
  {
   "cell_type": "code",
   "execution_count": null,
   "id": "5b683811-58bb-4914-9813-d9205d44d468",
   "metadata": {},
   "outputs": [],
   "source": [
    "Nz = 2**16  # zeropadding of window -> quasi-cont resolution of W for DTFT\n",
    "Omega = 2*np.pi/Nz*np.arange(Nz)\n",
    "wz = np.zeros(Nz)\n",
    "wz[0:M] = w\n",
    "Wz = fft(wz)\n",
    "Wzmax = np.max(20*np.log10(np.abs(Wz)))\n",
    "plt.plot([np.pi, np.pi], [-120, 10], 'k')\n",
    "plt.plot([-np.pi, 2*np.pi], [-3.01, -3.01], 'C1')\n",
    "plt.plot([-np.pi, 2*np.pi], [-50, -50], 'dimgray')\n",
    "plt.plot([-bw/2, -bw/2], [-120, 10], color='C1')\n",
    "plt.plot([+bw/2, +bw/2], [-120, 10], color='C1')\n",
    "plt.plot(Omega, 20*np.log10(np.abs(Wz))-Wzmax, 'k')\n",
    "plt.plot(Omega-np.pi, 20*np.log10(np.abs(fftshift(Wz)))-Wzmax, 'C0')\n",
    "plt.xlabel(r'$\\Omega$ / rad')\n",
    "plt.ylabel(r'$20 \\log_{10}|W(\\Omega)|$ in dB')\n",
    "plt.xlim(-np.pi, 2*np.pi)\n",
    "\n",
    "# zoom the main lobe\n",
    "if False:\n",
    "    plt.xlim(-5*bw, +5*bw)\n",
    "\n",
    "plt.ylim(-100, 10)\n",
    "plt.yticks(np.arange(-100,10,10))\n",
    "plt.title('DTFT Spectrum of DPSS Window aka Slepian Window with %d Zeros' % (M-1))\n",
    "plt.grid(True)"
   ]
  },
  {
   "cell_type": "markdown",
   "id": "be86204f-056c-43fc-9d9a-0882bfe0ca1e",
   "metadata": {},
   "source": [
    "## Kaiser-Bessel Window\n",
    "\n",
    "The Kaiser-Bessel window is an **approximation** of the Slepian window **for large window lengths** $M$, note however that they will be **never identical**.\n",
    "In the days of its **invention by Kaiser** it was much easier to compute it than the discrete prolate spheroidal sequences discussed above. \n",
    "This is due to the explicit given equation for the Kaiser-Bessel window, whereas for the Slepian window an eigenwert problem for a $M/2$ matrix has to be numerically solved.\n",
    "The Kaiser-Bessel window requires the [zeroth-order modified **Bessel** function of the first kind](https://dlmf.nist.gov/10.25) $I_0(\\cdot)$ to calculate the window signal $w[k]$.\n",
    "Thus, the given name in the DSP literature.\n",
    "\n",
    "TBD..."
   ]
  },
  {
   "cell_type": "markdown",
   "id": "a5545901-e8aa-405b-bd41-653b0f9a9b78",
   "metadata": {},
   "source": [
    "For the upcoming discussion we need pole/zeros plot. So let's define a convenient plotting routine before:"
   ]
  },
  {
   "cell_type": "code",
   "execution_count": null,
   "id": "337ea1ec-9c65-42eb-ba4a-9e87ed0f6bf7",
   "metadata": {},
   "outputs": [],
   "source": [
    "def zplane_plot(z, p, k):\n",
    "    \"\"\"Plot pole/zero/gain plot of discrete-time, linear-time-invariant system.\n",
    "\n",
    "    Note that the for-loop handling might be not very efficient\n",
    "    for very long FIRs\n",
    "\n",
    "    z...array of zeros in z-plane\n",
    "    p...array of poles in z-zplane\n",
    "    k...gain factor\n",
    "\n",
    "    taken from own work\n",
    "    URL = ('https://github.com/spatialaudio/signals-and-systems-exercises/'\n",
    "           'blob/master/sig_sys_tools.py')\n",
    "\n",
    "    currently we don't use the ax input parameter, we rather just plot\n",
    "    in hope for getting an appropriate place for it from the calling function\n",
    "    \"\"\"\n",
    "    # draw unit circle\n",
    "    Nf = 2**7\n",
    "    Om = np.arange(Nf) * 2*np.pi/Nf\n",
    "    plt.plot(np.cos(Om), np.sin(Om), 'C7')\n",
    "\n",
    "    try:  # TBD: check if this pole is compensated by a zero\n",
    "        circle = Circle((0, 0), radius=np.max(np.abs(p)),\n",
    "                        color='C7', alpha=0.15)\n",
    "        plt.gcf().gca().add_artist(circle)\n",
    "    except ValueError:\n",
    "        print('no pole at all, ROC is whole z-plane')\n",
    "\n",
    "    zu, zc = np.unique(z, return_counts=True)  # find and count unique zeros\n",
    "    for zui, zci in zip(zu, zc):  # plot them individually\n",
    "        plt.plot(np.real(zui), np.imag(zui), ms=7,\n",
    "                 color='C0', marker='o', fillstyle='none')\n",
    "        if zci > 1:  # if multiple zeros exist then indicate the count\n",
    "            plt.text(np.real(zui), np.imag(zui), zci)\n",
    "\n",
    "    pu, pc = np.unique(p, return_counts=True)  # find and count unique poles\n",
    "    for pui, pci in zip(pu, pc):  # plot them individually\n",
    "        plt.plot(np.real(pui), np.imag(pui), ms=7,\n",
    "                 color='C3', marker='x')\n",
    "        if pci > 1:  # if multiple poles exist then indicate the count\n",
    "            plt.text(np.real(pui), np.imag(pui), pci)\n",
    "\n",
    "    plt.text(0, +1, 'k=%f' % k)\n",
    "    plt.text(0, -1, 'ROC for causal: white')\n",
    "    plt.axis('square')\n",
    "    # plt.axis([-2, 2, -2, 2])\n",
    "    plt.xlabel(r'$\\Re\\{z\\}$')\n",
    "    plt.ylabel(r'$\\Im\\{z\\}$')\n",
    "    plt.grid(True)"
   ]
  },
  {
   "cell_type": "markdown",
   "id": "89b71ce0-a4a3-460a-9a59-bde0c1198fde",
   "metadata": {},
   "source": [
    "## Comparison of the Windows\n",
    "\n",
    "What are the differences between the discussed **parametric** window types of same length and about the same level of the first sidelobe?"
   ]
  },
  {
   "cell_type": "code",
   "execution_count": null,
   "id": "911bd9a3-00c6-4384-9c85-2a35f95c4bae",
   "metadata": {},
   "outputs": [],
   "source": [
    "# check for increasing integer L\n",
    "# how Slepian and the Kaiser-Bessel approximation converge, but never are exactly the same\n",
    "L = 1\n",
    "\n",
    "M = np.int(2**6 * L)\n",
    "Nz = 2**6 * M  # zeropadding of window -> quasi-cont resolution of W for DTFT\n",
    "k = np.arange(M)\n",
    "bw = 2*np.pi/(45*L)  # for dpss\n",
    "NW = bw * M/4  # for dpss\n",
    "beta = 6.85  # for kaiser\n",
    "Omega = 2*np.pi/Nz * np.arange(Nz)\n",
    "wdc = chebwin(M, at=50, sym=True)  # dolph-chebyshev\n",
    "wslep = dpss(M, NW, sym=True)  # slepian\n",
    "wkb = kaiser(M, beta, sym=True)  # kaiser-bessel\n",
    "\n",
    "Wdc = np.zeros(Nz)\n",
    "Wdc[0:M] = wdc\n",
    "Wdc = fftshift(fft(Wdc))\n",
    "Wdc /= np.max(np.abs(Wdc))\n",
    "\n",
    "Wslep = np.zeros(Nz)\n",
    "Wslep[0:M] = wslep\n",
    "Wslep = fftshift(fft(Wslep))\n",
    "Wslep /= np.max(np.abs(Wslep))\n",
    "\n",
    "Wkb = np.zeros(Nz)\n",
    "Wkb[0:M] = wkb\n",
    "Wkb = fftshift(fft(Wkb))\n",
    "Wkb /= np.max(np.abs(Wkb))\n",
    "\n",
    "plt.figure(figsize=(7, 7))\n",
    "plt.subplot(2, 1, 1)\n",
    "plt.plot(k, wdc, label='Dolph-Chebyshev')\n",
    "plt.plot(k, wslep, label='DPSS aka Slepian')\n",
    "plt.plot(k, wkb, label='Kaiser-Bessel', color='C3')\n",
    "plt.xlabel(r'sample $k$')\n",
    "plt.ylabel(r'$w[k]$')\n",
    "plt.title('M=%d' % M)\n",
    "plt.legend()\n",
    "plt.grid(True)\n",
    "\n",
    "plt.subplot(2, 1, 2)\n",
    "plt.plot((-np.pi, +np.pi), (-50, -50), color='dimgray')\n",
    "plt.plot(Omega-np.pi, 20*np.log10(np.abs(Wdc)))\n",
    "plt.plot(Omega-np.pi, 20*np.log10(np.abs(Wslep)))\n",
    "plt.plot(Omega-np.pi, 20*np.log10(np.abs(Wkb)), color='C3')\n",
    "plt.ylim(-100, 0)\n",
    "plt.xlim(-np.pi, +np.pi)\n",
    "\n",
    "# zoom the main lobe:\n",
    "if False:\n",
    "    plt.xlim(-3*bw, +3*bw)\n",
    "\n",
    "plt.xlabel(r'$\\Omega$ / rad')\n",
    "plt.ylabel(r'$20 \\log_{10}|W(\\Omega)|$ in dB')\n",
    "plt.grid(True)"
   ]
  },
  {
   "cell_type": "code",
   "execution_count": null,
   "id": "874c58d6-fd93-4459-9d1e-a68f4bd91ffa",
   "metadata": {},
   "outputs": [],
   "source": [
    "a = np.zeros(M)\n",
    "a[0] = 1"
   ]
  },
  {
   "cell_type": "code",
   "execution_count": null,
   "id": "c89e7672-2b7c-4a1c-8613-bcd8e9f4f41e",
   "metadata": {},
   "outputs": [],
   "source": [
    "[z, p, gain] = tf2zpk(wdc, a)\n",
    "zplane_plot(z, p, gain)\n",
    "plt.title('Dolph-Chebyshev')\n",
    "np.abs(z)  # all zeros on! the unit-circle == optimum design"
   ]
  },
  {
   "cell_type": "code",
   "execution_count": null,
   "id": "8e724925-15b8-4075-bd27-6a10e997f9ff",
   "metadata": {},
   "outputs": [],
   "source": [
    "[z, p, gain] = tf2zpk(wslep, a)\n",
    "zplane_plot(z, p, gain)\n",
    "plt.title('DPSS aka Slepian')\n",
    "np.abs(z)  # all zeros on! the unit-circle == optimum design"
   ]
  },
  {
   "cell_type": "code",
   "execution_count": null,
   "id": "a2597198-3fe0-41b0-9eb6-aa5ec539489a",
   "metadata": {},
   "outputs": [],
   "source": [
    "[z, p, gain] = tf2zpk(wkb, a)\n",
    "zplane_plot(z, p, gain)\n",
    "plt.title('Kaiser-Bessel')\n",
    "np.abs(z)  # all zeros on! the unit-circle == optimum design"
   ]
  },
  {
   "cell_type": "markdown",
   "id": "97ad6fb6-34ad-43d5-bea9-7a11359bc0d2",
   "metadata": {},
   "source": [
    "**Copyright**\n",
    "\n",
    "The notebooks are provided as [Open Educational Resources](https://en.wikipedia.org/wiki/Open_educational_resources). Feel free to use the notebooks for your own purposes. The text is licensed under [Creative Commons Attribution 4.0](https://creativecommons.org/licenses/by/4.0/), the code of the IPython examples under the [MIT license](https://opensource.org/licenses/MIT). Please attribute the work as follows: *Frank Schultz, Digital Signal Processing - A Tutorial Featuring Computational Examples* with the URL https://github.com/spatialaudio/digital-signal-processing-exercises"
   ]
  },
  {
   "cell_type": "code",
   "execution_count": null,
   "id": "88ed9418-2f72-4097-a6b9-f5c02e45ba9b",
   "metadata": {},
   "outputs": [],
   "source": []
  },
  {
   "cell_type": "code",
   "execution_count": null,
   "id": "36ee8ad4-85f1-4f19-abee-b6e953e23a9b",
   "metadata": {},
   "outputs": [],
   "source": []
  }
 ],
 "metadata": {
  "kernelspec": {
   "display_name": "Python 3 (ipykernel)",
   "language": "python",
   "name": "python3"
  },
  "language_info": {
   "codemirror_mode": {
    "name": "ipython",
    "version": 3
   },
   "file_extension": ".py",
   "mimetype": "text/x-python",
   "name": "python",
   "nbconvert_exporter": "python",
   "pygments_lexer": "ipython3",
   "version": "3.9.12"
  }
 },
 "nbformat": 4,
 "nbformat_minor": 5
}
