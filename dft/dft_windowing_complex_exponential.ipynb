{
 "cells": [
  {
   "cell_type": "markdown",
   "metadata": {},
   "source": [
    "Sascha Spors,\n",
    "Professorship Signal Theory and Digital Signal Processing,\n",
    "Institute of Communications Engineering (INT),\n",
    "Faculty of Computer Science and Electrical Engineering (IEF),\n",
    "University of Rostock,\n",
    "Germany\n",
    "\n",
    "# Tutorial Digital Signal Processing\n",
    "\n",
    "**DFT/DTFT and Windowing for Superposition of 2 Complex Exponential Signals**,\n",
    "Winter Semester 2023/24 (Course #24505)\n",
    "\n",
    "- lecture: https://github.com/spatialaudio/digital-signal-processing-lecture\n",
    "- tutorial: https://github.com/spatialaudio/digital-signal-processing-exercises\n",
    "\n",
    "Feel free to contact lecturer jacob.thoenes@uni-rostock.de"
   ]
  },
  {
   "cell_type": "markdown",
   "metadata": {},
   "source": [
    "# DTFT for Windowing\n",
    "\n",
    "The signal $x[k]$ over time index $k$ is being windowed by $w[k]$, for which the corresponding **circular convolution** holds in DTFT domain\n",
    "\n",
    "\\begin{equation}\n",
    "x[k] \\cdot w[k] \\circ-\\bullet \\frac{1}{2\\pi} X(\\Omega) \\circledast_{2\\pi} W(\\Omega)\n",
    "\\end{equation}\n",
    "\n",
    "Typically for the window function we choose non-zero values in $w[k]$ for $0 \\leq k \\leq N-1$ and $w[k]=0$ elsewhere.\n",
    "\n",
    "Thus, we deal with a length $N$ signal that is non-zero at $0 \\leq k \\leq N-1$.\n",
    "We can apply an $N$ DFT onto this signal $x_w[k] = x[0 \\leq k \\leq N-1] \\cdot w[0 \\leq k \\leq N-1]$ to obtain its DFT spectrum $X_w[\\mu]$ with the baseband $0\\leq\\mu\\leq N-1$.\n",
    "\n",
    "We are allowed to interpolate the DTFT spectrum from the DFT spectrum, (only) if we assume that $x_w[k]$ is a single occurring sequence, but is not periodic in $N$."
   ]
  },
  {
   "cell_type": "markdown",
   "metadata": {},
   "source": [
    "## Special Case: Complex Exponential\n",
    "\n",
    "For a certain frequency $\\Omega_1$ we can invent a simple complex exponential signal\n",
    "\n",
    "\\begin{equation}\n",
    "x_1[k] = \\mathrm{e}^{+\\mathrm{j} \\Omega_1 k} \\circ-\\bullet \\bot\\bot\\bot (\\frac{\\Omega-\\Omega_1}{2\\pi})\n",
    "\\end{equation}\n",
    "\n",
    "For certain window / DFT length $N$, the $\\Omega_1 = \\frac{2\\pi}{N} \\cdot \\mu$ for $0\\leq\\mu\\leq N-1$ correspond to the DFT eigenfrequencies in the spectrum baseband. On the other hand, if $\\mu$ is rather non-integer, the frequency is between two DFT eigenfrequencies.\n",
    "\n",
    "Since the complex exponential signal exhibits a Dirac comb in DTFT domain, the above circular convolution for the windowing process is very convenient to discuss:\n",
    "\n",
    "The Dirac is the neutral element of the convolution.\n",
    "Thus, to analyze the spectrum of $x_1[k]$ (actually its windowed part) we just need to interpret the DTFT spectrum $W(\\Omega-\\Omega_1)$, i.e. the window spectrum that is circular shifted along frequency axis."
   ]
  },
  {
   "cell_type": "markdown",
   "metadata": {},
   "source": [
    "## Special Case: Superposition of Two Complex Exponentials\n",
    "\n",
    "In case of two complex exponentials\n",
    "\n",
    "\\begin{equation}\n",
    "x_1[k] = \\mathrm{e}^{+\\mathrm{j} \\Omega_1 k} \\circ-\\bullet \\bot\\bot\\bot (\\frac{\\Omega-\\Omega_1}{2\\pi})\n",
    "\\end{equation}\n",
    "\n",
    "\\begin{equation}\n",
    "x_2[k] = \\mathrm{e}^{+\\mathrm{j} \\Omega_2 k} \\circ-\\bullet \\bot\\bot\\bot (\\frac{\\Omega-\\Omega_2}{2\\pi})\n",
    "\\end{equation}\n",
    "\n",
    "the superposition of these signals and windowing yields\n",
    "\n",
    "\\begin{equation}\n",
    "w[k] \\cdot (x_1[k] + x_2[k]) \\circ-\\bullet W(\\Omega-\\Omega_1) + W(\\Omega-\\Omega_2)\n",
    "\\end{equation}\n",
    "\n",
    "To discuss the spectral characteristics of $x_1[k] + x_2[k]$ we need to interpret the **complex-valued** superposition\n",
    "of the two spectra $W(\\Omega-\\Omega_1)$ and $W(\\Omega-\\Omega_2)$.\n",
    "If we can handle this simple case, we have a better understanding for real world signal applications."
   ]
  },
  {
   "cell_type": "markdown",
   "metadata": {},
   "source": [
    "First, let's define a convenient plotting routine."
   ]
  },
  {
   "cell_type": "code",
   "execution_count": null,
   "metadata": {},
   "outputs": [],
   "source": [
    "import numpy as np\n",
    "import matplotlib.pyplot as plt\n",
    "from numpy.fft import fft, ifft, fftshift\n",
    "#from scipy.fft import fft, ifft, fftshift\n",
    "from scipy.signal.windows import kaiser\n",
    "\n",
    "\n",
    "def plot_dft_dtft():  # TBD: proper scaling between DFT and DTFT !!!\n",
    "    X1, X2 = fft(x1), fft(x2)\n",
    "    x = x1 + x2\n",
    "    X = fft(x)  # == fft(x1) + fft(x2) due to linearity\n",
    "\n",
    "    # zeropadding to obtain a DTFT-like frequency resolution:\n",
    "    Nz = 2**4 * N  # appropriate higher resolution such that curves are smooth\n",
    "    muz = np.arange(Nz)\n",
    "    x1z, x2z = np.zeros(Nz, dtype='complex'), np.zeros(Nz, dtype='complex')\n",
    "    x1z[0:N], x2z[0:N] = x1, x2\n",
    "    X1z, X2z = fft(x1z), fft(x2z)\n",
    "    xz = x1z + x2z\n",
    "    Xz = fft(xz)\n",
    "\n",
    "    plt.figure(figsize=(6, 6))\n",
    "    plt.subplot(2, 1, 1)\n",
    "    plt.stem(mu, np.abs(X1), basefmt='C0:', linefmt='C0:', markerfmt='C0o',\n",
    "             label=r'DFT $|X_1[\\mu]|$')\n",
    "    plt.stem(mu, np.abs(X2), basefmt='C1:', linefmt='C1:', markerfmt='C1o',\n",
    "             label=r'DFT $|X_2[\\mu]|$')\n",
    "    plt.plot(muz / Nz * N, np.abs(X1z), 'C0',\n",
    "             label=r'DTFT $|X_1(\\Omega)|$')\n",
    "    plt.plot(muz / Nz * N, np.abs(X2z), 'C1',\n",
    "             label=r'DTFT $|X_2(\\Omega)|$')\n",
    "\n",
    "    plt.xlim(0, N)\n",
    "    plt.xlabel(r'DFT frequency index $\\mu$')\n",
    "    plt.ylabel(r'Magnitude (also absolute value)')\n",
    "    plt.legend()\n",
    "    plt.grid(True)\n",
    "\n",
    "    plt.subplot(2, 1, 2)\n",
    "    plt.stem(mu / N * 2 * np.pi, np.abs(X),\n",
    "             basefmt='C0:', linefmt='C0:', markerfmt='C0o',\n",
    "             label=r'DFT $|X_1[\\mu]+X_2[\\mu]|$')\n",
    "    plt.plot(muz / Nz * 2 * np.pi, np.abs(Xz), 'C0',\n",
    "             label=r'DTFT $|X_1(\\Omega) + X_2(\\Omega)|$')\n",
    "    # due to linearity of convolution and Fourier transforms the same results\n",
    "    # are obtained via:\n",
    "    plt.stem(mu / N * 2 * np.pi, np.abs(X1+X2),\n",
    "             basefmt='C7:', linefmt='C7:', markerfmt='C7.')\n",
    "    plt.plot(muz / Nz * 2 * np.pi, np.abs(X1z+X2z), 'C7:')\n",
    "\n",
    "    plt.xlim(0, 2*np.pi)\n",
    "    plt.xlabel(r'DTFT frequency $\\Omega$')\n",
    "    plt.ylabel(r'Magnitude (also modulus)')\n",
    "    plt.legend()\n",
    "    plt.grid(True)"
   ]
  },
  {
   "cell_type": "markdown",
   "metadata": {},
   "source": [
    "Then, we should define a certain (rather small) DFT length $N$. "
   ]
  },
  {
   "cell_type": "code",
   "execution_count": null,
   "metadata": {},
   "outputs": [],
   "source": [
    "# signal & DFT parameter\n",
    "N = 2**4\n",
    "k, mu = np.arange(N), np.arange(N)"
   ]
  },
  {
   "cell_type": "markdown",
   "metadata": {},
   "source": [
    "Note that the scaling of DTFT is aligned to the DFT data for better visual cues.\n",
    "We should clarify this even more in future.\n",
    "\n",
    "In the upcoming examples, we always have two plots\n",
    "- the upper graph over DFT frequency index $\\mu$ shows the two magnitude DTFT spectra of $W(\\Omega-\\Omega_1)$, $W(\\Omega-\\Omega_2)$ and there corresponding DFT spectra (dots)\n",
    "- the lower plots over DTFT frequency $\\Omega$ shows the DTFT / DFT spectrum of the signal / spectrum superposition\n",
    "\n",
    "Thus, in the upper plot we see how two Dirac impulses are smeared by the window spectrum. We can study the characteristics of\n",
    "- the so called mainlobe (the shape around the spectrum's maximum) and\n",
    "- the so called sidelobes (the shapes that are followed by the mainlobe)\n",
    "- number of zeros (for optimum windows we have $N-1$ zeros in the DTFT spectrum). Note that $\\Omega=0=2\\pi$ is the same zero, due to periodicity.\n",
    "- number of non-zeros coefficients in DFT\n",
    "\n",
    "In the lower plot we see how the superposition of the two signals affects the resulting spectrum.\n",
    "- Do we obtain a separate mainlobes for the two frequencies?\n",
    "- Or do we obtain a rather broad single mainlobe, not able to tell that the signal is built from two frequencies?\n",
    "- Do we have zeros in the spectrum?\n",
    "- How about the sidelobe magnitude and the decay of the sidelobes?"
   ]
  },
  {
   "cell_type": "markdown",
   "metadata": {},
   "source": [
    "# Rectangular Window"
   ]
  },
  {
   "cell_type": "code",
   "execution_count": null,
   "metadata": {},
   "outputs": [],
   "source": [
    "# superposition of 2 complex exponential signals\n",
    "mu1, mu2 = 6, 8  # we choose two DFT eigenfrequencies here\n",
    "x1, x2 = 1*np.exp(1j * 2*np.pi/N * k*mu1), 1*np.exp(1j * 2*np.pi/N * k*mu2)\n",
    "plot_dft_dtft()  # we see two separate main lobes\n",
    "# the rectangular window has most narrow mainlobe width but at the price of\n",
    "# highest sidelobes amplitude and slow(est?) sidelobe decay"
   ]
  },
  {
   "cell_type": "code",
   "execution_count": null,
   "metadata": {},
   "outputs": [],
   "source": [
    "# superposition of 2 complex exponential signals\n",
    "mu1, mu2 = 6, 7\n",
    "x1, x2 = 1*np.exp(1j * 2*np.pi/N * k*mu1), 1*np.exp(1j * 2*np.pi/N * k*mu2)\n",
    "plot_dft_dtft()  # we still see two separate main lobes\n",
    "# mainlobes are now direct neighbours w.r.t. the DFT bins\n",
    "# maximum of X1[mu] corresponds to a zero in X2[mu] and vice versa\n",
    "\n",
    "# What happens if we put these signal frequencies even closer?\n",
    "# Let's have a look at the next plot."
   ]
  },
  {
   "cell_type": "code",
   "execution_count": null,
   "metadata": {},
   "outputs": [],
   "source": [
    "# superposition of 2 complex exponential signals\n",
    "mu1, mu2 = 6, 6.5\n",
    "x1, x2 = 1*np.exp(1j * 2*np.pi/N * k*mu1), 1*np.exp(1j * 2*np.pi/N * k*mu2)\n",
    "plot_dft_dtft()  # the two signal frequencies cannot longer clearly\n",
    "# detected, since # their individual spectra smear into one single main lobe\n",
    "\n",
    "# the orange spectrum (mu=6.5) is the worst case w.r.t. leakage effect, there\n",
    "# all DFT coefficients have energy and thus suggest a multi-frequency\n",
    "# signal. We know that this is only a single frequency signal, which was\n",
    "# however very unfortunate cutted to fit in the chosen DFT length"
   ]
  },
  {
   "cell_type": "markdown",
   "metadata": {},
   "source": [
    "# Kaiser-Bessel Window"
   ]
  },
  {
   "cell_type": "code",
   "execution_count": null,
   "metadata": {},
   "outputs": [],
   "source": [
    "# signal & DFT parameter\n",
    "N = 2**4\n",
    "k, mu = np.arange(N), np.arange(N)\n",
    "\n",
    "# window\n",
    "w = kaiser(N, beta=3, sym=False)  # beta = 0 is rect window\n",
    "\n",
    "# superposition of 2 complex exponential signals\n",
    "# with non-rectangular windowing to reduce leakage effect\n",
    "mu1, mu2 = 6, 8\n",
    "x1, x2 = 1*w*np.exp(1j * 2*np.pi/N * k*mu1), 1*w*np.exp(1j * 2*np.pi/N * k*mu2)\n",
    "\n",
    "plot_dft_dtft()\n",
    "# with this window and window parametrization we are able to reduce the\n",
    "# leakage effect, the two mainlobes are separated, but the valley between\n",
    "# the two mainlobes has comparably large amplitude, it would be nice to have\n",
    "# the two mainlobes better separated. We can do this by decreasing beta.\n",
    "# Question: to what price?\n",
    "\n",
    "# play around with beta = 0...3 and check the mainlobe width and sidelobe height\n",
    "# ensure that beta=0 is identical with the rect window (this is a nice feature\n",
    "# of the Kaiser-Bessel window)\n",
    "# we can apply amplitude 0 to one of the signals just to see the spectrum\n",
    "# of a single signal"
   ]
  },
  {
   "cell_type": "code",
   "execution_count": null,
   "metadata": {},
   "outputs": [],
   "source": [
    "# signal & DFT parameter\n",
    "N = 2**4\n",
    "k, mu = np.arange(N), np.arange(N)\n",
    "\n",
    "# window\n",
    "w = kaiser(N, beta=7, sym=False)  # beta = 0 is rect window\n",
    "\n",
    "# superposition of 2 complex exponential signals\n",
    "# with non-rectangular windowing to reduce leakage effect\n",
    "mu1, mu2 = 6, 8\n",
    "x1, x2 = 1*w*np.exp(1j * 2*np.pi/N * k*mu1), 1*w*np.exp(1j * 2*np.pi/N * k*mu2)\n",
    "\n",
    "plot_dft_dtft()\n",
    "# with this window and window parametrization we are able to reduce the\n",
    "# leakage effect even more, however now we broadend the two mainlobes in the\n",
    "# upper plot\n",
    "# such that they smear to one single mainlobe in the lower picture\n",
    "# again this is always the general trade-off of windowing:\n",
    "# broader mainlobe == smaller sidelobes but at a price of less frequency\n",
    "# sensitivity "
   ]
  },
  {
   "cell_type": "markdown",
   "metadata": {},
   "source": [
    "**Copyright**\n",
    "\n",
    "The notebooks are provided as [Open Educational Resources](https://en.wikipedia.org/wiki/Open_educational_resources). Feel free to use the notebooks for your own purposes. The text is licensed under [Creative Commons Attribution 4.0](https://creativecommons.org/licenses/by/4.0/), the code of the IPython examples under the [MIT license](https://opensource.org/licenses/MIT). Please attribute the work as follows: *Frank Schultz, Digital Signal Processing - A Tutorial Featuring Computational Examples* with the URL https://github.com/spatialaudio/digital-signal-processing-exercises"
   ]
  }
 ],
 "metadata": {
  "kernelspec": {
   "display_name": "Python 3 (ipykernel)",
   "language": "python",
   "name": "python3"
  },
  "language_info": {
   "codemirror_mode": {
    "name": "ipython",
    "version": 3
   },
   "file_extension": ".py",
   "mimetype": "text/x-python",
   "name": "python",
   "nbconvert_exporter": "python",
   "pygments_lexer": "ipython3",
   "version": "3.10.12"
  }
 },
 "nbformat": 4,
 "nbformat_minor": 4
}
