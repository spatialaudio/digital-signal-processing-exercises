{
 "cells": [
  {
   "cell_type": "markdown",
   "id": "482bb755-1c38-452e-a862-0e5f922b45c4",
   "metadata": {},
   "source": [
    "Sascha Spors,\n",
    "Professorship Signal Theory and Digital Signal Processing,\n",
    "Institute of Communications Engineering (INT),\n",
    "Faculty of Computer Science and Electrical Engineering (IEF),\n",
    "University of Rostock,\n",
    "Germany\n",
    "\n",
    "# Tutorial Digital Signal Processing\n",
    "\n",
    "**Solving a Set of Linear Equations Using Matrices**,\n",
    "\n",
    "- lecture: https://github.com/spatialaudio/digital-signal-processing-lecture\n",
    "- tutorial: https://github.com/spatialaudio/digital-signal-processing-exercises\n",
    "\n",
    "Feel free to contact lecturer frank.schultz@uni-rostock.de"
   ]
  },
  {
   "cell_type": "markdown",
   "id": "25c254b8-bd05-4f15-afeb-2433615a58d8",
   "metadata": {},
   "source": [
    "# Solving a Set of Linear Equations Using Matrices \n",
    "\n",
    "For example a set of linear equations:\n",
    "$$\n",
    "\\begin{matrix}\n",
    "2x_1 &+& 1x_2 & -&1x_3 &= &8\\\\\n",
    "-3x_1 &-&1x_2 &+& 2x_3 &= &-11\\\\\n",
    "-2x_1 &+& 1x_2&+ & 2x_3 &= &-3\n",
    "\\end{matrix}\n",
    "$$\n",
    "can be transformed to matrix and vector notation:\n",
    "$$\n",
    "\\textbf{A}=\\begin{bmatrix}\n",
    "2 & 1 & -1\\\\\n",
    "-3 & -1 & 2\\\\\n",
    "-2 &1 & 2\n",
    "\\end{bmatrix} \n",
    "\\quad;\\quad \n",
    "\\textbf{x}=\\begin{bmatrix}\n",
    "x_1 \\\\\n",
    "x_2 \\\\\n",
    "x_3 \n",
    "\\end{bmatrix} \n",
    "\\quad;\\quad \n",
    "\\textbf{b}=\\begin{bmatrix}\n",
    "8 \\\\\n",
    "-11 \\\\\n",
    "-3 \n",
    "\\end{bmatrix} \n",
    "$$\n",
    "or in a more simple way as:\n",
    "\n",
    "$$\n",
    "\\textbf{A} \\textbf{x}=\\textbf{b}\n",
    "$$\n",
    "\n",
    "To solve this problem we need to invert $\\textbf{A}$:\n",
    "\n",
    "$$\n",
    "\\textbf{x}=\\textbf{A}^{-1}\\textbf{b}\n",
    "$$"
   ]
  },
  {
   "cell_type": "code",
   "execution_count": 1,
   "id": "e066578a-7274-4936-9bb8-0634fa59c860",
   "metadata": {},
   "outputs": [
    {
     "name": "stdout",
     "output_type": "stream",
     "text": [
      "b= [  8 -11  -3] \n",
      "\n",
      "A= [[ 2  1 -1]\n",
      " [-3 -1  2]\n",
      " [-2  1  2]]\n"
     ]
    }
   ],
   "source": [
    "import numpy as np\n",
    "# Programm it\n",
    "\n",
    "A = [[2,1,-1],[-3,-1,2],[-2,1,2]]\n",
    "A = np.matrix(A)\n",
    "\n",
    "b = [8,-11,-3]\n",
    "b = np.array(b)\n",
    "\n",
    "print(\"b=\",b,\"\\n\")\n",
    "print(\"A=\",A)"
   ]
  },
  {
   "cell_type": "code",
   "execution_count": 2,
   "id": "3bfff31d-66c0-48d4-aa13-baf5634358b0",
   "metadata": {},
   "outputs": [
    {
     "name": "stdout",
     "output_type": "stream",
     "text": [
      "[[ 2.  3. -1.]]\n"
     ]
    }
   ],
   "source": [
    "x = np.dot(A**-1,b)\n",
    "print(x)"
   ]
  },
  {
   "cell_type": "markdown",
   "id": "b9fb7818-03a1-41a7-b8b4-404285ac2169",
   "metadata": {},
   "source": [
    "Is it right? I think so!"
   ]
  }
 ],
 "metadata": {
  "kernelspec": {
   "display_name": "Python 3 (ipykernel)",
   "language": "python",
   "name": "python3"
  },
  "language_info": {
   "codemirror_mode": {
    "name": "ipython",
    "version": 3
   },
   "file_extension": ".py",
   "mimetype": "text/x-python",
   "name": "python",
   "nbconvert_exporter": "python",
   "pygments_lexer": "ipython3",
   "version": "3.9.12"
  }
 },
 "nbformat": 4,
 "nbformat_minor": 5
}
