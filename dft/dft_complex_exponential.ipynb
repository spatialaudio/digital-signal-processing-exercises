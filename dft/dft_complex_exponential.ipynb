{
 "cells": [
  {
   "cell_type": "markdown",
   "id": "4824c0ec-f6e6-414f-a496-029d5eff4f77",
   "metadata": {},
   "source": [
    "Sascha Spors,\n",
    "Professorship Signal Theory and Digital Signal Processing,\n",
    "Institute of Communications Engineering (INT),\n",
    "Faculty of Computer Science and Electrical Engineering (IEF),\n",
    "University of Rostock,\n",
    "Germany\n",
    "\n",
    "# Tutorial Digital Signal Processing\n",
    "\n",
    "**DFT Fundamentals**,\n",
    "Winter Semester 2021/22 (Course #24505)\n",
    "\n",
    "- lecture: https://github.com/spatialaudio/digital-signal-processing-lecture\n",
    "- tutorial: https://github.com/spatialaudio/digital-signal-processing-exercises\n",
    "\n",
    "Feel free to contact lecturer frank.schultz@uni-rostock.de"
   ]
  },
  {
   "cell_type": "code",
   "execution_count": null,
   "id": "2ed23ca5-861d-4f7a-9010-bce0011dc495",
   "metadata": {},
   "outputs": [],
   "source": [
    "import matplotlib.pyplot as plt\n",
    "import numpy as np\n",
    "from numpy.fft import fft, ifft\n",
    "\n",
    "# from scipy.fft import fft, ifft\n",
    "from scipy.special import diric\n",
    "\n",
    "\n",
    "def dft2dtft(X, Om):  # from dft_to_dtft_interpolation.ipynb\n",
    "    N = len(X)\n",
    "    Xi = np.zeros(len(Om), dtype=\"complex\")\n",
    "    for i, Omega in enumerate(Om):\n",
    "        for mu_dft in range(N):\n",
    "            Xi[i] += (\n",
    "                X[mu_dft]\n",
    "                * np.exp(-1j / 2 * (Omega - 2 * np.pi / N * mu_dft) * (N - 1))\n",
    "                * diric(Omega - 2 * np.pi / N * mu_dft, N)\n",
    "            )\n",
    "    return Xi\n",
    "\n",
    "\n",
    "width = 10\n",
    "height = 10 / 16 * width\n",
    "figsize = (width, height)"
   ]
  },
  {
   "cell_type": "markdown",
   "id": "bf0a1ba9-7ab7-4bc7-8048-c33f96764ce2",
   "metadata": {},
   "source": [
    "# Calculate DFT / DTFT"
   ]
  },
  {
   "cell_type": "code",
   "execution_count": null,
   "id": "a2b5d7de-1880-4e5d-8dc2-eb2c730d53e2",
   "metadata": {},
   "outputs": [],
   "source": [
    "# DFT stuff\n",
    "N = 16  # DFT block size\n",
    "\n",
    "k = np.arange(N)  # time index\n",
    "mu = np.arange(N)  # frequency index for DFT\n",
    "dOm = 2 * np.pi / N  # DFT's Omega resolution\n",
    "twiddle = np.exp(+1j * dOm)  # basis twiddle factor\n",
    "# 1/np.sqrt(N) yields an orthonormal!!! Fourier matrix:\n",
    "W = (twiddle ** np.outer(k, k)) / np.sqrt(N)\n",
    "\n",
    "# create signal\n",
    "\n",
    "# frequency scale factor in term sof DFT's dOm:\n",
    "mu_x = 1.0  # best case = is a DFT eigensignal\n",
    "# mu_x = 1.5  # worst case -> between two DFT eigensignals\n",
    "\n",
    "tmp = np.exp(+1j * dOm * k * mu_x) / np.sqrt(N)\n",
    "x = tmp  # complex signal\n",
    "# x = tmp.real  # real signal-> cosine\n",
    "# x = tmp.imag  # real signal-> sine\n",
    "\n",
    "# calc DFT\n",
    "X = W.conj() @ x\n",
    "# X_tmp = fft(x) * 1/np.sqrt(N)  # needs 1/np.sqrt(N) to be consistent with above defined W!!!\n",
    "# print(np.allclose(X, X_tmp))\n",
    "\n",
    "# calc IDFT\n",
    "x_tmp = W @ X\n",
    "print(\"x = IDFT(DFT(x)): \", np.allclose(x, x_tmp))\n",
    "# x_tmp = ifft(X) * np.sqrt(N)  # needs 1/np.sqrt(N) to be consistent with above defined W!!!\n",
    "# print(np.allclose(x, x_tmp))\n",
    "\n",
    "# calc DFT -> DTFT interpolation\n",
    "N_dtft = (\n",
    "    2**10\n",
    ")  # number of frequencies along unit circle at which DTFT values are calc\n",
    "Om_dtft = np.arange(N_dtft) * 2 * np.pi / N_dtft  # set up frequency vector\n",
    "X_dtft = dft2dtft(X, Om_dtft)  # perform interp"
   ]
  },
  {
   "cell_type": "markdown",
   "id": "19ff0508-0c70-4fe6-ab47-faab15c8ec45",
   "metadata": {},
   "source": [
    "# Signal Model Corresponding to DFT\n",
    "\n",
    "- both, the signal and the DFT spectrum are periodic in $N$\n",
    "- both, the signal and the DFT spectrum are discrete signals"
   ]
  },
  {
   "cell_type": "markdown",
   "id": "f1d0e259-b71d-42cc-9048-a7e6d6f8e4ab",
   "metadata": {},
   "source": [
    "## Plot Real/Imaginary Parts of Signal and DFT Spectrum"
   ]
  },
  {
   "cell_type": "code",
   "execution_count": null,
   "id": "8554e164-4210-4016-922f-aa8574ceb28f",
   "metadata": {},
   "outputs": [],
   "source": [
    "fig, ax = plt.subplots(nrows=2, ncols=2, figsize=figsize)\n",
    "ax[0, 0].stem(k, x.real, basefmt=\"C0:\", linefmt=\"C0:\", markerfmt=\"C0o\")\n",
    "ax[1, 0].stem(k, x.imag, basefmt=\"C1:\", linefmt=\"C1:\", markerfmt=\"C1o\")\n",
    "ax[0, 1].stem(mu, X.real, basefmt=\"C0:\", linefmt=\"C0:\", markerfmt=\"C0o\")\n",
    "ax[1, 1].stem(mu, X.imag, basefmt=\"C1:\", linefmt=\"C1:\", markerfmt=\"C1o\")\n",
    "for i in range(2):\n",
    "    ax[i, 0].set_xticks(np.arange(N))\n",
    "    ax[i, 1].set_xticks(np.arange(N))\n",
    "    ax[i, 0].set_ylim(-1 / np.sqrt(N), +1 / np.sqrt(N))\n",
    "    ax[i, 1].set_ylim(-1, +1)\n",
    "    ax[i, 0].grid(True, color=\"lightgray\")\n",
    "    ax[i, 1].grid(True, color=\"lightgray\")\n",
    "ax[0, 0].set_title(r\"periodic signal,  $\\Re\\{x[k]\\}$\")\n",
    "ax[1, 0].set_title(r\"$\\Im\\{x[k]\\}$\")\n",
    "ax[0, 1].set_title(r\"periodic, discrete DFT spectrum, $\\Re\\{X[\\mu]\\}$\")\n",
    "ax[1, 1].set_title(r\"$\\Im\\{X[\\mu]\\}$\")\n",
    "ax[1, 0].set_xlabel(r\"$k$\")\n",
    "ax[1, 1].set_xlabel(r\"$\\mu$\");"
   ]
  },
  {
   "cell_type": "markdown",
   "id": "d77119cc-59e5-4c14-833b-39d5cd50f56a",
   "metadata": {},
   "source": [
    "## Plot Real/Imaginary Parts of Signal and Magnitude/Phase of DFT Spectrum"
   ]
  },
  {
   "cell_type": "code",
   "execution_count": null,
   "id": "91712877-e32d-41b7-bc45-c40f0069ac6f",
   "metadata": {},
   "outputs": [],
   "source": [
    "fig, ax = plt.subplots(nrows=2, ncols=2, figsize=figsize)\n",
    "ax[0, 0].stem(k, x.real, basefmt=\"C0:\", linefmt=\"C0:\", markerfmt=\"C0o\")\n",
    "ax[1, 0].stem(k, x.imag, basefmt=\"C1:\", linefmt=\"C1:\", markerfmt=\"C1o\")\n",
    "ax[0, 1].stem(mu, np.abs(X), basefmt=\"C0:\", linefmt=\"C0:\", markerfmt=\"C0o\")\n",
    "ax[1, 1].stem(mu, np.angle(X), basefmt=\"C1:\", linefmt=\"C1:\", markerfmt=\"C1o\")\n",
    "for i in range(2):\n",
    "    ax[i, 0].set_xticks(np.arange(N))\n",
    "    ax[i, 1].set_xticks(np.arange(N))\n",
    "    ax[i, 0].set_ylim(-1 / np.sqrt(N), +1 / np.sqrt(N))\n",
    "    ax[i, 0].grid(True, color=\"lightgray\")\n",
    "    ax[i, 1].grid(True, color=\"lightgray\")\n",
    "ax[0, 1].set_ylim(-1, +1)\n",
    "ax[1, 1].set_ylim(-np.pi, +np.pi)\n",
    "ax[0, 0].set_title(r\"periodic signal,  $\\Re\\{x[k]\\}$\")\n",
    "ax[1, 0].set_title(r\"$\\Im\\{x[k]\\}$\")\n",
    "ax[0, 1].set_title(r\"periodic, discrete DFT spectrum, $|X[\\mu]|$\")\n",
    "ax[1, 1].set_title(r\"$\\arg(X[\\mu])$ in rad\")\n",
    "ax[1, 0].set_xlabel(r\"$k$\")\n",
    "ax[1, 1].set_xlabel(r\"$\\mu$\");"
   ]
  },
  {
   "cell_type": "markdown",
   "id": "b7416200-9722-4f59-8a74-37cba87e095a",
   "metadata": {},
   "source": [
    "# Signal Model Corresponding to DTFT\n",
    "\n",
    "- the signal $x[k]$ is zero for $k<0$ and $k>N-1$, thus **non-periodic**\n",
    "- the signal is discrete\n",
    "- the DTFT spectrum is periodic in $2\\pi$\n",
    "- the DTFT spectrum is continous"
   ]
  },
  {
   "cell_type": "markdown",
   "id": "ceafa6ec-0ff8-4611-99ca-c632388fe8b9",
   "metadata": {},
   "source": [
    "## Plot Real/Imaginary Parts of Signal and DTFT Spectrum"
   ]
  },
  {
   "cell_type": "code",
   "execution_count": null,
   "id": "8dddab94-66dc-464e-aed5-54a74645d32f",
   "metadata": {},
   "outputs": [],
   "source": [
    "fig, ax = plt.subplots(nrows=2, ncols=2, figsize=figsize)\n",
    "ax[0, 0].stem(k, x.real, basefmt=\"C0:\", linefmt=\"C0:\", markerfmt=\"C0o\")\n",
    "ax[1, 0].stem(k, x.imag, basefmt=\"C1:\", linefmt=\"C1:\", markerfmt=\"C1o\")\n",
    "ax[0, 1].stem((mu * dOm) / dOm, X.real, basefmt=\"C0:\", linefmt=\"C0:\", markerfmt=\"C4.\")\n",
    "ax[1, 1].stem((mu * dOm) / dOm, X.imag, basefmt=\"C1:\", linefmt=\"C1:\", markerfmt=\"C3.\")\n",
    "ax[0, 1].plot(Om_dtft / dOm, X_dtft.real, \"C0\")\n",
    "ax[1, 1].plot(Om_dtft / dOm, X_dtft.imag, \"C1\")\n",
    "for i in range(2):\n",
    "    ax[i, 1].set_xlim((0, N))\n",
    "    ax[i, 0].set_xticks(np.arange(N))\n",
    "    ax[i, 1].set_xticks(np.arange(N))\n",
    "    ax[i, 0].set_ylim(-1 / np.sqrt(N), +1 / np.sqrt(N))\n",
    "    ax[i, 1].set_ylim(-1, +1)\n",
    "    ax[i, 0].grid(True, color=\"lightgray\")\n",
    "    ax[i, 1].grid(True, color=\"lightgray\")\n",
    "ax[0, 0].set_title(r\"non-periodic signal (zero outside), $\\Re\\{x[k]\\}$\")\n",
    "ax[1, 0].set_title(r\"$\\Im\\{x[k]\\}$\")\n",
    "ax[0, 1].set_title(r\"periodic, continuous DTFT spectrum, $\\Re\\{X(\\Omega)\\}$\")\n",
    "ax[1, 1].set_title(r\"$\\Im\\{X(\\Omega)\\}$\")\n",
    "ax[1, 0].set_xlabel(r\"$k$\")\n",
    "ax[1, 1].set_xlabel(r\"$\\Omega / (\\frac{2 \\pi}{N})$\")\n",
    "ax[0, 1].text(1, -0.7, \"dots represent the DFT coefficients\");"
   ]
  },
  {
   "cell_type": "markdown",
   "id": "b10f6a4a-2885-408e-b83a-40fd07389651",
   "metadata": {},
   "source": [
    "## Plot Real/Imaginary Parts of Signal and Magnitude/Phase of DTFT Spectrum"
   ]
  },
  {
   "cell_type": "code",
   "execution_count": null,
   "id": "acab0e30-c33d-4186-b3a8-f2ec581098f1",
   "metadata": {},
   "outputs": [],
   "source": [
    "fig, ax = plt.subplots(nrows=2, ncols=2, figsize=figsize)\n",
    "ax[0, 0].stem(k, x.real, basefmt=\"C0:\", linefmt=\"C0:\", markerfmt=\"C0o\")\n",
    "ax[1, 0].stem(k, x.imag, basefmt=\"C1:\", linefmt=\"C1:\", markerfmt=\"C1o\")\n",
    "ax[0, 1].stem(\n",
    "    (mu * dOm) / dOm, np.abs(X), basefmt=\"C0:\", linefmt=\"C0:\", markerfmt=\"C4.\"\n",
    ")\n",
    "ax[1, 1].stem(\n",
    "    (mu * dOm) / dOm, np.angle(X), basefmt=\"C1:\", linefmt=\"C1:\", markerfmt=\"C3.\"\n",
    ")\n",
    "ax[0, 1].plot(Om_dtft / dOm, np.abs(X_dtft), \"C0\")\n",
    "ax[1, 1].plot(Om_dtft / dOm, np.angle(X_dtft), \"C1\")\n",
    "for i in range(2):\n",
    "    ax[i, 1].set_xlim((0, N))\n",
    "    ax[i, 0].set_xticks(np.arange(N))\n",
    "    ax[i, 1].set_xticks(np.arange(N))\n",
    "    ax[i, 0].set_ylim(-1 / np.sqrt(N), +1 / np.sqrt(N))\n",
    "    ax[i, 0].grid(True, color=\"lightgray\")\n",
    "    ax[i, 1].grid(True, color=\"lightgray\")\n",
    "ax[0, 1].set_ylim(-1, +1)\n",
    "ax[1, 1].set_ylim(-np.pi, +np.pi)\n",
    "ax[0, 0].set_title(r\"non-periodic signal (zero outside), $\\Re\\{x[k]\\}$\")\n",
    "ax[1, 0].set_title(r\"$\\Im\\{x[k]\\}$\")\n",
    "ax[0, 1].set_title(r\"periodic, continuous DTFT spectrum, $|X(\\Omega)|$\")\n",
    "ax[1, 1].set_title(r\"$arg(X(\\Omega))$ in rad\")\n",
    "ax[1, 0].set_xlabel(r\"$k$\")\n",
    "ax[1, 1].set_xlabel(r\"$\\Omega / (\\frac{2 \\pi}{N})$\")\n",
    "ax[0, 1].text(1, -0.7, \"dots represent the DFT coefficients\");"
   ]
  },
  {
   "cell_type": "markdown",
   "id": "338fc948-f3a6-4494-8c5e-e709dc6b6d8b",
   "metadata": {},
   "source": [
    "**Copyright**\n",
    "\n",
    "The notebooks are provided as [Open Educational Resources](https://en.wikipedia.org/wiki/Open_educational_resources). Feel free to use the notebooks for your own purposes. The text is licensed under [Creative Commons Attribution 4.0](https://creativecommons.org/licenses/by/4.0/), the code of the IPython examples under the [MIT license](https://opensource.org/licenses/MIT). Please attribute the work as follows: *Frank Schultz, Digital Signal Processing - A Tutorial Featuring Computational Examples* with the URL https://github.com/spatialaudio/digital-signal-processing-exercises"
   ]
  }
 ],
 "metadata": {
  "kernelspec": {
   "display_name": "Python 3 (ipykernel)",
   "language": "python",
   "name": "python3"
  },
  "language_info": {
   "codemirror_mode": {
    "name": "ipython",
    "version": 3
   },
   "file_extension": ".py",
   "mimetype": "text/x-python",
   "name": "python",
   "nbconvert_exporter": "python",
   "pygments_lexer": "ipython3",
   "version": "3.9.12"
  }
 },
 "nbformat": 4,
 "nbformat_minor": 5
}
