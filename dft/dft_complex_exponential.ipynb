{
 "cells": [
  {
   "cell_type": "markdown",
   "metadata": {},
   "source": [
    "Sascha Spors,\n",
    "Professorship Signal Theory and Digital Signal Processing,\n",
    "Institute of Communications Engineering (INT),\n",
    "Faculty of Computer Science and Electrical Engineering (IEF),\n",
    "University of Rostock,\n",
    "Germany\n",
    "\n",
    "# Tutorial Digital Signal Processing\n",
    "\n",
    "**DFT Fundamentals**,\n",
    "Winter Semester 2023/24 (Course #24505)\n",
    "\n",
    "- lecture: https://github.com/spatialaudio/digital-signal-processing-lecture\n",
    "- tutorial: https://github.com/spatialaudio/digital-signal-processing-exercises\n",
    "\n",
    "Feel free to contact lecturer jacob.thoenes@uni-rostock.de"
   ]
  },
  {
   "cell_type": "code",
   "execution_count": null,
   "metadata": {},
   "outputs": [],
   "source": [
    "import numpy as np\n",
    "import matplotlib.pyplot as plt\n",
    "from numpy.fft import fft, ifft\n",
    "#from scipy.fft import fft, ifft\n",
    "from scipy.special import diric\n",
    "\n",
    "\n",
    "def dft2dtft(X, Om):  # from dft_to_dtft_interpolation.ipynb\n",
    "    N = len(X)\n",
    "    Xi = np.zeros(len(Om), dtype='complex')\n",
    "    for i, Omega in enumerate(Om):\n",
    "        for mu_dft in range(N):\n",
    "            Xi[i] += X[mu_dft] *\\\n",
    "                np.exp(-1j/2*(Omega - 2*np.pi/N*mu_dft)*(N-1)) *\\\n",
    "                diric(Omega - 2*np.pi/N*mu_dft, N)\n",
    "    return Xi\n",
    "\n",
    "\n",
    "width = 10\n",
    "height = 10/16 * width\n",
    "figsize = (width, height)"
   ]
  },
  {
   "cell_type": "markdown",
   "metadata": {},
   "source": [
    "# Calculate DFT / DTFT"
   ]
  },
  {
   "cell_type": "code",
   "execution_count": null,
   "metadata": {},
   "outputs": [],
   "source": [
    "# DFT stuff\n",
    "N = 16  # DFT block size\n",
    "\n",
    "k = np.arange(N)  # time index\n",
    "mu = np.arange(N)  # frequency index for DFT\n",
    "dOm = 2*np.pi / N  # DFT's Omega resolution\n",
    "twiddle = np.exp(+1j*dOm)  # basis twiddle factor\n",
    "# 1/np.sqrt(N) yields an orthonormal!!! Fourier matrix:\n",
    "W = (twiddle**np.outer(k, k)) / np.sqrt(N)\n",
    "\n",
    "# create signal\n",
    "\n",
    "# frequency scale factor in term sof DFT's dOm:\n",
    "mu_x = 1.0  # best case = is a DFT eigensignal\n",
    "# mu_x = 1.5  # worst case -> between two DFT eigensignals\n",
    "\n",
    "tmp = np.exp(+1j*dOm*k * mu_x) / np.sqrt(N)\n",
    "x = tmp  # complex signal\n",
    "# x = tmp.real  # real signal-> cosine\n",
    "# x = tmp.imag  # real signal-> sine\n",
    "\n",
    "# calc DFT\n",
    "X = W.conj() @ x\n",
    "# X_tmp = fft(x) * 1/np.sqrt(N)  # needs 1/np.sqrt(N) to be consistent with above defined W!!!\n",
    "# print(np.allclose(X, X_tmp))\n",
    "\n",
    "# calc IDFT\n",
    "x_tmp = W @ X\n",
    "print('x = IDFT(DFT(x)): ', np.allclose(x, x_tmp))\n",
    "# x_tmp = ifft(X) * np.sqrt(N)  # needs 1/np.sqrt(N) to be consistent with above defined W!!!\n",
    "# print(np.allclose(x, x_tmp))\n",
    "\n",
    "# calc DFT -> DTFT interpolation\n",
    "N_dtft = 2**10  # number of frequencies along unit circle at which DTFT values are calc\n",
    "Om_dtft = np.arange(N_dtft) * 2*np.pi/N_dtft  # set up frequency vector\n",
    "X_dtft = dft2dtft(X, Om_dtft)  # perform interp"
   ]
  },
  {
   "cell_type": "markdown",
   "metadata": {},
   "source": [
    "# Signal Model Corresponding to DFT\n",
    "\n",
    "- both, the signal and the DFT spectrum are periodic in $N$\n",
    "- both, the signal and the DFT spectrum are discrete signals"
   ]
  },
  {
   "cell_type": "markdown",
   "metadata": {},
   "source": [
    "## Plot Real/Imaginary Parts of Signal and DFT Spectrum"
   ]
  },
  {
   "cell_type": "code",
   "execution_count": null,
   "metadata": {},
   "outputs": [],
   "source": [
    "fig, ax = plt.subplots(nrows=2, ncols=2, figsize=figsize)\n",
    "ax[0, 0].stem(k, x.real, basefmt='C0:', linefmt='C0:', markerfmt='C0o')\n",
    "ax[1, 0].stem(k, x.imag, basefmt='C1:', linefmt='C1:', markerfmt='C1o')\n",
    "ax[0, 1].stem(mu, X.real, basefmt='C0:', linefmt='C0:', markerfmt='C0o')\n",
    "ax[1, 1].stem(mu, X.imag, basefmt='C1:', linefmt='C1:', markerfmt='C1o')\n",
    "for i in range(2):\n",
    "    ax[i, 0].set_xticks(np.arange(N))\n",
    "    ax[i, 1].set_xticks(np.arange(N))\n",
    "    ax[i, 0].set_ylim(-1/np.sqrt(N), +1/np.sqrt(N))\n",
    "    ax[i, 1].set_ylim(-1, +1)\n",
    "    ax[i, 0].grid(True, color='lightgray')\n",
    "    ax[i, 1].grid(True, color='lightgray')\n",
    "ax[0, 0].set_title(r'periodic signal,  $\\Re\\{x[k]\\}$')\n",
    "ax[1, 0].set_title(r'$\\Im\\{x[k]\\}$')\n",
    "ax[0, 1].set_title(r'periodic, discrete DFT spectrum, $\\Re\\{X[\\mu]\\}$')\n",
    "ax[1, 1].set_title(r'$\\Im\\{X[\\mu]\\}$')\n",
    "ax[1, 0].set_xlabel(r'$k$')\n",
    "ax[1, 1].set_xlabel(r'$\\mu$');"
   ]
  },
  {
   "cell_type": "markdown",
   "metadata": {},
   "source": [
    "## Plot Real/Imaginary Parts of Signal and Magnitude/Phase of DFT Spectrum"
   ]
  },
  {
   "cell_type": "code",
   "execution_count": null,
   "metadata": {},
   "outputs": [],
   "source": [
    "fig, ax = plt.subplots(nrows=2, ncols=2, figsize=figsize)\n",
    "ax[0, 0].stem(k, x.real, basefmt='C0:', linefmt='C0:', markerfmt='C0o')\n",
    "ax[1, 0].stem(k, x.imag, basefmt='C1:', linefmt='C1:', markerfmt='C1o')\n",
    "ax[0, 1].stem(mu, np.abs(X), basefmt='C0:', linefmt='C0:', markerfmt='C0o')\n",
    "ax[1, 1].stem(mu, np.angle(X), basefmt='C1:', linefmt='C1:', markerfmt='C1o')\n",
    "for i in range(2):\n",
    "    ax[i, 0].set_xticks(np.arange(N))\n",
    "    ax[i, 1].set_xticks(np.arange(N))\n",
    "    ax[i, 0].set_ylim(-1/np.sqrt(N), +1/np.sqrt(N))\n",
    "    ax[i, 0].grid(True, color='lightgray')\n",
    "    ax[i, 1].grid(True, color='lightgray')\n",
    "ax[0, 1].set_ylim(-1, +1)\n",
    "ax[1, 1].set_ylim(-np.pi, +np.pi)\n",
    "ax[0, 0].set_title(r'periodic signal,  $\\Re\\{x[k]\\}$')\n",
    "ax[1, 0].set_title(r'$\\Im\\{x[k]\\}$')\n",
    "ax[0, 1].set_title(r'periodic, discrete DFT spectrum, $|X[\\mu]|$')\n",
    "ax[1, 1].set_title(r'$\\arg(X[\\mu])$ in rad')\n",
    "ax[1, 0].set_xlabel(r'$k$')\n",
    "ax[1, 1].set_xlabel(r'$\\mu$');"
   ]
  },
  {
   "cell_type": "markdown",
   "metadata": {},
   "source": [
    "# Signal Model Corresponding to DTFT\n",
    "\n",
    "- the signal $x[k]$ is zero for $k<0$ and $k>N-1$, thus **non-periodic**\n",
    "- the signal is discrete\n",
    "- the DTFT spectrum is periodic in $2\\pi$\n",
    "- the DTFT spectrum is continous"
   ]
  },
  {
   "cell_type": "markdown",
   "metadata": {},
   "source": [
    "## Plot Real/Imaginary Parts of Signal and DTFT Spectrum"
   ]
  },
  {
   "cell_type": "code",
   "execution_count": null,
   "metadata": {},
   "outputs": [],
   "source": [
    "fig, ax = plt.subplots(nrows=2, ncols=2, figsize=figsize)\n",
    "ax[0, 0].stem(k, x.real, basefmt='C0:', linefmt='C0:', markerfmt='C0o')\n",
    "ax[1, 0].stem(k, x.imag, basefmt='C1:', linefmt='C1:', markerfmt='C1o')\n",
    "ax[0, 1].stem((mu*dOm)/dOm, X.real, basefmt='C0:', linefmt='C0:', markerfmt='C4.')\n",
    "ax[1, 1].stem((mu*dOm)/dOm, X.imag, basefmt='C1:', linefmt='C1:', markerfmt='C3.')\n",
    "ax[0, 1].plot(Om_dtft/dOm, X_dtft.real, 'C0')\n",
    "ax[1, 1].plot(Om_dtft/dOm, X_dtft.imag, 'C1')\n",
    "for i in range(2):\n",
    "    ax[i, 1].set_xlim((0, N))\n",
    "    ax[i, 0].set_xticks(np.arange(N))\n",
    "    ax[i, 1].set_xticks(np.arange(N))\n",
    "    ax[i, 0].set_ylim(-1/np.sqrt(N), +1/np.sqrt(N))\n",
    "    ax[i, 1].set_ylim(-1, +1)\n",
    "    ax[i, 0].grid(True, color='lightgray')\n",
    "    ax[i, 1].grid(True, color='lightgray')\n",
    "ax[0, 0].set_title(r'non-periodic signal (zero outside), $\\Re\\{x[k]\\}$')\n",
    "ax[1, 0].set_title(r'$\\Im\\{x[k]\\}$')\n",
    "ax[0, 1].set_title(r'periodic, continuous DTFT spectrum, $\\Re\\{X(\\Omega)\\}$')\n",
    "ax[1, 1].set_title(r'$\\Im\\{X(\\Omega)\\}$')\n",
    "ax[1, 0].set_xlabel(r'$k$')\n",
    "ax[1, 1].set_xlabel(r'$\\Omega / (\\frac{2 \\pi}{N})$')\n",
    "ax[0, 1].text(1, -0.7, 'dots represent the DFT coefficients');"
   ]
  },
  {
   "cell_type": "markdown",
   "metadata": {},
   "source": [
    "## Plot Real/Imaginary Parts of Signal and Magnitude/Phase of DTFT Spectrum"
   ]
  },
  {
   "cell_type": "code",
   "execution_count": null,
   "metadata": {},
   "outputs": [],
   "source": [
    "fig, ax = plt.subplots(nrows=2, ncols=2, figsize=figsize)\n",
    "ax[0, 0].stem(k, x.real, basefmt='C0:', linefmt='C0:', markerfmt='C0o')\n",
    "ax[1, 0].stem(k, x.imag, basefmt='C1:', linefmt='C1:', markerfmt='C1o')\n",
    "ax[0, 1].stem((mu*dOm)/dOm, np.abs(X), basefmt='C0:', linefmt='C0:', markerfmt='C4.')\n",
    "ax[1, 1].stem((mu*dOm)/dOm, np.angle(X), basefmt='C1:', linefmt='C1:', markerfmt='C3.')\n",
    "ax[0, 1].plot(Om_dtft/dOm, np.abs(X_dtft), 'C0')\n",
    "ax[1, 1].plot(Om_dtft/dOm, np.angle(X_dtft), 'C1')\n",
    "for i in range(2):\n",
    "    ax[i, 1].set_xlim((0, N))\n",
    "    ax[i, 0].set_xticks(np.arange(N))\n",
    "    ax[i, 1].set_xticks(np.arange(N))\n",
    "    ax[i, 0].set_ylim(-1/np.sqrt(N), +1/np.sqrt(N))\n",
    "    ax[i, 0].grid(True, color='lightgray')\n",
    "    ax[i, 1].grid(True, color='lightgray')\n",
    "ax[0, 1].set_ylim(-1, +1)\n",
    "ax[1, 1].set_ylim(-np.pi, +np.pi)\n",
    "ax[0, 0].set_title(r'non-periodic signal (zero outside), $\\Re\\{x[k]\\}$')\n",
    "ax[1, 0].set_title(r'$\\Im\\{x[k]\\}$')\n",
    "ax[0, 1].set_title(r'periodic, continuous DTFT spectrum, $|X(\\Omega)|$')\n",
    "ax[1, 1].set_title(r'$arg(X(\\Omega))$ in rad')\n",
    "ax[1, 0].set_xlabel(r'$k$')\n",
    "ax[1, 1].set_xlabel(r'$\\Omega / (\\frac{2 \\pi}{N})$')\n",
    "ax[0, 1].text(1, -0.7, 'dots represent the DFT coefficients');"
   ]
  },
  {
   "cell_type": "markdown",
   "metadata": {},
   "source": [
    "**Copyright**\n",
    "\n",
    "The notebooks are provided as [Open Educational Resources](https://en.wikipedia.org/wiki/Open_educational_resources). Feel free to use the notebooks for your own purposes. The text is licensed under [Creative Commons Attribution 4.0](https://creativecommons.org/licenses/by/4.0/), the code of the IPython examples under the [MIT license](https://opensource.org/licenses/MIT). Please attribute the work as follows: *Frank Schultz, Digital Signal Processing - A Tutorial Featuring Computational Examples* with the URL https://github.com/spatialaudio/digital-signal-processing-exercises"
   ]
  }
 ],
 "metadata": {
  "interpreter": {
   "hash": "0237b36571620f6e20f233fc1bfb713e67558a0ba117bb468e0bb9b53b1550d8"
  },
  "kernelspec": {
   "display_name": "Python 3 (ipykernel)",
   "language": "python",
   "name": "python3"
  },
  "language_info": {
   "codemirror_mode": {
    "name": "ipython",
    "version": 3
   },
   "file_extension": ".py",
   "mimetype": "text/x-python",
   "name": "python",
   "nbconvert_exporter": "python",
   "pygments_lexer": "ipython3",
   "version": "3.10.12"
  }
 },
 "nbformat": 4,
 "nbformat_minor": 4
}
