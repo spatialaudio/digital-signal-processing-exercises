{
 "cells": [
  {
   "cell_type": "markdown",
   "metadata": {},
   "source": [
    "Sascha Spors,\n",
    "Professorship Signal Theory and Digital Signal Processing,\n",
    "Institute of Communications Engineering (INT),\n",
    "Faculty of Computer Science and Electrical Engineering (IEF),\n",
    "University of Rostock,\n",
    "Germany\n",
    "\n",
    "# Tutorial Digital Signal Processing\n",
    "\n",
    "**Pole/Zeros Plots of Window Functions**,\n",
    "Winter Semester 2023/24 (Course #24505)\n",
    "\n",
    "- lecture: https://github.com/spatialaudio/digital-signal-processing-lecture\n",
    "- tutorial: https://github.com/spatialaudio/digital-signal-processing-exercises\n",
    "\n",
    "Feel free to contact lecturer jacob.thoenes@uni-rostock.de"
   ]
  },
  {
   "cell_type": "code",
   "execution_count": null,
   "metadata": {},
   "outputs": [],
   "source": [
    "import numpy as np\n",
    "from matplotlib import pyplot as plt\n",
    "from matplotlib.patches import Circle\n",
    "from scipy.signal import tf2zpk\n",
    "from scipy.signal.windows import hann, hamming, chebwin, dpss, kaiser\n",
    "from numpy.fft import fft, fftshift, ifft"
   ]
  },
  {
   "cell_type": "code",
   "execution_count": null,
   "metadata": {},
   "outputs": [],
   "source": [
    "def zplane_plot(z, p, k, title_str):\n",
    "    \"\"\"Plot pole/zero/gain plot of discrete-time, linear-time-invariant system.\n",
    "\n",
    "    Note that the for-loop handling might be not very efficient\n",
    "    for very long FIRs\n",
    "\n",
    "    z...array of zeros in z-plane\n",
    "    p...array of poles in z-zplane\n",
    "    k...gain factor\n",
    "\n",
    "    taken from own work\n",
    "    URL = ('https://github.com/spatialaudio/signals-and-systems-exercises/'\n",
    "           'blob/master/sig_sys_tools.py')\n",
    "\n",
    "    currently we don't use the ax input parameter, we rather just plot\n",
    "    in hope for getting an appropriate place for it from the calling function\n",
    "    \"\"\"\n",
    "    # draw unit circle\n",
    "    Nf = 2**7\n",
    "    Om = np.arange(Nf) * 2 * np.pi / Nf\n",
    "    plt.plot(np.cos(Om), np.sin(Om), \"C7\")\n",
    "\n",
    "    try:  # TBD: check if this pole is compensated by a zero\n",
    "        circle = Circle((0, 0), radius=np.max(np.abs(p)), color=\"C7\", alpha=0.15)\n",
    "        plt.gcf().gca().add_artist(circle)\n",
    "    except ValueError:\n",
    "        print(\"no pole at all, ROC is whole z-plane\")\n",
    "\n",
    "    zu, zc = np.unique(z, return_counts=True)  # find and count unique zeros\n",
    "    for zui, zci in zip(zu, zc):  # plot them individually\n",
    "        plt.plot(\n",
    "            np.real(zui), np.imag(zui), ms=7, color=\"C0\", marker=\"o\", fillstyle=\"none\"\n",
    "        )\n",
    "        if zci > 1:  # if multiple zeros exist then indicate the count\n",
    "            plt.text(np.real(zui), np.imag(zui), zci)\n",
    "\n",
    "    pu, pc = np.unique(p, return_counts=True)  # find and count unique poles\n",
    "    for pui, pci in zip(pu, pc):  # plot them individually\n",
    "        plt.plot(np.real(pui), np.imag(pui), ms=7, color=\"C3\", marker=\"x\")\n",
    "        if pci > 1:  # if multiple poles exist then indicate the count\n",
    "            plt.text(np.real(pui), np.imag(pui), pci)\n",
    "\n",
    "    plt.text(0, +1, \"k=%f\" % k)\n",
    "    plt.text(0, -1, \"ROC for causal: white\")\n",
    "    plt.axis(\"square\")\n",
    "    # plt.axis([-2, 2, -2, 2])\n",
    "    plt.xlabel(r\"$\\Re\\{z\\}$\")\n",
    "    plt.ylabel(r\"$\\Im\\{z\\}$\")\n",
    "    plt.title(title_str)\n",
    "    plt.grid(True)\n",
    "\n",
    "\n",
    "def freq_resp(w, label_str, Nz=2**10):\n",
    "    Omega = 2 * np.pi / Nz * np.arange(Nz)\n",
    "    W = np.zeros(Nz)\n",
    "    W[0:N] = w\n",
    "    W = fftshift(fft(W))\n",
    "    W /= np.max(np.abs(W))\n",
    "    W = np.abs(W)\n",
    "    W[W < 10 ** (-100 / 20)] = 10 ** (-100 / 20)  # avoid log10(0)\n",
    "    fig = plt.figure()\n",
    "    ax1 = fig.add_subplot(111)\n",
    "    ax2 = ax1.twiny()\n",
    "    ax1.plot(Omega / np.pi * 180 - 180, 20 * np.log10(W), label=label_str)\n",
    "    ax1.set_xlabel(r\"$\\Omega$ / deg\")\n",
    "    ax1.set_ylabel(r\"normalized $|W(\\Omega)|$\")\n",
    "    ax1.set_xticks(np.angle(z) * 180 / np.pi)\n",
    "    ax1.set_yticks(np.arange(-100, 10, 10))\n",
    "    ax1.set_xlim(-180, 180)\n",
    "    ax1.set_ylim(-100, 0)\n",
    "    ax1.legend()\n",
    "    ax1.grid(True, which=\"both\")\n",
    "    ax2.plot(Omega - np.pi, 20 * np.log10(W))\n",
    "    ax2.set_xlabel(r\"$\\Omega$ / rad\")\n",
    "    ax2.set_xlim(-np.pi, np.pi);"
   ]
  },
  {
   "cell_type": "code",
   "execution_count": null,
   "metadata": {},
   "outputs": [],
   "source": [
    "N = 8  # length of window"
   ]
  },
  {
   "cell_type": "code",
   "execution_count": null,
   "metadata": {},
   "outputs": [],
   "source": [
    "# don't change, this is needed below repeatedly:\n",
    "k = np.arange(N)\n",
    "a = np.zeros(N)\n",
    "a[0] = 1"
   ]
  },
  {
   "cell_type": "markdown",
   "metadata": {},
   "source": [
    "For a length $N$ window $w[k]$ with \n",
    "- $w[k]=0$ if $k<0$ and $k>N-1$\n",
    "\n",
    "we have the z-transform of the window / finite length sequence\n",
    "\n",
    "\\begin{equation}\n",
    "W(z) = \\sum_{k=0}^{N-1} w[k] z^{-k} = w[0] + w[1] z^{-1} + w[2] z^{-2} + ... + w[N-1] z^{-(N-1)}\n",
    "\\end{equation}\n",
    "\n",
    "We can rewrite \n",
    "\n",
    "\\begin{equation}\n",
    "W(z) = \\frac{w[0] z^{N-1} + w[1] z^{N-2} + w[2] z^{N-3} + ... + w[N-1]}{z^{N-1}}\n",
    "\\end{equation}\n",
    "\n",
    "- This rational function has $N-1$ poles in the origin, i.e. $z=0$\n",
    "- Furthermore, it has $N-1$ zeros somewhere in the complex z-plane\n",
    "\n",
    "For real valued $w[k]$ the zeros are either complex conjugate or real-valued (they lie on the real axis in the z-plane).\n",
    "\n",
    "For the windowing process we are interested in the DTFT spectrum, which can be obtained when evaluating $W(z)$ along the unit circle, thus as\n",
    "\n",
    "\\begin{equation}\n",
    "W(\\Omega) = W(z)\\big|_{z=\\mathrm{e}^{\\mathrm{j}\\Omega}}\n",
    "\\end{equation}\n",
    "\n",
    "Window design is about meaningful, if not to say clever, positioning of $N-1$ zeros, such that a desired trade-off\n",
    "between **mainlobe width** and **sidelobe magnitude** / **sidelobe decay rate** is achieved.\n",
    "Naturally, this design task has many, many solutions. Some of them are more meaningful than others, which is why they\n",
    "were published as special window designs over the last decades.\n",
    "\n",
    "For windowing we actually always aim at very low sidelobes. Thus all potential zeros of $W(z)$ should used as best as possible: putting them exactly onto the unit circle the impact is largest in the DTFT spectrum, since notches are realized. Windows that follow this design rule, are commonly termed optimum windows. The design constraints for the trade-off then tell us where exactly to put these zeros on the unit circle."
   ]
  },
  {
   "cell_type": "markdown",
   "metadata": {},
   "source": [
    "In the examples below we discuss very simple cases for rather small $N$.\n",
    "\n",
    "**Example 1**\n",
    "\n",
    "Although, is has worst leakage effect, the rectangular window is actually an optimum window. The design criterion is simply: provide the most narrow main lobe that is possible for $N$. The price you pay is the highest sidelobe magnitude and very slow sidelobe decay rate.\n",
    "\n",
    "**Example 2**\n",
    "\n",
    "This is a! symmetric Hann window (in older literature misnamed as Hanning window, don't do this anymore!). We see that two zeros are real valued and not on the unit circle. They don't shape the window spectrum in optimum manner.\n",
    "\n",
    "Note that for didactical convenience we use a symmetric window here. For practical spectral analysis we rather should use the flag `sym=False` for scipy windows.\n",
    "\n",
    "**Example 3**\n",
    "\n",
    "Idea of Hamming window:\n",
    "- taking the above Hann window and moving the two zeros onto the unit circle (they must be conjugate complex).\n",
    "- position of zeros such that they put a notch at the two sidelobes of the Hann window left and right of the main lobe\n",
    "\n",
    "Mainlobe shape remains, sidelobe magnitude is overall reduced compared to the Hann window."
   ]
  },
  {
   "cell_type": "markdown",
   "metadata": {},
   "source": [
    "## Rectangular Window"
   ]
  },
  {
   "cell_type": "code",
   "execution_count": null,
   "metadata": {},
   "outputs": [],
   "source": [
    "w = np.ones(N)\n",
    "[z, p, gain] = tf2zpk(w, a)\n",
    "# zeros\n",
    "print(\"zeros: angle in deg\", np.angle(z) * 180 / np.pi)\n",
    "print(\"zeros: abs\", np.abs(z))\n",
    "# zeros are equiangularly aligned on! the unit circle"
   ]
  },
  {
   "cell_type": "code",
   "execution_count": null,
   "metadata": {},
   "outputs": [],
   "source": [
    "zplane_plot(z, p, gain, \"Rect\")"
   ]
  },
  {
   "cell_type": "code",
   "execution_count": null,
   "metadata": {},
   "outputs": [],
   "source": [
    "freq_resp(w, \"Rect\")"
   ]
  },
  {
   "cell_type": "markdown",
   "metadata": {},
   "source": [
    "## Symmetric Hann Window"
   ]
  },
  {
   "cell_type": "code",
   "execution_count": null,
   "metadata": {},
   "outputs": [],
   "source": [
    "# a symmetric Hann window, two zeros are not used on! the unit circle\n",
    "w = (1 - np.cos(2 * np.pi / N * (k + 1 / 2))) / 2\n",
    "print(\"my hann:\", w)\n",
    "[z, p, gain] = tf2zpk(w, a)"
   ]
  },
  {
   "cell_type": "code",
   "execution_count": null,
   "metadata": {},
   "outputs": [],
   "source": [
    "# Note that our Hann window above differs from the numpy/scipy definitions:\n",
    "# our window does start and end with a non-zero coefficient, while numpy/scipy\n",
    "# versions start/end with zeros effectively using two samples less for\n",
    "# signal analysis/filter design\n",
    "w_tmpn = np.hanning(N)  # numpy, note: 'hanning' is an old naming to be avoided\n",
    "w_tmps = hann(N)  # scipy version\n",
    "w_tmp = 0.5 - 0.5 * np.cos(2 * np.pi / (N - 1) * (k))  # manual version\n",
    "print(\"numpy == scipy?\", np.allclose(w_tmpn, w_tmps))\n",
    "print(\"equal to manual?\", np.allclose(w_tmpn, w_tmp))\n",
    "print(\"numpy/scipy hann:\", w_tmp)"
   ]
  },
  {
   "cell_type": "code",
   "execution_count": null,
   "metadata": {},
   "outputs": [],
   "source": [
    "# zeros\n",
    "print(\"zeros: angle in deg\", np.angle(z) * 180 / np.pi)\n",
    "print(\"zeros: abs\", np.abs(z))"
   ]
  },
  {
   "cell_type": "code",
   "execution_count": null,
   "metadata": {},
   "outputs": [],
   "source": [
    "zplane_plot(z, p, gain, \"Hann\")"
   ]
  },
  {
   "cell_type": "code",
   "execution_count": null,
   "metadata": {},
   "outputs": [],
   "source": [
    "freq_resp(w, \"Hann\")"
   ]
  },
  {
   "cell_type": "markdown",
   "metadata": {},
   "source": [
    "We have two zeros that are **not** on the unit circle. If we put them **onto** the unit circle their influence with regard the DTFT (i.e. the frequency response) can be made stronger. By that we can optimize the window, for example to attenuate a certain sidelobe. This idea is pursued by the Hamming window, which is shown next."
   ]
  },
  {
   "cell_type": "markdown",
   "metadata": {},
   "source": [
    "## Symmetric Hamming Window"
   ]
  },
  {
   "cell_type": "code",
   "execution_count": null,
   "metadata": {},
   "outputs": [],
   "source": [
    "# a symmetric Hamming window\n",
    "# we put notches into the two sidelobes 'left/right' of the main lobe\n",
    "# of the above defined symmetric Hann window,\n",
    "# thus here all zeros are used on! the unit circle\n",
    "# which improves side lobe attenuation\n",
    "w = 0.54 - 0.46 * np.cos(2 * np.pi / N * (k + 1 / 2))\n",
    "print(\"my hamming:\", w)\n",
    "[z, p, gain] = tf2zpk(w, a)"
   ]
  },
  {
   "cell_type": "code",
   "execution_count": null,
   "metadata": {},
   "outputs": [],
   "source": [
    "# Note that our Hamming window above differs from the numpy/scipy definitions\n",
    "w_tmpn = np.hamming(N)\n",
    "w_tmps = hamming(N)\n",
    "w_tmp = 0.54 - 0.46 * np.cos(2 * np.pi / (N - 1) * (k))\n",
    "print(\"numpy == scipy?\", np.allclose(w_tmpn, w_tmps))\n",
    "print(\"equal to manual?\", np.allclose(w_tmpn, w_tmp))\n",
    "print(\"numpy/scipy hamming:\", w_tmp)"
   ]
  },
  {
   "cell_type": "code",
   "execution_count": null,
   "metadata": {},
   "outputs": [],
   "source": [
    "# +-112.03298762 is approx +-(90 + 135) / 2\n",
    "# this is the angle of the first side lobe\n",
    "print(\"zeros-> angle in deg:\", np.angle(z) * 180 / np.pi)\n",
    "# so put a zero in the middle of the 'first/last' two zeros\n",
    "# now all zeros are on! the unit circle, leading to an optimum design\n",
    "\n",
    "# zeros\n",
    "print(\"zeros: angle in deg\", np.angle(z) * 180 / np.pi)\n",
    "print(\"zeros: abs\", np.abs(z))\n",
    "# all zeros on! the unit circle (since all np.abs(z) == 1)"
   ]
  },
  {
   "cell_type": "code",
   "execution_count": null,
   "metadata": {},
   "outputs": [],
   "source": [
    "zplane_plot(z, p, gain, \"Hamming\")"
   ]
  },
  {
   "cell_type": "code",
   "execution_count": null,
   "metadata": {},
   "outputs": [],
   "source": [
    "freq_resp(w, \"Hamming\")"
   ]
  },
  {
   "cell_type": "markdown",
   "metadata": {},
   "source": [
    "**Copyright**\n",
    "\n",
    "The notebooks are provided as [Open Educational Resources](https://en.wikipedia.org/wiki/Open_educational_resources). Feel free to use the notebooks for your own purposes. The text is licensed under [Creative Commons Attribution 4.0](https://creativecommons.org/licenses/by/4.0/), the code of the IPython examples under the [MIT license](https://opensource.org/licenses/MIT). Please attribute the work as follows: *Frank Schultz, Digital Signal Processing - A Tutorial Featuring Computational Examples* with the URL https://github.com/spatialaudio/digital-signal-processing-exercises"
   ]
  }
 ],
 "metadata": {
  "kernelspec": {
   "display_name": "Python 3 (ipykernel)",
   "language": "python",
   "name": "python3"
  },
  "language_info": {
   "codemirror_mode": {
    "name": "ipython",
    "version": 3
   },
   "file_extension": ".py",
   "mimetype": "text/x-python",
   "name": "python",
   "nbconvert_exporter": "python",
   "pygments_lexer": "ipython3",
   "version": "3.10.12"
  }
 },
 "nbformat": 4,
 "nbformat_minor": 4
}
