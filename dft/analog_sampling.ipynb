{
 "cells": [
  {
   "cell_type": "markdown",
   "id": "dcc59895-882c-4891-a687-4d3722eec74f",
   "metadata": {
    "tags": []
   },
   "source": [
    "Sascha Spors,\n",
    "Professorship Signal Theory and Digital Signal Processing,\n",
    "Institute of Communications Engineering (INT),\n",
    "Faculty of Computer Science and Electrical Engineering (IEF),\n",
    "University of Rostock,\n",
    "Germany\n",
    "\n",
    "# Tutorial Digital Signal Processing\n",
    "\n",
    "**Analog Sampling [Holton,2021]**,\n",
    "Winter Semester 2021/22 (Course #24505)\n",
    "\n",
    "- lecture: https://github.com/spatialaudio/digital-signal-processing-lecture\n",
    "- tutorial: https://github.com/spatialaudio/digital-signal-processing-exercises\n",
    "\n",
    "Feel free to contact lecturer jacob.thoenes@uni-rostock.de"
   ]
  },
  {
   "cell_type": "code",
   "execution_count": null,
   "id": "4ced405d-3fe9-4c0c-83fa-66663c5999dd",
   "metadata": {},
   "outputs": [],
   "source": [
    "import matplotlib.pyplot as plt\n",
    "import numpy as np"
   ]
  },
  {
   "cell_type": "markdown",
   "id": "4bd6ae6b-8c90-4fdc-bfd9-db12c16b1062",
   "metadata": {},
   "source": [
    "# Analog Sampling\n",
    "\n",
    "Let´s define and plot a simplified representation of the sampling of an analog signal $x(t)$ by a periodic impulse train $s(t)$."
   ]
  },
  {
   "cell_type": "code",
   "execution_count": null,
   "id": "bc93f84c-6729-4d19-8e64-e960d99ad8b4",
   "metadata": {},
   "outputs": [],
   "source": [
    "def x(t):\n",
    "    \"\"\"Analog signal\"\"\"\n",
    "    return np.sin(t) + np.sin(t / 3)"
   ]
  },
  {
   "cell_type": "code",
   "execution_count": null,
   "id": "1ba03e82-8953-4475-86a1-238cf212a6fb",
   "metadata": {},
   "outputs": [],
   "source": [
    "N = 13\n",
    "\n",
    "t_s = np.linspace(-6, 6, N, dtype=int)  # linspace for plotting s(t)\n",
    "t_x = np.linspace(-6, 6, 100)  # linspace for plotting x(t)\n",
    "\n",
    "s_t = np.ones(N)  # periodic impulse train s(t)\n",
    "x_t = x(t_x)  # analog signal x(t)\n",
    "\n",
    "plt.title(\"Periodic impulse train\")\n",
    "plt.xlabel(\"$t$\")\n",
    "plt.ylabel(\"$s(t)$\")\n",
    "plt.xticks(\n",
    "    ticks=[t for t in np.linspace(-6, 6, N, dtype=int)],\n",
    "    labels=[\"${i}T$\".format(i=t) for t in np.linspace(-6, 6, N, dtype=int)],\n",
    ")\n",
    "plt.stem(t_s, s_t)\n",
    "plt.show()\n",
    "\n",
    "plt.title(\"Analog signal\")\n",
    "plt.xlabel(\"$t$\")\n",
    "plt.ylabel(\"$x(t)$\")\n",
    "plt.xticks(\n",
    "    ticks=[t for t in np.linspace(-6, 6, N, dtype=int)],\n",
    "    labels=[\"${i}T$\".format(i=t) for t in np.linspace(-6, 6, N, dtype=int)],\n",
    ")\n",
    "plt.plot(t_x, x_t)\n",
    "plt.grid(axis=\"both\")\n",
    "plt.show()\n",
    "\n",
    "plt.title(\"sampled analog signal\")\n",
    "plt.xlabel(\"$t$\")\n",
    "plt.ylabel(\"$x(t),s(t)$\")\n",
    "plt.xticks(\n",
    "    ticks=[t for t in np.linspace(-6, 6, N, dtype=int)],\n",
    "    labels=[\"${i}T$\".format(i=t) for t in np.linspace(-6, 6, N, dtype=int)],\n",
    ")\n",
    "plt.plot(t_x, x_t, label=\"$x(t)$\")\n",
    "plt.scatter(t_s, x(t_s), c=\"r\", marker=\"o\", label=\"$s(t)$\")\n",
    "plt.grid(axis=\"both\")\n",
    "plt.legend()\n",
    "plt.show()"
   ]
  },
  {
   "cell_type": "markdown",
   "id": "47e9a6e1-a82b-477e-aab8-9eb2e0dd074e",
   "metadata": {},
   "source": [
    "The goal of analog sampling is to select values of a continuous signal $x(t)$ at instants of time that are integer multiples of a sampling period $T$, as shown by the red dots in the plot above. This selection effectively “discards” the rest of the waveform between the samples. Sampling can be modeled theoretically as the multiplication of the continuous-time signal $x(t)$ by an impulse train $s(t)$, an infinitely long train of impulses that is periodic with period $T$:\n",
    "\n",
    "$$\n",
    "s(t) = \\sum_{n=-\\infty}^{\\infty} \\delta(t-nT)\n",
    "$$\n",
    "\n",
    "The result of the multiplication $x(t)\\cdot s(t)$ is the sampled input signal $x_s(t)$ shown below"
   ]
  },
  {
   "cell_type": "code",
   "execution_count": null,
   "id": "20332849-5d50-447b-8b80-402b079420d6",
   "metadata": {},
   "outputs": [],
   "source": [
    "plt.stem(t_s, x(t_s))\n",
    "plt.xlabel(\"$t$\")\n",
    "plt.ylabel(\"$x_s(t)$\")\n",
    "plt.xticks(\n",
    "    ticks=[t for t in np.linspace(-6, 6, N, dtype=int)],\n",
    "    labels=[\"${i}T$\".format(i=t) for t in np.linspace(-6, 6, N, dtype=int)],\n",
    ")\n",
    "plt.grid(axis=\"both\")\n",
    "plt.show()"
   ]
  },
  {
   "cell_type": "markdown",
   "id": "8e552a0a-d14a-4979-97dc-6a0e29dfa930",
   "metadata": {},
   "source": [
    "Analog sampling is a form of modulation, where the input $x(t)$ modulates the impulse train $s(t)$ to form $x_s(t)$. The areas of the impulses of $x_s(t)$ are scaled by the values of $x(t)$ at the instants at which the impulses in $s(t)$ occur. This modulation thereby “encodes” the amplitude of the original analog signal $x(t)$ at discrete moments in time, $t = nT$, into the area of the impulses of $x_s(t)$.\n",
    "\n",
    "The sampled signal $x_s(t)$ is still a continuous-time signal, but it is more “sparse” than the input signal in the sense that it is completely characterized by only a finite number of samples per second. Why would we want to sample a signal in such a manner? Because both $x(t)$ and $x_s(t)$ contain identical information, so that the original signal $x(t)$ can be completely recovered from its samples $x_s(t)$ subject to certain conditions, as we will now show."
   ]
  },
  {
   "cell_type": "markdown",
   "id": "d5e0a2a2-e9b4-4ddc-b23b-0e6953b11d53",
   "metadata": {},
   "source": [
    "### The sampling theorem in the time domain\n",
    "\n",
    "It is easy to see how the sampling theorem works in the frequency domain: the reconstruction filter selects the baseband from the spectrum of the sampled signal and removes all the images. In order to understand how lowpass filtering works in the time domain, let $x_r(t)$ be the signal that is recovered by lowpass filtering $x_s(t)$. In\n",
    "the time domain, $x_r(t)$ is the inverse Fourier transform of:\n",
    "\n",
    "$$\n",
    "x_r(t) = \\text{IDFT}\\{X_r(\\Omega)\\} = \\text{IDFT}\\{X_s(\\Omega) H_r(\\Omega) \\} = x_s(t) * h_r(t),\n",
    "$$\n",
    "\n",
    "where $h_r(t)$ is the impulse response of the ideal lowpass filter whose frequency response is given by:\n",
    "\n",
    "$$\n",
    "h_r(t) = \\text{IDFT}\\{H_r(\\Omega)\\} = 2\\frac{\\Omega_r}{\\Omega_s}\\text{sinc}(\\Omega_r t) .\n",
    "$$\n",
    "\n",
    "So,\n",
    "\n",
    "$$\n",
    "x_r(t) = x_s(t) * h_r(t) = \\Big(\\sum_{n=-\\infty}^{\\infty} x(nT) \\delta(t-nT) \\Big) * h_r(t) = 2 \\frac{\\Omega_r}{\\Omega_s} \\sum_{n=-\\infty}^{\\infty} x(nT) \\text{sinc}\\frac{\\Omega_s}{2}(t-nT)\n",
    "$$\n",
    "\n",
    "For simplicity in the discussion that follows, let us set the bandwidth of the reconstruction filter equal to half the sampling frequency, $\\Omega_r = \\Omega_s /2 $. Then, $h_r(t) = \\text{sinc}(\\Omega_r(t))$ and $x_r(t)$ becomes:\n",
    "\n",
    "$$\n",
    "x_r(t) = \\sum_{n=-\\infty}^{\\infty} x(nT) \\text{sinc}\\frac{\\Omega_s}{2}(t-nT)\n",
    "$$\n",
    "\n",
    "The sampled signal $x_s(t)$ consists of an infinite sum of impulses, each one shifted by an integer multiple of the sampling period, $t=nT$, with area scaled by the value of $x(nT)$, namely $x(nT)\\delta(t- nT)$. When each impulse of the sampled signal is filtered by the reconstruction filter whose impulse response is $h_r(t)$, the result is a shifted impulse response scaled by a constant $x(nT)$,\n",
    "\n",
    "$$\n",
    "(x(nT)\\delta(t-nT))*h_r(t) = x(nT)h_r(t-nT) = x(nT) \\text{sinc} \\frac{\\Omega_s}{2}(t-nT)\n",
    "$$\n",
    "\n",
    "as shown in the plot below:"
   ]
  },
  {
   "cell_type": "code",
   "execution_count": null,
   "id": "cbce7da6-da81-4789-a993-87caa11368d1",
   "metadata": {},
   "outputs": [],
   "source": [
    "T = 2\n",
    "\n",
    "plt.plot(t_x, x_t, \"--\", color=\"grey\", label=\"$x(t)$\")\n",
    "plt.stem(t_s, x(t_s), linefmt=\"grey\", markerfmt=\"C7o\", label=\"$s(t)$\")\n",
    "plt.scatter(T, x(T), label=\"$x_s(t)$\", linewidth=6)\n",
    "plt.legend()\n",
    "plt.xlabel(\"$t$\")\n",
    "plt.ylabel(\"$x(t),x_s(t),s(t)$\")\n",
    "plt.xticks(\n",
    "    ticks=[t for t in np.linspace(-6, 6, N, dtype=int)],\n",
    "    labels=[\"${i}T$\".format(i=t) for t in np.linspace(-6, 6, N, dtype=int)],\n",
    ")\n",
    "plt.grid()\n",
    "plt.show()\n",
    "\n",
    "plt.plot(t_x, np.sinc(t_x))\n",
    "plt.title(\"$*$\")\n",
    "plt.xlabel(\"$t$\")\n",
    "plt.ylabel(\"$h_r(t)$\")\n",
    "plt.xticks(\n",
    "    ticks=[t for t in np.linspace(-6, 6, N, dtype=int)],\n",
    "    labels=[\"${i}T$\".format(i=t) for t in np.linspace(-6, 6, N, dtype=int)],\n",
    ")\n",
    "plt.grid()\n",
    "plt.show()\n",
    "\n",
    "sum_sign = np.zeros(len(t_x))\n",
    "plt.plot(t_x, x_t, \"--\", color=\"grey\", label=\"$x_r(t)$\")\n",
    "for sel in t_s:\n",
    "    x_t_sel = np.convolve(np.sinc(t_x - sel), x(sel), mode=\"same\")\n",
    "    plt.plot(t_x, x_t_sel, color=\"grey\")\n",
    "    sum_sign = sum_sign + x_t_sel\n",
    "plt.plot(\n",
    "    t_x,\n",
    "    np.convolve(np.sinc(t_x - T), x(T), mode=\"same\"),\n",
    "    label=\"$x_s(t)*h_r(t)$\",\n",
    ")\n",
    "plt.title(\"$=$\")\n",
    "plt.xlabel(\"$t$\")\n",
    "plt.ylabel(\"$x_r(t)$\")\n",
    "plt.xticks(\n",
    "    ticks=[t for t in np.linspace(-6, 6, N, dtype=int)],\n",
    "    labels=[\"${i}T$\".format(i=t) for t in np.linspace(-6, 6, N, dtype=int)],\n",
    ")\n",
    "plt.legend()\n",
    "plt.grid()\n",
    "plt.show()"
   ]
  },
  {
   "cell_type": "markdown",
   "id": "c0fba8b6-5910-434c-b098-0e81e7bd768c",
   "metadata": {},
   "source": [
    "The first plot of the figures shows one impulse highlighted in blue, namely $x(T)\\delta(n-T)$ for $T=2$. When this impulse is filtered by $h_r(t)$, the result is the shifted, scaled impulse response $x(T)h_r(n-T)$, shown in the last plot.\n",
    "\n",
    "Changing the variable `T` you can see the other results for different.\n",
    "\n",
    "When the sum of all the scaled and shifted impulses that comprise $x_s(t)$ is passed through the reconstruction filter, the output $x_r(t)$ is the sum of sinc functions, each one shifted by an integer multiple of the sampling period, $t = nT$, and scaled by the value of $x(nT)$."
   ]
  },
  {
   "cell_type": "markdown",
   "id": "35e746d7-d0ba-4883-9ecb-9b0ed3235eb0",
   "metadata": {},
   "source": [
    "# **Copyright**\n",
    "\n",
    "The notebooks are provided as [Open Educational Resources](https://en.wikipedia.org/wiki/Open_educational_resources). Feel free to use the notebooks for your own purposes. The text is licensed under [Creative Commons Attribution 4.0](https://creativecommons.org/licenses/by/4.0/), the code of the IPython examples under the [MIT license](https://opensource.org/licenses/MIT). Please attribute the work as follows: *Frank Schultz, Digital Signal Processing - A Tutorial Featuring Computational Examples* with the URL https://github.com/spatialaudio/digital-signal-processing-exercises"
   ]
  }
 ],
 "metadata": {
  "kernelspec": {
   "display_name": "Python 3 (ipykernel)",
   "language": "python",
   "name": "python3"
  },
  "language_info": {
   "codemirror_mode": {
    "name": "ipython",
    "version": 3
   },
   "file_extension": ".py",
   "mimetype": "text/x-python",
   "name": "python",
   "nbconvert_exporter": "python",
   "pygments_lexer": "ipython3",
   "version": "3.9.12"
  }
 },
 "nbformat": 4,
 "nbformat_minor": 5
}
